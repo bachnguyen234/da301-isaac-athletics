{
 "cells": [
  {
   "cell_type": "code",
   "execution_count": 97,
   "metadata": {},
   "outputs": [],
   "source": [
    "import os\n",
    "import os.path\n",
    "import pandas as pd\n",
    "import numpy as np\n",
    "import seaborn as sns\n",
    "import matplotlib.pyplot as plt\n",
    "import re\n",
    "from datetime import datetime\n",
    "import matplotlib.dates as mdates\n",
    "import plotly.express as px\n",
    "import plotly.graph_objects as go\n",
    "sns.set()"
   ]
  },
  {
   "cell_type": "code",
   "execution_count": 98,
   "metadata": {},
   "outputs": [],
   "source": [
    "# Importing the dataset\n",
    "datadir = \"data/tidy_data\"\n",
    "data = os.path.join(datadir, \"coded_injuries.csv\")\n",
    "df_injuries = pd.read_csv(data)\n",
    "\n",
    "# Function for converting date format from American to ISO formatting\n",
    "def date_coversion(date):\n",
    "    date_object = datetime.strptime(date, '%m-%d-%Y')\n",
    "    iso_format_date = date_object.strftime('%Y-%m-%d')\n",
    "    return iso_format_date\n",
    "\n",
    "# Changing date formatting\n",
    "df_injuries.drop(columns = [\"DateOfReturn\", \"ReportedDate\"], inplace = True)\n",
    "df_injuries[\"ProblemDate\"] = df_injuries[\"ProblemDate\"].str.replace(\"/\", \"-\").apply(date_coversion)\n",
    "df_injuries[\"ProblemDate\"] = pd.to_datetime(df_injuries[\"ProblemDate\"])\n",
    "\n",
    "# Filling NA's\n",
    "df_injuries[\"Side\"] = df_injuries[\"Side\"].fillna(\"Does Not Apply\")"
   ]
  },
  {
   "cell_type": "code",
   "execution_count": 99,
   "metadata": {},
   "outputs": [
    {
     "data": {
      "text/html": [
       "<div>\n",
       "<style scoped>\n",
       "    .dataframe tbody tr th:only-of-type {\n",
       "        vertical-align: middle;\n",
       "    }\n",
       "\n",
       "    .dataframe tbody tr th {\n",
       "        vertical-align: top;\n",
       "    }\n",
       "\n",
       "    .dataframe thead th {\n",
       "        text-align: right;\n",
       "    }\n",
       "</style>\n",
       "<table border=\"1\" class=\"dataframe\">\n",
       "  <thead>\n",
       "    <tr style=\"text-align: right;\">\n",
       "      <th></th>\n",
       "      <th>Code</th>\n",
       "      <th>Organizations</th>\n",
       "      <th>ProblemDate</th>\n",
       "      <th>BodyPart</th>\n",
       "      <th>AffectedArea</th>\n",
       "      <th>Side</th>\n",
       "      <th>InjuryType</th>\n",
       "      <th>BodyPartName</th>\n",
       "      <th>CurrentStatus</th>\n",
       "    </tr>\n",
       "  </thead>\n",
       "  <tbody>\n",
       "    <tr>\n",
       "      <th>0</th>\n",
       "      <td>FB64</td>\n",
       "      <td>Football</td>\n",
       "      <td>2023-08-10</td>\n",
       "      <td>Shoulder</td>\n",
       "      <td>Upper Extremity</td>\n",
       "      <td>Left</td>\n",
       "      <td>Other Shoulder Injury</td>\n",
       "      <td>NaN</td>\n",
       "      <td>Not Cleared</td>\n",
       "    </tr>\n",
       "    <tr>\n",
       "      <th>1</th>\n",
       "      <td>FB29</td>\n",
       "      <td>Football</td>\n",
       "      <td>2023-08-11</td>\n",
       "      <td>Thigh</td>\n",
       "      <td>Lower Extremity</td>\n",
       "      <td>Left</td>\n",
       "      <td>Strain</td>\n",
       "      <td>Hamstring (partial tear)</td>\n",
       "      <td>Limited Activity</td>\n",
       "    </tr>\n",
       "    <tr>\n",
       "      <th>2</th>\n",
       "      <td>FB74</td>\n",
       "      <td>Football</td>\n",
       "      <td>2023-08-12</td>\n",
       "      <td>Elbow</td>\n",
       "      <td>Upper Extremity</td>\n",
       "      <td>Right</td>\n",
       "      <td>Entrapment Neuropathy (javelin elbow)</td>\n",
       "      <td>NaN</td>\n",
       "      <td>Limited Activity</td>\n",
       "    </tr>\n",
       "    <tr>\n",
       "      <th>3</th>\n",
       "      <td>FB46</td>\n",
       "      <td>Football</td>\n",
       "      <td>2023-08-14</td>\n",
       "      <td>Thigh</td>\n",
       "      <td>Lower Extremity</td>\n",
       "      <td>Left</td>\n",
       "      <td>Strain</td>\n",
       "      <td>Hamstring (partial tear)</td>\n",
       "      <td>Limited Activity</td>\n",
       "    </tr>\n",
       "    <tr>\n",
       "      <th>4</th>\n",
       "      <td>FB24</td>\n",
       "      <td>Football</td>\n",
       "      <td>2023-08-17</td>\n",
       "      <td>Knee</td>\n",
       "      <td>Lower Extremity</td>\n",
       "      <td>Right</td>\n",
       "      <td>Sprain</td>\n",
       "      <td>Anterior Cruciate Ligament</td>\n",
       "      <td>Not Cleared</td>\n",
       "    </tr>\n",
       "    <tr>\n",
       "      <th>5</th>\n",
       "      <td>VB13</td>\n",
       "      <td>Volleyball</td>\n",
       "      <td>2023-08-18</td>\n",
       "      <td>Wrist</td>\n",
       "      <td>Upper Extremity</td>\n",
       "      <td>Left</td>\n",
       "      <td>Triangular Fibrocartilage Complex Tear</td>\n",
       "      <td>NaN</td>\n",
       "      <td>Returned To Play As Tolerated</td>\n",
       "    </tr>\n",
       "    <tr>\n",
       "      <th>6</th>\n",
       "      <td>WSOC6</td>\n",
       "      <td>Womens Soccer</td>\n",
       "      <td>2023-08-18</td>\n",
       "      <td>Knee</td>\n",
       "      <td>Lower Extremity</td>\n",
       "      <td>Left</td>\n",
       "      <td>Other Knee Injury</td>\n",
       "      <td>NaN</td>\n",
       "      <td>Limited Activity</td>\n",
       "    </tr>\n",
       "    <tr>\n",
       "      <th>7</th>\n",
       "      <td>MSCO7</td>\n",
       "      <td>Men's Soccer</td>\n",
       "      <td>2023-08-19</td>\n",
       "      <td>Hip</td>\n",
       "      <td>Lower Extremity</td>\n",
       "      <td>Left</td>\n",
       "      <td>Strain</td>\n",
       "      <td>Psoas major</td>\n",
       "      <td>Returned To Play and Closed</td>\n",
       "    </tr>\n",
       "    <tr>\n",
       "      <th>8</th>\n",
       "      <td>FB16</td>\n",
       "      <td>Football</td>\n",
       "      <td>2023-08-20</td>\n",
       "      <td>Shoulder</td>\n",
       "      <td>Upper Extremity</td>\n",
       "      <td>Left</td>\n",
       "      <td>Subluxation</td>\n",
       "      <td>NaN</td>\n",
       "      <td>Returned To Play As Tolerated</td>\n",
       "    </tr>\n",
       "    <tr>\n",
       "      <th>9</th>\n",
       "      <td>SB2</td>\n",
       "      <td>Softball</td>\n",
       "      <td>2023-08-20</td>\n",
       "      <td>Shoulder</td>\n",
       "      <td>Upper Extremity</td>\n",
       "      <td>Right</td>\n",
       "      <td>Strain</td>\n",
       "      <td>General Rotator Cuff</td>\n",
       "      <td>Returned To Play As Tolerated</td>\n",
       "    </tr>\n",
       "  </tbody>\n",
       "</table>\n",
       "</div>"
      ],
      "text/plain": [
       "    Code  Organizations ProblemDate  BodyPart     AffectedArea   Side  \\\n",
       "0   FB64       Football  2023-08-10  Shoulder  Upper Extremity   Left   \n",
       "1   FB29       Football  2023-08-11     Thigh  Lower Extremity   Left   \n",
       "2   FB74       Football  2023-08-12     Elbow  Upper Extremity  Right   \n",
       "3   FB46       Football  2023-08-14     Thigh  Lower Extremity   Left   \n",
       "4   FB24       Football  2023-08-17      Knee  Lower Extremity  Right   \n",
       "5   VB13     Volleyball  2023-08-18     Wrist  Upper Extremity   Left   \n",
       "6  WSOC6  Womens Soccer  2023-08-18      Knee  Lower Extremity   Left   \n",
       "7  MSCO7   Men's Soccer  2023-08-19       Hip  Lower Extremity   Left   \n",
       "8   FB16       Football  2023-08-20  Shoulder  Upper Extremity   Left   \n",
       "9    SB2       Softball  2023-08-20  Shoulder  Upper Extremity  Right   \n",
       "\n",
       "                               InjuryType                BodyPartName  \\\n",
       "0                   Other Shoulder Injury                         NaN   \n",
       "1                                  Strain    Hamstring (partial tear)   \n",
       "2   Entrapment Neuropathy (javelin elbow)                         NaN   \n",
       "3                                  Strain    Hamstring (partial tear)   \n",
       "4                                  Sprain  Anterior Cruciate Ligament   \n",
       "5  Triangular Fibrocartilage Complex Tear                         NaN   \n",
       "6                       Other Knee Injury                         NaN   \n",
       "7                                  Strain                 Psoas major   \n",
       "8                             Subluxation                         NaN   \n",
       "9                                  Strain        General Rotator Cuff   \n",
       "\n",
       "                   CurrentStatus  \n",
       "0                    Not Cleared  \n",
       "1               Limited Activity  \n",
       "2               Limited Activity  \n",
       "3               Limited Activity  \n",
       "4                    Not Cleared  \n",
       "5  Returned To Play As Tolerated  \n",
       "6               Limited Activity  \n",
       "7    Returned To Play and Closed  \n",
       "8  Returned To Play As Tolerated  \n",
       "9  Returned To Play As Tolerated  "
      ]
     },
     "execution_count": 99,
     "metadata": {},
     "output_type": "execute_result"
    }
   ],
   "source": [
    "# Displaying the first 10 rows\n",
    "df_injuries.head(10)"
   ]
  },
  {
   "cell_type": "code",
   "execution_count": 100,
   "metadata": {},
   "outputs": [],
   "source": [
    "# Summary count for sport groups\n",
    "sport_group = df_injuries.groupby(\"Organizations\").count().filter([\"Code\"]).rename(columns = {\"Code\": \"Count\"}).sort_values(by = \"Count\", ascending = False).reset_index()\n",
    "\n",
    "# Displaying the top 5 and 10 highest count\n",
    "sport_top5 = sport_group.head(5)\n",
    "sport_top10 = sport_group.head(10)"
   ]
  },
  {
   "cell_type": "code",
   "execution_count": 101,
   "metadata": {},
   "outputs": [],
   "source": [
    "# Summary count for body part groups\n",
    "body_part_group = df_injuries.groupby(\"BodyPart\").count().filter([\"Code\"]).rename(columns = {\"Code\": \"Count\"}).sort_values(by = \"Count\", ascending = False).reset_index()\n",
    "\n",
    "# Displaying the top 5 and 10 highest count\n",
    "body_part_top5 = body_part_group.head(5)\n",
    "body_part_top10 = body_part_group.head(10)"
   ]
  },
  {
   "cell_type": "code",
   "execution_count": 102,
   "metadata": {},
   "outputs": [],
   "source": [
    "# Summary count for injury type groups\n",
    "injury_group = df_injuries.groupby(\"InjuryType\").count().filter([\"Code\"]).rename(columns = {\"Code\": \"Count\"}).sort_values(by = \"Count\", ascending = False).reset_index()\n",
    "\n",
    "# Displaying the top 5 highest count\n",
    "injury_top5 = injury_group.head(5)\n",
    "injury_top10 = injury_group.head(10)"
   ]
  },
  {
   "cell_type": "code",
   "execution_count": 103,
   "metadata": {},
   "outputs": [],
   "source": [
    "# Summary count for recovery status groups\n",
    "recovery_group = df_injuries.groupby(\"CurrentStatus\").count().filter([\"Code\"]).rename(columns = {\"Code\": \"Count\"}).sort_values(by = \"Count\", ascending = False).reset_index()"
   ]
  },
  {
   "cell_type": "code",
   "execution_count": 104,
   "metadata": {},
   "outputs": [
    {
     "data": {
      "image/png": "[encoded data removed]",
      "text/plain": [
       "<Figure size 1000x600 with 1 Axes>"
      ]
     },
     "metadata": {},
     "output_type": "display_data"
    }
   ],
   "source": [
    "df_filtered = df_injuries.groupby([df_injuries['ProblemDate'].dt.to_period('M')]).size().reset_index(name='Count')\n",
    "\n",
    "# Convert period to datetime for easier plotting\n",
    "df_filtered['ProblemDate'] = df_filtered['ProblemDate'].dt.to_timestamp()\n",
    "\n",
    "# Plot the data\n",
    "plt.figure(figsize=(10, 6))\n",
    "sns.lineplot(data=df_filtered, x='ProblemDate', y='Count', marker='o')\n",
    "\n",
    "# Customize plot labels and title\n",
    "plt.title('Number of Injuries Over Time', fontweight = \"bold\")\n",
    "plt.xlabel('Date')\n",
    "plt.ylabel('Number of Injuries')\n",
    "plt.xticks(rotation = 45)\n",
    "plt.tight_layout()\n",
    "\n",
    "plt.show()"
   ]
  },
  {
   "cell_type": "code",
   "execution_count": 105,
   "metadata": {},
   "outputs": [],
   "source": [
    "# Read the CSV file into a pandas DataFrame\n",
    "data = os.path.join(datadir, \"baseball_coded.csv\")\n",
    "df_baseball = pd.read_csv(data)\n",
    "\n",
    "# Date conversion\n",
    "df_baseball.sort_values(by='Date', inplace = True)\n",
    "df_baseball = df_baseball[df_baseball['Date'].notna()]\n",
    "df_baseball[\"Date\"] = df_baseball[\"Date\"].str.replace(\"/\", \"-\").apply(date_coversion)\n",
    "df_baseball[\"Date\"] = pd.to_datetime(df_baseball[\"Date\"], format='%Y-%m-%d')"
   ]
  },
  {
   "cell_type": "code",
   "execution_count": 106,
   "metadata": {},
   "outputs": [],
   "source": [
    "# Filtering data for plotting\n",
    "lower_injury_baseball = df_injuries[(df_injuries['Organizations'] == \"Baseball\") & \n",
    "                                 (df_injuries['AffectedArea'] == \"Lower Extremity\")]\n",
    "\n",
    "thigh_injuries_jumps = df_baseball[df_baseball['Code'] == \"BASEB1\"]\n",
    "desc = thigh_injuries_jumps.sort_values(by='Date')"
   ]
  },
  {
   "cell_type": "code",
   "execution_count": 107,
   "metadata": {},
   "outputs": [],
   "source": [
    "lower_extremity_baseball_2024 = df_baseball[df_baseball['Code'].isin([\"BASEB19\", \"BASEB33\", \"BASEB1\"])]"
   ]
  },
  {
   "cell_type": "code",
   "execution_count": 108,
   "metadata": {},
   "outputs": [
    {
     "data": {
      "image/png": "[encoded data removed]",
      "text/plain": [
       "<Figure size 1000x600 with 1 Axes>"
      ]
     },
     "metadata": {},
     "output_type": "display_data"
    }
   ],
   "source": [
    "#Plotting\n",
    "plt.figure(figsize=(10, 6))\n",
    "sns.lineplot(x='Date', y='Time To Takeoff', data=desc, marker = \"o\")\n",
    "#sns.scatterplot(x='Date', y='Time To Takeoff', data=desc)\n",
    "plt.title('Time to takeoff from January to May 2024 for baseball athlete BASEB1', fontweight = \"bold\")\n",
    "plt.xticks(rotation = 45)\n",
    "\n",
    "# Add vertical line for March 9th 2024 for problem starting date\n",
    "plt.axvline(pd.to_datetime(\"2024-03-09\"), color='orange', linestyle='-.', label='March 9, 2024: Problem Starting Date')\n",
    "\n",
    "# Add vertical line for March 14th 2024 for reported date\n",
    "plt.axvline(pd.to_datetime(\"2024-03-14\"), color='red', linestyle='-', label='March 14, 2024: Problem Reported Date')\n",
    "\n",
    "txt=\"The athlete had a lower extremity injury on the left knee caused by fat pad syndrome\"\n",
    "plt.figtext(0.5, 0.001, txt, wrap=True, horizontalalignment='center')\n",
    "\n",
    "plt.legend()\n",
    "plt.tight_layout()\n",
    "plt.show()\n"
   ]
  },
  {
   "cell_type": "code",
   "execution_count": 109,
   "metadata": {},
   "outputs": [
    {
     "data": {
      "text/html": [
       "<div>\n",
       "<style scoped>\n",
       "    .dataframe tbody tr th:only-of-type {\n",
       "        vertical-align: middle;\n",
       "    }\n",
       "\n",
       "    .dataframe tbody tr th {\n",
       "        vertical-align: top;\n",
       "    }\n",
       "\n",
       "    .dataframe thead th {\n",
       "        text-align: right;\n",
       "    }\n",
       "</style>\n",
       "<table border=\"1\" class=\"dataframe\">\n",
       "  <thead>\n",
       "    <tr style=\"text-align: right;\">\n",
       "      <th></th>\n",
       "      <th>Code</th>\n",
       "      <th>Organizations</th>\n",
       "      <th>ProblemDate</th>\n",
       "      <th>BodyPart</th>\n",
       "      <th>AffectedArea</th>\n",
       "      <th>Side</th>\n",
       "      <th>InjuryType</th>\n",
       "      <th>BodyPartName</th>\n",
       "      <th>CurrentStatus</th>\n",
       "    </tr>\n",
       "  </thead>\n",
       "  <tbody>\n",
       "    <tr>\n",
       "      <th>250</th>\n",
       "      <td>BASEB1</td>\n",
       "      <td>Baseball</td>\n",
       "      <td>2024-03-09</td>\n",
       "      <td>Knee</td>\n",
       "      <td>Lower Extremity</td>\n",
       "      <td>Left</td>\n",
       "      <td>Fat Pad Syndrome</td>\n",
       "      <td>NaN</td>\n",
       "      <td>Returned To Play As Tolerated</td>\n",
       "    </tr>\n",
       "  </tbody>\n",
       "</table>\n",
       "</div>"
      ],
      "text/plain": [
       "       Code Organizations ProblemDate BodyPart     AffectedArea  Side  \\\n",
       "250  BASEB1      Baseball  2024-03-09     Knee  Lower Extremity  Left   \n",
       "\n",
       "           InjuryType BodyPartName                  CurrentStatus  \n",
       "250  Fat Pad Syndrome          NaN  Returned To Play As Tolerated  "
      ]
     },
     "execution_count": 109,
     "metadata": {},
     "output_type": "execute_result"
    }
   ],
   "source": [
    "df_injuries.loc[df_injuries[\"Code\"] == \"BASEB1\"]"
   ]
  },
  {
   "cell_type": "code",
   "execution_count": 110,
   "metadata": {},
   "outputs": [
    {
     "data": {
      "image/png": "[encoded data removed]",
      "text/plain": [
       "<Figure size 1000x600 with 1 Axes>"
      ]
     },
     "metadata": {},
     "output_type": "display_data"
    }
   ],
   "source": [
    "#Plotting\n",
    "plt.figure(figsize=(10, 6))\n",
    "sns.lineplot(x='Date', y='Time To Takeoff', data=lower_extremity_baseball_2024, hue='Code', marker = \"o\")\n",
    "plt.title('Time to takeoff from January to May 2024 for baseball athletes who had a lower extremity injury in 2024', fontweight = \"bold\")\n",
    "plt.xticks(rotation = 45)\n",
    "\n",
    "plt.axvline(pd.to_datetime(\"2024-01-16\"), color='orange', linestyle='--', label='January 16, 2024: Problem Reported Date for BASEB19')\n",
    "plt.axvline(pd.to_datetime(\"2024-03-14\"), color='green', linestyle='-.', label='March 14, 2024: Problem Reported Date for BASEB1')\n",
    "plt.axvline(pd.to_datetime(\"2024-03-14\"), color='blue', linestyle=':', label='March 15, 2024: Problem Reported Date for BASEB33')\n",
    "\n",
    "plt.legend()\n",
    "plt.tight_layout()\n",
    "plt.show()\n"
   ]
  },
  {
   "cell_type": "code",
   "execution_count": 111,
   "metadata": {},
   "outputs": [],
   "source": [
    "sport_nonfiltered = df_injuries.groupby([df_injuries['ProblemDate'].dt.to_period('M'), 'Organizations']).size().reset_index(name='Count')\n",
    "sport_pivot = sport_nonfiltered.pivot(index='ProblemDate', columns='Organizations', values='Count').reset_index()\n",
    "sport_pivot['ProblemDate'] = sport_pivot['ProblemDate'].dt.to_timestamp()"
   ]
  },
  {
   "cell_type": "code",
   "execution_count": 112,
   "metadata": {},
   "outputs": [
    {
     "data": {
      "text/plain": [
       "['Football',\n",
       " \"Men's Swimming & Diving\",\n",
       " 'Baseball',\n",
       " \"Women's Tennis\",\n",
       " \"Men's Track & Field\"]"
      ]
     },
     "execution_count": 112,
     "metadata": {},
     "output_type": "execute_result"
    }
   ],
   "source": [
    "sport_top5[\"Organizations\"].to_list()"
   ]
  },
  {
   "cell_type": "code",
   "execution_count": 113,
   "metadata": {},
   "outputs": [
    {
     "data": {
      "application/vnd.plotly.v1+json": {
       "config": {
        "plotlyServerURL": "https://plot.ly"
       },
       "data": [
        {
         "name": "Baseball",
         "type": "scatter",
         "visible": "legendonly",
         "x": [
          "2023-08-01T00:00:00",
          "2023-09-01T00:00:00",
          "2023-10-01T00:00:00",
          "2023-11-01T00:00:00",
          "2023-12-01T00:00:00",
          "2024-01-01T00:00:00",
          "2024-02-01T00:00:00",
          "2024-03-01T00:00:00",
          "2024-04-01T00:00:00"
         ],
         "y": [
          null,
          6,
          null,
          3,
          1,
          2,
          2,
          4,
          2
         ]
        },
        {
         "name": "Club Sports , Men's Golf",
         "type": "scatter",
         "visible": "legendonly",
         "x": [
          "2023-08-01T00:00:00",
          "2023-09-01T00:00:00",
          "2023-10-01T00:00:00",
          "2023-11-01T00:00:00",
          "2023-12-01T00:00:00",
          "2024-01-01T00:00:00",
          "2024-02-01T00:00:00",
          "2024-03-01T00:00:00",
          "2024-04-01T00:00:00"
         ],
         "y": [
          null,
          2,
          null,
          null,
          null,
          null,
          null,
          1,
          null
         ]
        },
        {
         "name": "Club Sports , Women's Track & Field ",
         "type": "scatter",
         "visible": "legendonly",
         "x": [
          "2023-08-01T00:00:00",
          "2023-09-01T00:00:00",
          "2023-10-01T00:00:00",
          "2023-11-01T00:00:00",
          "2023-12-01T00:00:00",
          "2024-01-01T00:00:00",
          "2024-02-01T00:00:00",
          "2024-03-01T00:00:00",
          "2024-04-01T00:00:00"
         ],
         "y": [
          null,
          1,
          null,
          null,
          null,
          null,
          null,
          null,
          null
         ]
        },
        {
         "name": "Field Hockey",
         "type": "scatter",
         "visible": "legendonly",
         "x": [
          "2023-08-01T00:00:00",
          "2023-09-01T00:00:00",
          "2023-10-01T00:00:00",
          "2023-11-01T00:00:00",
          "2023-12-01T00:00:00",
          "2024-01-01T00:00:00",
          "2024-02-01T00:00:00",
          "2024-03-01T00:00:00",
          "2024-04-01T00:00:00"
         ],
         "y": [
          null,
          null,
          null,
          null,
          1,
          1,
          3,
          null,
          null
         ]
        },
        {
         "name": "Football",
         "type": "scatter",
         "visible": "legendonly",
         "x": [
          "2023-08-01T00:00:00",
          "2023-09-01T00:00:00",
          "2023-10-01T00:00:00",
          "2023-11-01T00:00:00",
          "2023-12-01T00:00:00",
          "2024-01-01T00:00:00",
          "2024-02-01T00:00:00",
          "2024-03-01T00:00:00",
          "2024-04-01T00:00:00"
         ],
         "y": [
          6,
          8,
          3,
          null,
          2,
          1,
          1,
          2,
          6
         ]
        },
        {
         "name": "Men's Cross Country",
         "type": "scatter",
         "visible": "legendonly",
         "x": [
          "2023-08-01T00:00:00",
          "2023-09-01T00:00:00",
          "2023-10-01T00:00:00",
          "2023-11-01T00:00:00",
          "2023-12-01T00:00:00",
          "2024-01-01T00:00:00",
          "2024-02-01T00:00:00",
          "2024-03-01T00:00:00",
          "2024-04-01T00:00:00"
         ],
         "y": [
          null,
          1,
          null,
          null,
          null,
          2,
          1,
          1,
          null
         ]
        },
        {
         "name": "Men's Cross Country, Men's Track & Field",
         "type": "scatter",
         "visible": "legendonly",
         "x": [
          "2023-08-01T00:00:00",
          "2023-09-01T00:00:00",
          "2023-10-01T00:00:00",
          "2023-11-01T00:00:00",
          "2023-12-01T00:00:00",
          "2024-01-01T00:00:00",
          "2024-02-01T00:00:00",
          "2024-03-01T00:00:00",
          "2024-04-01T00:00:00"
         ],
         "y": [
          null,
          1,
          null,
          null,
          null,
          1,
          1,
          1,
          null
         ]
        },
        {
         "name": "Men's Golf",
         "type": "scatter",
         "visible": "legendonly",
         "x": [
          "2023-08-01T00:00:00",
          "2023-09-01T00:00:00",
          "2023-10-01T00:00:00",
          "2023-11-01T00:00:00",
          "2023-12-01T00:00:00",
          "2024-01-01T00:00:00",
          "2024-02-01T00:00:00",
          "2024-03-01T00:00:00",
          "2024-04-01T00:00:00"
         ],
         "y": [
          null,
          1,
          null,
          null,
          1,
          1,
          3,
          null,
          1
         ]
        },
        {
         "name": "Men's Lacrosse",
         "type": "scatter",
         "visible": "legendonly",
         "x": [
          "2023-08-01T00:00:00",
          "2023-09-01T00:00:00",
          "2023-10-01T00:00:00",
          "2023-11-01T00:00:00",
          "2023-12-01T00:00:00",
          "2024-01-01T00:00:00",
          "2024-02-01T00:00:00",
          "2024-03-01T00:00:00",
          "2024-04-01T00:00:00"
         ],
         "y": [
          null,
          null,
          1,
          null,
          null,
          1,
          3,
          6,
          null
         ]
        },
        {
         "name": "Men's Soccer",
         "type": "scatter",
         "visible": "legendonly",
         "x": [
          "2023-08-01T00:00:00",
          "2023-09-01T00:00:00",
          "2023-10-01T00:00:00",
          "2023-11-01T00:00:00",
          "2023-12-01T00:00:00",
          "2024-01-01T00:00:00",
          "2024-02-01T00:00:00",
          "2024-03-01T00:00:00",
          "2024-04-01T00:00:00"
         ],
         "y": [
          1,
          2,
          1,
          1,
          2,
          null,
          null,
          1,
          3
         ]
        },
        {
         "name": "Men's Squash",
         "type": "scatter",
         "visible": "legendonly",
         "x": [
          "2023-08-01T00:00:00",
          "2023-09-01T00:00:00",
          "2023-10-01T00:00:00",
          "2023-11-01T00:00:00",
          "2023-12-01T00:00:00",
          "2024-01-01T00:00:00",
          "2024-02-01T00:00:00",
          "2024-03-01T00:00:00",
          "2024-04-01T00:00:00"
         ],
         "y": [
          null,
          null,
          1,
          1,
          1,
          1,
          null,
          null,
          null
         ]
        },
        {
         "name": "Men's Swimming & Diving",
         "type": "scatter",
         "visible": "legendonly",
         "x": [
          "2023-08-01T00:00:00",
          "2023-09-01T00:00:00",
          "2023-10-01T00:00:00",
          "2023-11-01T00:00:00",
          "2023-12-01T00:00:00",
          "2024-01-01T00:00:00",
          "2024-02-01T00:00:00",
          "2024-03-01T00:00:00",
          "2024-04-01T00:00:00"
         ],
         "y": [
          2,
          3,
          4,
          null,
          3,
          9,
          null,
          null,
          2
         ]
        },
        {
         "name": "Men's Tennis",
         "type": "scatter",
         "visible": "legendonly",
         "x": [
          "2023-08-01T00:00:00",
          "2023-09-01T00:00:00",
          "2023-10-01T00:00:00",
          "2023-11-01T00:00:00",
          "2023-12-01T00:00:00",
          "2024-01-01T00:00:00",
          "2024-02-01T00:00:00",
          "2024-03-01T00:00:00",
          "2024-04-01T00:00:00"
         ],
         "y": [
          null,
          null,
          null,
          null,
          null,
          4,
          6,
          null,
          1
         ]
        },
        {
         "name": "Men's Track & Field",
         "type": "scatter",
         "visible": "legendonly",
         "x": [
          "2023-08-01T00:00:00",
          "2023-09-01T00:00:00",
          "2023-10-01T00:00:00",
          "2023-11-01T00:00:00",
          "2023-12-01T00:00:00",
          "2024-01-01T00:00:00",
          "2024-02-01T00:00:00",
          "2024-03-01T00:00:00",
          "2024-04-01T00:00:00"
         ],
         "y": [
          null,
          3,
          null,
          1,
          1,
          5,
          4,
          3,
          3
         ]
        },
        {
         "name": "Mens Basketball",
         "type": "scatter",
         "visible": "legendonly",
         "x": [
          "2023-08-01T00:00:00",
          "2023-09-01T00:00:00",
          "2023-10-01T00:00:00",
          "2023-11-01T00:00:00",
          "2023-12-01T00:00:00",
          "2024-01-01T00:00:00",
          "2024-02-01T00:00:00",
          "2024-03-01T00:00:00",
          "2024-04-01T00:00:00"
         ],
         "y": [
          null,
          null,
          1,
          3,
          null,
          3,
          2,
          1,
          null
         ]
        },
        {
         "name": "Softball",
         "type": "scatter",
         "visible": "legendonly",
         "x": [
          "2023-08-01T00:00:00",
          "2023-09-01T00:00:00",
          "2023-10-01T00:00:00",
          "2023-11-01T00:00:00",
          "2023-12-01T00:00:00",
          "2024-01-01T00:00:00",
          "2024-02-01T00:00:00",
          "2024-03-01T00:00:00",
          "2024-04-01T00:00:00"
         ],
         "y": [
          1,
          2,
          1,
          1,
          null,
          3,
          5,
          2,
          3
         ]
        },
        {
         "name": "Volleyball",
         "type": "scatter",
         "visible": "legendonly",
         "x": [
          "2023-08-01T00:00:00",
          "2023-09-01T00:00:00",
          "2023-10-01T00:00:00",
          "2023-11-01T00:00:00",
          "2023-12-01T00:00:00",
          "2024-01-01T00:00:00",
          "2024-02-01T00:00:00",
          "2024-03-01T00:00:00",
          "2024-04-01T00:00:00"
         ],
         "y": [
          3,
          3,
          null,
          null,
          null,
          null,
          null,
          null,
          null
         ]
        },
        {
         "name": "Women's Basketball",
         "type": "scatter",
         "visible": "legendonly",
         "x": [
          "2023-08-01T00:00:00",
          "2023-09-01T00:00:00",
          "2023-10-01T00:00:00",
          "2023-11-01T00:00:00",
          "2023-12-01T00:00:00",
          "2024-01-01T00:00:00",
          "2024-02-01T00:00:00",
          "2024-03-01T00:00:00",
          "2024-04-01T00:00:00"
         ],
         "y": [
          null,
          2,
          3,
          1,
          2,
          4,
          4,
          null,
          null
         ]
        },
        {
         "name": "Women's Cross Country",
         "type": "scatter",
         "visible": "legendonly",
         "x": [
          "2023-08-01T00:00:00",
          "2023-09-01T00:00:00",
          "2023-10-01T00:00:00",
          "2023-11-01T00:00:00",
          "2023-12-01T00:00:00",
          "2024-01-01T00:00:00",
          "2024-02-01T00:00:00",
          "2024-03-01T00:00:00",
          "2024-04-01T00:00:00"
         ],
         "y": [
          1,
          1,
          null,
          1,
          null,
          1,
          1,
          null,
          1
         ]
        },
        {
         "name": "Women's Cross Country, Women's Track & Field",
         "type": "scatter",
         "visible": "legendonly",
         "x": [
          "2023-08-01T00:00:00",
          "2023-09-01T00:00:00",
          "2023-10-01T00:00:00",
          "2023-11-01T00:00:00",
          "2023-12-01T00:00:00",
          "2024-01-01T00:00:00",
          "2024-02-01T00:00:00",
          "2024-03-01T00:00:00",
          "2024-04-01T00:00:00"
         ],
         "y": [
          null,
          null,
          null,
          null,
          null,
          null,
          1,
          null,
          null
         ]
        },
        {
         "name": "Women's Fencing",
         "type": "scatter",
         "visible": "legendonly",
         "x": [
          "2023-08-01T00:00:00",
          "2023-09-01T00:00:00",
          "2023-10-01T00:00:00",
          "2023-11-01T00:00:00",
          "2023-12-01T00:00:00",
          "2024-01-01T00:00:00",
          "2024-02-01T00:00:00",
          "2024-03-01T00:00:00",
          "2024-04-01T00:00:00"
         ],
         "y": [
          null,
          8,
          2,
          1,
          4,
          2,
          null,
          null,
          null
         ]
        },
        {
         "name": "Women's Golf",
         "type": "scatter",
         "visible": "legendonly",
         "x": [
          "2023-08-01T00:00:00",
          "2023-09-01T00:00:00",
          "2023-10-01T00:00:00",
          "2023-11-01T00:00:00",
          "2023-12-01T00:00:00",
          "2024-01-01T00:00:00",
          "2024-02-01T00:00:00",
          "2024-03-01T00:00:00",
          "2024-04-01T00:00:00"
         ],
         "y": [
          null,
          2,
          1,
          1,
          null,
          null,
          null,
          1,
          null
         ]
        },
        {
         "name": "Women's Lacrosse",
         "type": "scatter",
         "visible": "legendonly",
         "x": [
          "2023-08-01T00:00:00",
          "2023-09-01T00:00:00",
          "2023-10-01T00:00:00",
          "2023-11-01T00:00:00",
          "2023-12-01T00:00:00",
          "2024-01-01T00:00:00",
          "2024-02-01T00:00:00",
          "2024-03-01T00:00:00",
          "2024-04-01T00:00:00"
         ],
         "y": [
          null,
          null,
          null,
          1,
          3,
          null,
          2,
          null,
          null
         ]
        },
        {
         "name": "Women's Squash",
         "type": "scatter",
         "visible": "legendonly",
         "x": [
          "2023-08-01T00:00:00",
          "2023-09-01T00:00:00",
          "2023-10-01T00:00:00",
          "2023-11-01T00:00:00",
          "2023-12-01T00:00:00",
          "2024-01-01T00:00:00",
          "2024-02-01T00:00:00",
          "2024-03-01T00:00:00",
          "2024-04-01T00:00:00"
         ],
         "y": [
          null,
          null,
          1,
          null,
          1,
          null,
          null,
          null,
          null
         ]
        },
        {
         "name": "Women's Swimming & Diving",
         "type": "scatter",
         "visible": "legendonly",
         "x": [
          "2023-08-01T00:00:00",
          "2023-09-01T00:00:00",
          "2023-10-01T00:00:00",
          "2023-11-01T00:00:00",
          "2023-12-01T00:00:00",
          "2024-01-01T00:00:00",
          "2024-02-01T00:00:00",
          "2024-03-01T00:00:00",
          "2024-04-01T00:00:00"
         ],
         "y": [
          null,
          1,
          2,
          null,
          2,
          null,
          null,
          null,
          1
         ]
        },
        {
         "name": "Women's Tennis",
         "type": "scatter",
         "visible": "legendonly",
         "x": [
          "2023-08-01T00:00:00",
          "2023-09-01T00:00:00",
          "2023-10-01T00:00:00",
          "2023-11-01T00:00:00",
          "2023-12-01T00:00:00",
          "2024-01-01T00:00:00",
          "2024-02-01T00:00:00",
          "2024-03-01T00:00:00",
          "2024-04-01T00:00:00"
         ],
         "y": [
          null,
          1,
          null,
          1,
          null,
          4,
          5,
          7,
          2
         ]
        },
        {
         "name": "Women's Track & Field",
         "type": "scatter",
         "visible": "legendonly",
         "x": [
          "2023-08-01T00:00:00",
          "2023-09-01T00:00:00",
          "2023-10-01T00:00:00",
          "2023-11-01T00:00:00",
          "2023-12-01T00:00:00",
          "2024-01-01T00:00:00",
          "2024-02-01T00:00:00",
          "2024-03-01T00:00:00",
          "2024-04-01T00:00:00"
         ],
         "y": [
          null,
          2,
          null,
          null,
          1,
          1,
          1,
          2,
          1
         ]
        },
        {
         "name": "Womens Soccer",
         "type": "scatter",
         "visible": "legendonly",
         "x": [
          "2023-08-01T00:00:00",
          "2023-09-01T00:00:00",
          "2023-10-01T00:00:00",
          "2023-11-01T00:00:00",
          "2023-12-01T00:00:00",
          "2024-01-01T00:00:00",
          "2024-02-01T00:00:00",
          "2024-03-01T00:00:00",
          "2024-04-01T00:00:00"
         ],
         "y": [
          6,
          null,
          2,
          1,
          null,
          null,
          null,
          1,
          2
         ]
        }
       ],
       "layout": {
        "autosize": false,
        "height": 900,
        "template": {
         "data": {
          "bar": [
           {
            "error_x": {
             "color": "#2a3f5f"
            },
            "error_y": {
             "color": "#2a3f5f"
            },
            "marker": {
             "line": {
              "color": "#E5ECF6",
              "width": 0.5
             },
             "pattern": {
              "fillmode": "overlay",
              "size": 10,
              "solidity": 0.2
             }
            },
            "type": "bar"
           }
          ],
          "barpolar": [
           {
            "marker": {
             "line": {
              "color": "#E5ECF6",
              "width": 0.5
             },
             "pattern": {
              "fillmode": "overlay",
              "size": 10,
              "solidity": 0.2
             }
            },
            "type": "barpolar"
           }
          ],
          "carpet": [
           {
            "aaxis": {
             "endlinecolor": "#2a3f5f",
             "gridcolor": "white",
             "linecolor": "white",
             "minorgridcolor": "white",
             "startlinecolor": "#2a3f5f"
            },
            "baxis": {
             "endlinecolor": "#2a3f5f",
             "gridcolor": "white",
             "linecolor": "white",
             "minorgridcolor": "white",
             "startlinecolor": "#2a3f5f"
            },
            "type": "carpet"
           }
          ],
          "choropleth": [
           {
            "colorbar": {
             "outlinewidth": 0,
             "ticks": ""
            },
            "type": "choropleth"
           }
          ],
          "contour": [
           {
            "colorbar": {
             "outlinewidth": 0,
             "ticks": ""
            },
            "colorscale": [
             [
              0,
              "#0d0887"
             ],
             [
              0.1111111111111111,
              "#46039f"
             ],
             [
              0.2222222222222222,
              "#7201a8"
             ],
             [
              0.3333333333333333,
              "#9c179e"
             ],
             [
              0.4444444444444444,
              "#bd3786"
             ],
             [
              0.5555555555555556,
              "#d8576b"
             ],
             [
              0.6666666666666666,
              "#ed7953"
             ],
             [
              0.7777777777777778,
              "#fb9f3a"
             ],
             [
              0.8888888888888888,
              "#fdca26"
             ],
             [
              1,
              "#f0f921"
             ]
            ],
            "type": "contour"
           }
          ],
          "contourcarpet": [
           {
            "colorbar": {
             "outlinewidth": 0,
             "ticks": ""
            },
            "type": "contourcarpet"
           }
          ],
          "heatmap": [
           {
            "colorbar": {
             "outlinewidth": 0,
             "ticks": ""
            },
            "colorscale": [
             [
              0,
              "#0d0887"
             ],
             [
              0.1111111111111111,
              "#46039f"
             ],
             [
              0.2222222222222222,
              "#7201a8"
             ],
             [
              0.3333333333333333,
              "#9c179e"
             ],
             [
              0.4444444444444444,
              "#bd3786"
             ],
             [
              0.5555555555555556,
              "#d8576b"
             ],
             [
              0.6666666666666666,
              "#ed7953"
             ],
             [
              0.7777777777777778,
              "#fb9f3a"
             ],
             [
              0.8888888888888888,
              "#fdca26"
             ],
             [
              1,
              "#f0f921"
             ]
            ],
            "type": "heatmap"
           }
          ],
          "heatmapgl": [
           {
            "colorbar": {
             "outlinewidth": 0,
             "ticks": ""
            },
            "colorscale": [
             [
              0,
              "#0d0887"
             ],
             [
              0.1111111111111111,
              "#46039f"
             ],
             [
              0.2222222222222222,
              "#7201a8"
             ],
             [
              0.3333333333333333,
              "#9c179e"
             ],
             [
              0.4444444444444444,
              "#bd3786"
             ],
             [
              0.5555555555555556,
              "#d8576b"
             ],
             [
              0.6666666666666666,
              "#ed7953"
             ],
             [
              0.7777777777777778,
              "#fb9f3a"
             ],
             [
              0.8888888888888888,
              "#fdca26"
             ],
             [
              1,
              "#f0f921"
             ]
            ],
            "type": "heatmapgl"
           }
          ],
          "histogram": [
           {
            "marker": {
             "pattern": {
              "fillmode": "overlay",
              "size": 10,
              "solidity": 0.2
             }
            },
            "type": "histogram"
           }
          ],
          "histogram2d": [
           {
            "colorbar": {
             "outlinewidth": 0,
             "ticks": ""
            },
            "colorscale": [
             [
              0,
              "#0d0887"
             ],
             [
              0.1111111111111111,
              "#46039f"
             ],
             [
              0.2222222222222222,
              "#7201a8"
             ],
             [
              0.3333333333333333,
              "#9c179e"
             ],
             [
              0.4444444444444444,
              "#bd3786"
             ],
             [
              0.5555555555555556,
              "#d8576b"
             ],
             [
              0.6666666666666666,
              "#ed7953"
             ],
             [
              0.7777777777777778,
              "#fb9f3a"
             ],
             [
              0.8888888888888888,
              "#fdca26"
             ],
             [
              1,
              "#f0f921"
             ]
            ],
            "type": "histogram2d"
           }
          ],
          "histogram2dcontour": [
           {
            "colorbar": {
             "outlinewidth": 0,
             "ticks": ""
            },
            "colorscale": [
             [
              0,
              "#0d0887"
             ],
             [
              0.1111111111111111,
              "#46039f"
             ],
             [
              0.2222222222222222,
              "#7201a8"
             ],
             [
              0.3333333333333333,
              "#9c179e"
             ],
             [
              0.4444444444444444,
              "#bd3786"
             ],
             [
              0.5555555555555556,
              "#d8576b"
             ],
             [
              0.6666666666666666,
              "#ed7953"
             ],
             [
              0.7777777777777778,
              "#fb9f3a"
             ],
             [
              0.8888888888888888,
              "#fdca26"
             ],
             [
              1,
              "#f0f921"
             ]
            ],
            "type": "histogram2dcontour"
           }
          ],
          "mesh3d": [
           {
            "colorbar": {
             "outlinewidth": 0,
             "ticks": ""
            },
            "type": "mesh3d"
           }
          ],
          "parcoords": [
           {
            "line": {
             "colorbar": {
              "outlinewidth": 0,
              "ticks": ""
             }
            },
            "type": "parcoords"
           }
          ],
          "pie": [
           {
            "automargin": true,
            "type": "pie"
           }
          ],
          "scatter": [
           {
            "fillpattern": {
             "fillmode": "overlay",
             "size": 10,
             "solidity": 0.2
            },
            "type": "scatter"
           }
          ],
          "scatter3d": [
           {
            "line": {
             "colorbar": {
              "outlinewidth": 0,
              "ticks": ""
             }
            },
            "marker": {
             "colorbar": {
              "outlinewidth": 0,
              "ticks": ""
             }
            },
            "type": "scatter3d"
           }
          ],
          "scattercarpet": [
           {
            "marker": {
             "colorbar": {
              "outlinewidth": 0,
              "ticks": ""
             }
            },
            "type": "scattercarpet"
           }
          ],
          "scattergeo": [
           {
            "marker": {
             "colorbar": {
              "outlinewidth": 0,
              "ticks": ""
             }
            },
            "type": "scattergeo"
           }
          ],
          "scattergl": [
           {
            "marker": {
             "colorbar": {
              "outlinewidth": 0,
              "ticks": ""
             }
            },
            "type": "scattergl"
           }
          ],
          "scattermapbox": [
           {
            "marker": {
             "colorbar": {
              "outlinewidth": 0,
              "ticks": ""
             }
            },
            "type": "scattermapbox"
           }
          ],
          "scatterpolar": [
           {
            "marker": {
             "colorbar": {
              "outlinewidth": 0,
              "ticks": ""
             }
            },
            "type": "scatterpolar"
           }
          ],
          "scatterpolargl": [
           {
            "marker": {
             "colorbar": {
              "outlinewidth": 0,
              "ticks": ""
             }
            },
            "type": "scatterpolargl"
           }
          ],
          "scatterternary": [
           {
            "marker": {
             "colorbar": {
              "outlinewidth": 0,
              "ticks": ""
             }
            },
            "type": "scatterternary"
           }
          ],
          "surface": [
           {
            "colorbar": {
             "outlinewidth": 0,
             "ticks": ""
            },
            "colorscale": [
             [
              0,
              "#0d0887"
             ],
             [
              0.1111111111111111,
              "#46039f"
             ],
             [
              0.2222222222222222,
              "#7201a8"
             ],
             [
              0.3333333333333333,
              "#9c179e"
             ],
             [
              0.4444444444444444,
              "#bd3786"
             ],
             [
              0.5555555555555556,
              "#d8576b"
             ],
             [
              0.6666666666666666,
              "#ed7953"
             ],
             [
              0.7777777777777778,
              "#fb9f3a"
             ],
             [
              0.8888888888888888,
              "#fdca26"
             ],
             [
              1,
              "#f0f921"
             ]
            ],
            "type": "surface"
           }
          ],
          "table": [
           {
            "cells": {
             "fill": {
              "color": "#EBF0F8"
             },
             "line": {
              "color": "white"
             }
            },
            "header": {
             "fill": {
              "color": "#C8D4E3"
             },
             "line": {
              "color": "white"
             }
            },
            "type": "table"
           }
          ]
         },
         "layout": {
          "annotationdefaults": {
           "arrowcolor": "#2a3f5f",
           "arrowhead": 0,
           "arrowwidth": 1
          },
          "autotypenumbers": "strict",
          "coloraxis": {
           "colorbar": {
            "outlinewidth": 0,
            "ticks": ""
           }
          },
          "colorscale": {
           "diverging": [
            [
             0,
             "#8e0152"
            ],
            [
             0.1,
             "#c51b7d"
            ],
            [
             0.2,
             "#de77ae"
            ],
            [
             0.3,
             "#f1b6da"
            ],
            [
             0.4,
             "#fde0ef"
            ],
            [
             0.5,
             "#f7f7f7"
            ],
            [
             0.6,
             "#e6f5d0"
            ],
            [
             0.7,
             "#b8e186"
            ],
            [
             0.8,
             "#7fbc41"
            ],
            [
             0.9,
             "#4d9221"
            ],
            [
             1,
             "#276419"
            ]
           ],
           "sequential": [
            [
             0,
             "#0d0887"
            ],
            [
             0.1111111111111111,
             "#46039f"
            ],
            [
             0.2222222222222222,
             "#7201a8"
            ],
            [
             0.3333333333333333,
             "#9c179e"
            ],
            [
             0.4444444444444444,
             "#bd3786"
            ],
            [
             0.5555555555555556,
             "#d8576b"
            ],
            [
             0.6666666666666666,
             "#ed7953"
            ],
            [
             0.7777777777777778,
             "#fb9f3a"
            ],
            [
             0.8888888888888888,
             "#fdca26"
            ],
            [
             1,
             "#f0f921"
            ]
           ],
           "sequentialminus": [
            [
             0,
             "#0d0887"
            ],
            [
             0.1111111111111111,
             "#46039f"
            ],
            [
             0.2222222222222222,
             "#7201a8"
            ],
            [
             0.3333333333333333,
             "#9c179e"
            ],
            [
             0.4444444444444444,
             "#bd3786"
            ],
            [
             0.5555555555555556,
             "#d8576b"
            ],
            [
             0.6666666666666666,
             "#ed7953"
            ],
            [
             0.7777777777777778,
             "#fb9f3a"
            ],
            [
             0.8888888888888888,
             "#fdca26"
            ],
            [
             1,
             "#f0f921"
            ]
           ]
          },
          "colorway": [
           "#636efa",
           "#EF553B",
           "#00cc96",
           "#ab63fa",
           "#FFA15A",
           "#19d3f3",
           "#FF6692",
           "#B6E880",
           "#FF97FF",
           "#FECB52"
          ],
          "font": {
           "color": "#2a3f5f"
          },
          "geo": {
           "bgcolor": "white",
           "lakecolor": "white",
           "landcolor": "#E5ECF6",
           "showlakes": true,
           "showland": true,
           "subunitcolor": "white"
          },
          "hoverlabel": {
           "align": "left"
          },
          "hovermode": "closest",
          "mapbox": {
           "style": "light"
          },
          "paper_bgcolor": "white",
          "plot_bgcolor": "#E5ECF6",
          "polar": {
           "angularaxis": {
            "gridcolor": "white",
            "linecolor": "white",
            "ticks": ""
           },
           "bgcolor": "#E5ECF6",
           "radialaxis": {
            "gridcolor": "white",
            "linecolor": "white",
            "ticks": ""
           }
          },
          "scene": {
           "xaxis": {
            "backgroundcolor": "#E5ECF6",
            "gridcolor": "white",
            "gridwidth": 2,
            "linecolor": "white",
            "showbackground": true,
            "ticks": "",
            "zerolinecolor": "white"
           },
           "yaxis": {
            "backgroundcolor": "#E5ECF6",
            "gridcolor": "white",
            "gridwidth": 2,
            "linecolor": "white",
            "showbackground": true,
            "ticks": "",
            "zerolinecolor": "white"
           },
           "zaxis": {
            "backgroundcolor": "#E5ECF6",
            "gridcolor": "white",
            "gridwidth": 2,
            "linecolor": "white",
            "showbackground": true,
            "ticks": "",
            "zerolinecolor": "white"
           }
          },
          "shapedefaults": {
           "line": {
            "color": "#2a3f5f"
           }
          },
          "ternary": {
           "aaxis": {
            "gridcolor": "white",
            "linecolor": "white",
            "ticks": ""
           },
           "baxis": {
            "gridcolor": "white",
            "linecolor": "white",
            "ticks": ""
           },
           "bgcolor": "#E5ECF6",
           "caxis": {
            "gridcolor": "white",
            "linecolor": "white",
            "ticks": ""
           }
          },
          "title": {
           "x": 0.05
          },
          "xaxis": {
           "automargin": true,
           "gridcolor": "white",
           "linecolor": "white",
           "ticks": "",
           "title": {
            "standoff": 15
           },
           "zerolinecolor": "white",
           "zerolinewidth": 2
          },
          "yaxis": {
           "automargin": true,
           "gridcolor": "white",
           "linecolor": "white",
           "ticks": "",
           "title": {
            "standoff": 15
           },
           "zerolinecolor": "white",
           "zerolinewidth": 2
          }
         }
        },
        "title": {
         "font": {
          "family": "Helvetica",
          "size": 30
         },
         "text": "<b>Monthly Count of Injuries by Sport from August 2023 to April 2024</b>"
        },
        "updatemenus": [
         {
          "buttons": [
           {
            "args": [
             {
              "visible": true
             }
            ],
            "args2": [
             {
              "visible": "legendonly"
             }
            ],
            "label": "Toggle All",
            "visible": true
           },
           {
            "args": [
             {
              "visible": true
             },
             [
              4
             ]
            ],
            "args2": [
             {
              "visible": "legendonly"
             }
            ],
            "label": "Toggle Top 1",
            "visible": true
           },
           {
            "args": [
             {
              "visible": true
             },
             [
              0,
              4,
              11,
              13,
              25
             ]
            ],
            "args2": [
             {
              "visible": "legendonly"
             }
            ],
            "label": "Toggle Top 5",
            "visible": true
           },
           {
            "args": [
             {
              "visible": true
             },
             [
              0,
              4,
              9,
              11,
              13,
              15,
              17,
              20,
              25,
              27
             ]
            ],
            "args2": [
             {
              "visible": "legendonly"
             }
            ],
            "label": "Toggle Top 10",
            "visible": true
           },
           {
            "args": [
             {
              "visible": "legendonly"
             }
            ],
            "label": "Toggle Off",
            "visible": true
           }
          ],
          "direction": "down",
          "font": {
           "family": "Helvetica",
           "size": 15
          },
          "type": "buttons"
         }
        ],
        "width": 1600,
        "xaxis": {
         "range": [
          "2023-08-01T00:00:00",
          "2024-04-01T00:00:00"
         ],
         "title": {
          "font": {
           "family": "Helvetica",
           "size": 20
          },
          "text": "<i>Date</i>"
         }
        },
        "yaxis": {
         "range": [
          0,
          10
         ],
         "title": {
          "font": {
           "family": "Helvetica",
           "size": 20
          },
          "text": "<i>Count</i>"
         }
        }
       }
      }
     },
     "metadata": {},
     "output_type": "display_data"
    }
   ],
   "source": [
    "# Create figure\n",
    "fig = go.Figure()\n",
    "\n",
    "# Add traces for each line\n",
    "traces = []\n",
    "for col in sport_pivot.columns[1:]:\n",
    "    traces.append(go.Scatter(x=sport_pivot['ProblemDate'], y=sport_pivot[col], name=col, visible='legendonly'))\n",
    "\n",
    "fig = go.Figure(data = traces)\n",
    "\n",
    "fig.update_layout(\n",
    "    autosize=False,\n",
    "    width=1600,\n",
    "    height=900,\n",
    "    title=dict(\n",
    "        text = \"<b>Monthly Count of Injuries by Sport from August 2023 to April 2024</b>\",\n",
    "        font = dict(\n",
    "            size=30,\n",
    "            family = \"Helvetica\")\n",
    "    ),\n",
    "    xaxis=dict(\n",
    "        title=\"<i>Date</i>\",\n",
    "        range=[pd.to_datetime(\"2023-08-01\"), pd.to_datetime(\"2024-04-01\")],\n",
    "        titlefont = dict(\n",
    "                size=20,\n",
    "                family = \"Helvetica\" \n",
    "            )\n",
    "    ),\n",
    "    yaxis=dict(\n",
    "        title=\"<i>Count</i>\",\n",
    "        range = [0, 10],\n",
    "        titlefont = dict(\n",
    "                size=20,\n",
    "                family = \"Helvetica\" \n",
    "            )\n",
    "    ),\n",
    "    updatemenus=[\n",
    "        dict(\n",
    "            type=\"buttons\",\n",
    "            direction=\"down\",\n",
    "            buttons=list([\n",
    "                dict(\n",
    "                    label=\"Toggle All\",\n",
    "                    visible = True,\n",
    "                    args = [{'visible':True}],\n",
    "                    args2 = [{'visible':'legendonly'}]\n",
    "                ),\n",
    "                dict(\n",
    "                    label=\"Toggle Top 1\",\n",
    "                    visible = True,\n",
    "                    args = [{'visible': True}, [i for i,x in enumerate(traces) if x.name in sport_top5[\"Organizations\"][0]]],\n",
    "                    args2 = [{'visible':'legendonly'}]\n",
    "                ),\n",
    "                dict(\n",
    "                    label=\"Toggle Top 5\",\n",
    "                    visible = True,\n",
    "                    args = [{'visible': True}, [i for i,x in enumerate(traces) if x.name in sport_top5[\"Organizations\"].to_list()]],\n",
    "                    args2 = [{'visible':'legendonly'}]\n",
    "                ),\n",
    "                dict(\n",
    "                    label=\"Toggle Top 10\",\n",
    "                    visible = True,\n",
    "                    args = [{'visible': True}, [i for i,x in enumerate(traces) if x.name in sport_top10[\"Organizations\"].to_list()]],\n",
    "                    args2 = [{'visible':'legendonly'}]\n",
    "                ),\n",
    "                dict(\n",
    "                    label=\"Toggle Off\",\n",
    "                    visible = True,\n",
    "                    args = [{'visible':'legendonly'}]\n",
    "                ),\n",
    "            ]),\n",
    "            font = dict(\n",
    "                size=15,\n",
    "                family = \"Helvetica\" \n",
    "            )\n",
    "        ),\n",
    "    ])\n",
    "\n",
    "fig.update_xaxes(title_font_family=\"Helvetica\")\n",
    "fig.update_yaxes(title_font_family=\"Helvetica\")\n",
    "\n",
    "fig.show()\n",
    "\n",
    "fig.write_html(\"interactive_plots/sport_monthly.html\")\n"
   ]
  },
  {
   "cell_type": "code",
   "execution_count": 114,
   "metadata": {},
   "outputs": [],
   "source": [
    "body_part_nonfiltered = df_injuries.groupby([df_injuries['ProblemDate'].dt.to_period('M'), 'BodyPart']).size().reset_index(name='Count')\n",
    "body_pivot = body_part_nonfiltered.pivot(index='ProblemDate', columns='BodyPart', values='Count').reset_index()\n",
    "body_pivot['ProblemDate'] = body_pivot['ProblemDate'].dt.to_timestamp()"
   ]
  },
  {
   "cell_type": "code",
   "execution_count": 115,
   "metadata": {},
   "outputs": [
    {
     "data": {
      "application/vnd.plotly.v1+json": {
       "config": {
        "plotlyServerURL": "https://plot.ly"
       },
       "data": [
        {
         "name": "Abdomen",
         "type": "scatter",
         "visible": "legendonly",
         "x": [
          "2023-08-01T00:00:00",
          "2023-09-01T00:00:00",
          "2023-10-01T00:00:00",
          "2023-11-01T00:00:00",
          "2023-12-01T00:00:00",
          "2024-01-01T00:00:00",
          "2024-02-01T00:00:00",
          "2024-03-01T00:00:00",
          "2024-04-01T00:00:00"
         ],
         "y": [
          null,
          3,
          1,
          1,
          null,
          1,
          null,
          2,
          null
         ]
        },
        {
         "name": "Ankle",
         "type": "scatter",
         "visible": "legendonly",
         "x": [
          "2023-08-01T00:00:00",
          "2023-09-01T00:00:00",
          "2023-10-01T00:00:00",
          "2023-11-01T00:00:00",
          "2023-12-01T00:00:00",
          "2024-01-01T00:00:00",
          "2024-02-01T00:00:00",
          "2024-03-01T00:00:00",
          "2024-04-01T00:00:00"
         ],
         "y": [
          1,
          4,
          8,
          2,
          1,
          5,
          6,
          4,
          null
         ]
        },
        {
         "name": "Body part",
         "type": "scatter",
         "visible": "legendonly",
         "x": [
          "2023-08-01T00:00:00",
          "2023-09-01T00:00:00",
          "2023-10-01T00:00:00",
          "2023-11-01T00:00:00",
          "2023-12-01T00:00:00",
          "2024-01-01T00:00:00",
          "2024-02-01T00:00:00",
          "2024-03-01T00:00:00",
          "2024-04-01T00:00:00"
         ],
         "y": [
          null,
          null,
          null,
          null,
          1,
          null,
          null,
          1,
          null
         ]
        },
        {
         "name": "Brain",
         "type": "scatter",
         "visible": "legendonly",
         "x": [
          "2023-08-01T00:00:00",
          "2023-09-01T00:00:00",
          "2023-10-01T00:00:00",
          "2023-11-01T00:00:00",
          "2023-12-01T00:00:00",
          "2024-01-01T00:00:00",
          "2024-02-01T00:00:00",
          "2024-03-01T00:00:00",
          "2024-04-01T00:00:00"
         ],
         "y": [
          null,
          null,
          null,
          null,
          null,
          null,
          6,
          2,
          1
         ]
        },
        {
         "name": "Cervical Segment",
         "type": "scatter",
         "visible": "legendonly",
         "x": [
          "2023-08-01T00:00:00",
          "2023-09-01T00:00:00",
          "2023-10-01T00:00:00",
          "2023-11-01T00:00:00",
          "2023-12-01T00:00:00",
          "2024-01-01T00:00:00",
          "2024-02-01T00:00:00",
          "2024-03-01T00:00:00",
          "2024-04-01T00:00:00"
         ],
         "y": [
          null,
          1,
          null,
          null,
          null,
          null,
          null,
          null,
          null
         ]
        },
        {
         "name": "Elbow",
         "type": "scatter",
         "visible": "legendonly",
         "x": [
          "2023-08-01T00:00:00",
          "2023-09-01T00:00:00",
          "2023-10-01T00:00:00",
          "2023-11-01T00:00:00",
          "2023-12-01T00:00:00",
          "2024-01-01T00:00:00",
          "2024-02-01T00:00:00",
          "2024-03-01T00:00:00",
          "2024-04-01T00:00:00"
         ],
         "y": [
          1,
          3,
          null,
          null,
          null,
          4,
          1,
          null,
          null
         ]
        },
        {
         "name": "Foot",
         "type": "scatter",
         "visible": "legendonly",
         "x": [
          "2023-08-01T00:00:00",
          "2023-09-01T00:00:00",
          "2023-10-01T00:00:00",
          "2023-11-01T00:00:00",
          "2023-12-01T00:00:00",
          "2024-01-01T00:00:00",
          "2024-02-01T00:00:00",
          "2024-03-01T00:00:00",
          "2024-04-01T00:00:00"
         ],
         "y": [
          null,
          1,
          null,
          null,
          1,
          1,
          1,
          2,
          1
         ]
        },
        {
         "name": "Forearm",
         "type": "scatter",
         "visible": "legendonly",
         "x": [
          "2023-08-01T00:00:00",
          "2023-09-01T00:00:00",
          "2023-10-01T00:00:00",
          "2023-11-01T00:00:00",
          "2023-12-01T00:00:00",
          "2024-01-01T00:00:00",
          "2024-02-01T00:00:00",
          "2024-03-01T00:00:00",
          "2024-04-01T00:00:00"
         ],
         "y": [
          null,
          null,
          null,
          null,
          null,
          null,
          2,
          null,
          null
         ]
        },
        {
         "name": "Hand",
         "type": "scatter",
         "visible": "legendonly",
         "x": [
          "2023-08-01T00:00:00",
          "2023-09-01T00:00:00",
          "2023-10-01T00:00:00",
          "2023-11-01T00:00:00",
          "2023-12-01T00:00:00",
          "2024-01-01T00:00:00",
          "2024-02-01T00:00:00",
          "2024-03-01T00:00:00",
          "2024-04-01T00:00:00"
         ],
         "y": [
          null,
          null,
          null,
          1,
          null,
          null,
          null,
          null,
          null
         ]
        },
        {
         "name": "Hip",
         "type": "scatter",
         "visible": "legendonly",
         "x": [
          "2023-08-01T00:00:00",
          "2023-09-01T00:00:00",
          "2023-10-01T00:00:00",
          "2023-11-01T00:00:00",
          "2023-12-01T00:00:00",
          "2024-01-01T00:00:00",
          "2024-02-01T00:00:00",
          "2024-03-01T00:00:00",
          "2024-04-01T00:00:00"
         ],
         "y": [
          3,
          6,
          3,
          1,
          4,
          4,
          3,
          2,
          1
         ]
        },
        {
         "name": "Infectious Disease",
         "type": "scatter",
         "visible": "legendonly",
         "x": [
          "2023-08-01T00:00:00",
          "2023-09-01T00:00:00",
          "2023-10-01T00:00:00",
          "2023-11-01T00:00:00",
          "2023-12-01T00:00:00",
          "2024-01-01T00:00:00",
          "2024-02-01T00:00:00",
          "2024-03-01T00:00:00",
          "2024-04-01T00:00:00"
         ],
         "y": [
          null,
          null,
          null,
          null,
          null,
          null,
          2,
          1,
          1
         ]
        },
        {
         "name": "Knee",
         "type": "scatter",
         "visible": "legendonly",
         "x": [
          "2023-08-01T00:00:00",
          "2023-09-01T00:00:00",
          "2023-10-01T00:00:00",
          "2023-11-01T00:00:00",
          "2023-12-01T00:00:00",
          "2024-01-01T00:00:00",
          "2024-02-01T00:00:00",
          "2024-03-01T00:00:00",
          "2024-04-01T00:00:00"
         ],
         "y": [
          3,
          7,
          6,
          2,
          2,
          10,
          3,
          2,
          9
         ]
        },
        {
         "name": "Larynx",
         "type": "scatter",
         "visible": "legendonly",
         "x": [
          "2023-08-01T00:00:00",
          "2023-09-01T00:00:00",
          "2023-10-01T00:00:00",
          "2023-11-01T00:00:00",
          "2023-12-01T00:00:00",
          "2024-01-01T00:00:00",
          "2024-02-01T00:00:00",
          "2024-03-01T00:00:00",
          "2024-04-01T00:00:00"
         ],
         "y": [
          null,
          null,
          null,
          null,
          null,
          null,
          1,
          null,
          null
         ]
        },
        {
         "name": "Lower Back",
         "type": "scatter",
         "visible": "legendonly",
         "x": [
          "2023-08-01T00:00:00",
          "2023-09-01T00:00:00",
          "2023-10-01T00:00:00",
          "2023-11-01T00:00:00",
          "2023-12-01T00:00:00",
          "2024-01-01T00:00:00",
          "2024-02-01T00:00:00",
          "2024-03-01T00:00:00",
          "2024-04-01T00:00:00"
         ],
         "y": [
          null,
          3,
          null,
          null,
          4,
          2,
          1,
          1,
          null
         ]
        },
        {
         "name": "Lower Leg",
         "type": "scatter",
         "visible": "legendonly",
         "x": [
          "2023-08-01T00:00:00",
          "2023-09-01T00:00:00",
          "2023-10-01T00:00:00",
          "2023-11-01T00:00:00",
          "2023-12-01T00:00:00",
          "2024-01-01T00:00:00",
          "2024-02-01T00:00:00",
          "2024-03-01T00:00:00",
          "2024-04-01T00:00:00"
         ],
         "y": [
          1,
          4,
          null,
          1,
          3,
          2,
          4,
          6,
          2
         ]
        },
        {
         "name": "Lumbar Spine",
         "type": "scatter",
         "visible": "legendonly",
         "x": [
          "2023-08-01T00:00:00",
          "2023-09-01T00:00:00",
          "2023-10-01T00:00:00",
          "2023-11-01T00:00:00",
          "2023-12-01T00:00:00",
          "2024-01-01T00:00:00",
          "2024-02-01T00:00:00",
          "2024-03-01T00:00:00",
          "2024-04-01T00:00:00"
         ],
         "y": [
          null,
          2,
          null,
          2,
          null,
          3,
          null,
          null,
          null
         ]
        },
        {
         "name": "Male",
         "type": "scatter",
         "visible": "legendonly",
         "x": [
          "2023-08-01T00:00:00",
          "2023-09-01T00:00:00",
          "2023-10-01T00:00:00",
          "2023-11-01T00:00:00",
          "2023-12-01T00:00:00",
          "2024-01-01T00:00:00",
          "2024-02-01T00:00:00",
          "2024-03-01T00:00:00",
          "2024-04-01T00:00:00"
         ],
         "y": [
          null,
          null,
          null,
          null,
          null,
          null,
          1,
          null,
          null
         ]
        },
        {
         "name": "Pubic Symphysis",
         "type": "scatter",
         "visible": "legendonly",
         "x": [
          "2023-08-01T00:00:00",
          "2023-09-01T00:00:00",
          "2023-10-01T00:00:00",
          "2023-11-01T00:00:00",
          "2023-12-01T00:00:00",
          "2024-01-01T00:00:00",
          "2024-02-01T00:00:00",
          "2024-03-01T00:00:00",
          "2024-04-01T00:00:00"
         ],
         "y": [
          null,
          null,
          null,
          1,
          null,
          null,
          null,
          null,
          null
         ]
        },
        {
         "name": "Respirology",
         "type": "scatter",
         "visible": "legendonly",
         "x": [
          "2023-08-01T00:00:00",
          "2023-09-01T00:00:00",
          "2023-10-01T00:00:00",
          "2023-11-01T00:00:00",
          "2023-12-01T00:00:00",
          "2024-01-01T00:00:00",
          "2024-02-01T00:00:00",
          "2024-03-01T00:00:00",
          "2024-04-01T00:00:00"
         ],
         "y": [
          null,
          null,
          null,
          null,
          null,
          null,
          null,
          null,
          1
         ]
        },
        {
         "name": "Rib",
         "type": "scatter",
         "visible": "legendonly",
         "x": [
          "2023-08-01T00:00:00",
          "2023-09-01T00:00:00",
          "2023-10-01T00:00:00",
          "2023-11-01T00:00:00",
          "2023-12-01T00:00:00",
          "2024-01-01T00:00:00",
          "2024-02-01T00:00:00",
          "2024-03-01T00:00:00",
          "2024-04-01T00:00:00"
         ],
         "y": [
          null,
          null,
          null,
          null,
          1,
          null,
          null,
          null,
          null
         ]
        },
        {
         "name": "Sacrum",
         "type": "scatter",
         "visible": "legendonly",
         "x": [
          "2023-08-01T00:00:00",
          "2023-09-01T00:00:00",
          "2023-10-01T00:00:00",
          "2023-11-01T00:00:00",
          "2023-12-01T00:00:00",
          "2024-01-01T00:00:00",
          "2024-02-01T00:00:00",
          "2024-03-01T00:00:00",
          "2024-04-01T00:00:00"
         ],
         "y": [
          null,
          null,
          null,
          null,
          null,
          null,
          1,
          null,
          null
         ]
        },
        {
         "name": "Shoulder",
         "type": "scatter",
         "visible": "legendonly",
         "x": [
          "2023-08-01T00:00:00",
          "2023-09-01T00:00:00",
          "2023-10-01T00:00:00",
          "2023-11-01T00:00:00",
          "2023-12-01T00:00:00",
          "2024-01-01T00:00:00",
          "2024-02-01T00:00:00",
          "2024-03-01T00:00:00",
          "2024-04-01T00:00:00"
         ],
         "y": [
          6,
          8,
          2,
          2,
          3,
          6,
          9,
          2,
          4
         ]
        },
        {
         "name": "Thigh",
         "type": "scatter",
         "visible": "legendonly",
         "x": [
          "2023-08-01T00:00:00",
          "2023-09-01T00:00:00",
          "2023-10-01T00:00:00",
          "2023-11-01T00:00:00",
          "2023-12-01T00:00:00",
          "2024-01-01T00:00:00",
          "2024-02-01T00:00:00",
          "2024-03-01T00:00:00",
          "2024-04-01T00:00:00"
         ],
         "y": [
          4,
          6,
          3,
          4,
          4,
          7,
          1,
          6,
          5
         ]
        },
        {
         "name": "Thoracic Spine",
         "type": "scatter",
         "visible": "legendonly",
         "x": [
          "2023-08-01T00:00:00",
          "2023-09-01T00:00:00",
          "2023-10-01T00:00:00",
          "2023-11-01T00:00:00",
          "2023-12-01T00:00:00",
          "2024-01-01T00:00:00",
          "2024-02-01T00:00:00",
          "2024-03-01T00:00:00",
          "2024-04-01T00:00:00"
         ],
         "y": [
          null,
          1,
          null,
          null,
          null,
          null,
          null,
          null,
          1
         ]
        },
        {
         "name": "Upper arm",
         "type": "scatter",
         "visible": "legendonly",
         "x": [
          "2023-08-01T00:00:00",
          "2023-09-01T00:00:00",
          "2023-10-01T00:00:00",
          "2023-11-01T00:00:00",
          "2023-12-01T00:00:00",
          "2024-01-01T00:00:00",
          "2024-02-01T00:00:00",
          "2024-03-01T00:00:00",
          "2024-04-01T00:00:00"
         ],
         "y": [
          null,
          1,
          null,
          null,
          null,
          null,
          1,
          1,
          null
         ]
        },
        {
         "name": "Wrist",
         "type": "scatter",
         "visible": "legendonly",
         "x": [
          "2023-08-01T00:00:00",
          "2023-09-01T00:00:00",
          "2023-10-01T00:00:00",
          "2023-11-01T00:00:00",
          "2023-12-01T00:00:00",
          "2024-01-01T00:00:00",
          "2024-02-01T00:00:00",
          "2024-03-01T00:00:00",
          "2024-04-01T00:00:00"
         ],
         "y": [
          1,
          null,
          null,
          null,
          1,
          1,
          2,
          1,
          2
         ]
        }
       ],
       "layout": {
        "autosize": false,
        "height": 900,
        "template": {
         "data": {
          "bar": [
           {
            "error_x": {
             "color": "#2a3f5f"
            },
            "error_y": {
             "color": "#2a3f5f"
            },
            "marker": {
             "line": {
              "color": "#E5ECF6",
              "width": 0.5
             },
             "pattern": {
              "fillmode": "overlay",
              "size": 10,
              "solidity": 0.2
             }
            },
            "type": "bar"
           }
          ],
          "barpolar": [
           {
            "marker": {
             "line": {
              "color": "#E5ECF6",
              "width": 0.5
             },
             "pattern": {
              "fillmode": "overlay",
              "size": 10,
              "solidity": 0.2
             }
            },
            "type": "barpolar"
           }
          ],
          "carpet": [
           {
            "aaxis": {
             "endlinecolor": "#2a3f5f",
             "gridcolor": "white",
             "linecolor": "white",
             "minorgridcolor": "white",
             "startlinecolor": "#2a3f5f"
            },
            "baxis": {
             "endlinecolor": "#2a3f5f",
             "gridcolor": "white",
             "linecolor": "white",
             "minorgridcolor": "white",
             "startlinecolor": "#2a3f5f"
            },
            "type": "carpet"
           }
          ],
          "choropleth": [
           {
            "colorbar": {
             "outlinewidth": 0,
             "ticks": ""
            },
            "type": "choropleth"
           }
          ],
          "contour": [
           {
            "colorbar": {
             "outlinewidth": 0,
             "ticks": ""
            },
            "colorscale": [
             [
              0,
              "#0d0887"
             ],
             [
              0.1111111111111111,
              "#46039f"
             ],
             [
              0.2222222222222222,
              "#7201a8"
             ],
             [
              0.3333333333333333,
              "#9c179e"
             ],
             [
              0.4444444444444444,
              "#bd3786"
             ],
             [
              0.5555555555555556,
              "#d8576b"
             ],
             [
              0.6666666666666666,
              "#ed7953"
             ],
             [
              0.7777777777777778,
              "#fb9f3a"
             ],
             [
              0.8888888888888888,
              "#fdca26"
             ],
             [
              1,
              "#f0f921"
             ]
            ],
            "type": "contour"
           }
          ],
          "contourcarpet": [
           {
            "colorbar": {
             "outlinewidth": 0,
             "ticks": ""
            },
            "type": "contourcarpet"
           }
          ],
          "heatmap": [
           {
            "colorbar": {
             "outlinewidth": 0,
             "ticks": ""
            },
            "colorscale": [
             [
              0,
              "#0d0887"
             ],
             [
              0.1111111111111111,
              "#46039f"
             ],
             [
              0.2222222222222222,
              "#7201a8"
             ],
             [
              0.3333333333333333,
              "#9c179e"
             ],
             [
              0.4444444444444444,
              "#bd3786"
             ],
             [
              0.5555555555555556,
              "#d8576b"
             ],
             [
              0.6666666666666666,
              "#ed7953"
             ],
             [
              0.7777777777777778,
              "#fb9f3a"
             ],
             [
              0.8888888888888888,
              "#fdca26"
             ],
             [
              1,
              "#f0f921"
             ]
            ],
            "type": "heatmap"
           }
          ],
          "heatmapgl": [
           {
            "colorbar": {
             "outlinewidth": 0,
             "ticks": ""
            },
            "colorscale": [
             [
              0,
              "#0d0887"
             ],
             [
              0.1111111111111111,
              "#46039f"
             ],
             [
              0.2222222222222222,
              "#7201a8"
             ],
             [
              0.3333333333333333,
              "#9c179e"
             ],
             [
              0.4444444444444444,
              "#bd3786"
             ],
             [
              0.5555555555555556,
              "#d8576b"
             ],
             [
              0.6666666666666666,
              "#ed7953"
             ],
             [
              0.7777777777777778,
              "#fb9f3a"
             ],
             [
              0.8888888888888888,
              "#fdca26"
             ],
             [
              1,
              "#f0f921"
             ]
            ],
            "type": "heatmapgl"
           }
          ],
          "histogram": [
           {
            "marker": {
             "pattern": {
              "fillmode": "overlay",
              "size": 10,
              "solidity": 0.2
             }
            },
            "type": "histogram"
           }
          ],
          "histogram2d": [
           {
            "colorbar": {
             "outlinewidth": 0,
             "ticks": ""
            },
            "colorscale": [
             [
              0,
              "#0d0887"
             ],
             [
              0.1111111111111111,
              "#46039f"
             ],
             [
              0.2222222222222222,
              "#7201a8"
             ],
             [
              0.3333333333333333,
              "#9c179e"
             ],
             [
              0.4444444444444444,
              "#bd3786"
             ],
             [
              0.5555555555555556,
              "#d8576b"
             ],
             [
              0.6666666666666666,
              "#ed7953"
             ],
             [
              0.7777777777777778,
              "#fb9f3a"
             ],
             [
              0.8888888888888888,
              "#fdca26"
             ],
             [
              1,
              "#f0f921"
             ]
            ],
            "type": "histogram2d"
           }
          ],
          "histogram2dcontour": [
           {
            "colorbar": {
             "outlinewidth": 0,
             "ticks": ""
            },
            "colorscale": [
             [
              0,
              "#0d0887"
             ],
             [
              0.1111111111111111,
              "#46039f"
             ],
             [
              0.2222222222222222,
              "#7201a8"
             ],
             [
              0.3333333333333333,
              "#9c179e"
             ],
             [
              0.4444444444444444,
              "#bd3786"
             ],
             [
              0.5555555555555556,
              "#d8576b"
             ],
             [
              0.6666666666666666,
              "#ed7953"
             ],
             [
              0.7777777777777778,
              "#fb9f3a"
             ],
             [
              0.8888888888888888,
              "#fdca26"
             ],
             [
              1,
              "#f0f921"
             ]
            ],
            "type": "histogram2dcontour"
           }
          ],
          "mesh3d": [
           {
            "colorbar": {
             "outlinewidth": 0,
             "ticks": ""
            },
            "type": "mesh3d"
           }
          ],
          "parcoords": [
           {
            "line": {
             "colorbar": {
              "outlinewidth": 0,
              "ticks": ""
             }
            },
            "type": "parcoords"
           }
          ],
          "pie": [
           {
            "automargin": true,
            "type": "pie"
           }
          ],
          "scatter": [
           {
            "fillpattern": {
             "fillmode": "overlay",
             "size": 10,
             "solidity": 0.2
            },
            "type": "scatter"
           }
          ],
          "scatter3d": [
           {
            "line": {
             "colorbar": {
              "outlinewidth": 0,
              "ticks": ""
             }
            },
            "marker": {
             "colorbar": {
              "outlinewidth": 0,
              "ticks": ""
             }
            },
            "type": "scatter3d"
           }
          ],
          "scattercarpet": [
           {
            "marker": {
             "colorbar": {
              "outlinewidth": 0,
              "ticks": ""
             }
            },
            "type": "scattercarpet"
           }
          ],
          "scattergeo": [
           {
            "marker": {
             "colorbar": {
              "outlinewidth": 0,
              "ticks": ""
             }
            },
            "type": "scattergeo"
           }
          ],
          "scattergl": [
           {
            "marker": {
             "colorbar": {
              "outlinewidth": 0,
              "ticks": ""
             }
            },
            "type": "scattergl"
           }
          ],
          "scattermapbox": [
           {
            "marker": {
             "colorbar": {
              "outlinewidth": 0,
              "ticks": ""
             }
            },
            "type": "scattermapbox"
           }
          ],
          "scatterpolar": [
           {
            "marker": {
             "colorbar": {
              "outlinewidth": 0,
              "ticks": ""
             }
            },
            "type": "scatterpolar"
           }
          ],
          "scatterpolargl": [
           {
            "marker": {
             "colorbar": {
              "outlinewidth": 0,
              "ticks": ""
             }
            },
            "type": "scatterpolargl"
           }
          ],
          "scatterternary": [
           {
            "marker": {
             "colorbar": {
              "outlinewidth": 0,
              "ticks": ""
             }
            },
            "type": "scatterternary"
           }
          ],
          "surface": [
           {
            "colorbar": {
             "outlinewidth": 0,
             "ticks": ""
            },
            "colorscale": [
             [
              0,
              "#0d0887"
             ],
             [
              0.1111111111111111,
              "#46039f"
             ],
             [
              0.2222222222222222,
              "#7201a8"
             ],
             [
              0.3333333333333333,
              "#9c179e"
             ],
             [
              0.4444444444444444,
              "#bd3786"
             ],
             [
              0.5555555555555556,
              "#d8576b"
             ],
             [
              0.6666666666666666,
              "#ed7953"
             ],
             [
              0.7777777777777778,
              "#fb9f3a"
             ],
             [
              0.8888888888888888,
              "#fdca26"
             ],
             [
              1,
              "#f0f921"
             ]
            ],
            "type": "surface"
           }
          ],
          "table": [
           {
            "cells": {
             "fill": {
              "color": "#EBF0F8"
             },
             "line": {
              "color": "white"
             }
            },
            "header": {
             "fill": {
              "color": "#C8D4E3"
             },
             "line": {
              "color": "white"
             }
            },
            "type": "table"
           }
          ]
         },
         "layout": {
          "annotationdefaults": {
           "arrowcolor": "#2a3f5f",
           "arrowhead": 0,
           "arrowwidth": 1
          },
          "autotypenumbers": "strict",
          "coloraxis": {
           "colorbar": {
            "outlinewidth": 0,
            "ticks": ""
           }
          },
          "colorscale": {
           "diverging": [
            [
             0,
             "#8e0152"
            ],
            [
             0.1,
             "#c51b7d"
            ],
            [
             0.2,
             "#de77ae"
            ],
            [
             0.3,
             "#f1b6da"
            ],
            [
             0.4,
             "#fde0ef"
            ],
            [
             0.5,
             "#f7f7f7"
            ],
            [
             0.6,
             "#e6f5d0"
            ],
            [
             0.7,
             "#b8e186"
            ],
            [
             0.8,
             "#7fbc41"
            ],
            [
             0.9,
             "#4d9221"
            ],
            [
             1,
             "#276419"
            ]
           ],
           "sequential": [
            [
             0,
             "#0d0887"
            ],
            [
             0.1111111111111111,
             "#46039f"
            ],
            [
             0.2222222222222222,
             "#7201a8"
            ],
            [
             0.3333333333333333,
             "#9c179e"
            ],
            [
             0.4444444444444444,
             "#bd3786"
            ],
            [
             0.5555555555555556,
             "#d8576b"
            ],
            [
             0.6666666666666666,
             "#ed7953"
            ],
            [
             0.7777777777777778,
             "#fb9f3a"
            ],
            [
             0.8888888888888888,
             "#fdca26"
            ],
            [
             1,
             "#f0f921"
            ]
           ],
           "sequentialminus": [
            [
             0,
             "#0d0887"
            ],
            [
             0.1111111111111111,
             "#46039f"
            ],
            [
             0.2222222222222222,
             "#7201a8"
            ],
            [
             0.3333333333333333,
             "#9c179e"
            ],
            [
             0.4444444444444444,
             "#bd3786"
            ],
            [
             0.5555555555555556,
             "#d8576b"
            ],
            [
             0.6666666666666666,
             "#ed7953"
            ],
            [
             0.7777777777777778,
             "#fb9f3a"
            ],
            [
             0.8888888888888888,
             "#fdca26"
            ],
            [
             1,
             "#f0f921"
            ]
           ]
          },
          "colorway": [
           "#636efa",
           "#EF553B",
           "#00cc96",
           "#ab63fa",
           "#FFA15A",
           "#19d3f3",
           "#FF6692",
           "#B6E880",
           "#FF97FF",
           "#FECB52"
          ],
          "font": {
           "color": "#2a3f5f"
          },
          "geo": {
           "bgcolor": "white",
           "lakecolor": "white",
           "landcolor": "#E5ECF6",
           "showlakes": true,
           "showland": true,
           "subunitcolor": "white"
          },
          "hoverlabel": {
           "align": "left"
          },
          "hovermode": "closest",
          "mapbox": {
           "style": "light"
          },
          "paper_bgcolor": "white",
          "plot_bgcolor": "#E5ECF6",
          "polar": {
           "angularaxis": {
            "gridcolor": "white",
            "linecolor": "white",
            "ticks": ""
           },
           "bgcolor": "#E5ECF6",
           "radialaxis": {
            "gridcolor": "white",
            "linecolor": "white",
            "ticks": ""
           }
          },
          "scene": {
           "xaxis": {
            "backgroundcolor": "#E5ECF6",
            "gridcolor": "white",
            "gridwidth": 2,
            "linecolor": "white",
            "showbackground": true,
            "ticks": "",
            "zerolinecolor": "white"
           },
           "yaxis": {
            "backgroundcolor": "#E5ECF6",
            "gridcolor": "white",
            "gridwidth": 2,
            "linecolor": "white",
            "showbackground": true,
            "ticks": "",
            "zerolinecolor": "white"
           },
           "zaxis": {
            "backgroundcolor": "#E5ECF6",
            "gridcolor": "white",
            "gridwidth": 2,
            "linecolor": "white",
            "showbackground": true,
            "ticks": "",
            "zerolinecolor": "white"
           }
          },
          "shapedefaults": {
           "line": {
            "color": "#2a3f5f"
           }
          },
          "ternary": {
           "aaxis": {
            "gridcolor": "white",
            "linecolor": "white",
            "ticks": ""
           },
           "baxis": {
            "gridcolor": "white",
            "linecolor": "white",
            "ticks": ""
           },
           "bgcolor": "#E5ECF6",
           "caxis": {
            "gridcolor": "white",
            "linecolor": "white",
            "ticks": ""
           }
          },
          "title": {
           "x": 0.05
          },
          "xaxis": {
           "automargin": true,
           "gridcolor": "white",
           "linecolor": "white",
           "ticks": "",
           "title": {
            "standoff": 15
           },
           "zerolinecolor": "white",
           "zerolinewidth": 2
          },
          "yaxis": {
           "automargin": true,
           "gridcolor": "white",
           "linecolor": "white",
           "ticks": "",
           "title": {
            "standoff": 15
           },
           "zerolinecolor": "white",
           "zerolinewidth": 2
          }
         }
        },
        "title": {
         "font": {
          "family": "Helvetica",
          "size": 30
         },
         "text": "<b>Monthly Count of Injuries by Body Part from August 2023 to April 2024</b>"
        },
        "updatemenus": [
         {
          "buttons": [
           {
            "args": [
             {
              "visible": true
             }
            ],
            "args2": [
             {
              "visible": "legendonly"
             }
            ],
            "label": "Toggle All",
            "visible": true
           },
           {
            "args": [
             {
              "visible": true
             },
             [
              11
             ]
            ],
            "args2": [
             {
              "visible": "legendonly"
             }
            ],
            "label": "Toggle Top 1",
            "visible": true
           },
           {
            "args": [
             {
              "visible": true
             },
             [
              1,
              9,
              11,
              21,
              22
             ]
            ],
            "args2": [
             {
              "visible": "legendonly"
             }
            ],
            "label": "Toggle Top 5",
            "visible": true
           },
           {
            "args": [
             {
              "visible": true
             },
             [
              0,
              1,
              3,
              5,
              9,
              11,
              13,
              14,
              21,
              22
             ]
            ],
            "args2": [
             {
              "visible": "legendonly"
             }
            ],
            "label": "Toggle Top 10",
            "visible": true
           },
           {
            "args": [
             {
              "visible": "legendonly"
             }
            ],
            "label": "Toggle Off",
            "visible": true
           }
          ],
          "direction": "down",
          "font": {
           "family": "Helvetica",
           "size": 15
          },
          "type": "buttons"
         }
        ],
        "width": 1600,
        "xaxis": {
         "range": [
          "2023-08-01T00:00:00",
          "2024-04-01T00:00:00"
         ],
         "title": {
          "font": {
           "family": "Helvetica",
           "size": 20
          },
          "text": "<i>Date</i>"
         }
        },
        "yaxis": {
         "range": [
          0,
          12
         ],
         "title": {
          "font": {
           "family": "Helvetica",
           "size": 20
          },
          "text": "<i>Count</i>"
         }
        }
       }
      }
     },
     "metadata": {},
     "output_type": "display_data"
    }
   ],
   "source": [
    "# Create figure\n",
    "fig = go.Figure()\n",
    "\n",
    "# Add traces for each line\n",
    "traces = []\n",
    "for col in body_pivot.columns[1:]:\n",
    "    traces.append(go.Scatter(x=body_pivot['ProblemDate'], y=body_pivot[col], name=col, visible='legendonly'))\n",
    "\n",
    "fig = go.Figure(data = traces)\n",
    "\n",
    "fig.update_layout(\n",
    "    autosize=False,\n",
    "    width=1600,\n",
    "    height=900,\n",
    "    title=dict(\n",
    "        text = \"<b>Monthly Count of Injuries by Body Part from August 2023 to April 2024</b>\",\n",
    "        font = dict(\n",
    "            size=30,\n",
    "            family = \"Helvetica\")\n",
    "    ),\n",
    "    xaxis=dict(\n",
    "        title=\"<i>Date</i>\",\n",
    "        range=[pd.to_datetime(\"2023-08-01\"), pd.to_datetime(\"2024-04-01\")],\n",
    "        titlefont = dict(\n",
    "                size=20,\n",
    "                family = \"Helvetica\" \n",
    "            )\n",
    "    ),\n",
    "    yaxis=dict(\n",
    "        title=\"<i>Count</i>\",\n",
    "        range = [0, 12],\n",
    "        titlefont = dict(\n",
    "                size=20,\n",
    "                family = \"Helvetica\" \n",
    "            )\n",
    "    ),\n",
    "    updatemenus=[\n",
    "        dict(\n",
    "            type=\"buttons\",\n",
    "            direction=\"down\",\n",
    "            buttons=list([\n",
    "                dict(\n",
    "                    label=\"Toggle All\",\n",
    "                    visible = True,\n",
    "                    args = [{'visible':True}],\n",
    "                    args2 = [{'visible':'legendonly'}]\n",
    "                ),\n",
    "                dict(\n",
    "                    label=\"Toggle Top 1\",\n",
    "                    visible = True,\n",
    "                    args = [{'visible': True}, [i for i,x in enumerate(traces) if x.name in body_part_top5[\"BodyPart\"][0]]],\n",
    "                    args2 = [{'visible':'legendonly'}]\n",
    "                ),\n",
    "                dict(\n",
    "                    label=\"Toggle Top 5\",\n",
    "                    visible = True,\n",
    "                    args = [{'visible': True}, [i for i,x in enumerate(traces) if x.name in body_part_top5[\"BodyPart\"].to_list()]],\n",
    "                    args2 = [{'visible':'legendonly'}]\n",
    "                ),\n",
    "                dict(\n",
    "                    label=\"Toggle Top 10\",\n",
    "                    visible = True,\n",
    "                    args = [{'visible': True}, [i for i,x in enumerate(traces) if x.name in body_part_top10[\"BodyPart\"].to_list()]],\n",
    "                    args2 = [{'visible':'legendonly'}]\n",
    "                ),\n",
    "                dict(\n",
    "                    label=\"Toggle Off\",\n",
    "                    visible = True,\n",
    "                    args = [{'visible':'legendonly'}]\n",
    "                ),\n",
    "            ]),\n",
    "            font = dict(\n",
    "                size=15,\n",
    "                family = \"Helvetica\" \n",
    "            )\n",
    "        ),\n",
    "    ])\n",
    "\n",
    "fig.update_xaxes(title_font_family=\"Helvetica\")\n",
    "fig.update_yaxes(title_font_family=\"Helvetica\")\n",
    "\n",
    "fig.write_html(\"interactive_plots/body_monthly.html\")\n",
    "\n",
    "fig.show()"
   ]
  },
  {
   "cell_type": "code",
   "execution_count": 116,
   "metadata": {},
   "outputs": [],
   "source": [
    "injury_nonfiltered = df_injuries.groupby([df_injuries['ProblemDate'].dt.to_period('M'), 'InjuryType']).size().reset_index(name='Count')\n",
    "injury_pivot = injury_nonfiltered.pivot(index='ProblemDate', columns='InjuryType', values='Count').reset_index()\n",
    "injury_pivot['ProblemDate'] = injury_pivot['ProblemDate'].dt.to_timestamp()"
   ]
  },
  {
   "cell_type": "code",
   "execution_count": 117,
   "metadata": {},
   "outputs": [
    {
     "data": {
      "application/vnd.plotly.v1+json": {
       "config": {
        "plotlyServerURL": "https://plot.ly"
       },
       "data": [
        {
         "name": "Allergies",
         "type": "scatter",
         "visible": "legendonly",
         "x": [
          "2023-08-01T00:00:00",
          "2023-09-01T00:00:00",
          "2023-10-01T00:00:00",
          "2023-11-01T00:00:00",
          "2023-12-01T00:00:00",
          "2024-01-01T00:00:00",
          "2024-02-01T00:00:00",
          "2024-03-01T00:00:00",
          "2024-04-01T00:00:00"
         ],
         "y": [
          null,
          null,
          null,
          null,
          null,
          null,
          null,
          null,
          1
         ]
        },
        {
         "name": "Appendicitis",
         "type": "scatter",
         "visible": "legendonly",
         "x": [
          "2023-08-01T00:00:00",
          "2023-09-01T00:00:00",
          "2023-10-01T00:00:00",
          "2023-11-01T00:00:00",
          "2023-12-01T00:00:00",
          "2024-01-01T00:00:00",
          "2024-02-01T00:00:00",
          "2024-03-01T00:00:00",
          "2024-04-01T00:00:00"
         ],
         "y": [
          null,
          null,
          null,
          null,
          null,
          null,
          null,
          1,
          null
         ]
        },
        {
         "name": "Bursitis",
         "type": "scatter",
         "visible": "legendonly",
         "x": [
          "2023-08-01T00:00:00",
          "2023-09-01T00:00:00",
          "2023-10-01T00:00:00",
          "2023-11-01T00:00:00",
          "2023-12-01T00:00:00",
          "2024-01-01T00:00:00",
          "2024-02-01T00:00:00",
          "2024-03-01T00:00:00",
          "2024-04-01T00:00:00"
         ],
         "y": [
          null,
          null,
          null,
          null,
          null,
          null,
          2,
          null,
          null
         ]
        },
        {
         "name": "COVID-19",
         "type": "scatter",
         "visible": "legendonly",
         "x": [
          "2023-08-01T00:00:00",
          "2023-09-01T00:00:00",
          "2023-10-01T00:00:00",
          "2023-11-01T00:00:00",
          "2023-12-01T00:00:00",
          "2024-01-01T00:00:00",
          "2024-02-01T00:00:00",
          "2024-03-01T00:00:00",
          "2024-04-01T00:00:00"
         ],
         "y": [
          null,
          null,
          null,
          null,
          null,
          null,
          2,
          null,
          null
         ]
        },
        {
         "name": "Chronic back pain (finding)",
         "type": "scatter",
         "visible": "legendonly",
         "x": [
          "2023-08-01T00:00:00",
          "2023-09-01T00:00:00",
          "2023-10-01T00:00:00",
          "2023-11-01T00:00:00",
          "2023-12-01T00:00:00",
          "2024-01-01T00:00:00",
          "2024-02-01T00:00:00",
          "2024-03-01T00:00:00",
          "2024-04-01T00:00:00"
         ],
         "y": [
          null,
          1,
          null,
          null,
          1,
          1,
          null,
          null,
          null
         ]
        },
        {
         "name": "Concussion",
         "type": "scatter",
         "visible": "legendonly",
         "x": [
          "2023-08-01T00:00:00",
          "2023-09-01T00:00:00",
          "2023-10-01T00:00:00",
          "2023-11-01T00:00:00",
          "2023-12-01T00:00:00",
          "2024-01-01T00:00:00",
          "2024-02-01T00:00:00",
          "2024-03-01T00:00:00",
          "2024-04-01T00:00:00"
         ],
         "y": [
          null,
          null,
          null,
          null,
          null,
          null,
          6,
          2,
          1
         ]
        },
        {
         "name": "Contusion",
         "type": "scatter",
         "visible": "legendonly",
         "x": [
          "2023-08-01T00:00:00",
          "2023-09-01T00:00:00",
          "2023-10-01T00:00:00",
          "2023-11-01T00:00:00",
          "2023-12-01T00:00:00",
          "2024-01-01T00:00:00",
          "2024-02-01T00:00:00",
          "2024-03-01T00:00:00",
          "2024-04-01T00:00:00"
         ],
         "y": [
          null,
          null,
          null,
          null,
          null,
          null,
          null,
          null,
          3
         ]
        },
        {
         "name": "Discomfort (finding)",
         "type": "scatter",
         "visible": "legendonly",
         "x": [
          "2023-08-01T00:00:00",
          "2023-09-01T00:00:00",
          "2023-10-01T00:00:00",
          "2023-11-01T00:00:00",
          "2023-12-01T00:00:00",
          "2024-01-01T00:00:00",
          "2024-02-01T00:00:00",
          "2024-03-01T00:00:00",
          "2024-04-01T00:00:00"
         ],
         "y": [
          null,
          1,
          1,
          1,
          1,
          null,
          null,
          null,
          2
         ]
        },
        {
         "name": "Dislocation",
         "type": "scatter",
         "visible": "legendonly",
         "x": [
          "2023-08-01T00:00:00",
          "2023-09-01T00:00:00",
          "2023-10-01T00:00:00",
          "2023-11-01T00:00:00",
          "2023-12-01T00:00:00",
          "2024-01-01T00:00:00",
          "2024-02-01T00:00:00",
          "2024-03-01T00:00:00",
          "2024-04-01T00:00:00"
         ],
         "y": [
          null,
          null,
          null,
          null,
          null,
          null,
          null,
          1,
          null
         ]
        },
        {
         "name": "Entrapment Neuropathy (javelin elbow)",
         "type": "scatter",
         "visible": "legendonly",
         "x": [
          "2023-08-01T00:00:00",
          "2023-09-01T00:00:00",
          "2023-10-01T00:00:00",
          "2023-11-01T00:00:00",
          "2023-12-01T00:00:00",
          "2024-01-01T00:00:00",
          "2024-02-01T00:00:00",
          "2024-03-01T00:00:00",
          "2024-04-01T00:00:00"
         ],
         "y": [
          1,
          null,
          null,
          null,
          null,
          null,
          null,
          null,
          null
         ]
        },
        {
         "name": "Epicondylitis",
         "type": "scatter",
         "visible": "legendonly",
         "x": [
          "2023-08-01T00:00:00",
          "2023-09-01T00:00:00",
          "2023-10-01T00:00:00",
          "2023-11-01T00:00:00",
          "2023-12-01T00:00:00",
          "2024-01-01T00:00:00",
          "2024-02-01T00:00:00",
          "2024-03-01T00:00:00",
          "2024-04-01T00:00:00"
         ],
         "y": [
          null,
          null,
          null,
          null,
          null,
          2,
          null,
          null,
          null
         ]
        },
        {
         "name": "Fat Pad Syndrome",
         "type": "scatter",
         "visible": "legendonly",
         "x": [
          "2023-08-01T00:00:00",
          "2023-09-01T00:00:00",
          "2023-10-01T00:00:00",
          "2023-11-01T00:00:00",
          "2023-12-01T00:00:00",
          "2024-01-01T00:00:00",
          "2024-02-01T00:00:00",
          "2024-03-01T00:00:00",
          "2024-04-01T00:00:00"
         ],
         "y": [
          null,
          null,
          null,
          null,
          null,
          null,
          null,
          1,
          null
         ]
        },
        {
         "name": "Fatigue (finding)",
         "type": "scatter",
         "visible": "legendonly",
         "x": [
          "2023-08-01T00:00:00",
          "2023-09-01T00:00:00",
          "2023-10-01T00:00:00",
          "2023-11-01T00:00:00",
          "2023-12-01T00:00:00",
          "2024-01-01T00:00:00",
          "2024-02-01T00:00:00",
          "2024-03-01T00:00:00",
          "2024-04-01T00:00:00"
         ],
         "y": [
          null,
          null,
          null,
          null,
          null,
          1,
          null,
          null,
          null
         ]
        },
        {
         "name": "Foot pain (finding)",
         "type": "scatter",
         "visible": "legendonly",
         "x": [
          "2023-08-01T00:00:00",
          "2023-09-01T00:00:00",
          "2023-10-01T00:00:00",
          "2023-11-01T00:00:00",
          "2023-12-01T00:00:00",
          "2024-01-01T00:00:00",
          "2024-02-01T00:00:00",
          "2024-03-01T00:00:00",
          "2024-04-01T00:00:00"
         ],
         "y": [
          null,
          null,
          null,
          null,
          null,
          null,
          null,
          1,
          null
         ]
        },
        {
         "name": "Fracture",
         "type": "scatter",
         "visible": "legendonly",
         "x": [
          "2023-08-01T00:00:00",
          "2023-09-01T00:00:00",
          "2023-10-01T00:00:00",
          "2023-11-01T00:00:00",
          "2023-12-01T00:00:00",
          "2024-01-01T00:00:00",
          "2024-02-01T00:00:00",
          "2024-03-01T00:00:00",
          "2024-04-01T00:00:00"
         ],
         "y": [
          null,
          null,
          null,
          null,
          null,
          null,
          null,
          1,
          2
         ]
        },
        {
         "name": "General Fatigue",
         "type": "scatter",
         "visible": "legendonly",
         "x": [
          "2023-08-01T00:00:00",
          "2023-09-01T00:00:00",
          "2023-10-01T00:00:00",
          "2023-11-01T00:00:00",
          "2023-12-01T00:00:00",
          "2024-01-01T00:00:00",
          "2024-02-01T00:00:00",
          "2024-03-01T00:00:00",
          "2024-04-01T00:00:00"
         ],
         "y": [
          null,
          null,
          null,
          null,
          null,
          null,
          null,
          1,
          null
         ]
        },
        {
         "name": "Glenoid Labrum Tear (SLAP)",
         "type": "scatter",
         "visible": "legendonly",
         "x": [
          "2023-08-01T00:00:00",
          "2023-09-01T00:00:00",
          "2023-10-01T00:00:00",
          "2023-11-01T00:00:00",
          "2023-12-01T00:00:00",
          "2024-01-01T00:00:00",
          "2024-02-01T00:00:00",
          "2024-03-01T00:00:00",
          "2024-04-01T00:00:00"
         ],
         "y": [
          null,
          null,
          null,
          null,
          null,
          1,
          1,
          null,
          null
         ]
        },
        {
         "name": "Hip pain (finding)",
         "type": "scatter",
         "visible": "legendonly",
         "x": [
          "2023-08-01T00:00:00",
          "2023-09-01T00:00:00",
          "2023-10-01T00:00:00",
          "2023-11-01T00:00:00",
          "2023-12-01T00:00:00",
          "2024-01-01T00:00:00",
          "2024-02-01T00:00:00",
          "2024-03-01T00:00:00",
          "2024-04-01T00:00:00"
         ],
         "y": [
          null,
          1,
          null,
          null,
          null,
          1,
          null,
          null,
          null
         ]
        },
        {
         "name": "Hyperextension",
         "type": "scatter",
         "visible": "legendonly",
         "x": [
          "2023-08-01T00:00:00",
          "2023-09-01T00:00:00",
          "2023-10-01T00:00:00",
          "2023-11-01T00:00:00",
          "2023-12-01T00:00:00",
          "2024-01-01T00:00:00",
          "2024-02-01T00:00:00",
          "2024-03-01T00:00:00",
          "2024-04-01T00:00:00"
         ],
         "y": [
          null,
          null,
          1,
          null,
          null,
          1,
          null,
          null,
          null
         ]
        },
        {
         "name": "Impingement",
         "type": "scatter",
         "visible": "legendonly",
         "x": [
          "2023-08-01T00:00:00",
          "2023-09-01T00:00:00",
          "2023-10-01T00:00:00",
          "2023-11-01T00:00:00",
          "2023-12-01T00:00:00",
          "2024-01-01T00:00:00",
          "2024-02-01T00:00:00",
          "2024-03-01T00:00:00",
          "2024-04-01T00:00:00"
         ],
         "y": [
          null,
          null,
          null,
          null,
          null,
          1,
          null,
          null,
          null
         ]
        },
        {
         "name": "Inflammation",
         "type": "scatter",
         "visible": "legendonly",
         "x": [
          "2023-08-01T00:00:00",
          "2023-09-01T00:00:00",
          "2023-10-01T00:00:00",
          "2023-11-01T00:00:00",
          "2023-12-01T00:00:00",
          "2024-01-01T00:00:00",
          "2024-02-01T00:00:00",
          "2024-03-01T00:00:00",
          "2024-04-01T00:00:00"
         ],
         "y": [
          null,
          1,
          null,
          null,
          null,
          1,
          2,
          1,
          null
         ]
        },
        {
         "name": "Knee pain (finding)",
         "type": "scatter",
         "visible": "legendonly",
         "x": [
          "2023-08-01T00:00:00",
          "2023-09-01T00:00:00",
          "2023-10-01T00:00:00",
          "2023-11-01T00:00:00",
          "2023-12-01T00:00:00",
          "2024-01-01T00:00:00",
          "2024-02-01T00:00:00",
          "2024-03-01T00:00:00",
          "2024-04-01T00:00:00"
         ],
         "y": [
          null,
          1,
          1,
          null,
          null,
          2,
          1,
          null,
          1
         ]
        },
        {
         "name": "Medial Epicondylitis (Golfer's Elbow)",
         "type": "scatter",
         "visible": "legendonly",
         "x": [
          "2023-08-01T00:00:00",
          "2023-09-01T00:00:00",
          "2023-10-01T00:00:00",
          "2023-11-01T00:00:00",
          "2023-12-01T00:00:00",
          "2024-01-01T00:00:00",
          "2024-02-01T00:00:00",
          "2024-03-01T00:00:00",
          "2024-04-01T00:00:00"
         ],
         "y": [
          null,
          1,
          null,
          null,
          null,
          null,
          null,
          null,
          null
         ]
        },
        {
         "name": "Medial Tibial Stress Syndrome",
         "type": "scatter",
         "visible": "legendonly",
         "x": [
          "2023-08-01T00:00:00",
          "2023-09-01T00:00:00",
          "2023-10-01T00:00:00",
          "2023-11-01T00:00:00",
          "2023-12-01T00:00:00",
          "2024-01-01T00:00:00",
          "2024-02-01T00:00:00",
          "2024-03-01T00:00:00",
          "2024-04-01T00:00:00"
         ],
         "y": [
          null,
          null,
          null,
          null,
          null,
          null,
          1,
          1,
          null
         ]
        },
        {
         "name": "Meniscus Tear",
         "type": "scatter",
         "visible": "legendonly",
         "x": [
          "2023-08-01T00:00:00",
          "2023-09-01T00:00:00",
          "2023-10-01T00:00:00",
          "2023-11-01T00:00:00",
          "2023-12-01T00:00:00",
          "2024-01-01T00:00:00",
          "2024-02-01T00:00:00",
          "2024-03-01T00:00:00",
          "2024-04-01T00:00:00"
         ],
         "y": [
          null,
          null,
          null,
          null,
          null,
          1,
          null,
          1,
          null
         ]
        },
        {
         "name": "Mononucleosis",
         "type": "scatter",
         "visible": "legendonly",
         "x": [
          "2023-08-01T00:00:00",
          "2023-09-01T00:00:00",
          "2023-10-01T00:00:00",
          "2023-11-01T00:00:00",
          "2023-12-01T00:00:00",
          "2024-01-01T00:00:00",
          "2024-02-01T00:00:00",
          "2024-03-01T00:00:00",
          "2024-04-01T00:00:00"
         ],
         "y": [
          null,
          null,
          null,
          null,
          null,
          null,
          null,
          1,
          1
         ]
        },
        {
         "name": "Multi-directional Instability",
         "type": "scatter",
         "visible": "legendonly",
         "x": [
          "2023-08-01T00:00:00",
          "2023-09-01T00:00:00",
          "2023-10-01T00:00:00",
          "2023-11-01T00:00:00",
          "2023-12-01T00:00:00",
          "2024-01-01T00:00:00",
          "2024-02-01T00:00:00",
          "2024-03-01T00:00:00",
          "2024-04-01T00:00:00"
         ],
         "y": [
          null,
          null,
          null,
          null,
          null,
          1,
          null,
          null,
          null
         ]
        },
        {
         "name": "Non-Specific Low Back Pain (mechanical)",
         "type": "scatter",
         "visible": "legendonly",
         "x": [
          "2023-08-01T00:00:00",
          "2023-09-01T00:00:00",
          "2023-10-01T00:00:00",
          "2023-11-01T00:00:00",
          "2023-12-01T00:00:00",
          "2024-01-01T00:00:00",
          "2024-02-01T00:00:00",
          "2024-03-01T00:00:00",
          "2024-04-01T00:00:00"
         ],
         "y": [
          null,
          null,
          null,
          null,
          null,
          1,
          null,
          null,
          null
         ]
        },
        {
         "name": "Other",
         "type": "scatter",
         "visible": "legendonly",
         "x": [
          "2023-08-01T00:00:00",
          "2023-09-01T00:00:00",
          "2023-10-01T00:00:00",
          "2023-11-01T00:00:00",
          "2023-12-01T00:00:00",
          "2024-01-01T00:00:00",
          "2024-02-01T00:00:00",
          "2024-03-01T00:00:00",
          "2024-04-01T00:00:00"
         ],
         "y": [
          null,
          null,
          null,
          1,
          2,
          null,
          4,
          null,
          null
         ]
        },
        {
         "name": "Other Forearm Injury",
         "type": "scatter",
         "visible": "legendonly",
         "x": [
          "2023-08-01T00:00:00",
          "2023-09-01T00:00:00",
          "2023-10-01T00:00:00",
          "2023-11-01T00:00:00",
          "2023-12-01T00:00:00",
          "2024-01-01T00:00:00",
          "2024-02-01T00:00:00",
          "2024-03-01T00:00:00",
          "2024-04-01T00:00:00"
         ],
         "y": [
          null,
          null,
          null,
          null,
          null,
          null,
          1,
          null,
          null
         ]
        },
        {
         "name": "Other Hip Injury",
         "type": "scatter",
         "visible": "legendonly",
         "x": [
          "2023-08-01T00:00:00",
          "2023-09-01T00:00:00",
          "2023-10-01T00:00:00",
          "2023-11-01T00:00:00",
          "2023-12-01T00:00:00",
          "2024-01-01T00:00:00",
          "2024-02-01T00:00:00",
          "2024-03-01T00:00:00",
          "2024-04-01T00:00:00"
         ],
         "y": [
          null,
          4,
          1,
          null,
          null,
          null,
          1,
          null,
          null
         ]
        },
        {
         "name": "Other Knee Injury",
         "type": "scatter",
         "visible": "legendonly",
         "x": [
          "2023-08-01T00:00:00",
          "2023-09-01T00:00:00",
          "2023-10-01T00:00:00",
          "2023-11-01T00:00:00",
          "2023-12-01T00:00:00",
          "2024-01-01T00:00:00",
          "2024-02-01T00:00:00",
          "2024-03-01T00:00:00",
          "2024-04-01T00:00:00"
         ],
         "y": [
          1,
          2,
          1,
          1,
          null,
          1,
          1,
          null,
          1
         ]
        },
        {
         "name": "Other Leg Injury",
         "type": "scatter",
         "visible": "legendonly",
         "x": [
          "2023-08-01T00:00:00",
          "2023-09-01T00:00:00",
          "2023-10-01T00:00:00",
          "2023-11-01T00:00:00",
          "2023-12-01T00:00:00",
          "2024-01-01T00:00:00",
          "2024-02-01T00:00:00",
          "2024-03-01T00:00:00",
          "2024-04-01T00:00:00"
         ],
         "y": [
          null,
          null,
          null,
          null,
          1,
          null,
          null,
          null,
          null
         ]
        },
        {
         "name": "Other Lumbar Injury",
         "type": "scatter",
         "visible": "legendonly",
         "x": [
          "2023-08-01T00:00:00",
          "2023-09-01T00:00:00",
          "2023-10-01T00:00:00",
          "2023-11-01T00:00:00",
          "2023-12-01T00:00:00",
          "2024-01-01T00:00:00",
          "2024-02-01T00:00:00",
          "2024-03-01T00:00:00",
          "2024-04-01T00:00:00"
         ],
         "y": [
          null,
          1,
          null,
          1,
          null,
          null,
          null,
          null,
          null
         ]
        },
        {
         "name": "Other Shoulder Injury",
         "type": "scatter",
         "visible": "legendonly",
         "x": [
          "2023-08-01T00:00:00",
          "2023-09-01T00:00:00",
          "2023-10-01T00:00:00",
          "2023-11-01T00:00:00",
          "2023-12-01T00:00:00",
          "2024-01-01T00:00:00",
          "2024-02-01T00:00:00",
          "2024-03-01T00:00:00",
          "2024-04-01T00:00:00"
         ],
         "y": [
          1,
          null,
          1,
          1,
          1,
          null,
          null,
          null,
          null
         ]
        },
        {
         "name": "Other Thoracic Injury",
         "type": "scatter",
         "visible": "legendonly",
         "x": [
          "2023-08-01T00:00:00",
          "2023-09-01T00:00:00",
          "2023-10-01T00:00:00",
          "2023-11-01T00:00:00",
          "2023-12-01T00:00:00",
          "2024-01-01T00:00:00",
          "2024-02-01T00:00:00",
          "2024-03-01T00:00:00",
          "2024-04-01T00:00:00"
         ],
         "y": [
          null,
          1,
          null,
          null,
          null,
          null,
          null,
          null,
          null
         ]
        },
        {
         "name": "Pain in elbow (finding)",
         "type": "scatter",
         "visible": "legendonly",
         "x": [
          "2023-08-01T00:00:00",
          "2023-09-01T00:00:00",
          "2023-10-01T00:00:00",
          "2023-11-01T00:00:00",
          "2023-12-01T00:00:00",
          "2024-01-01T00:00:00",
          "2024-02-01T00:00:00",
          "2024-03-01T00:00:00",
          "2024-04-01T00:00:00"
         ],
         "y": [
          null,
          null,
          null,
          null,
          null,
          1,
          null,
          null,
          null
         ]
        },
        {
         "name": "Pain in lower limb (finding)",
         "type": "scatter",
         "visible": "legendonly",
         "x": [
          "2023-08-01T00:00:00",
          "2023-09-01T00:00:00",
          "2023-10-01T00:00:00",
          "2023-11-01T00:00:00",
          "2023-12-01T00:00:00",
          "2024-01-01T00:00:00",
          "2024-02-01T00:00:00",
          "2024-03-01T00:00:00",
          "2024-04-01T00:00:00"
         ],
         "y": [
          null,
          null,
          null,
          1,
          null,
          1,
          null,
          null,
          null
         ]
        },
        {
         "name": "Pain in wrist (finding)",
         "type": "scatter",
         "visible": "legendonly",
         "x": [
          "2023-08-01T00:00:00",
          "2023-09-01T00:00:00",
          "2023-10-01T00:00:00",
          "2023-11-01T00:00:00",
          "2023-12-01T00:00:00",
          "2024-01-01T00:00:00",
          "2024-02-01T00:00:00",
          "2024-03-01T00:00:00",
          "2024-04-01T00:00:00"
         ],
         "y": [
          null,
          null,
          null,
          null,
          1,
          null,
          1,
          1,
          null
         ]
        },
        {
         "name": "Patellofemoral Pain Syndrome (PFPS)",
         "type": "scatter",
         "visible": "legendonly",
         "x": [
          "2023-08-01T00:00:00",
          "2023-09-01T00:00:00",
          "2023-10-01T00:00:00",
          "2023-11-01T00:00:00",
          "2023-12-01T00:00:00",
          "2024-01-01T00:00:00",
          "2024-02-01T00:00:00",
          "2024-03-01T00:00:00",
          "2024-04-01T00:00:00"
         ],
         "y": [
          null,
          null,
          null,
          null,
          1,
          null,
          null,
          null,
          1
         ]
        },
        {
         "name": "Piriformis Syndrome",
         "type": "scatter",
         "visible": "legendonly",
         "x": [
          "2023-08-01T00:00:00",
          "2023-09-01T00:00:00",
          "2023-10-01T00:00:00",
          "2023-11-01T00:00:00",
          "2023-12-01T00:00:00",
          "2024-01-01T00:00:00",
          "2024-02-01T00:00:00",
          "2024-03-01T00:00:00",
          "2024-04-01T00:00:00"
         ],
         "y": [
          1,
          null,
          null,
          null,
          null,
          null,
          null,
          1,
          null
         ]
        },
        {
         "name": "Rupture",
         "type": "scatter",
         "visible": "legendonly",
         "x": [
          "2023-08-01T00:00:00",
          "2023-09-01T00:00:00",
          "2023-10-01T00:00:00",
          "2023-11-01T00:00:00",
          "2023-12-01T00:00:00",
          "2024-01-01T00:00:00",
          "2024-02-01T00:00:00",
          "2024-03-01T00:00:00",
          "2024-04-01T00:00:00"
         ],
         "y": [
          null,
          2,
          null,
          null,
          null,
          null,
          null,
          null,
          1
         ]
        },
        {
         "name": "Scapulothoracic Dysfunction",
         "type": "scatter",
         "visible": "legendonly",
         "x": [
          "2023-08-01T00:00:00",
          "2023-09-01T00:00:00",
          "2023-10-01T00:00:00",
          "2023-11-01T00:00:00",
          "2023-12-01T00:00:00",
          "2024-01-01T00:00:00",
          "2024-02-01T00:00:00",
          "2024-03-01T00:00:00",
          "2024-04-01T00:00:00"
         ],
         "y": [
          null,
          null,
          1,
          null,
          null,
          1,
          null,
          null,
          null
         ]
        },
        {
         "name": "Shin Splints",
         "type": "scatter",
         "visible": "legendonly",
         "x": [
          "2023-08-01T00:00:00",
          "2023-09-01T00:00:00",
          "2023-10-01T00:00:00",
          "2023-11-01T00:00:00",
          "2023-12-01T00:00:00",
          "2024-01-01T00:00:00",
          "2024-02-01T00:00:00",
          "2024-03-01T00:00:00",
          "2024-04-01T00:00:00"
         ],
         "y": [
          null,
          null,
          null,
          null,
          1,
          null,
          null,
          2,
          null
         ]
        },
        {
         "name": "Shoulder pain (finding)",
         "type": "scatter",
         "visible": "legendonly",
         "x": [
          "2023-08-01T00:00:00",
          "2023-09-01T00:00:00",
          "2023-10-01T00:00:00",
          "2023-11-01T00:00:00",
          "2023-12-01T00:00:00",
          "2024-01-01T00:00:00",
          "2024-02-01T00:00:00",
          "2024-03-01T00:00:00",
          "2024-04-01T00:00:00"
         ],
         "y": [
          1,
          1,
          null,
          null,
          1,
          1,
          null,
          null,
          null
         ]
        },
        {
         "name": "Slipped Disc",
         "type": "scatter",
         "visible": "legendonly",
         "x": [
          "2023-08-01T00:00:00",
          "2023-09-01T00:00:00",
          "2023-10-01T00:00:00",
          "2023-11-01T00:00:00",
          "2023-12-01T00:00:00",
          "2024-01-01T00:00:00",
          "2024-02-01T00:00:00",
          "2024-03-01T00:00:00",
          "2024-04-01T00:00:00"
         ],
         "y": [
          null,
          1,
          null,
          null,
          null,
          1,
          null,
          null,
          null
         ]
        },
        {
         "name": "Spasm",
         "type": "scatter",
         "visible": "legendonly",
         "x": [
          "2023-08-01T00:00:00",
          "2023-09-01T00:00:00",
          "2023-10-01T00:00:00",
          "2023-11-01T00:00:00",
          "2023-12-01T00:00:00",
          "2024-01-01T00:00:00",
          "2024-02-01T00:00:00",
          "2024-03-01T00:00:00",
          "2024-04-01T00:00:00"
         ],
         "y": [
          null,
          1,
          null,
          null,
          null,
          1,
          null,
          1,
          1
         ]
        },
        {
         "name": "Spasms",
         "type": "scatter",
         "visible": "legendonly",
         "x": [
          "2023-08-01T00:00:00",
          "2023-09-01T00:00:00",
          "2023-10-01T00:00:00",
          "2023-11-01T00:00:00",
          "2023-12-01T00:00:00",
          "2024-01-01T00:00:00",
          "2024-02-01T00:00:00",
          "2024-03-01T00:00:00",
          "2024-04-01T00:00:00"
         ],
         "y": [
          null,
          1,
          null,
          null,
          null,
          null,
          null,
          null,
          null
         ]
        },
        {
         "name": "Sprain",
         "type": "scatter",
         "visible": "legendonly",
         "x": [
          "2023-08-01T00:00:00",
          "2023-09-01T00:00:00",
          "2023-10-01T00:00:00",
          "2023-11-01T00:00:00",
          "2023-12-01T00:00:00",
          "2024-01-01T00:00:00",
          "2024-02-01T00:00:00",
          "2024-03-01T00:00:00",
          "2024-04-01T00:00:00"
         ],
         "y": [
          3,
          11,
          9,
          3,
          2,
          6,
          7,
          4,
          3
         ]
        },
        {
         "name": "Strain",
         "type": "scatter",
         "visible": "legendonly",
         "x": [
          "2023-08-01T00:00:00",
          "2023-09-01T00:00:00",
          "2023-10-01T00:00:00",
          "2023-11-01T00:00:00",
          "2023-12-01T00:00:00",
          "2024-01-01T00:00:00",
          "2024-02-01T00:00:00",
          "2024-03-01T00:00:00",
          "2024-04-01T00:00:00"
         ],
         "y": [
          5,
          15,
          6,
          6,
          9,
          15,
          6,
          11,
          7
         ]
        },
        {
         "name": "Stress Fracture",
         "type": "scatter",
         "visible": "legendonly",
         "x": [
          "2023-08-01T00:00:00",
          "2023-09-01T00:00:00",
          "2023-10-01T00:00:00",
          "2023-11-01T00:00:00",
          "2023-12-01T00:00:00",
          "2024-01-01T00:00:00",
          "2024-02-01T00:00:00",
          "2024-03-01T00:00:00",
          "2024-04-01T00:00:00"
         ],
         "y": [
          1,
          1,
          null,
          null,
          1,
          null,
          null,
          null,
          null
         ]
        },
        {
         "name": "Stress Reaction",
         "type": "scatter",
         "visible": "legendonly",
         "x": [
          "2023-08-01T00:00:00",
          "2023-09-01T00:00:00",
          "2023-10-01T00:00:00",
          "2023-11-01T00:00:00",
          "2023-12-01T00:00:00",
          "2024-01-01T00:00:00",
          "2024-02-01T00:00:00",
          "2024-03-01T00:00:00",
          "2024-04-01T00:00:00"
         ],
         "y": [
          null,
          1,
          null,
          null,
          null,
          null,
          2,
          null,
          null
         ]
        },
        {
         "name": "Subluxation",
         "type": "scatter",
         "visible": "legendonly",
         "x": [
          "2023-08-01T00:00:00",
          "2023-09-01T00:00:00",
          "2023-10-01T00:00:00",
          "2023-11-01T00:00:00",
          "2023-12-01T00:00:00",
          "2024-01-01T00:00:00",
          "2024-02-01T00:00:00",
          "2024-03-01T00:00:00",
          "2024-04-01T00:00:00"
         ],
         "y": [
          3,
          1,
          1,
          1,
          null,
          null,
          2,
          null,
          2
         ]
        },
        {
         "name": "Tendinitis",
         "type": "scatter",
         "visible": "legendonly",
         "x": [
          "2023-08-01T00:00:00",
          "2023-09-01T00:00:00",
          "2023-10-01T00:00:00",
          "2023-11-01T00:00:00",
          "2023-12-01T00:00:00",
          "2024-01-01T00:00:00",
          "2024-02-01T00:00:00",
          "2024-03-01T00:00:00",
          "2024-04-01T00:00:00"
         ],
         "y": [
          null,
          null,
          null,
          null,
          null,
          2,
          2,
          null,
          1
         ]
        },
        {
         "name": "Tendinosis (finding)",
         "type": "scatter",
         "visible": "legendonly",
         "x": [
          "2023-08-01T00:00:00",
          "2023-09-01T00:00:00",
          "2023-10-01T00:00:00",
          "2023-11-01T00:00:00",
          "2023-12-01T00:00:00",
          "2024-01-01T00:00:00",
          "2024-02-01T00:00:00",
          "2024-03-01T00:00:00",
          "2024-04-01T00:00:00"
         ],
         "y": [
          null,
          null,
          null,
          null,
          null,
          1,
          1,
          null,
          null
         ]
        },
        {
         "name": "Thoracic Outlet Syndrome",
         "type": "scatter",
         "visible": "legendonly",
         "x": [
          "2023-08-01T00:00:00",
          "2023-09-01T00:00:00",
          "2023-10-01T00:00:00",
          "2023-11-01T00:00:00",
          "2023-12-01T00:00:00",
          "2024-01-01T00:00:00",
          "2024-02-01T00:00:00",
          "2024-03-01T00:00:00",
          "2024-04-01T00:00:00"
         ],
         "y": [
          null,
          1,
          null,
          null,
          null,
          null,
          null,
          null,
          null
         ]
        },
        {
         "name": "Tightness",
         "type": "scatter",
         "visible": "legendonly",
         "x": [
          "2023-08-01T00:00:00",
          "2023-09-01T00:00:00",
          "2023-10-01T00:00:00",
          "2023-11-01T00:00:00",
          "2023-12-01T00:00:00",
          "2024-01-01T00:00:00",
          "2024-02-01T00:00:00",
          "2024-03-01T00:00:00",
          "2024-04-01T00:00:00"
         ],
         "y": [
          2,
          null,
          null,
          1,
          3,
          1,
          2,
          1,
          null
         ]
        },
        {
         "name": "Triangular Fibrocartilage Complex Tear",
         "type": "scatter",
         "visible": "legendonly",
         "x": [
          "2023-08-01T00:00:00",
          "2023-09-01T00:00:00",
          "2023-10-01T00:00:00",
          "2023-11-01T00:00:00",
          "2023-12-01T00:00:00",
          "2024-01-01T00:00:00",
          "2024-02-01T00:00:00",
          "2024-03-01T00:00:00",
          "2024-04-01T00:00:00"
         ],
         "y": [
          1,
          null,
          null,
          null,
          null,
          null,
          null,
          null,
          null
         ]
        }
       ],
       "layout": {
        "autosize": false,
        "height": 900,
        "template": {
         "data": {
          "bar": [
           {
            "error_x": {
             "color": "#2a3f5f"
            },
            "error_y": {
             "color": "#2a3f5f"
            },
            "marker": {
             "line": {
              "color": "#E5ECF6",
              "width": 0.5
             },
             "pattern": {
              "fillmode": "overlay",
              "size": 10,
              "solidity": 0.2
             }
            },
            "type": "bar"
           }
          ],
          "barpolar": [
           {
            "marker": {
             "line": {
              "color": "#E5ECF6",
              "width": 0.5
             },
             "pattern": {
              "fillmode": "overlay",
              "size": 10,
              "solidity": 0.2
             }
            },
            "type": "barpolar"
           }
          ],
          "carpet": [
           {
            "aaxis": {
             "endlinecolor": "#2a3f5f",
             "gridcolor": "white",
             "linecolor": "white",
             "minorgridcolor": "white",
             "startlinecolor": "#2a3f5f"
            },
            "baxis": {
             "endlinecolor": "#2a3f5f",
             "gridcolor": "white",
             "linecolor": "white",
             "minorgridcolor": "white",
             "startlinecolor": "#2a3f5f"
            },
            "type": "carpet"
           }
          ],
          "choropleth": [
           {
            "colorbar": {
             "outlinewidth": 0,
             "ticks": ""
            },
            "type": "choropleth"
           }
          ],
          "contour": [
           {
            "colorbar": {
             "outlinewidth": 0,
             "ticks": ""
            },
            "colorscale": [
             [
              0,
              "#0d0887"
             ],
             [
              0.1111111111111111,
              "#46039f"
             ],
             [
              0.2222222222222222,
              "#7201a8"
             ],
             [
              0.3333333333333333,
              "#9c179e"
             ],
             [
              0.4444444444444444,
              "#bd3786"
             ],
             [
              0.5555555555555556,
              "#d8576b"
             ],
             [
              0.6666666666666666,
              "#ed7953"
             ],
             [
              0.7777777777777778,
              "#fb9f3a"
             ],
             [
              0.8888888888888888,
              "#fdca26"
             ],
             [
              1,
              "#f0f921"
             ]
            ],
            "type": "contour"
           }
          ],
          "contourcarpet": [
           {
            "colorbar": {
             "outlinewidth": 0,
             "ticks": ""
            },
            "type": "contourcarpet"
           }
          ],
          "heatmap": [
           {
            "colorbar": {
             "outlinewidth": 0,
             "ticks": ""
            },
            "colorscale": [
             [
              0,
              "#0d0887"
             ],
             [
              0.1111111111111111,
              "#46039f"
             ],
             [
              0.2222222222222222,
              "#7201a8"
             ],
             [
              0.3333333333333333,
              "#9c179e"
             ],
             [
              0.4444444444444444,
              "#bd3786"
             ],
             [
              0.5555555555555556,
              "#d8576b"
             ],
             [
              0.6666666666666666,
              "#ed7953"
             ],
             [
              0.7777777777777778,
              "#fb9f3a"
             ],
             [
              0.8888888888888888,
              "#fdca26"
             ],
             [
              1,
              "#f0f921"
             ]
            ],
            "type": "heatmap"
           }
          ],
          "heatmapgl": [
           {
            "colorbar": {
             "outlinewidth": 0,
             "ticks": ""
            },
            "colorscale": [
             [
              0,
              "#0d0887"
             ],
             [
              0.1111111111111111,
              "#46039f"
             ],
             [
              0.2222222222222222,
              "#7201a8"
             ],
             [
              0.3333333333333333,
              "#9c179e"
             ],
             [
              0.4444444444444444,
              "#bd3786"
             ],
             [
              0.5555555555555556,
              "#d8576b"
             ],
             [
              0.6666666666666666,
              "#ed7953"
             ],
             [
              0.7777777777777778,
              "#fb9f3a"
             ],
             [
              0.8888888888888888,
              "#fdca26"
             ],
             [
              1,
              "#f0f921"
             ]
            ],
            "type": "heatmapgl"
           }
          ],
          "histogram": [
           {
            "marker": {
             "pattern": {
              "fillmode": "overlay",
              "size": 10,
              "solidity": 0.2
             }
            },
            "type": "histogram"
           }
          ],
          "histogram2d": [
           {
            "colorbar": {
             "outlinewidth": 0,
             "ticks": ""
            },
            "colorscale": [
             [
              0,
              "#0d0887"
             ],
             [
              0.1111111111111111,
              "#46039f"
             ],
             [
              0.2222222222222222,
              "#7201a8"
             ],
             [
              0.3333333333333333,
              "#9c179e"
             ],
             [
              0.4444444444444444,
              "#bd3786"
             ],
             [
              0.5555555555555556,
              "#d8576b"
             ],
             [
              0.6666666666666666,
              "#ed7953"
             ],
             [
              0.7777777777777778,
              "#fb9f3a"
             ],
             [
              0.8888888888888888,
              "#fdca26"
             ],
             [
              1,
              "#f0f921"
             ]
            ],
            "type": "histogram2d"
           }
          ],
          "histogram2dcontour": [
           {
            "colorbar": {
             "outlinewidth": 0,
             "ticks": ""
            },
            "colorscale": [
             [
              0,
              "#0d0887"
             ],
             [
              0.1111111111111111,
              "#46039f"
             ],
             [
              0.2222222222222222,
              "#7201a8"
             ],
             [
              0.3333333333333333,
              "#9c179e"
             ],
             [
              0.4444444444444444,
              "#bd3786"
             ],
             [
              0.5555555555555556,
              "#d8576b"
             ],
             [
              0.6666666666666666,
              "#ed7953"
             ],
             [
              0.7777777777777778,
              "#fb9f3a"
             ],
             [
              0.8888888888888888,
              "#fdca26"
             ],
             [
              1,
              "#f0f921"
             ]
            ],
            "type": "histogram2dcontour"
           }
          ],
          "mesh3d": [
           {
            "colorbar": {
             "outlinewidth": 0,
             "ticks": ""
            },
            "type": "mesh3d"
           }
          ],
          "parcoords": [
           {
            "line": {
             "colorbar": {
              "outlinewidth": 0,
              "ticks": ""
             }
            },
            "type": "parcoords"
           }
          ],
          "pie": [
           {
            "automargin": true,
            "type": "pie"
           }
          ],
          "scatter": [
           {
            "fillpattern": {
             "fillmode": "overlay",
             "size": 10,
             "solidity": 0.2
            },
            "type": "scatter"
           }
          ],
          "scatter3d": [
           {
            "line": {
             "colorbar": {
              "outlinewidth": 0,
              "ticks": ""
             }
            },
            "marker": {
             "colorbar": {
              "outlinewidth": 0,
              "ticks": ""
             }
            },
            "type": "scatter3d"
           }
          ],
          "scattercarpet": [
           {
            "marker": {
             "colorbar": {
              "outlinewidth": 0,
              "ticks": ""
             }
            },
            "type": "scattercarpet"
           }
          ],
          "scattergeo": [
           {
            "marker": {
             "colorbar": {
              "outlinewidth": 0,
              "ticks": ""
             }
            },
            "type": "scattergeo"
           }
          ],
          "scattergl": [
           {
            "marker": {
             "colorbar": {
              "outlinewidth": 0,
              "ticks": ""
             }
            },
            "type": "scattergl"
           }
          ],
          "scattermapbox": [
           {
            "marker": {
             "colorbar": {
              "outlinewidth": 0,
              "ticks": ""
             }
            },
            "type": "scattermapbox"
           }
          ],
          "scatterpolar": [
           {
            "marker": {
             "colorbar": {
              "outlinewidth": 0,
              "ticks": ""
             }
            },
            "type": "scatterpolar"
           }
          ],
          "scatterpolargl": [
           {
            "marker": {
             "colorbar": {
              "outlinewidth": 0,
              "ticks": ""
             }
            },
            "type": "scatterpolargl"
           }
          ],
          "scatterternary": [
           {
            "marker": {
             "colorbar": {
              "outlinewidth": 0,
              "ticks": ""
             }
            },
            "type": "scatterternary"
           }
          ],
          "surface": [
           {
            "colorbar": {
             "outlinewidth": 0,
             "ticks": ""
            },
            "colorscale": [
             [
              0,
              "#0d0887"
             ],
             [
              0.1111111111111111,
              "#46039f"
             ],
             [
              0.2222222222222222,
              "#7201a8"
             ],
             [
              0.3333333333333333,
              "#9c179e"
             ],
             [
              0.4444444444444444,
              "#bd3786"
             ],
             [
              0.5555555555555556,
              "#d8576b"
             ],
             [
              0.6666666666666666,
              "#ed7953"
             ],
             [
              0.7777777777777778,
              "#fb9f3a"
             ],
             [
              0.8888888888888888,
              "#fdca26"
             ],
             [
              1,
              "#f0f921"
             ]
            ],
            "type": "surface"
           }
          ],
          "table": [
           {
            "cells": {
             "fill": {
              "color": "#EBF0F8"
             },
             "line": {
              "color": "white"
             }
            },
            "header": {
             "fill": {
              "color": "#C8D4E3"
             },
             "line": {
              "color": "white"
             }
            },
            "type": "table"
           }
          ]
         },
         "layout": {
          "annotationdefaults": {
           "arrowcolor": "#2a3f5f",
           "arrowhead": 0,
           "arrowwidth": 1
          },
          "autotypenumbers": "strict",
          "coloraxis": {
           "colorbar": {
            "outlinewidth": 0,
            "ticks": ""
           }
          },
          "colorscale": {
           "diverging": [
            [
             0,
             "#8e0152"
            ],
            [
             0.1,
             "#c51b7d"
            ],
            [
             0.2,
             "#de77ae"
            ],
            [
             0.3,
             "#f1b6da"
            ],
            [
             0.4,
             "#fde0ef"
            ],
            [
             0.5,
             "#f7f7f7"
            ],
            [
             0.6,
             "#e6f5d0"
            ],
            [
             0.7,
             "#b8e186"
            ],
            [
             0.8,
             "#7fbc41"
            ],
            [
             0.9,
             "#4d9221"
            ],
            [
             1,
             "#276419"
            ]
           ],
           "sequential": [
            [
             0,
             "#0d0887"
            ],
            [
             0.1111111111111111,
             "#46039f"
            ],
            [
             0.2222222222222222,
             "#7201a8"
            ],
            [
             0.3333333333333333,
             "#9c179e"
            ],
            [
             0.4444444444444444,
             "#bd3786"
            ],
            [
             0.5555555555555556,
             "#d8576b"
            ],
            [
             0.6666666666666666,
             "#ed7953"
            ],
            [
             0.7777777777777778,
             "#fb9f3a"
            ],
            [
             0.8888888888888888,
             "#fdca26"
            ],
            [
             1,
             "#f0f921"
            ]
           ],
           "sequentialminus": [
            [
             0,
             "#0d0887"
            ],
            [
             0.1111111111111111,
             "#46039f"
            ],
            [
             0.2222222222222222,
             "#7201a8"
            ],
            [
             0.3333333333333333,
             "#9c179e"
            ],
            [
             0.4444444444444444,
             "#bd3786"
            ],
            [
             0.5555555555555556,
             "#d8576b"
            ],
            [
             0.6666666666666666,
             "#ed7953"
            ],
            [
             0.7777777777777778,
             "#fb9f3a"
            ],
            [
             0.8888888888888888,
             "#fdca26"
            ],
            [
             1,
             "#f0f921"
            ]
           ]
          },
          "colorway": [
           "#636efa",
           "#EF553B",
           "#00cc96",
           "#ab63fa",
           "#FFA15A",
           "#19d3f3",
           "#FF6692",
           "#B6E880",
           "#FF97FF",
           "#FECB52"
          ],
          "font": {
           "color": "#2a3f5f"
          },
          "geo": {
           "bgcolor": "white",
           "lakecolor": "white",
           "landcolor": "#E5ECF6",
           "showlakes": true,
           "showland": true,
           "subunitcolor": "white"
          },
          "hoverlabel": {
           "align": "left"
          },
          "hovermode": "closest",
          "mapbox": {
           "style": "light"
          },
          "paper_bgcolor": "white",
          "plot_bgcolor": "#E5ECF6",
          "polar": {
           "angularaxis": {
            "gridcolor": "white",
            "linecolor": "white",
            "ticks": ""
           },
           "bgcolor": "#E5ECF6",
           "radialaxis": {
            "gridcolor": "white",
            "linecolor": "white",
            "ticks": ""
           }
          },
          "scene": {
           "xaxis": {
            "backgroundcolor": "#E5ECF6",
            "gridcolor": "white",
            "gridwidth": 2,
            "linecolor": "white",
            "showbackground": true,
            "ticks": "",
            "zerolinecolor": "white"
           },
           "yaxis": {
            "backgroundcolor": "#E5ECF6",
            "gridcolor": "white",
            "gridwidth": 2,
            "linecolor": "white",
            "showbackground": true,
            "ticks": "",
            "zerolinecolor": "white"
           },
           "zaxis": {
            "backgroundcolor": "#E5ECF6",
            "gridcolor": "white",
            "gridwidth": 2,
            "linecolor": "white",
            "showbackground": true,
            "ticks": "",
            "zerolinecolor": "white"
           }
          },
          "shapedefaults": {
           "line": {
            "color": "#2a3f5f"
           }
          },
          "ternary": {
           "aaxis": {
            "gridcolor": "white",
            "linecolor": "white",
            "ticks": ""
           },
           "baxis": {
            "gridcolor": "white",
            "linecolor": "white",
            "ticks": ""
           },
           "bgcolor": "#E5ECF6",
           "caxis": {
            "gridcolor": "white",
            "linecolor": "white",
            "ticks": ""
           }
          },
          "title": {
           "x": 0.05
          },
          "xaxis": {
           "automargin": true,
           "gridcolor": "white",
           "linecolor": "white",
           "ticks": "",
           "title": {
            "standoff": 15
           },
           "zerolinecolor": "white",
           "zerolinewidth": 2
          },
          "yaxis": {
           "automargin": true,
           "gridcolor": "white",
           "linecolor": "white",
           "ticks": "",
           "title": {
            "standoff": 15
           },
           "zerolinecolor": "white",
           "zerolinewidth": 2
          }
         }
        },
        "title": {
         "font": {
          "family": "Helvetica",
          "size": 30
         },
         "text": "<b>Monthly Count of Injuries by Injury Type from August 2023 to April 2024</b>"
        },
        "updatemenus": [
         {
          "buttons": [
           {
            "args": [
             {
              "visible": true
             }
            ],
            "args2": [
             {
              "visible": "legendonly"
             }
            ],
            "label": "Toggle All",
            "visible": true
           },
           {
            "args": [
             {
              "visible": true
             },
             [
              49
             ]
            ],
            "args2": [
             {
              "visible": "legendonly"
             }
            ],
            "label": "Toggle Top 1",
            "visible": true
           },
           {
            "args": [
             {
              "visible": true
             },
             [
              5,
              48,
              49,
              52,
              56
             ]
            ],
            "args2": [
             {
              "visible": "legendonly"
             }
            ],
            "label": "Toggle Top 5",
            "visible": true
           },
           {
            "args": [
             {
              "visible": true
             },
             [
              5,
              7,
              21,
              28,
              30,
              31,
              48,
              49,
              52,
              56
             ]
            ],
            "args2": [
             {
              "visible": "legendonly"
             }
            ],
            "label": "Toggle Top 10",
            "visible": true
           },
           {
            "args": [
             {
              "visible": "legendonly"
             }
            ],
            "label": "Toggle Off",
            "visible": true
           }
          ],
          "direction": "down",
          "font": {
           "family": "Helvetica",
           "size": 15
          },
          "type": "buttons"
         }
        ],
        "width": 1600,
        "xaxis": {
         "range": [
          "2023-08-01T00:00:00",
          "2024-04-01T00:00:00"
         ],
         "title": {
          "font": {
           "family": "Helvetica",
           "size": 20
          },
          "text": "<i>Date</i>"
         }
        },
        "yaxis": {
         "range": [
          0,
          20
         ],
         "title": {
          "font": {
           "family": "Helvetica",
           "size": 20
          },
          "text": "<i>Count</i>"
         }
        }
       }
      }
     },
     "metadata": {},
     "output_type": "display_data"
    }
   ],
   "source": [
    "# Create figure\n",
    "fig = go.Figure()\n",
    "\n",
    "# Add traces for each line\n",
    "traces = []\n",
    "for col in injury_pivot.columns[1:]:\n",
    "    traces.append(go.Scatter(x=injury_pivot['ProblemDate'], y=injury_pivot[col], name=col, visible='legendonly'))\n",
    "\n",
    "fig = go.Figure(data = traces)\n",
    "\n",
    "fig.update_layout(\n",
    "    autosize=False,\n",
    "    width=1600,\n",
    "    height=900,\n",
    "    title=dict(\n",
    "        text = \"<b>Monthly Count of Injuries by Injury Type from August 2023 to April 2024</b>\",\n",
    "        font = dict(\n",
    "            size=30,\n",
    "            family = \"Helvetica\")\n",
    "    ),\n",
    "    xaxis=dict(\n",
    "        title=\"<i>Date</i>\",\n",
    "        range=[pd.to_datetime(\"2023-08-01\"), pd.to_datetime(\"2024-04-01\")],\n",
    "        titlefont = dict(\n",
    "                size=20,\n",
    "                family = \"Helvetica\" \n",
    "            )\n",
    "    ),\n",
    "    yaxis=dict(\n",
    "        title=\"<i>Count</i>\",\n",
    "        range = [0, 20],\n",
    "        titlefont = dict(\n",
    "                size=20,\n",
    "                family = \"Helvetica\" \n",
    "            )\n",
    "    ),\n",
    "    updatemenus=[\n",
    "        dict(\n",
    "            type=\"buttons\",\n",
    "            direction=\"down\",\n",
    "            buttons=list([\n",
    "                dict(\n",
    "                    label=\"Toggle All\",\n",
    "                    visible = True,\n",
    "                    args = [{'visible':True}],\n",
    "                    args2 = [{'visible':'legendonly'}]\n",
    "                ),\n",
    "                dict(\n",
    "                    label=\"Toggle Top 1\",\n",
    "                    visible = True,\n",
    "                    args = [{'visible': True}, [i for i,x in enumerate(traces) if x.name in injury_top5[\"InjuryType\"][0]]],\n",
    "                    args2 = [{'visible':'legendonly'}]\n",
    "                ),\n",
    "                dict(\n",
    "                    label=\"Toggle Top 5\",\n",
    "                    visible = True,\n",
    "                    args = [{'visible': True}, [i for i,x in enumerate(traces) if x.name in injury_top5[\"InjuryType\"].to_list()]],\n",
    "                    args2 = [{'visible':'legendonly'}]\n",
    "                ),\n",
    "                dict(\n",
    "                    label=\"Toggle Top 10\",\n",
    "                    visible = True,\n",
    "                    args = [{'visible': True}, [i for i,x in enumerate(traces) if x.name in injury_top10[\"InjuryType\"].to_list()]],\n",
    "                    args2 = [{'visible':'legendonly'}]\n",
    "                ),\n",
    "                dict(\n",
    "                    label=\"Toggle Off\",\n",
    "                    visible = True,\n",
    "                    args = [{'visible':'legendonly'}]\n",
    "                ),\n",
    "            ]),\n",
    "            font = dict(\n",
    "                size=15,\n",
    "                family = \"Helvetica\" \n",
    "            )\n",
    "        ),\n",
    "    ])\n",
    "\n",
    "fig.update_xaxes(title_font_family=\"Helvetica\")\n",
    "fig.update_yaxes(title_font_family=\"Helvetica\")\n",
    "\n",
    "fig.show()\n",
    "\n",
    "fig.write_html(\"interactive_plots/injury_monthly.html\")"
   ]
  }
 ],
 "metadata": {
  "kernelspec": {
   "display_name": "Python 3",
   "language": "python",
   "name": "python3"
  },
  "language_info": {
   "codemirror_mode": {
    "name": "ipython",
    "version": 3
   },
   "file_extension": ".py",
   "mimetype": "text/x-python",
   "name": "python",
   "nbconvert_exporter": "python",
   "pygments_lexer": "ipython3",
   "version": "3.10.7"
  }
 },
 "nbformat": 4,
 "nbformat_minor": 2
}
