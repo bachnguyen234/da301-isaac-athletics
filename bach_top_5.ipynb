{
 "cells": [
  {
   "cell_type": "code",
   "execution_count": 1,
   "metadata": {},
   "outputs": [],
   "source": [
    "import os\n",
    "import os.path\n",
    "import pandas as pd\n",
    "import numpy as np\n",
    "import seaborn as sns\n",
    "import matplotlib.pyplot as plt\n",
    "import re\n",
    "from datetime import datetime\n",
    "import matplotlib.dates as mdates\n",
    "import plotly.express as px\n",
    "import plotly.graph_objects as go\n",
    "sns.set()"
   ]
  },
  {
   "cell_type": "code",
   "execution_count": 2,
   "metadata": {},
   "outputs": [],
   "source": [
    "datadir = \"data/tidy_data\"\n",
    "data = os.path.join(datadir, \"new_jump_data.csv\")\n",
    "df_jump = pd.read_csv(data)"
   ]
  },
  {
   "cell_type": "code",
   "execution_count": 3,
   "metadata": {},
   "outputs": [
    {
     "name": "stdout",
     "output_type": "stream",
     "text": [
      "['athlete_code', 'TestId', 'Date', 'Time', 'Gender', 'Position', 'Type', 'Excluded', 'Tags', 'System Weight', 'Jump Height', 'Jump Momentum', 'Countermovement Depth', 'Braking RFD', 'Stiffness', 'Force at Min Displacement', 'Relative Force at Min Displacement', 'Avg. Braking Force', 'Avg. Relative Braking Force', 'Peak Braking Force', 'Peak Relative Braking Force', 'Avg. Propulsive Force', 'Avg. Relative Propulsive Force', 'Peak Propulsive Force', 'Peak Relative Propulsive Force', 'Unweighting Phase', 'Unweighting Phase %', 'Braking Phase', 'Braking Phase %', 'Propulsive Phase', 'Propulsive Phase %', 'Flight Time', 'Time To Takeoff', 'Braking Net Impulse', 'Propulsive Net Impulse', 'Positive Impulse', 'Positive Net Impulse', 'Impulse Ratio', 'Avg. Braking Velocity', 'Peak Braking Velocity', 'Avg. Propulsive Velocity', 'Takeoff Velocity', 'Peak Velocity', 'Avg. Braking Power', 'Avg. Relative Braking Power', 'Peak Braking Power', 'Peak Relative Braking Power', 'Avg. Propulsive Power', 'Avg. Relative Propulsive Power', 'Peak Relative Propulsive Power', 'Peak Propulsive Power', 'L|R Peak Braking Force', 'Left Force at Peak Braking Force', 'Right Force at Peak Braking Force', 'L|R Avg. Braking Force', 'Left Avg. Braking Force', 'Right Avg. Braking Force', 'L|R Peak Propulsive Force', 'Left Force at Peak Propulsive Force', 'Right Force at Peak Propulsive Force', 'L|R Avg. Propulsive Force', 'Left Avg. Propulsive Force', 'Right Avg. Propulsive Force', 'L|R Avg. Braking RFD', 'Left Avg. Braking RFD', 'Right Avg. Braking RFD', 'L|R Braking Impulse Index', 'L|R Propulsive Impulse Index', 'Time to Stabilization', 'Landing Stiffness', 'Peak Landing Force', 'Avg. Landing Force', 'Relative Peak Landing Force', 'L|R Peak Landing Force', 'Left Force at Peak Landing Force', 'Right Force at Peak Landing Force', 'L|R Avg. Landing Force', 'Left Avg. Landing Force', 'Right Avg. Landing Force', 'L|R Landing Impulse Index', 'RSI', 'mRSI', 'Braking Impulse', 'Relative Braking Impulse', 'Relative Braking Net Impulse', 'Propulsive Impulse', 'Relative Propulsive Impulse', 'Relative Propulsive Net Impulse', 'team', 'problem_date', 'return_date', 'reported_date', 'body_part', 'affected_area', 'side_of_body', 'injury_type', 'specific_part', 'current_status']\n"
     ]
    }
   ],
   "source": [
    "print(df_jump.columns.tolist())"
   ]
  },
  {
   "cell_type": "code",
   "execution_count": 4,
   "metadata": {},
   "outputs": [
    {
     "data": {
      "text/html": [
       "<div>\n",
       "<style scoped>\n",
       "    .dataframe tbody tr th:only-of-type {\n",
       "        vertical-align: middle;\n",
       "    }\n",
       "\n",
       "    .dataframe tbody tr th {\n",
       "        vertical-align: top;\n",
       "    }\n",
       "\n",
       "    .dataframe thead th {\n",
       "        text-align: right;\n",
       "    }\n",
       "</style>\n",
       "<table border=\"1\" class=\"dataframe\">\n",
       "  <thead>\n",
       "    <tr style=\"text-align: right;\">\n",
       "      <th></th>\n",
       "      <th>athlete_code</th>\n",
       "      <th>TestId</th>\n",
       "      <th>Date</th>\n",
       "      <th>Time</th>\n",
       "      <th>Gender</th>\n",
       "      <th>Position</th>\n",
       "      <th>Type</th>\n",
       "      <th>Excluded</th>\n",
       "      <th>Tags</th>\n",
       "      <th>System Weight</th>\n",
       "      <th>...</th>\n",
       "      <th>team</th>\n",
       "      <th>problem_date</th>\n",
       "      <th>return_date</th>\n",
       "      <th>reported_date</th>\n",
       "      <th>body_part</th>\n",
       "      <th>affected_area</th>\n",
       "      <th>side_of_body</th>\n",
       "      <th>injury_type</th>\n",
       "      <th>specific_part</th>\n",
       "      <th>current_status</th>\n",
       "    </tr>\n",
       "  </thead>\n",
       "  <tbody>\n",
       "    <tr>\n",
       "      <th>0</th>\n",
       "      <td>BASEB1</td>\n",
       "      <td>LBrzNxXMkCckqH6I37FC</td>\n",
       "      <td>04-16-2024</td>\n",
       "      <td>15:20:26</td>\n",
       "      <td>Men</td>\n",
       "      <td>NaN</td>\n",
       "      <td>Countermovement Jump</td>\n",
       "      <td>NaN</td>\n",
       "      <td>NaN</td>\n",
       "      <td>730.371</td>\n",
       "      <td>...</td>\n",
       "      <td>Baseball</td>\n",
       "      <td>03-09-2024</td>\n",
       "      <td>03-09-2024</td>\n",
       "      <td>03-13-2024</td>\n",
       "      <td>Knee</td>\n",
       "      <td>Lower Extremity</td>\n",
       "      <td>Left</td>\n",
       "      <td>Fat Pad Syndrome</td>\n",
       "      <td>NaN</td>\n",
       "      <td>Returned To Play As Tolerated</td>\n",
       "    </tr>\n",
       "    <tr>\n",
       "      <th>1</th>\n",
       "      <td>BASEB1</td>\n",
       "      <td>obdaLJJpA0veWNEbkgXZ</td>\n",
       "      <td>04-19-2024</td>\n",
       "      <td>14:54:35</td>\n",
       "      <td>Men</td>\n",
       "      <td>NaN</td>\n",
       "      <td>Countermovement Jump</td>\n",
       "      <td>NaN</td>\n",
       "      <td>NaN</td>\n",
       "      <td>738.274</td>\n",
       "      <td>...</td>\n",
       "      <td>Baseball</td>\n",
       "      <td>03-09-2024</td>\n",
       "      <td>03-09-2024</td>\n",
       "      <td>03-13-2024</td>\n",
       "      <td>Knee</td>\n",
       "      <td>Lower Extremity</td>\n",
       "      <td>Left</td>\n",
       "      <td>Fat Pad Syndrome</td>\n",
       "      <td>NaN</td>\n",
       "      <td>Returned To Play As Tolerated</td>\n",
       "    </tr>\n",
       "    <tr>\n",
       "      <th>2</th>\n",
       "      <td>BASEB1</td>\n",
       "      <td>xs4JaGoWbT6u3GfMrbMn</td>\n",
       "      <td>04-04-2024</td>\n",
       "      <td>15:21:41</td>\n",
       "      <td>Men</td>\n",
       "      <td>NaN</td>\n",
       "      <td>Countermovement Jump</td>\n",
       "      <td>NaN</td>\n",
       "      <td>NaN</td>\n",
       "      <td>759.976</td>\n",
       "      <td>...</td>\n",
       "      <td>Baseball</td>\n",
       "      <td>03-09-2024</td>\n",
       "      <td>03-09-2024</td>\n",
       "      <td>03-13-2024</td>\n",
       "      <td>Knee</td>\n",
       "      <td>Lower Extremity</td>\n",
       "      <td>Left</td>\n",
       "      <td>Fat Pad Syndrome</td>\n",
       "      <td>NaN</td>\n",
       "      <td>Returned To Play As Tolerated</td>\n",
       "    </tr>\n",
       "    <tr>\n",
       "      <th>3</th>\n",
       "      <td>BASEB1</td>\n",
       "      <td>2NXcR02pojld48VtJVsv</td>\n",
       "      <td>03-28-2024</td>\n",
       "      <td>15:20:09</td>\n",
       "      <td>Men</td>\n",
       "      <td>NaN</td>\n",
       "      <td>Countermovement Jump</td>\n",
       "      <td>NaN</td>\n",
       "      <td>NaN</td>\n",
       "      <td>743.065</td>\n",
       "      <td>...</td>\n",
       "      <td>Baseball</td>\n",
       "      <td>03-09-2024</td>\n",
       "      <td>03-09-2024</td>\n",
       "      <td>03-13-2024</td>\n",
       "      <td>Knee</td>\n",
       "      <td>Lower Extremity</td>\n",
       "      <td>Left</td>\n",
       "      <td>Fat Pad Syndrome</td>\n",
       "      <td>NaN</td>\n",
       "      <td>Returned To Play As Tolerated</td>\n",
       "    </tr>\n",
       "    <tr>\n",
       "      <th>4</th>\n",
       "      <td>BASEB1</td>\n",
       "      <td>idgUsdGMwwCRgpF1UlEC</td>\n",
       "      <td>04-19-2024</td>\n",
       "      <td>14:53:51</td>\n",
       "      <td>Men</td>\n",
       "      <td>NaN</td>\n",
       "      <td>Countermovement Jump</td>\n",
       "      <td>NaN</td>\n",
       "      <td>NaN</td>\n",
       "      <td>738.847</td>\n",
       "      <td>...</td>\n",
       "      <td>Baseball</td>\n",
       "      <td>03-09-2024</td>\n",
       "      <td>03-09-2024</td>\n",
       "      <td>03-13-2024</td>\n",
       "      <td>Knee</td>\n",
       "      <td>Lower Extremity</td>\n",
       "      <td>Left</td>\n",
       "      <td>Fat Pad Syndrome</td>\n",
       "      <td>NaN</td>\n",
       "      <td>Returned To Play As Tolerated</td>\n",
       "    </tr>\n",
       "  </tbody>\n",
       "</table>\n",
       "<p>5 rows × 98 columns</p>\n",
       "</div>"
      ],
      "text/plain": [
       "  athlete_code                TestId        Date      Time Gender Position  \\\n",
       "0       BASEB1  LBrzNxXMkCckqH6I37FC  04-16-2024  15:20:26    Men      NaN   \n",
       "1       BASEB1  obdaLJJpA0veWNEbkgXZ  04-19-2024  14:54:35    Men      NaN   \n",
       "2       BASEB1  xs4JaGoWbT6u3GfMrbMn  04-04-2024  15:21:41    Men      NaN   \n",
       "3       BASEB1  2NXcR02pojld48VtJVsv  03-28-2024  15:20:09    Men      NaN   \n",
       "4       BASEB1  idgUsdGMwwCRgpF1UlEC  04-19-2024  14:53:51    Men      NaN   \n",
       "\n",
       "                   Type  Excluded  Tags  System Weight  ...      team  \\\n",
       "0  Countermovement Jump       NaN   NaN        730.371  ...  Baseball   \n",
       "1  Countermovement Jump       NaN   NaN        738.274  ...  Baseball   \n",
       "2  Countermovement Jump       NaN   NaN        759.976  ...  Baseball   \n",
       "3  Countermovement Jump       NaN   NaN        743.065  ...  Baseball   \n",
       "4  Countermovement Jump       NaN   NaN        738.847  ...  Baseball   \n",
       "\n",
       "   problem_date  return_date  reported_date  body_part    affected_area  \\\n",
       "0    03-09-2024   03-09-2024     03-13-2024       Knee  Lower Extremity   \n",
       "1    03-09-2024   03-09-2024     03-13-2024       Knee  Lower Extremity   \n",
       "2    03-09-2024   03-09-2024     03-13-2024       Knee  Lower Extremity   \n",
       "3    03-09-2024   03-09-2024     03-13-2024       Knee  Lower Extremity   \n",
       "4    03-09-2024   03-09-2024     03-13-2024       Knee  Lower Extremity   \n",
       "\n",
       "   side_of_body       injury_type  specific_part  \\\n",
       "0          Left  Fat Pad Syndrome            NaN   \n",
       "1          Left  Fat Pad Syndrome            NaN   \n",
       "2          Left  Fat Pad Syndrome            NaN   \n",
       "3          Left  Fat Pad Syndrome            NaN   \n",
       "4          Left  Fat Pad Syndrome            NaN   \n",
       "\n",
       "                  current_status  \n",
       "0  Returned To Play As Tolerated  \n",
       "1  Returned To Play As Tolerated  \n",
       "2  Returned To Play As Tolerated  \n",
       "3  Returned To Play As Tolerated  \n",
       "4  Returned To Play As Tolerated  \n",
       "\n",
       "[5 rows x 98 columns]"
      ]
     },
     "execution_count": 4,
     "metadata": {},
     "output_type": "execute_result"
    }
   ],
   "source": [
    "df_jump.head(5)"
   ]
  },
  {
   "cell_type": "code",
   "execution_count": 5,
   "metadata": {},
   "outputs": [],
   "source": [
    "def date_coversion(date):\n",
    "    date_object = datetime.strptime(date, '%m-%d-%Y')\n",
    "    iso_format_date = date_object.strftime('%Y-%m-%d')\n",
    "    return iso_format_date\n",
    "\n",
    "# Changing date formatting\n",
    "#df_jump.drop(columns = [\"DateOfReturn\", \"ReportedDate\"], inplace = True)\n",
    "#df_jump[\"problem_date\"] = df_jump[\"problem_date\"].str.replace(\"/\", \"-\").apply(date_coversion)\n",
    "#df_jump[\"problem_date\"] = pd.to_datetime(df_jump[\"problem_date\"])\n",
    "\n",
    "# Filling NA's\n",
    "df_jump[\"side_of_body\"] = df_jump[\"side_of_body\"].fillna(\"Does Not Apply\")"
   ]
  },
  {
   "cell_type": "code",
   "execution_count": 6,
   "metadata": {},
   "outputs": [],
   "source": [
    "t_test_data = df_jump[[\n",
    "    'TestId', 'Date', 'Gender', 'team', 'Peak Braking Velocity', 'Peak Propulsive Power', 'Avg. Braking Power',\n",
    "    'Peak Braking Force', 'Avg. Braking Velocity'\n",
    "]]"
   ]
  },
  {
   "cell_type": "code",
   "execution_count": 7,
   "metadata": {},
   "outputs": [
    {
     "data": {
      "text/plain": [
       "array(['Baseball', nan, 'Football', 'Field Hockey', \"Men's Golf\",\n",
       "       \"Club Sports , Men's Golf\", \"Women's Golf\", 'Mens Basketball',\n",
       "       \"Men's Lacrosse\", \"Men's Soccer\", \"Men's Swimming & Diving\",\n",
       "       \"Men's Squash\", \"Men's Cross Country\",\n",
       "       \"Men's Cross Country, Men's Track & Field\", \"Men's Track & Field\",\n",
       "       \"Men's Tennis\", 'Softball', 'Volleyball', \"Women's Basketball\",\n",
       "       \"Women's Fencing\", \"Women's Lacrosse\", \"Women's Swimming & Diving\",\n",
       "       'Womens Soccer', \"Women's Squash\", \"Women's Cross Country\",\n",
       "       \"Women's Track & Field\",\n",
       "       \"Women's Cross Country, Women's Track & Field\",\n",
       "       \"Club Sports , Women's Track & Field\", \"Women's Tennis\"],\n",
       "      dtype=object)"
      ]
     },
     "execution_count": 7,
     "metadata": {},
     "output_type": "execute_result"
    }
   ],
   "source": [
    "t_test_data['team'].unique()"
   ]
  },
  {
   "cell_type": "code",
   "execution_count": 8,
   "metadata": {},
   "outputs": [
    {
     "name": "stderr",
     "output_type": "stream",
     "text": [
      "C:\\Users\\Admin\\AppData\\Local\\Temp\\ipykernel_26044\\936784632.py:1: SettingWithCopyWarning: \n",
      "A value is trying to be set on a copy of a slice from a DataFrame.\n",
      "Try using .loc[row_indexer,col_indexer] = value instead\n",
      "\n",
      "See the caveats in the documentation: https://pandas.pydata.org/pandas-docs/stable/user_guide/indexing.html#returning-a-view-versus-a-copy\n",
      "  t_test_data['gender_binary'] = t_test_data['Gender'].apply(\n"
     ]
    }
   ],
   "source": [
    "t_test_data['gender_binary'] = t_test_data['Gender'].apply(\n",
    "    lambda x: 1 if x == 'Women' else (0 if x == 'Men' else np.nan)\n",
    ")"
   ]
  },
  {
   "cell_type": "code",
   "execution_count": 9,
   "metadata": {},
   "outputs": [
    {
     "name": "stderr",
     "output_type": "stream",
     "text": [
      "C:\\Users\\Admin\\AppData\\Local\\Temp\\ipykernel_26044\\2928912936.py:1: SettingWithCopyWarning: \n",
      "A value is trying to be set on a copy of a slice from a DataFrame.\n",
      "Try using .loc[row_indexer,col_indexer] = value instead\n",
      "\n",
      "See the caveats in the documentation: https://pandas.pydata.org/pandas-docs/stable/user_guide/indexing.html#returning-a-view-versus-a-copy\n",
      "  t_test_data['sport_name'] = t_test_data['team'].str.replace(\n"
     ]
    }
   ],
   "source": [
    "t_test_data['sport_name'] = t_test_data['team'].str.replace(\n",
    "    r\"\\b(Men's|Mens|Women's|Womens|Club Sports\\s*,\\s*)\\b\", \"\", regex=True\n",
    ").str.strip()"
   ]
  },
  {
   "cell_type": "code",
   "execution_count": 10,
   "metadata": {},
   "outputs": [
    {
     "data": {
      "text/plain": [
       "array(['Baseball', nan, 'Football', 'Field Hockey', 'Golf', 'Basketball',\n",
       "       'Lacrosse', 'Soccer', 'Swimming & Diving', 'Squash',\n",
       "       'Cross Country', 'Cross Country,  Track & Field', 'Track & Field',\n",
       "       'Tennis', 'Softball', 'Volleyball', 'Fencing'], dtype=object)"
      ]
     },
     "execution_count": 10,
     "metadata": {},
     "output_type": "execute_result"
    }
   ],
   "source": [
    "t_test_data['sport_name'].unique()"
   ]
  },
  {
   "cell_type": "code",
   "execution_count": 11,
   "metadata": {},
   "outputs": [
    {
     "name": "stderr",
     "output_type": "stream",
     "text": [
      "C:\\Users\\Admin\\AppData\\Local\\Temp\\ipykernel_26044\\2933303674.py:13: SettingWithCopyWarning: \n",
      "A value is trying to be set on a copy of a slice from a DataFrame.\n",
      "Try using .loc[row_indexer,col_indexer] = value instead\n",
      "\n",
      "See the caveats in the documentation: https://pandas.pydata.org/pandas-docs/stable/user_guide/indexing.html#returning-a-view-versus-a-copy\n",
      "  t_test_data['field_court_binary'] = t_test_data['sport_name'].apply(\n"
     ]
    }
   ],
   "source": [
    "# Define a list of field and court sports\n",
    "field_sports = [\n",
    "    'Baseball', 'Football', 'Golf', 'Lacrosse',\n",
    "    'Soccer', 'Field Hockey', 'Softball'\n",
    "]\n",
    "\n",
    "court_sports = [\n",
    "    'Basketball', 'Tennis', 'Squash', 'Volleyball',\n",
    "    'Fencing' \n",
    "]\n",
    "\n",
    "# Create the binary variable\n",
    "t_test_data['field_court_binary'] = t_test_data['sport_name'].apply(\n",
    "    lambda x: 1 if x in field_sports else (0 if x in court_sports else np.nan)\n",
    ")"
   ]
  },
  {
   "cell_type": "code",
   "execution_count": 12,
   "metadata": {},
   "outputs": [
    {
     "data": {
      "text/plain": [
       "5043"
      ]
     },
     "execution_count": 12,
     "metadata": {},
     "output_type": "execute_result"
    }
   ],
   "source": [
    "t_test_data['sport_name'].count()"
   ]
  },
  {
   "cell_type": "code",
   "execution_count": 13,
   "metadata": {},
   "outputs": [],
   "source": [
    "t_test_data = t_test_data[t_test_data['field_court_binary'].notna()]"
   ]
  },
  {
   "cell_type": "code",
   "execution_count": 14,
   "metadata": {},
   "outputs": [],
   "source": [
    "t_test_data = t_test_data[t_test_data['gender_binary'].notna()]"
   ]
  },
  {
   "cell_type": "code",
   "execution_count": 15,
   "metadata": {},
   "outputs": [
    {
     "data": {
      "text/plain": [
       "TestId                   1817\n",
       "Date                     1817\n",
       "Gender                   1817\n",
       "team                     1817\n",
       "Peak Braking Velocity    1817\n",
       "Peak Propulsive Power    1817\n",
       "Avg. Braking Power       1817\n",
       "Peak Braking Force       1817\n",
       "Avg. Braking Velocity    1817\n",
       "gender_binary            1817\n",
       "sport_name               1817\n",
       "field_court_binary       1817\n",
       "dtype: int64"
      ]
     },
     "execution_count": 15,
     "metadata": {},
     "output_type": "execute_result"
    }
   ],
   "source": [
    "t_test_data[t_test_data['field_court_binary'] == 1].count()"
   ]
  },
  {
   "cell_type": "code",
   "execution_count": 16,
   "metadata": {},
   "outputs": [
    {
     "data": {
      "text/plain": [
       "TestId                   1971\n",
       "Date                     1971\n",
       "Gender                   1971\n",
       "team                     1971\n",
       "Peak Braking Velocity    1971\n",
       "Peak Propulsive Power    1971\n",
       "Avg. Braking Power       1971\n",
       "Peak Braking Force       1971\n",
       "Avg. Braking Velocity    1971\n",
       "gender_binary            1971\n",
       "sport_name               1971\n",
       "field_court_binary       1971\n",
       "dtype: int64"
      ]
     },
     "execution_count": 16,
     "metadata": {},
     "output_type": "execute_result"
    }
   ],
   "source": [
    "t_test_data[t_test_data['field_court_binary'] == 0].count()"
   ]
  },
  {
   "cell_type": "code",
   "execution_count": 17,
   "metadata": {},
   "outputs": [
    {
     "data": {
      "text/plain": [
       "TestId                   1932\n",
       "Date                     1932\n",
       "Gender                   1932\n",
       "team                     1932\n",
       "Peak Braking Velocity    1932\n",
       "Peak Propulsive Power    1932\n",
       "Avg. Braking Power       1932\n",
       "Peak Braking Force       1932\n",
       "Avg. Braking Velocity    1932\n",
       "gender_binary            1932\n",
       "sport_name               1932\n",
       "field_court_binary       1932\n",
       "dtype: int64"
      ]
     },
     "execution_count": 17,
     "metadata": {},
     "output_type": "execute_result"
    }
   ],
   "source": [
    "t_test_data[t_test_data['gender_binary'] == 0].count()"
   ]
  },
  {
   "cell_type": "code",
   "execution_count": 18,
   "metadata": {},
   "outputs": [
    {
     "data": {
      "text/plain": [
       "TestId                   1856\n",
       "Date                     1856\n",
       "Gender                   1856\n",
       "team                     1856\n",
       "Peak Braking Velocity    1856\n",
       "Peak Propulsive Power    1856\n",
       "Avg. Braking Power       1856\n",
       "Peak Braking Force       1856\n",
       "Avg. Braking Velocity    1856\n",
       "gender_binary            1856\n",
       "sport_name               1856\n",
       "field_court_binary       1856\n",
       "dtype: int64"
      ]
     },
     "execution_count": 18,
     "metadata": {},
     "output_type": "execute_result"
    }
   ],
   "source": [
    "t_test_data[t_test_data['gender_binary'] == 1].count()"
   ]
  },
  {
   "cell_type": "code",
   "execution_count": null,
   "metadata": {},
   "outputs": [],
   "source": [
    "#t_test_data.to_csv('new_ttest_data.csv', index=False) "
   ]
  }
 ],
 "metadata": {
  "kernelspec": {
   "display_name": "Python 3",
   "language": "python",
   "name": "python3"
  },
  "language_info": {
   "codemirror_mode": {
    "name": "ipython",
    "version": 3
   },
   "file_extension": ".py",
   "mimetype": "text/x-python",
   "name": "python",
   "nbconvert_exporter": "python",
   "pygments_lexer": "ipython3",
   "version": "3.10.7"
  }
 },
 "nbformat": 4,
 "nbformat_minor": 2
}
