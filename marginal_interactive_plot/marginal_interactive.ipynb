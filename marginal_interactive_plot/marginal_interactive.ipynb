{
 "cells": [
  {
   "cell_type": "markdown",
   "metadata": {},
   "source": [
    "### 1. Importing libraries"
   ]
  },
  {
   "cell_type": "code",
   "execution_count": 9,
   "metadata": {},
   "outputs": [],
   "source": [
    "import os\n",
    "import os.path\n",
    "import pandas as pd\n",
    "import numpy as np\n",
    "import plotly.express as px\n",
    "import plotly.graph_objects as go\n",
    "from datetime import datetime\n",
    "import plotly.express as px\n",
    "import plotly.graph_objects as go\n",
    "import base64"
   ]
  },
  {
   "cell_type": "markdown",
   "metadata": {},
   "source": [
    "### 2. Importing data"
   ]
  },
  {
   "cell_type": "code",
   "execution_count": null,
   "metadata": {},
   "outputs": [],
   "source": [
    "# Define the directory and file path for the dataset\n",
    "datadir = \"data/tidy_data\"\n",
    "# Load the dataset into a DataFrame\n",
    "data = pd.read_csv(os.path.join(datadir, \"new_jump_data.csv\"))\n",
    "\n",
    "# Create a binary variable 'injury_log' to indicate injury occurrence:\n",
    "# 1 for rows where 'injury_type' is not NaN (indicating an injury), and 0 otherwise\n",
    "data[\"injury_log\"] = data[\"injury_type\"].notna().astype(int)\n",
    "\n",
    "marginal_df = data[[\n",
    "    \"athlete_code\", \"Date\", \"mRSI\", \"Peak Braking Velocity\", \"Peak Propulsive Force\", \"Avg. Braking Power\", \"Peak Braking Force\", \"injury_log\"\n",
    "]]\n",
    "\n",
    "def date_coversion(date):\n",
    "    # Check if the date is a valid string before processing\n",
    "    if isinstance(date, str):\n",
    "        try:\n",
    "            date_object = datetime.strptime(date, '%m-%d-%Y')\n",
    "            iso_format_date = date_object.strftime('%Y-%m-%d')\n",
    "            return iso_format_date\n",
    "        except ValueError:\n",
    "            return None  # Return None if the date format is incorrect\n",
    "    return date  # If it's not a string, return the value as is (e.g., NaN or float)\n",
    "\n",
    "# Changing date formatting\n",
    "marginal_df[\"Date\"] = marginal_df[\"Date\"].apply(date_coversion)# Convert to datetime format (this will handle invalid or missing dates gracefully)\n",
    "marginal_df[\"Date\"] = pd.to_datetime(marginal_df[\"Date\"])"
   ]
  },
  {
   "cell_type": "markdown",
   "metadata": {},
   "source": [
    "### 3. Aggregating data"
   ]
  },
  {
   "cell_type": "code",
   "execution_count": null,
   "metadata": {},
   "outputs": [],
   "source": [
    "marginal_df = data[[\n",
    "    \"athlete_code\", \"Date\", \"mRSI\", \"Peak Braking Velocity\", \"Peak Propulsive Force\", \"Avg. Braking Power\", \"Peak Braking Force\", \"injury_log\"\n",
    "]]\n",
    "\n",
    "marginal_data = (\n",
    "    marginal_df.groupby(['athlete_code', 'Date'], as_index=False)\n",
    "    .agg(\n",
    "        Avg_mRSI=('mRSI', 'mean'),\n",
    "        Avg_Peak_Braking_Velocity=('Peak Braking Velocity', 'mean'),\n",
    "        Avg_Peak_Propulsive_Force=('Peak Propulsive Force', 'mean'),\n",
    "        Avg_Avg_Braking_Power=('Avg. Braking Power', 'mean'),\n",
    "        Avg_Peak_Braking_Force=('Peak Braking Force', 'mean')\n",
    "    )\n",
    ")\n",
    "\n",
    "# Calculate the percentage change for each column (mRSI and others)\n",
    "marginal_data['mRSI'] = marginal_data['Avg_mRSI'].pct_change()\n",
    "marginal_data['Peak_Braking_Velocity'] = marginal_data['Avg_Peak_Braking_Velocity'].pct_change()\n",
    "marginal_data['Peak_Propulsive_Force'] = marginal_data['Avg_Peak_Propulsive_Force'].pct_change()\n",
    "marginal_data['Avg_Braking_Power'] = marginal_data['Avg_Avg_Braking_Power'].pct_change()\n",
    "marginal_data['Peak_Braking_Force'] = marginal_data['Avg_Peak_Braking_Force'].pct_change()\n",
    "\n",
    "marginal_data[\"Date\"] = marginal_data[\"Date\"].apply(date_coversion)# Convert to datetime format (this will handle invalid or missing dates gracefully)\n",
    "marginal_data[\"Date\"] = pd.to_datetime(marginal_data[\"Date\"])"
   ]
  },
  {
   "cell_type": "markdown",
   "metadata": {},
   "source": [
    "### 4. Creating the interactive plot"
   ]
  },
  {
   "cell_type": "code",
   "execution_count": 11,
   "metadata": {},
   "outputs": [
    {
     "data": {
      "application/vnd.plotly.v1+json": {
       "config": {
        "plotlyServerURL": "https://plot.ly"
       },
       "data": [
        {
         "line": {
          "color": "black"
         },
         "mode": "lines",
         "name": "Line",
         "type": "scatter",
         "x": [
          "2024-01-15T00:00:00",
          "2024-01-16T00:00:00",
          "2024-01-18T00:00:00",
          "2024-01-23T00:00:00",
          "2024-01-25T00:00:00",
          "2024-01-30T00:00:00",
          "2024-02-01T00:00:00",
          "2024-02-06T00:00:00",
          "2024-02-08T00:00:00",
          "2024-02-13T00:00:00",
          "2024-02-15T00:00:00",
          "2024-02-20T00:00:00",
          "2024-02-29T00:00:00",
          "2024-03-06T00:00:00",
          "2024-03-07T00:00:00",
          "2024-03-14T00:00:00",
          "2024-03-19T00:00:00",
          "2024-03-28T00:00:00",
          "2024-04-04T00:00:00",
          "2024-04-08T00:00:00",
          "2024-04-11T00:00:00",
          "2024-04-16T00:00:00",
          "2024-04-19T00:00:00",
          "2024-04-23T00:00:00",
          "2024-04-26T00:00:00",
          "2024-05-01T00:00:00",
          "2024-05-03T00:00:00",
          "2024-05-08T00:00:00",
          "2024-05-13T00:00:00",
          "2024-05-15T00:00:00",
          "2024-05-22T00:00:00"
         ],
         "y": [
          null,
          -0.12250114701448522,
          0.0625933671945027,
          0.15380289610572184,
          -0.06250761545022543,
          0.08175201455679759,
          -0.11780607953862787,
          0.08573374191351713,
          0.0005435691587221125,
          0.06464958836558155,
          -0.1264130946773434,
          0.049740513580912804,
          -0.0060995184590690865,
          0.0014211886304908994,
          0.03883369887756416,
          -0.36003477396920025,
          0.2418008926838735,
          -0.09954680418815431,
          0.12964248524817767,
          0.09371639268704857,
          0.03729456384323648,
          0.11422574311056932,
          -0.1490034030140983,
          0.040131391031134056,
          0.0208705203899493,
          -0.14586415601882996,
          0.23596567199433127,
          -0.1725060517263346,
          -0.06766743648960727,
          0.1457352819750639,
          -0.11566733929086181
         ]
        },
        {
         "marker": {
          "color": "red",
          "size": 8
         },
         "mode": "markers",
         "name": "Points",
         "type": "scatter",
         "x": [
          "2024-01-15T00:00:00",
          "2024-01-16T00:00:00",
          "2024-01-18T00:00:00",
          "2024-01-23T00:00:00",
          "2024-01-25T00:00:00",
          "2024-01-30T00:00:00",
          "2024-02-01T00:00:00",
          "2024-02-06T00:00:00",
          "2024-02-08T00:00:00",
          "2024-02-13T00:00:00",
          "2024-02-15T00:00:00",
          "2024-02-20T00:00:00",
          "2024-02-29T00:00:00",
          "2024-03-06T00:00:00",
          "2024-03-07T00:00:00",
          "2024-03-14T00:00:00",
          "2024-03-19T00:00:00",
          "2024-03-28T00:00:00",
          "2024-04-04T00:00:00",
          "2024-04-08T00:00:00",
          "2024-04-11T00:00:00",
          "2024-04-16T00:00:00",
          "2024-04-19T00:00:00",
          "2024-04-23T00:00:00",
          "2024-04-26T00:00:00",
          "2024-05-01T00:00:00",
          "2024-05-03T00:00:00",
          "2024-05-08T00:00:00",
          "2024-05-13T00:00:00",
          "2024-05-15T00:00:00",
          "2024-05-22T00:00:00"
         ],
         "y": [
          null,
          -0.12250114701448522,
          0.0625933671945027,
          0.15380289610572184,
          -0.06250761545022543,
          0.08175201455679759,
          -0.11780607953862787,
          0.08573374191351713,
          0.0005435691587221125,
          0.06464958836558155,
          -0.1264130946773434,
          0.049740513580912804,
          -0.0060995184590690865,
          0.0014211886304908994,
          0.03883369887756416,
          -0.36003477396920025,
          0.2418008926838735,
          -0.09954680418815431,
          0.12964248524817767,
          0.09371639268704857,
          0.03729456384323648,
          0.11422574311056932,
          -0.1490034030140983,
          0.040131391031134056,
          0.0208705203899493,
          -0.14586415601882996,
          0.23596567199433127,
          -0.1725060517263346,
          -0.06766743648960727,
          0.1457352819750639,
          -0.11566733929086181
         ]
        }
       ],
       "layout": {
        "annotations": [
         {
          "align": "left",
          "font": {
           "family": "Helvetica",
           "size": 20
          },
          "showarrow": false,
          "text": "Choose metric here:",
          "x": -0.037,
          "xref": "paper",
          "y": 1.065,
          "yref": "paper"
         },
         {
          "align": "left",
          "font": {
           "family": "Helvetica",
           "size": 20
          },
          "showarrow": false,
          "text": "Choose athlete here:",
          "x": 0.37,
          "xref": "paper",
          "y": 1.065,
          "yref": "paper"
         }
        ],
        "font": {
         "family": "Helvetica"
        },
        "height": 900,
        "images": [
         {
          "sizex": 0.15,
          "sizey": 0.15,
          "source": "data:image/png;base64,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",
          "x": 0.99,
          "xanchor": "right",
          "xref": "paper",
          "y": 1.05,
          "yanchor": "bottom",
          "yref": "paper"
         }
        ],
        "template": {
         "data": {
          "bar": [
           {
            "error_x": {
             "color": "#2a3f5f"
            },
            "error_y": {
             "color": "#2a3f5f"
            },
            "marker": {
             "line": {
              "color": "white",
              "width": 0.5
             },
             "pattern": {
              "fillmode": "overlay",
              "size": 10,
              "solidity": 0.2
             }
            },
            "type": "bar"
           }
          ],
          "barpolar": [
           {
            "marker": {
             "line": {
              "color": "white",
              "width": 0.5
             },
             "pattern": {
              "fillmode": "overlay",
              "size": 10,
              "solidity": 0.2
             }
            },
            "type": "barpolar"
           }
          ],
          "carpet": [
           {
            "aaxis": {
             "endlinecolor": "#2a3f5f",
             "gridcolor": "#C8D4E3",
             "linecolor": "#C8D4E3",
             "minorgridcolor": "#C8D4E3",
             "startlinecolor": "#2a3f5f"
            },
            "baxis": {
             "endlinecolor": "#2a3f5f",
             "gridcolor": "#C8D4E3",
             "linecolor": "#C8D4E3",
             "minorgridcolor": "#C8D4E3",
             "startlinecolor": "#2a3f5f"
            },
            "type": "carpet"
           }
          ],
          "choropleth": [
           {
            "colorbar": {
             "outlinewidth": 0,
             "ticks": ""
            },
            "type": "choropleth"
           }
          ],
          "contour": [
           {
            "colorbar": {
             "outlinewidth": 0,
             "ticks": ""
            },
            "colorscale": [
             [
              0,
              "#0d0887"
             ],
             [
              0.1111111111111111,
              "#46039f"
             ],
             [
              0.2222222222222222,
              "#7201a8"
             ],
             [
              0.3333333333333333,
              "#9c179e"
             ],
             [
              0.4444444444444444,
              "#bd3786"
             ],
             [
              0.5555555555555556,
              "#d8576b"
             ],
             [
              0.6666666666666666,
              "#ed7953"
             ],
             [
              0.7777777777777778,
              "#fb9f3a"
             ],
             [
              0.8888888888888888,
              "#fdca26"
             ],
             [
              1,
              "#f0f921"
             ]
            ],
            "type": "contour"
           }
          ],
          "contourcarpet": [
           {
            "colorbar": {
             "outlinewidth": 0,
             "ticks": ""
            },
            "type": "contourcarpet"
           }
          ],
          "heatmap": [
           {
            "colorbar": {
             "outlinewidth": 0,
             "ticks": ""
            },
            "colorscale": [
             [
              0,
              "#0d0887"
             ],
             [
              0.1111111111111111,
              "#46039f"
             ],
             [
              0.2222222222222222,
              "#7201a8"
             ],
             [
              0.3333333333333333,
              "#9c179e"
             ],
             [
              0.4444444444444444,
              "#bd3786"
             ],
             [
              0.5555555555555556,
              "#d8576b"
             ],
             [
              0.6666666666666666,
              "#ed7953"
             ],
             [
              0.7777777777777778,
              "#fb9f3a"
             ],
             [
              0.8888888888888888,
              "#fdca26"
             ],
             [
              1,
              "#f0f921"
             ]
            ],
            "type": "heatmap"
           }
          ],
          "heatmapgl": [
           {
            "colorbar": {
             "outlinewidth": 0,
             "ticks": ""
            },
            "colorscale": [
             [
              0,
              "#0d0887"
             ],
             [
              0.1111111111111111,
              "#46039f"
             ],
             [
              0.2222222222222222,
              "#7201a8"
             ],
             [
              0.3333333333333333,
              "#9c179e"
             ],
             [
              0.4444444444444444,
              "#bd3786"
             ],
             [
              0.5555555555555556,
              "#d8576b"
             ],
             [
              0.6666666666666666,
              "#ed7953"
             ],
             [
              0.7777777777777778,
              "#fb9f3a"
             ],
             [
              0.8888888888888888,
              "#fdca26"
             ],
             [
              1,
              "#f0f921"
             ]
            ],
            "type": "heatmapgl"
           }
          ],
          "histogram": [
           {
            "marker": {
             "pattern": {
              "fillmode": "overlay",
              "size": 10,
              "solidity": 0.2
             }
            },
            "type": "histogram"
           }
          ],
          "histogram2d": [
           {
            "colorbar": {
             "outlinewidth": 0,
             "ticks": ""
            },
            "colorscale": [
             [
              0,
              "#0d0887"
             ],
             [
              0.1111111111111111,
              "#46039f"
             ],
             [
              0.2222222222222222,
              "#7201a8"
             ],
             [
              0.3333333333333333,
              "#9c179e"
             ],
             [
              0.4444444444444444,
              "#bd3786"
             ],
             [
              0.5555555555555556,
              "#d8576b"
             ],
             [
              0.6666666666666666,
              "#ed7953"
             ],
             [
              0.7777777777777778,
              "#fb9f3a"
             ],
             [
              0.8888888888888888,
              "#fdca26"
             ],
             [
              1,
              "#f0f921"
             ]
            ],
            "type": "histogram2d"
           }
          ],
          "histogram2dcontour": [
           {
            "colorbar": {
             "outlinewidth": 0,
             "ticks": ""
            },
            "colorscale": [
             [
              0,
              "#0d0887"
             ],
             [
              0.1111111111111111,
              "#46039f"
             ],
             [
              0.2222222222222222,
              "#7201a8"
             ],
             [
              0.3333333333333333,
              "#9c179e"
             ],
             [
              0.4444444444444444,
              "#bd3786"
             ],
             [
              0.5555555555555556,
              "#d8576b"
             ],
             [
              0.6666666666666666,
              "#ed7953"
             ],
             [
              0.7777777777777778,
              "#fb9f3a"
             ],
             [
              0.8888888888888888,
              "#fdca26"
             ],
             [
              1,
              "#f0f921"
             ]
            ],
            "type": "histogram2dcontour"
           }
          ],
          "mesh3d": [
           {
            "colorbar": {
             "outlinewidth": 0,
             "ticks": ""
            },
            "type": "mesh3d"
           }
          ],
          "parcoords": [
           {
            "line": {
             "colorbar": {
              "outlinewidth": 0,
              "ticks": ""
             }
            },
            "type": "parcoords"
           }
          ],
          "pie": [
           {
            "automargin": true,
            "type": "pie"
           }
          ],
          "scatter": [
           {
            "fillpattern": {
             "fillmode": "overlay",
             "size": 10,
             "solidity": 0.2
            },
            "type": "scatter"
           }
          ],
          "scatter3d": [
           {
            "line": {
             "colorbar": {
              "outlinewidth": 0,
              "ticks": ""
             }
            },
            "marker": {
             "colorbar": {
              "outlinewidth": 0,
              "ticks": ""
             }
            },
            "type": "scatter3d"
           }
          ],
          "scattercarpet": [
           {
            "marker": {
             "colorbar": {
              "outlinewidth": 0,
              "ticks": ""
             }
            },
            "type": "scattercarpet"
           }
          ],
          "scattergeo": [
           {
            "marker": {
             "colorbar": {
              "outlinewidth": 0,
              "ticks": ""
             }
            },
            "type": "scattergeo"
           }
          ],
          "scattergl": [
           {
            "marker": {
             "colorbar": {
              "outlinewidth": 0,
              "ticks": ""
             }
            },
            "type": "scattergl"
           }
          ],
          "scattermapbox": [
           {
            "marker": {
             "colorbar": {
              "outlinewidth": 0,
              "ticks": ""
             }
            },
            "type": "scattermapbox"
           }
          ],
          "scatterpolar": [
           {
            "marker": {
             "colorbar": {
              "outlinewidth": 0,
              "ticks": ""
             }
            },
            "type": "scatterpolar"
           }
          ],
          "scatterpolargl": [
           {
            "marker": {
             "colorbar": {
              "outlinewidth": 0,
              "ticks": ""
             }
            },
            "type": "scatterpolargl"
           }
          ],
          "scatterternary": [
           {
            "marker": {
             "colorbar": {
              "outlinewidth": 0,
              "ticks": ""
             }
            },
            "type": "scatterternary"
           }
          ],
          "surface": [
           {
            "colorbar": {
             "outlinewidth": 0,
             "ticks": ""
            },
            "colorscale": [
             [
              0,
              "#0d0887"
             ],
             [
              0.1111111111111111,
              "#46039f"
             ],
             [
              0.2222222222222222,
              "#7201a8"
             ],
             [
              0.3333333333333333,
              "#9c179e"
             ],
             [
              0.4444444444444444,
              "#bd3786"
             ],
             [
              0.5555555555555556,
              "#d8576b"
             ],
             [
              0.6666666666666666,
              "#ed7953"
             ],
             [
              0.7777777777777778,
              "#fb9f3a"
             ],
             [
              0.8888888888888888,
              "#fdca26"
             ],
             [
              1,
              "#f0f921"
             ]
            ],
            "type": "surface"
           }
          ],
          "table": [
           {
            "cells": {
             "fill": {
              "color": "#EBF0F8"
             },
             "line": {
              "color": "white"
             }
            },
            "header": {
             "fill": {
              "color": "#C8D4E3"
             },
             "line": {
              "color": "white"
             }
            },
            "type": "table"
           }
          ]
         },
         "layout": {
          "annotationdefaults": {
           "arrowcolor": "#2a3f5f",
           "arrowhead": 0,
           "arrowwidth": 1
          },
          "autotypenumbers": "strict",
          "coloraxis": {
           "colorbar": {
            "outlinewidth": 0,
            "ticks": ""
           }
          },
          "colorscale": {
           "diverging": [
            [
             0,
             "#8e0152"
            ],
            [
             0.1,
             "#c51b7d"
            ],
            [
             0.2,
             "#de77ae"
            ],
            [
             0.3,
             "#f1b6da"
            ],
            [
             0.4,
             "#fde0ef"
            ],
            [
             0.5,
             "#f7f7f7"
            ],
            [
             0.6,
             "#e6f5d0"
            ],
            [
             0.7,
             "#b8e186"
            ],
            [
             0.8,
             "#7fbc41"
            ],
            [
             0.9,
             "#4d9221"
            ],
            [
             1,
             "#276419"
            ]
           ],
           "sequential": [
            [
             0,
             "#0d0887"
            ],
            [
             0.1111111111111111,
             "#46039f"
            ],
            [
             0.2222222222222222,
             "#7201a8"
            ],
            [
             0.3333333333333333,
             "#9c179e"
            ],
            [
             0.4444444444444444,
             "#bd3786"
            ],
            [
             0.5555555555555556,
             "#d8576b"
            ],
            [
             0.6666666666666666,
             "#ed7953"
            ],
            [
             0.7777777777777778,
             "#fb9f3a"
            ],
            [
             0.8888888888888888,
             "#fdca26"
            ],
            [
             1,
             "#f0f921"
            ]
           ],
           "sequentialminus": [
            [
             0,
             "#0d0887"
            ],
            [
             0.1111111111111111,
             "#46039f"
            ],
            [
             0.2222222222222222,
             "#7201a8"
            ],
            [
             0.3333333333333333,
             "#9c179e"
            ],
            [
             0.4444444444444444,
             "#bd3786"
            ],
            [
             0.5555555555555556,
             "#d8576b"
            ],
            [
             0.6666666666666666,
             "#ed7953"
            ],
            [
             0.7777777777777778,
             "#fb9f3a"
            ],
            [
             0.8888888888888888,
             "#fdca26"
            ],
            [
             1,
             "#f0f921"
            ]
           ]
          },
          "colorway": [
           "#636efa",
           "#EF553B",
           "#00cc96",
           "#ab63fa",
           "#FFA15A",
           "#19d3f3",
           "#FF6692",
           "#B6E880",
           "#FF97FF",
           "#FECB52"
          ],
          "font": {
           "color": "#2a3f5f"
          },
          "geo": {
           "bgcolor": "white",
           "lakecolor": "white",
           "landcolor": "white",
           "showlakes": true,
           "showland": true,
           "subunitcolor": "#C8D4E3"
          },
          "hoverlabel": {
           "align": "left"
          },
          "hovermode": "closest",
          "mapbox": {
           "style": "light"
          },
          "paper_bgcolor": "white",
          "plot_bgcolor": "white",
          "polar": {
           "angularaxis": {
            "gridcolor": "#EBF0F8",
            "linecolor": "#EBF0F8",
            "ticks": ""
           },
           "bgcolor": "white",
           "radialaxis": {
            "gridcolor": "#EBF0F8",
            "linecolor": "#EBF0F8",
            "ticks": ""
           }
          },
          "scene": {
           "xaxis": {
            "backgroundcolor": "white",
            "gridcolor": "#DFE8F3",
            "gridwidth": 2,
            "linecolor": "#EBF0F8",
            "showbackground": true,
            "ticks": "",
            "zerolinecolor": "#EBF0F8"
           },
           "yaxis": {
            "backgroundcolor": "white",
            "gridcolor": "#DFE8F3",
            "gridwidth": 2,
            "linecolor": "#EBF0F8",
            "showbackground": true,
            "ticks": "",
            "zerolinecolor": "#EBF0F8"
           },
           "zaxis": {
            "backgroundcolor": "white",
            "gridcolor": "#DFE8F3",
            "gridwidth": 2,
            "linecolor": "#EBF0F8",
            "showbackground": true,
            "ticks": "",
            "zerolinecolor": "#EBF0F8"
           }
          },
          "shapedefaults": {
           "line": {
            "color": "#2a3f5f"
           }
          },
          "ternary": {
           "aaxis": {
            "gridcolor": "#DFE8F3",
            "linecolor": "#A2B1C6",
            "ticks": ""
           },
           "baxis": {
            "gridcolor": "#DFE8F3",
            "linecolor": "#A2B1C6",
            "ticks": ""
           },
           "bgcolor": "white",
           "caxis": {
            "gridcolor": "#DFE8F3",
            "linecolor": "#A2B1C6",
            "ticks": ""
           }
          },
          "title": {
           "x": 0.05
          },
          "xaxis": {
           "automargin": true,
           "gridcolor": "#EBF0F8",
           "linecolor": "#EBF0F8",
           "ticks": "",
           "title": {
            "standoff": 15
           },
           "zerolinecolor": "#EBF0F8",
           "zerolinewidth": 2
          },
          "yaxis": {
           "automargin": true,
           "gridcolor": "#EBF0F8",
           "linecolor": "#EBF0F8",
           "ticks": "",
           "title": {
            "standoff": 15
           },
           "zerolinecolor": "#EBF0F8",
           "zerolinewidth": 2
          }
         }
        },
        "title": {
         "font": {
          "family": "Helvetica",
          "size": 28
         },
         "text": "<b>Marginal Percentage Change in Mrsi for Athlete BASEB1</b>",
         "x": 0.018,
         "y": 0.93
        },
        "updatemenus": [
         {
          "buttons": [
           {
            "args": [
             {
              "x": [
               [
                "2024-01-15T00:00:00",
                "2024-01-16T00:00:00",
                "2024-01-18T00:00:00",
                "2024-01-23T00:00:00",
                "2024-01-25T00:00:00",
                "2024-01-30T00:00:00",
                "2024-02-01T00:00:00",
                "2024-02-06T00:00:00",
                "2024-02-08T00:00:00",
                "2024-02-13T00:00:00",
                "2024-02-15T00:00:00",
                "2024-02-20T00:00:00",
                "2024-02-29T00:00:00",
                "2024-03-06T00:00:00",
                "2024-03-07T00:00:00",
                "2024-03-14T00:00:00",
                "2024-03-19T00:00:00",
                "2024-03-28T00:00:00",
                "2024-04-04T00:00:00",
                "2024-04-08T00:00:00",
                "2024-04-11T00:00:00",
                "2024-04-16T00:00:00",
                "2024-04-19T00:00:00",
                "2024-04-23T00:00:00",
                "2024-04-26T00:00:00",
                "2024-05-01T00:00:00",
                "2024-05-03T00:00:00",
                "2024-05-08T00:00:00",
                "2024-05-13T00:00:00",
                "2024-05-15T00:00:00",
                "2024-05-22T00:00:00"
               ]
              ],
              "y": [
               [
                null,
                -0.12250114701448522,
                0.0625933671945027,
                0.15380289610572184,
                -0.06250761545022543,
                0.08175201455679759,
                -0.11780607953862787,
                0.08573374191351713,
                0.0005435691587221125,
                0.06464958836558155,
                -0.1264130946773434,
                0.049740513580912804,
                -0.0060995184590690865,
                0.0014211886304908994,
                0.03883369887756416,
                -0.36003477396920025,
                0.2418008926838735,
                -0.09954680418815431,
                0.12964248524817767,
                0.09371639268704857,
                0.03729456384323648,
                0.11422574311056932,
                -0.1490034030140983,
                0.040131391031134056,
                0.0208705203899493,
                -0.14586415601882996,
                0.23596567199433127,
                -0.1725060517263346,
                -0.06766743648960727,
                0.1457352819750639,
                -0.11566733929086181
               ]
              ]
             },
             {
              "title": "<b>Marginal Percentage Change in Mrsi for Athlete BASEB1</b>"
             }
            ],
            "label": "BASEB1",
            "method": "update"
           },
           {
            "args": [
             {
              "x": [
               [
                "2024-01-15T00:00:00",
                "2024-01-16T00:00:00",
                "2024-01-18T00:00:00",
                "2024-01-23T00:00:00",
                "2024-01-25T00:00:00",
                "2024-01-30T00:00:00",
                "2024-02-01T00:00:00",
                "2024-02-07T00:00:00",
                "2024-02-08T00:00:00",
                "2024-02-13T00:00:00",
                "2024-02-15T00:00:00",
                "2024-02-27T00:00:00",
                "2024-02-29T00:00:00",
                "2024-03-06T00:00:00",
                "2024-03-07T00:00:00",
                "2024-03-14T00:00:00",
                "2024-03-19T00:00:00",
                "2024-03-26T00:00:00",
                "2024-03-28T00:00:00",
                "2024-04-04T00:00:00",
                "2024-04-08T00:00:00",
                "2024-04-11T00:00:00",
                "2024-04-16T00:00:00",
                "2024-04-19T00:00:00",
                "2024-04-23T00:00:00",
                "2024-04-26T00:00:00",
                "2024-05-01T00:00:00",
                "2024-05-03T00:00:00",
                "2024-05-08T00:00:00",
                "2024-05-13T00:00:00",
                "2024-05-15T00:00:00",
                "2024-05-22T00:00:00"
               ]
              ],
              "y": [
               [
                0.21831961535327205,
                -0.05618729096989972,
                -0.035577604535790286,
                0.007422104644326799,
                0.028448464512364158,
                0.008794949996453694,
                -0.06988680306545736,
                0.002696096958701988,
                0.0339749711011712,
                -0.007752879988334294,
                0.07296641928135794,
                0.011299821942199584,
                -0.03934448432315285,
                -0.04370506132806995,
                0.13224237063246358,
                -0.09921875000000002,
                -0.06519225209598134,
                0.25560538116591935,
                -0.00849753694581279,
                -0.009936653831822184,
                0.017187303976916146,
                -0.055130735076467596,
                0.010311969716747083,
                -0.054651162790697705,
                0.11685116851168509,
                -0.09618208516886928,
                -0.02301651773625779,
                0.03270509977827052,
                0.04005636070853469,
                -0.042513386233146266,
                -0.01913488748147152,
                -0.07459815908778678
               ]
              ]
             },
             {
              "title": "<b>Marginal Percentage Change in Mrsi for Athlete BASEB10</b>"
             }
            ],
            "label": "BASEB10",
            "method": "update"
           },
           {
            "args": [
             {
              "x": [
               [
                "2024-01-15T00:00:00",
                "2024-01-16T00:00:00",
                "2024-01-18T00:00:00",
                "2024-01-23T00:00:00",
                "2024-01-25T00:00:00",
                "2024-01-30T00:00:00",
                "2024-02-01T00:00:00",
                "2024-02-06T00:00:00",
                "2024-02-08T00:00:00",
                "2024-02-13T00:00:00",
                "2024-02-15T00:00:00",
                "2024-02-29T00:00:00",
                "2024-03-06T00:00:00",
                "2024-03-07T00:00:00",
                "2024-03-14T00:00:00",
                "2024-03-19T00:00:00",
                "2024-03-21T00:00:00",
                "2024-03-26T00:00:00",
                "2024-03-28T00:00:00",
                "2024-04-04T00:00:00",
                "2024-04-08T00:00:00",
                "2024-04-11T00:00:00",
                "2024-04-16T00:00:00",
                "2024-04-19T00:00:00",
                "2024-04-23T00:00:00",
                "2024-04-26T00:00:00",
                "2024-05-01T00:00:00",
                "2024-05-03T00:00:00",
                "2024-05-08T00:00:00",
                "2024-05-13T00:00:00",
                "2024-05-15T00:00:00",
                "2024-05-22T00:00:00"
               ]
              ],
              "y": [
               [
                -0.17554928741092635,
                0.032772125686503895,
                0.08517130154302155,
                -0.08169987146529556,
                -0.07409675443968156,
                0.1489984882842026,
                0.02483348408847985,
                -0.08727165743935383,
                -0.02332532380003527,
                0.21683168316831702,
                0.017235002588948722,
                0.018033740546829602,
                -0.14614285714285713,
                0.03563660699347504,
                -0.0945072697899838,
                0.06297948260481712,
                0.07233971131252104,
                -0.1878228204726874,
                0.2050491424166505,
                0.02462817847433252,
                0.0046823786483534136,
                0.010563927295323738,
                -0.02475019215987706,
                -0.023802017654476648,
                -0.0009688357823347538,
                0.170357200581865,
                -0.024996547438199124,
                -0.15283286118980166,
                0.11854204982444427,
                -0.07279521674140521,
                -0.08399161695953561,
                -0.01935938049982422
               ]
              ]
             },
             {
              "title": "<b>Marginal Percentage Change in Mrsi for Athlete BASEB11</b>"
             }
            ],
            "label": "BASEB11",
            "method": "update"
           },
           {
            "args": [
             {
              "x": [
               [
                "2024-01-15T00:00:00",
                "2024-01-16T00:00:00",
                "2024-01-18T00:00:00",
                "2024-01-23T00:00:00",
                "2024-01-25T00:00:00",
                "2024-01-30T00:00:00",
                "2024-02-01T00:00:00",
                "2024-02-06T00:00:00",
                "2024-02-08T00:00:00",
                "2024-02-13T00:00:00",
                "2024-02-15T00:00:00",
                "2024-02-29T00:00:00",
                "2024-03-06T00:00:00",
                "2024-03-14T00:00:00",
                "2024-03-19T00:00:00",
                "2024-03-21T00:00:00",
                "2024-03-26T00:00:00",
                "2024-03-28T00:00:00",
                "2024-04-04T00:00:00",
                "2024-04-08T00:00:00",
                "2024-04-11T00:00:00",
                "2024-04-16T00:00:00",
                "2024-04-19T00:00:00",
                "2024-04-23T00:00:00",
                "2024-04-26T00:00:00",
                "2024-05-01T00:00:00",
                "2024-05-03T00:00:00",
                "2024-05-08T00:00:00",
                "2024-05-13T00:00:00",
                "2024-05-15T00:00:00",
                "2024-05-22T00:00:00"
               ]
              ],
              "y": [
               [
                0.24093682699210328,
                -0.025019885747342374,
                -0.024846102499443856,
                -0.06000912686340121,
                0.018124443725220374,
                0.017960740681872256,
                -0.09493325005855258,
                0.0046292302826416165,
                -0.026445334859759306,
                -0.004468485418626655,
                0.055457122608079334,
                0.1111297633036763,
                -0.004532406707961956,
                -0.07148277432083783,
                0.08793723439032353,
                0.04792668269230771,
                -0.0675268817204302,
                0.0264452644526445,
                -0.02726183343319355,
                -0.0686787804126886,
                0.10747354497354489,
                -0.03359211704986553,
                0.002162830217828038,
                0.030676738091567568,
                -0.005384385282680149,
                -0.04834586466165414,
                -0.06934239287877586,
                -0.01997849340653146,
                0.12300762300762313,
                -0.04041962357297135,
                -0.11181672025723477
               ]
              ]
             },
             {
              "title": "<b>Marginal Percentage Change in Mrsi for Athlete BASEB12</b>"
             }
            ],
            "label": "BASEB12",
            "method": "update"
           },
           {
            "args": [
             {
              "x": [
               [
                "2024-01-15T00:00:00",
                "2024-01-16T00:00:00",
                "2024-01-18T00:00:00",
                "2024-01-23T00:00:00",
                "2024-01-25T00:00:00",
                "2024-01-30T00:00:00",
                "2024-02-01T00:00:00",
                "2024-02-06T00:00:00",
                "2024-02-08T00:00:00",
                "2024-02-13T00:00:00",
                "2024-02-15T00:00:00",
                "2024-02-20T00:00:00",
                "2024-02-27T00:00:00",
                "2024-02-29T00:00:00",
                "2024-03-05T00:00:00",
                "2024-03-07T00:00:00",
                "2024-03-14T00:00:00",
                "2024-03-19T00:00:00",
                "2024-03-21T00:00:00",
                "2024-03-26T00:00:00",
                "2024-03-28T00:00:00",
                "2024-04-04T00:00:00",
                "2024-04-08T00:00:00",
                "2024-04-11T00:00:00",
                "2024-04-16T00:00:00",
                "2024-04-19T00:00:00",
                "2024-04-23T00:00:00",
                "2024-04-26T00:00:00",
                "2024-05-01T00:00:00",
                "2024-05-03T00:00:00",
                "2024-05-08T00:00:00",
                "2024-05-13T00:00:00",
                "2024-05-15T00:00:00",
                "2024-05-22T00:00:00"
               ]
              ],
              "y": [
               [
                0.12326907412435495,
                -0.05624043187494954,
                0.007086143601126915,
                0.005764665988470696,
                0.023010788941335125,
                0.01400675620004943,
                -0.01625091411391888,
                0.04330827895707712,
                -0.07605425661054521,
                0.06677710499257405,
                -0.023453815261044286,
                0.09894719526237883,
                -0.04453259486565364,
                -0.021776594078019906,
                0.030829596412556226,
                0.06812708770294407,
                -0.17723636363636364,
                0.14664545213471225,
                0.049337033610854286,
                -0.05847781369379956,
                -0.06757178526841445,
                0.02058577405857731,
                0.08920957691046238,
                -0.09078590785907859,
                -0.03336645139923833,
                0.017558886509635885,
                0.019023569023568943,
                -0.05765735998678334,
                -0.047627395979429665,
                0.08323617843774911,
                -0.03449740844591698,
                -0.0075684238317347274,
                -0.01977476279152235,
                -0.02949158675592567
               ]
              ]
             },
             {
              "title": "<b>Marginal Percentage Change in Mrsi for Athlete BASEB13</b>"
             }
            ],
            "label": "BASEB13",
            "method": "update"
           },
           {
            "args": [
             {
              "x": [
               [
                "2024-01-15T00:00:00",
                "2024-01-16T00:00:00",
                "2024-01-18T00:00:00",
                "2024-01-23T00:00:00",
                "2024-01-25T00:00:00",
                "2024-01-30T00:00:00",
                "2024-02-01T00:00:00",
                "2024-02-08T00:00:00",
                "2024-02-13T00:00:00",
                "2024-02-29T00:00:00",
                "2024-03-07T00:00:00",
                "2024-03-14T00:00:00",
                "2024-03-19T00:00:00",
                "2024-03-21T00:00:00",
                "2024-03-26T00:00:00",
                "2024-03-28T00:00:00",
                "2024-04-04T00:00:00",
                "2024-04-08T00:00:00",
                "2024-04-11T00:00:00",
                "2024-04-16T00:00:00",
                "2024-04-19T00:00:00",
                "2024-04-23T00:00:00",
                "2024-04-26T00:00:00",
                "2024-05-01T00:00:00",
                "2024-05-03T00:00:00",
                "2024-05-08T00:00:00",
                "2024-05-13T00:00:00",
                "2024-05-15T00:00:00",
                "2024-05-22T00:00:00"
               ]
              ],
              "y": [
               [
                0.16014168530947082,
                -0.06644705126144945,
                0.007659867458473135,
                0.14793303723949425,
                -0.04122023809523789,
                0.11547415800093108,
                -0.07708362320857098,
                -0.13005678677320454,
                0.052365547917509137,
                0.13314121037463966,
                -0.039747129777648715,
                -0.087627695800227,
                0.15169611014348527,
                -0.0040328388304767815,
                0.16760665220535076,
                -0.13599207332177365,
                -0.012041284403669694,
                0.02408589669181649,
                -0.035420799093227595,
                0.05023501762632199,
                -0.136083916083916,
                0.2120770600615185,
                -0.08521437157740097,
                -0.17048717574341754,
                0.041744895564421514,
                0.039199121399003056,
                -0.08348914722380296,
                0.08603867305304247,
                0.10454099967330954
               ]
              ]
             },
             {
              "title": "<b>Marginal Percentage Change in Mrsi for Athlete BASEB14</b>"
             }
            ],
            "label": "BASEB14",
            "method": "update"
           },
           {
            "args": [
             {
              "x": [
               [
                "2024-01-15T00:00:00",
                "2024-01-16T00:00:00",
                "2024-01-18T00:00:00",
                "2024-01-23T00:00:00",
                "2024-01-25T00:00:00",
                "2024-01-30T00:00:00",
                "2024-02-01T00:00:00",
                "2024-02-07T00:00:00",
                "2024-02-08T00:00:00",
                "2024-02-13T00:00:00",
                "2024-02-15T00:00:00",
                "2024-02-29T00:00:00",
                "2024-03-06T00:00:00",
                "2024-03-07T00:00:00",
                "2024-03-14T00:00:00",
                "2024-03-19T00:00:00",
                "2024-03-26T00:00:00",
                "2024-03-28T00:00:00",
                "2024-04-04T00:00:00",
                "2024-04-08T00:00:00",
                "2024-04-11T00:00:00",
                "2024-04-16T00:00:00",
                "2024-04-19T00:00:00",
                "2024-04-23T00:00:00",
                "2024-04-26T00:00:00",
                "2024-05-01T00:00:00",
                "2024-05-03T00:00:00",
                "2024-05-08T00:00:00",
                "2024-05-13T00:00:00",
                "2024-05-15T00:00:00",
                "2024-05-22T00:00:00"
               ]
              ],
              "y": [
               [
                0.154170363797693,
                -0.207508488692421,
                0.048019401778496285,
                0.14563406356062925,
                -0.05514408833827089,
                0.0945628162189125,
                -0.12890625,
                -0.0068759342301943915,
                0.0501204093919323,
                0.024509101332951255,
                -0.010492445439283626,
                0.015269334087374409,
                0.0020888455646845827,
                0.08115619788771533,
                -0.13946015424164526,
                0.014339058999253362,
                -0.005006626417317195,
                0.039070593458635505,
                -0.0301951288990171,
                -0.0014686444411809996,
                0.007942344462421147,
                0.05939004815409299,
                -0.08856749311294765,
                0.0007556294393229468,
                0.014648142555119481,
                0.018901622265217854,
                -0.009640666082383786,
                -0.014380530973451378,
                0.05798728020950228,
                0.003677510608203649,
                -0.10019729425028179
               ]
              ]
             },
             {
              "title": "<b>Marginal Percentage Change in Mrsi for Athlete BASEB15</b>"
             }
            ],
            "label": "BASEB15",
            "method": "update"
           },
           {
            "args": [
             {
              "x": [
               [
                "2024-01-15T00:00:00",
                "2024-01-16T00:00:00",
                "2024-01-18T00:00:00",
                "2024-01-23T00:00:00",
                "2024-01-25T00:00:00",
                "2024-01-30T00:00:00",
                "2024-02-01T00:00:00",
                "2024-02-06T00:00:00",
                "2024-02-08T00:00:00",
                "2024-02-13T00:00:00",
                "2024-02-15T00:00:00",
                "2024-02-29T00:00:00",
                "2024-03-06T00:00:00",
                "2024-03-07T00:00:00",
                "2024-03-14T00:00:00",
                "2024-03-19T00:00:00",
                "2024-03-26T00:00:00",
                "2024-03-28T00:00:00",
                "2024-04-04T00:00:00",
                "2024-04-08T00:00:00",
                "2024-04-11T00:00:00",
                "2024-04-16T00:00:00",
                "2024-04-19T00:00:00",
                "2024-04-23T00:00:00",
                "2024-04-26T00:00:00",
                "2024-05-01T00:00:00",
                "2024-05-03T00:00:00",
                "2024-05-08T00:00:00",
                "2024-05-13T00:00:00",
                "2024-05-15T00:00:00",
                "2024-05-22T00:00:00"
               ]
              ],
              "y": [
               [
                0.3953014878621768,
                -0.027724772701762324,
                -0.07688755483721998,
                0.06915957978989495,
                0.006784419230319472,
                -0.05640757522946438,
                0.01914670935172058,
                0.007732270146188158,
                0.0034368381089397992,
                -0.020271615755306782,
                0.04731707317073153,
                -0.005006986492780641,
                -0.0210649502633119,
                0.02367005379557674,
                -0.07824360621277582,
                0.03826175091853545,
                0.07309334960341674,
                -0.054810097793950296,
                0.07050048123195385,
                -0.08923353562598335,
                0.07576505429417568,
                -0.04657031429226888,
                -0.0410250240615978,
                0.009095471082674722,
                0.023683719773730294,
                -0.04874099263217557,
                0.03681164354413147,
                -0.030107129663834553,
                0.14251253729448377,
                -0.11423491499055449,
                0.01894367080667414
               ]
              ]
             },
             {
              "title": "<b>Marginal Percentage Change in Mrsi for Athlete BASEB16</b>"
             }
            ],
            "label": "BASEB16",
            "method": "update"
           },
           {
            "args": [
             {
              "x": [
               [
                "2024-01-15T00:00:00",
                "2024-01-16T00:00:00",
                "2024-01-18T00:00:00",
                "2024-01-23T00:00:00",
                "2024-01-25T00:00:00",
                "2024-01-30T00:00:00",
                "2024-02-01T00:00:00",
                "2024-02-08T00:00:00",
                "2024-02-13T00:00:00",
                "2024-02-29T00:00:00",
                "2024-03-06T00:00:00",
                "2024-03-07T00:00:00",
                "2024-03-14T00:00:00",
                "2024-03-19T00:00:00",
                "2024-03-26T00:00:00",
                "2024-03-28T00:00:00",
                "2024-04-04T00:00:00",
                "2024-04-08T00:00:00",
                "2024-04-11T00:00:00",
                "2024-04-16T00:00:00",
                "2024-04-19T00:00:00",
                "2024-04-23T00:00:00",
                "2024-04-26T00:00:00",
                "2024-05-01T00:00:00",
                "2024-05-03T00:00:00",
                "2024-05-08T00:00:00",
                "2024-05-13T00:00:00",
                "2024-05-15T00:00:00",
                "2024-05-22T00:00:00"
               ]
              ],
              "y": [
               [
                -0.1342033981777887,
                -0.09463879408418674,
                -0.141757637634493,
                0.23078330893118615,
                -0.07977695167286258,
                0.15932778540841874,
                -0.07902989755383649,
                -0.045125488712321804,
                -0.016959002535925638,
                0.05411941742355042,
                0.07555827470174359,
                -0.0658418657565415,
                -0.22271274166539823,
                0.14757148452800628,
                0.03097533919276385,
                0.11190200297963915,
                -0.08515706416555002,
                0.03710333604556548,
                0.04613211988074695,
                -0.02999850007499616,
                -0.062625637853719,
                -0.017980864401187624,
                -0.0050394758945069285,
                0.025493837582306167,
                0.07795521896608482,
                -0.019320351279114023,
                -0.10014016508332024,
                0.09830391138802352,
                -0.14662779703750406
               ]
              ]
             },
             {
              "title": "<b>Marginal Percentage Change in Mrsi for Athlete BASEB17</b>"
             }
            ],
            "label": "BASEB17",
            "method": "update"
           },
           {
            "args": [
             {
              "x": [
               [
                "2024-01-15T00:00:00",
                "2024-01-16T00:00:00",
                "2024-01-18T00:00:00",
                "2024-01-23T00:00:00",
                "2024-01-25T00:00:00",
                "2024-01-30T00:00:00",
                "2024-02-01T00:00:00",
                "2024-02-06T00:00:00",
                "2024-02-08T00:00:00",
                "2024-02-13T00:00:00",
                "2024-02-15T00:00:00",
                "2024-02-29T00:00:00",
                "2024-03-06T00:00:00",
                "2024-03-07T00:00:00",
                "2024-03-14T00:00:00",
                "2024-03-19T00:00:00",
                "2024-03-26T00:00:00",
                "2024-03-28T00:00:00",
                "2024-04-04T00:00:00",
                "2024-04-08T00:00:00",
                "2024-04-11T00:00:00",
                "2024-04-16T00:00:00",
                "2024-04-19T00:00:00",
                "2024-04-23T00:00:00",
                "2024-04-26T00:00:00",
                "2024-05-01T00:00:00",
                "2024-05-03T00:00:00",
                "2024-05-08T00:00:00",
                "2024-05-13T00:00:00",
                "2024-05-15T00:00:00",
                "2024-05-22T00:00:00"
               ]
              ],
              "y": [
               [
                0.17357584710553042,
                0.05931870033828979,
                0.04849610100259927,
                0.007012324691882732,
                0.051276640641485516,
                0.12143717382577268,
                -0.1949764333870294,
                -0.0025939375972726664,
                0.027195720017833214,
                0.01540798611111116,
                0.10436702999216352,
                -0.0042575151593342575,
                -0.017232443638248385,
                0.06684245220830598,
                -0.3187098368759268,
                0.38817340830763647,
                0.07787795635698425,
                -0.3144017456661413,
                0.3848466094951817,
                0.03868743615934633,
                0.013521819299323834,
                0.12201334141904185,
                -0.14149821640903693,
                -0.055905313523042066,
                0.022539343825020097,
                -0.1870788226598843,
                0.4074232538239382,
                -0.18764249886000905,
                -0.08433904013471782,
                0.06482758620689633,
                -0.152705814622913
               ]
              ]
             },
             {
              "title": "<b>Marginal Percentage Change in Mrsi for Athlete BASEB18</b>"
             }
            ],
            "label": "BASEB18",
            "method": "update"
           },
           {
            "args": [
             {
              "x": [
               [
                "2024-01-15T00:00:00",
                "2024-01-16T00:00:00",
                "2024-01-18T00:00:00",
                "2024-01-23T00:00:00",
                "2024-01-25T00:00:00",
                "2024-01-30T00:00:00",
                "2024-02-01T00:00:00",
                "2024-02-07T00:00:00",
                "2024-02-08T00:00:00",
                "2024-02-13T00:00:00",
                "2024-02-15T00:00:00",
                "2024-02-20T00:00:00",
                "2024-02-27T00:00:00",
                "2024-02-29T00:00:00",
                "2024-03-06T00:00:00",
                "2024-03-07T00:00:00",
                "2024-03-14T00:00:00",
                "2024-03-19T00:00:00",
                "2024-03-26T00:00:00",
                "2024-03-28T00:00:00",
                "2024-04-04T00:00:00",
                "2024-04-08T00:00:00",
                "2024-04-11T00:00:00",
                "2024-04-16T00:00:00",
                "2024-04-23T00:00:00",
                "2024-04-26T00:00:00",
                "2024-05-01T00:00:00",
                "2024-05-03T00:00:00",
                "2024-05-08T00:00:00",
                "2024-05-13T00:00:00",
                "2024-05-15T00:00:00"
               ]
              ],
              "y": [
               [
                0.7565822999830134,
                -0.08316410405183261,
                -0.16643813943676822,
                0.20334050360622546,
                0.08601472134595167,
                -0.05964368706429124,
                -0.0036552718286655406,
                -0.019893556554539282,
                -0.07184029242232537,
                0.06479097243259613,
                -0.1034353995519045,
                0.021122151484500584,
                0.06123994872392502,
                -0.01026739142370836,
                -0.06795739487407082,
                0.06029403011725498,
                -0.09829347704052993,
                -0.003050488700740872,
                0.006369426751592355,
                0.02941176470588247,
                0.007414104882459194,
                0.021360617483396238,
                0.030521382542472164,
                0.027798305951907132,
                -0.1922842920353982,
                0.0717978566781936,
                -0.1553156146179403,
                0.09280689811663256,
                -0.10029069767441845,
                0.15601200092314782,
                -0.05776269381779464
               ]
              ]
             },
             {
              "title": "<b>Marginal Percentage Change in Mrsi for Athlete BASEB19</b>"
             }
            ],
            "label": "BASEB19",
            "method": "update"
           },
           {
            "args": [
             {
              "x": [
               [
                "2024-01-15T00:00:00",
                "2024-01-16T00:00:00",
                "2024-01-18T00:00:00",
                "2024-01-23T00:00:00",
                "2024-01-25T00:00:00",
                "2024-01-30T00:00:00",
                "2024-02-01T00:00:00",
                "2024-02-06T00:00:00",
                "2024-02-08T00:00:00",
                "2024-02-13T00:00:00",
                "2024-02-15T00:00:00",
                "2024-02-29T00:00:00",
                "2024-03-06T00:00:00",
                "2024-03-07T00:00:00",
                "2024-03-14T00:00:00",
                "2024-03-19T00:00:00",
                "2024-03-21T00:00:00",
                "2024-03-26T00:00:00",
                "2024-03-28T00:00:00",
                "2024-04-04T00:00:00",
                "2024-04-08T00:00:00",
                "2024-04-11T00:00:00",
                "2024-04-16T00:00:00",
                "2024-04-19T00:00:00",
                "2024-04-23T00:00:00",
                "2024-04-26T00:00:00",
                "2024-05-01T00:00:00",
                "2024-05-03T00:00:00",
                "2024-05-08T00:00:00",
                "2024-05-13T00:00:00",
                "2024-05-15T00:00:00",
                "2024-05-22T00:00:00"
               ]
              ],
              "y": [
               [
                0.13722720531110943,
                -0.025711091789839657,
                -0.14992350841407454,
                0.15829334133173378,
                0.017220172201722006,
                -0.011073633297269736,
                -0.034558208378917654,
                -0.11162956050304407,
                -0.06577960082036927,
                0.14138466481045198,
                0.06157202167335152,
                -0.17057757744487156,
                0.09792743353401878,
                -0.010190711894016657,
                -0.20885424327106916,
                0.06134969325153361,
                0.016815554387808795,
                0.15710594315245463,
                -0.4142474318892363,
                0.6535773287584192,
                -0.05418075622502294,
                -0.038677175591127044,
                0.12112247485419658,
                0.05458383594692395,
                -0.056905919359450996,
                -0.04805942995754997,
                0.09890109890109877,
                -0.14028985507246372,
                0.05209035738368173,
                -0.06937990706617525,
                0.1442837465564739,
                0.07417995786939513
               ]
              ]
             },
             {
              "title": "<b>Marginal Percentage Change in Mrsi for Athlete BASEB2</b>"
             }
            ],
            "label": "BASEB2",
            "method": "update"
           },
           {
            "args": [
             {
              "x": [
               [
                "2024-01-15T00:00:00",
                "2024-01-16T00:00:00",
                "2024-01-18T00:00:00",
                "2024-01-23T00:00:00",
                "2024-01-25T00:00:00",
                "2024-01-30T00:00:00",
                "2024-02-01T00:00:00",
                "2024-02-06T00:00:00",
                "2024-02-08T00:00:00",
                "2024-02-13T00:00:00",
                "2024-02-15T00:00:00",
                "2024-02-20T00:00:00",
                "2024-02-27T00:00:00",
                "2024-02-29T00:00:00",
                "2024-03-06T00:00:00",
                "2024-03-07T00:00:00",
                "2024-03-14T00:00:00",
                "2024-03-19T00:00:00",
                "2024-03-26T00:00:00",
                "2024-03-28T00:00:00",
                "2024-04-04T00:00:00",
                "2024-04-08T00:00:00",
                "2024-04-11T00:00:00",
                "2024-04-16T00:00:00",
                "2024-04-19T00:00:00",
                "2024-04-23T00:00:00",
                "2024-04-26T00:00:00",
                "2024-05-01T00:00:00",
                "2024-05-03T00:00:00",
                "2024-05-08T00:00:00",
                "2024-05-13T00:00:00",
                "2024-05-15T00:00:00",
                "2024-05-22T00:00:00"
               ]
              ],
              "y": [
               [
                -0.12781902227202702,
                -0.06705211595599447,
                -0.009123773454983608,
                -0.019631688672689274,
                0.015505936558567912,
                0.17738417241078475,
                -0.08033199940714397,
                0.050550631211388586,
                0.0025567600736344787,
                -0.06362848107722119,
                -0.08374867227714689,
                0.06447298020331726,
                0.0657619167294965,
                -0.01069014305926741,
                0.0058795487049103645,
                -0.05434439178515005,
                0.0379218175743401,
                0.03637534202478676,
                -0.04752290728373987,
                0.008315669329854947,
                0.024902975420439954,
                0.08220258756705578,
                -0.0007289692374981005,
                -0.013276918587685982,
                -0.02779831435753366,
                -0.06479087452471477,
                0.04016913319238902,
                -0.21138211382113825,
                0.14591593973037265,
                0.1201557093425607,
                -0.04494555564136249,
                -0.09404059189779257,
                0.10567654409139604
               ]
              ]
             },
             {
              "title": "<b>Marginal Percentage Change in Mrsi for Athlete BASEB20</b>"
             }
            ],
            "label": "BASEB20",
            "method": "update"
           },
           {
            "args": [
             {
              "x": [
               [
                "2024-01-15T00:00:00",
                "2024-01-16T00:00:00",
                "2024-01-18T00:00:00",
                "2024-01-23T00:00:00",
                "2024-01-25T00:00:00",
                "2024-01-30T00:00:00",
                "2024-02-01T00:00:00",
                "2024-02-06T00:00:00",
                "2024-02-08T00:00:00",
                "2024-02-20T00:00:00",
                "2024-02-29T00:00:00",
                "2024-03-06T00:00:00",
                "2024-03-07T00:00:00",
                "2024-03-14T00:00:00",
                "2024-03-19T00:00:00",
                "2024-04-04T00:00:00",
                "2024-04-23T00:00:00",
                "2024-04-26T00:00:00",
                "2024-05-01T00:00:00",
                "2024-05-03T00:00:00",
                "2024-05-08T00:00:00",
                "2024-05-13T00:00:00",
                "2024-05-15T00:00:00",
                "2024-05-22T00:00:00"
               ]
              ],
              "y": [
               [
                0.03123990958992562,
                -0.13581213307240692,
                0.034057971014492594,
                0.02111072179397344,
                -0.02058848760401477,
                -0.013576245949023402,
                -0.05398685846208484,
                -0.032163193792628775,
                0.16037369884269737,
                -0.01704972837442542,
                0.03511606155939129,
                -0.11154920321997708,
                0.050480769230769384,
                -0.07463474740362608,
                0.05592543275632478,
                0.0832282471626733,
                -0.020954598370197863,
                -0.03838967215899436,
                0.01978449037272556,
                -0.04226571972977666,
                0.09368782781696527,
                -0.041260128989581646,
                -0.0014661492022424172,
                -0.037484885126964795
               ]
              ]
             },
             {
              "title": "<b>Marginal Percentage Change in Mrsi for Athlete BASEB21</b>"
             }
            ],
            "label": "BASEB21",
            "method": "update"
           },
           {
            "args": [
             {
              "x": [
               [
                "2024-01-15T00:00:00",
                "2024-01-16T00:00:00",
                "2024-01-18T00:00:00",
                "2024-01-23T00:00:00",
                "2024-01-25T00:00:00",
                "2024-01-30T00:00:00",
                "2024-02-01T00:00:00",
                "2024-02-07T00:00:00",
                "2024-02-08T00:00:00",
                "2024-02-13T00:00:00",
                "2024-02-29T00:00:00",
                "2024-03-06T00:00:00",
                "2024-03-07T00:00:00",
                "2024-03-14T00:00:00",
                "2024-03-19T00:00:00",
                "2024-03-21T00:00:00",
                "2024-03-26T00:00:00",
                "2024-03-28T00:00:00",
                "2024-04-04T00:00:00",
                "2024-04-08T00:00:00",
                "2024-04-11T00:00:00",
                "2024-04-16T00:00:00",
                "2024-04-19T00:00:00",
                "2024-04-23T00:00:00",
                "2024-04-26T00:00:00",
                "2024-05-01T00:00:00",
                "2024-05-03T00:00:00",
                "2024-05-08T00:00:00",
                "2024-05-13T00:00:00",
                "2024-05-15T00:00:00",
                "2024-05-22T00:00:00"
               ]
              ],
              "y": [
               [
                0.09458004307250523,
                -0.15371372356123958,
                -0.007459071975201015,
                -0.08725356236580117,
                0.037211291702309524,
                0.03793814432989695,
                0.2293404847040128,
                -0.13010691874713853,
                0.08476780185758503,
                0.09441178149437768,
                -0.011578782663119958,
                0.039734050973563306,
                -0.13367844092570047,
                0.1345342706502639,
                -0.05305553404074059,
                0,
                0.17798135121871428,
                -0.04999305651992769,
                -0.07148077766408423,
                0.0987090680100755,
                -0.054449061470124516,
                0.05697833005000752,
                -0.10623655913978503,
                0.022617901828681397,
                0.22321568627451005,
                -0.3793707788321793,
                0.31455334389420764,
                -0.10491983652939318,
                -0.029063131091404126,
                0.16476758907578248,
                0.10000000000000009
               ]
              ]
             },
             {
              "title": "<b>Marginal Percentage Change in Mrsi for Athlete BASEB22</b>"
             }
            ],
            "label": "BASEB22",
            "method": "update"
           },
           {
            "args": [
             {
              "x": [
               [
                "2024-01-15T00:00:00",
                "2024-01-16T00:00:00",
                "2024-01-18T00:00:00",
                "2024-01-23T00:00:00",
                "2024-01-25T00:00:00",
                "2024-01-30T00:00:00",
                "2024-02-01T00:00:00",
                "2024-02-08T00:00:00",
                "2024-02-13T00:00:00",
                "2024-02-15T00:00:00",
                "2024-02-29T00:00:00",
                "2024-03-06T00:00:00",
                "2024-03-07T00:00:00",
                "2024-03-14T00:00:00",
                "2024-03-19T00:00:00",
                "2024-03-26T00:00:00",
                "2024-03-28T00:00:00",
                "2024-04-04T00:00:00",
                "2024-04-08T00:00:00",
                "2024-04-11T00:00:00",
                "2024-04-16T00:00:00",
                "2024-04-19T00:00:00",
                "2024-04-23T00:00:00",
                "2024-04-26T00:00:00",
                "2024-05-01T00:00:00",
                "2024-05-03T00:00:00",
                "2024-05-08T00:00:00",
                "2024-05-13T00:00:00",
                "2024-05-15T00:00:00",
                "2024-05-22T00:00:00"
               ]
              ],
              "y": [
               [
                -0.4117730095990966,
                0.025437964962802928,
                -0.07933536157266552,
                0.15124555160142328,
                -0.020313534996687976,
                -0.0037187288708586674,
                -0.07397353240583648,
                0.048898660477993516,
                0.1096576352767642,
                -0.014377164445377177,
                -0.07602214650766614,
                0.018206960129061978,
                -0.04708012675418749,
                0.03420427553444183,
                0.09209921910886543,
                -0.017245005257623514,
                0.07297239460731864,
                -0.13322696449940163,
                -0.004371836171191967,
                0.01109313612202456,
                0.05279999999999996,
                -0.029092488059053512,
                -0.015429338103756574,
                0.02407449466273004,
                0.019294743845642115,
                0.026762402088772896,
                0.017164653528289886,
                -0.05437499999999995,
                -0.012557832121612766,
                0.05310129406514941
               ]
              ]
             },
             {
              "title": "<b>Marginal Percentage Change in Mrsi for Athlete BASEB23</b>"
             }
            ],
            "label": "BASEB23",
            "method": "update"
           },
           {
            "args": [
             {
              "x": [
               [
                "2024-01-15T00:00:00",
                "2024-01-16T00:00:00",
                "2024-01-18T00:00:00",
                "2024-01-23T00:00:00",
                "2024-01-25T00:00:00",
                "2024-01-30T00:00:00",
                "2024-02-01T00:00:00",
                "2024-02-06T00:00:00",
                "2024-02-08T00:00:00",
                "2024-02-13T00:00:00",
                "2024-02-15T00:00:00",
                "2024-02-20T00:00:00",
                "2024-02-27T00:00:00",
                "2024-02-29T00:00:00",
                "2024-03-05T00:00:00",
                "2024-03-07T00:00:00",
                "2024-03-14T00:00:00",
                "2024-03-19T00:00:00",
                "2024-03-26T00:00:00",
                "2024-03-28T00:00:00",
                "2024-04-04T00:00:00",
                "2024-04-08T00:00:00",
                "2024-04-11T00:00:00",
                "2024-04-16T00:00:00",
                "2024-04-19T00:00:00",
                "2024-04-23T00:00:00",
                "2024-04-26T00:00:00",
                "2024-05-01T00:00:00",
                "2024-05-03T00:00:00",
                "2024-05-08T00:00:00",
                "2024-05-13T00:00:00",
                "2024-05-15T00:00:00",
                "2024-05-22T00:00:00"
               ]
              ],
              "y": [
               [
                0.7947033898305085,
                -0.05235509384960435,
                -0.06110246029274369,
                0.006302242271460923,
                0.0249851671171466,
                0.036339078981219464,
                -0.014584496990007967,
                0.048662719905949725,
                -0.018497757847533713,
                -0.009831116912784488,
                0.02719070572240745,
                0.042955119720851975,
                0.03409090909090895,
                -0.06543202989903496,
                -0.04876447415542551,
                0.06067641337767449,
                -0.06181968764789392,
                0.0873321142568888,
                0.025864068661563433,
                -0.019446014697569236,
                0.033898305084745894,
                -0.04338128694100596,
                0.0332245278619725,
                -0.013088119147015576,
                0.02698067908997359,
                -0.014360458644105512,
                0,
                0.007454257962502986,
                0.04159192825112101,
                0.03379614680873955,
                -0.09026548672566359,
                -0.008583199816891818,
                0.02204778944938246
               ]
              ]
             },
             {
              "title": "<b>Marginal Percentage Change in Mrsi for Athlete BASEB25</b>"
             }
            ],
            "label": "BASEB25",
            "method": "update"
           },
           {
            "args": [
             {
              "x": [
               [
                "2024-01-15T00:00:00",
                "2024-01-16T00:00:00",
                "2024-01-18T00:00:00",
                "2024-01-23T00:00:00",
                "2024-01-25T00:00:00",
                "2024-01-30T00:00:00",
                "2024-02-01T00:00:00",
                "2024-02-13T00:00:00",
                "2024-02-29T00:00:00",
                "2024-03-06T00:00:00",
                "2024-03-07T00:00:00",
                "2024-03-14T00:00:00",
                "2024-03-19T00:00:00",
                "2024-03-26T00:00:00",
                "2024-03-28T00:00:00",
                "2024-04-04T00:00:00",
                "2024-04-08T00:00:00",
                "2024-04-11T00:00:00",
                "2024-04-16T00:00:00",
                "2024-04-19T00:00:00",
                "2024-04-23T00:00:00",
                "2024-04-26T00:00:00",
                "2024-05-01T00:00:00",
                "2024-05-03T00:00:00",
                "2024-05-08T00:00:00",
                "2024-05-13T00:00:00",
                "2024-05-15T00:00:00",
                "2024-05-22T00:00:00"
               ]
              ],
              "y": [
               [
                -0.19573074316693018,
                0.03398399101249816,
                -0.03979356240662768,
                0.08330975954738351,
                -0.08747878313095714,
                0.06975246816425806,
                0.031231191065338226,
                -0.011673151750972721,
                0.10748031496062982,
                -0.03566773314373739,
                0.008601622020152355,
                -0.14089912280701744,
                -0.18882507267957171,
                0.2724650349650348,
                -0.0831902177646493,
                0.1843248913532145,
                -0.016449449576110386,
                -0.07243020712723536,
                0.0643550624133149,
                -0.10952567109721145,
                0.11407038852710927,
                -0.02613949822671746,
                0.04302670623145399,
                -0.05450665976981772,
                -0.04260411680229781,
                0.00728571428571434,
                -0.06764997872642176,
                -0.07499239428049875
               ]
              ]
             },
             {
              "title": "<b>Marginal Percentage Change in Mrsi for Athlete BASEB27</b>"
             }
            ],
            "label": "BASEB27",
            "method": "update"
           },
           {
            "args": [
             {
              "x": [
               [
                "2024-01-15T00:00:00",
                "2024-01-16T00:00:00",
                "2024-01-18T00:00:00",
                "2024-01-23T00:00:00",
                "2024-01-25T00:00:00",
                "2024-01-30T00:00:00",
                "2024-02-01T00:00:00",
                "2024-02-06T00:00:00",
                "2024-02-08T00:00:00",
                "2024-02-13T00:00:00",
                "2024-02-15T00:00:00",
                "2024-02-20T00:00:00",
                "2024-02-27T00:00:00",
                "2024-02-29T00:00:00",
                "2024-03-05T00:00:00",
                "2024-03-14T00:00:00",
                "2024-03-19T00:00:00",
                "2024-03-21T00:00:00",
                "2024-03-26T00:00:00",
                "2024-04-04T00:00:00",
                "2024-04-08T00:00:00",
                "2024-04-11T00:00:00",
                "2024-04-16T00:00:00",
                "2024-04-19T00:00:00",
                "2024-04-23T00:00:00",
                "2024-04-26T00:00:00",
                "2024-05-01T00:00:00",
                "2024-05-03T00:00:00",
                "2024-05-08T00:00:00",
                "2024-05-13T00:00:00",
                "2024-05-15T00:00:00",
                "2024-05-22T00:00:00"
               ]
              ],
              "y": [
               [
                -0.29041276105903646,
                0.05990730011587475,
                -0.10265660872417182,
                0.18810916179337234,
                -0.1032608695652174,
                0.0896512292738707,
                0.03316192674992102,
                0.04818012527509752,
                -0.06893210155694818,
                0.039550374687760126,
                -0.003404084901882265,
                -0.04992967651195501,
                0.22702759860420874,
                -0.041882109617373486,
                -0.043892786472387035,
                -0.029350893697083658,
                0.018802093428959,
                -0.10730593607305927,
                0.04731457800511518,
                0.09422059422059403,
                -0.028454528547517177,
                -0.027182235834609436,
                -0.010035419126328216,
                -0.003975352812562116,
                0.09020155657553386,
                -0.08310452132527912,
                0.033140347374725376,
                -0.03420289855072456,
                0.06642657062825141,
                -0.06998123827392122,
                0.0302602380472059,
                -0.004895241824946273
               ]
              ]
             },
             {
              "title": "<b>Marginal Percentage Change in Mrsi for Athlete BASEB28</b>"
             }
            ],
            "label": "BASEB28",
            "method": "update"
           },
           {
            "args": [
             {
              "x": [
               [
                "2024-01-15T00:00:00",
                "2024-01-16T00:00:00",
                "2024-01-18T00:00:00",
                "2024-01-23T00:00:00",
                "2024-01-25T00:00:00",
                "2024-01-30T00:00:00",
                "2024-02-01T00:00:00",
                "2024-02-06T00:00:00",
                "2024-02-08T00:00:00",
                "2024-02-13T00:00:00",
                "2024-02-15T00:00:00",
                "2024-02-26T00:00:00",
                "2024-02-29T00:00:00",
                "2024-03-06T00:00:00",
                "2024-03-07T00:00:00",
                "2024-03-14T00:00:00",
                "2024-03-19T00:00:00",
                "2024-03-26T00:00:00",
                "2024-04-04T00:00:00",
                "2024-04-08T00:00:00",
                "2024-04-11T00:00:00",
                "2024-04-16T00:00:00",
                "2024-04-19T00:00:00",
                "2024-04-23T00:00:00",
                "2024-04-26T00:00:00",
                "2024-05-01T00:00:00",
                "2024-05-03T00:00:00",
                "2024-05-08T00:00:00",
                "2024-05-13T00:00:00",
                "2024-05-15T00:00:00",
                "2024-05-22T00:00:00"
               ]
              ],
              "y": [
               [
                0.4674340810704445,
                -0.009118337244384711,
                0.003044860951349815,
                0.11373448461953584,
                0.015990308903694794,
                -0.09121259091451062,
                -0.03391498294410911,
                0.13935854779203738,
                -0.08407167547379724,
                0.004446275972758373,
                -0.03530478719958541,
                0.023368251410153196,
                -0.09142607174103234,
                0.1630235917188252,
                -0.04843517138599107,
                -0.09579744192116924,
                0.09916281755196277,
                -0.011687458962573727,
                0.08291256975817163,
                -0.09496932515337408,
                -0.004812906724511956,
                -0.006062257339418231,
                0.01171875,
                0.021608074239653163,
                -0.061331388410025056,
                -0.017729745002472486,
                -0.016036243348194867,
                0.03873419571731351,
                -0.020333497502286635,
                -0.1270707651058125,
                0.061320754716981174
               ]
              ]
             },
             {
              "title": "<b>Marginal Percentage Change in Mrsi for Athlete BASEB29</b>"
             }
            ],
            "label": "BASEB29",
            "method": "update"
           },
           {
            "args": [
             {
              "x": [
               [
                "2024-01-16T00:00:00",
                "2024-01-18T00:00:00",
                "2024-01-23T00:00:00",
                "2024-01-25T00:00:00",
                "2024-01-30T00:00:00",
                "2024-02-01T00:00:00",
                "2024-02-07T00:00:00",
                "2024-02-08T00:00:00",
                "2024-02-13T00:00:00",
                "2024-02-27T00:00:00",
                "2024-02-29T00:00:00",
                "2024-03-06T00:00:00",
                "2024-03-07T00:00:00",
                "2024-03-14T00:00:00",
                "2024-03-19T00:00:00",
                "2024-03-26T00:00:00",
                "2024-03-28T00:00:00",
                "2024-04-04T00:00:00",
                "2024-04-08T00:00:00",
                "2024-04-11T00:00:00",
                "2024-04-16T00:00:00",
                "2024-04-19T00:00:00",
                "2024-04-23T00:00:00",
                "2024-04-26T00:00:00",
                "2024-05-01T00:00:00",
                "2024-05-03T00:00:00",
                "2024-05-08T00:00:00",
                "2024-05-13T00:00:00",
                "2024-05-15T00:00:00",
                "2024-05-22T00:00:00"
               ]
              ],
              "y": [
               [
                -0.0795348837209302,
                -0.07175341081354214,
                0.11758301578660846,
                -0.024516967040103865,
                0.12616511318242352,
                -0.278451078924032,
                0.15915608357230626,
                -0.011368321847204932,
                0.19846282173498575,
                -0.02378821774794937,
                -0.1255060728744939,
                0.12928022361984626,
                0.038985148514851575,
                -0.20406491959499706,
                -0.03245720699653909,
                0.026682134570765736,
                -0.1829566854990584,
                0.2870807882908839,
                0.15687679083094563,
                -0.19313725490196076,
                0.13845366758329614,
                -0.07448601280754974,
                0.13146394756008717,
                -0.15151271322819437,
                -0.026521258100205447,
                -0.06491102740615662,
                0.2570059381185539,
                -0.14644455494778708,
                0.1203029420332069,
                0.05806898942624383
               ]
              ]
             },
             {
              "title": "<b>Marginal Percentage Change in Mrsi for Athlete BASEB3</b>"
             }
            ],
            "label": "BASEB3",
            "method": "update"
           },
           {
            "args": [
             {
              "x": [
               [
                "2024-01-15T00:00:00",
                "2024-01-16T00:00:00",
                "2024-01-18T00:00:00",
                "2024-01-23T00:00:00",
                "2024-01-25T00:00:00",
                "2024-01-30T00:00:00",
                "2024-02-01T00:00:00",
                "2024-02-06T00:00:00",
                "2024-02-08T00:00:00",
                "2024-02-13T00:00:00",
                "2024-02-15T00:00:00",
                "2024-02-29T00:00:00",
                "2024-03-05T00:00:00",
                "2024-03-07T00:00:00",
                "2024-03-14T00:00:00",
                "2024-03-19T00:00:00",
                "2024-03-26T00:00:00",
                "2024-03-28T00:00:00",
                "2024-04-04T00:00:00",
                "2024-04-08T00:00:00",
                "2024-04-11T00:00:00",
                "2024-04-16T00:00:00",
                "2024-04-19T00:00:00",
                "2024-04-23T00:00:00",
                "2024-04-26T00:00:00",
                "2024-05-01T00:00:00",
                "2024-05-03T00:00:00",
                "2024-05-08T00:00:00",
                "2024-05-13T00:00:00",
                "2024-05-15T00:00:00",
                "2024-05-22T00:00:00"
               ]
              ],
              "y": [
               [
                -0.0124508519003933,
                0.08584936960849365,
                -0.1270338400427774,
                0.19915995799789998,
                0.07683887915936949,
                -0.1740191095751168,
                0.0894248912954303,
                0.07744057032407059,
                -0.04030567075159597,
                0.23351621674111467,
                -0.07846726102615575,
                -0.03370066632496149,
                -0.08115634531229265,
                -0.02410160196276523,
                0.037636793847974026,
                -0.019881707403976323,
                -0.006834375454413122,
                0.0622254758418741,
                0.01860785665058584,
                -0.04857916102841686,
                0.005831318446878342,
                -0.056702488687782826,
                -0.08207165342527367,
                0.11962113170572386,
                -0.04127771295215865,
                -0.09518738272731886,
                0.02844412061428092,
                0.037766696640235464,
                -0.03844033083891307,
                -0.05666147838671798,
                -0.029207433566838303
               ]
              ]
             },
             {
              "title": "<b>Marginal Percentage Change in Mrsi for Athlete BASEB30</b>"
             }
            ],
            "label": "BASEB30",
            "method": "update"
           },
           {
            "args": [
             {
              "x": [
               [
                "2024-01-15T00:00:00",
                "2024-01-16T00:00:00",
                "2024-01-18T00:00:00",
                "2024-01-23T00:00:00",
                "2024-01-25T00:00:00",
                "2024-01-30T00:00:00",
                "2024-02-01T00:00:00",
                "2024-02-06T00:00:00",
                "2024-02-08T00:00:00",
                "2024-02-13T00:00:00",
                "2024-02-15T00:00:00",
                "2024-02-27T00:00:00",
                "2024-02-29T00:00:00",
                "2024-03-05T00:00:00",
                "2024-03-14T00:00:00",
                "2024-03-19T00:00:00",
                "2024-03-21T00:00:00",
                "2024-03-26T00:00:00",
                "2024-03-28T00:00:00",
                "2024-04-04T00:00:00",
                "2024-04-08T00:00:00",
                "2024-04-11T00:00:00",
                "2024-04-16T00:00:00",
                "2024-04-19T00:00:00",
                "2024-04-23T00:00:00",
                "2024-04-26T00:00:00",
                "2024-05-01T00:00:00",
                "2024-05-03T00:00:00",
                "2024-05-08T00:00:00",
                "2024-05-13T00:00:00",
                "2024-05-15T00:00:00",
                "2024-05-22T00:00:00"
               ]
              ],
              "y": [
               [
                -0.23409965113158615,
                -0.05641205325858434,
                0.11003837108553038,
                0.02832292595896524,
                -0.1718716113641292,
                0.11012177556632174,
                -0.0596838877093655,
                0.005602943636059843,
                0.0997920997920998,
                0.011039697542533089,
                -0.09255104330266994,
                -0.03164791692421798,
                0.06268351844759357,
                -0.012373858721768327,
                -0.02688237440700647,
                0.038999999999999924,
                -0.07747834456207892,
                -0.012780386019822565,
                0.09749009247027729,
                -0.01372171401059219,
                -0.018061996582865558,
                -0.024484215759383643,
                0.10230602624538165,
                -0.046000924641701246,
                0.045553670947419356,
                0.027114716106604764,
                -0.03542418772563172,
                -0.08058479532163743,
                0.09744307340033065,
                -0.14373478613654822,
                0.09787464464599993,
                -0.022194821208384674
               ]
              ]
             },
             {
              "title": "<b>Marginal Percentage Change in Mrsi for Athlete BASEB31</b>"
             }
            ],
            "label": "BASEB31",
            "method": "update"
           },
           {
            "args": [
             {
              "x": [
               [
                "2024-01-15T00:00:00",
                "2024-01-16T00:00:00",
                "2024-01-18T00:00:00",
                "2024-01-23T00:00:00",
                "2024-01-25T00:00:00",
                "2024-01-30T00:00:00",
                "2024-02-01T00:00:00",
                "2024-02-08T00:00:00",
                "2024-02-13T00:00:00",
                "2024-02-27T00:00:00",
                "2024-02-29T00:00:00",
                "2024-03-06T00:00:00",
                "2024-03-07T00:00:00",
                "2024-03-14T00:00:00",
                "2024-03-19T00:00:00",
                "2024-03-26T00:00:00",
                "2024-03-28T00:00:00",
                "2024-04-04T00:00:00",
                "2024-04-08T00:00:00",
                "2024-04-11T00:00:00",
                "2024-04-16T00:00:00",
                "2024-04-19T00:00:00",
                "2024-04-23T00:00:00",
                "2024-04-26T00:00:00",
                "2024-05-01T00:00:00",
                "2024-05-03T00:00:00",
                "2024-05-08T00:00:00",
                "2024-05-13T00:00:00",
                "2024-05-15T00:00:00",
                "2024-05-22T00:00:00"
               ]
              ],
              "y": [
               [
                0.5853720050441362,
                0.09234807508749587,
                0.11192019223767558,
                -0.1489194499017682,
                -0.016928285626346407,
                0.007748904195366224,
                -0.15029126213592248,
                0.05642900670322981,
                0.14559298569450863,
                -0.004456193353474469,
                -0.08610879295956275,
                0.06192927112734492,
                -0.021419637273295655,
                -0.01685572775203703,
                -0.011375639879743438,
                0.042491986520917235,
                -0.049984232103437276,
                0.009460580912862948,
                0.020059191055573855,
                0.038845905867182395,
                -0.05244375484871988,
                0.004011789749467809,
                -0.035064829160890376,
                -0.033043184315051044,
                0.09779758783429471,
                -0.06456492317490659,
                0.12331914893617046,
                -0.005303432078187842,
                -0.042120496610556724,
                0.08078880407124678
               ]
              ]
             },
             {
              "title": "<b>Marginal Percentage Change in Mrsi for Athlete BASEB32</b>"
             }
            ],
            "label": "BASEB32",
            "method": "update"
           },
           {
            "args": [
             {
              "x": [
               [
                "2024-01-15T00:00:00",
                "2024-01-16T00:00:00",
                "2024-01-18T00:00:00",
                "2024-01-23T00:00:00",
                "2024-01-25T00:00:00",
                "2024-01-30T00:00:00",
                "2024-02-01T00:00:00",
                "2024-02-07T00:00:00",
                "2024-02-08T00:00:00",
                "2024-02-13T00:00:00",
                "2024-02-15T00:00:00",
                "2024-02-29T00:00:00",
                "2024-03-06T00:00:00",
                "2024-03-07T00:00:00",
                "2024-03-14T00:00:00",
                "2024-03-19T00:00:00",
                "2024-03-26T00:00:00",
                "2024-04-04T00:00:00",
                "2024-04-08T00:00:00",
                "2024-04-11T00:00:00",
                "2024-04-16T00:00:00",
                "2024-04-19T00:00:00",
                "2024-04-23T00:00:00",
                "2024-04-26T00:00:00",
                "2024-05-01T00:00:00",
                "2024-05-03T00:00:00",
                "2024-05-13T00:00:00",
                "2024-05-15T00:00:00",
                "2024-05-22T00:00:00"
               ]
              ],
              "y": [
               [
                -0.04348145968216588,
                0.1647565571879086,
                -0.06914085716172491,
                0.04143019296254247,
                -0.007629427792915422,
                0.011051619989016936,
                -0.07128793536560529,
                0.058556912054974486,
                -0.16164825046040499,
                0.22008347520456928,
                -0.10377422186212959,
                0.03262015971071275,
                0.14364923032027432,
                0.06761929063536609,
                -0.28716539196940727,
                0.18323554065381376,
                0.04661377160668745,
                0.04643292270204413,
                -0.13661060802069858,
                -0.012586155229247775,
                0.0297420333839149,
                -0.1820660182729147,
                0.26439059544185195,
                0.10059846110002857,
                -0.1888917659243915,
                -0.016919393455706255,
                0.06462088001298905,
                -0.13197092166132873,
                -0.05836017569546126
               ]
              ]
             },
             {
              "title": "<b>Marginal Percentage Change in Mrsi for Athlete BASEB33</b>"
             }
            ],
            "label": "BASEB33",
            "method": "update"
           },
           {
            "args": [
             {
              "x": [
               [
                "2024-01-15T00:00:00",
                "2024-01-16T00:00:00",
                "2024-01-18T00:00:00",
                "2024-01-23T00:00:00",
                "2024-01-25T00:00:00",
                "2024-01-30T00:00:00",
                "2024-02-01T00:00:00",
                "2024-02-07T00:00:00",
                "2024-02-08T00:00:00",
                "2024-02-13T00:00:00",
                "2024-02-15T00:00:00",
                "2024-02-26T00:00:00",
                "2024-02-29T00:00:00",
                "2024-03-06T00:00:00",
                "2024-03-07T00:00:00",
                "2024-03-14T00:00:00",
                "2024-03-19T00:00:00",
                "2024-03-21T00:00:00",
                "2024-03-26T00:00:00",
                "2024-03-28T00:00:00",
                "2024-04-04T00:00:00",
                "2024-04-08T00:00:00",
                "2024-04-11T00:00:00",
                "2024-04-16T00:00:00",
                "2024-04-19T00:00:00",
                "2024-04-23T00:00:00",
                "2024-04-26T00:00:00",
                "2024-05-01T00:00:00",
                "2024-05-03T00:00:00",
                "2024-05-08T00:00:00",
                "2024-05-13T00:00:00",
                "2024-05-15T00:00:00",
                "2024-05-22T00:00:00"
               ]
              ],
              "y": [
               [
                0.12072021643810049,
                0.016648630650129004,
                -0.02055187095717692,
                0.02457782979434886,
                -0.04202023498694529,
                -0.08551230729920778,
                0.15954177144453752,
                0.016064257028112205,
                -0.002055335968379368,
                -0.012040557667934215,
                0.02694034637588194,
                0.007026858213616594,
                0.026825864475112482,
                -0.1291150709755361,
                0.006242413733310359,
                0.17542650353265543,
                -0.06611933734056574,
                0.038775510204081653,
                -0.056672207949221676,
                -0.054950336430631186,
                0.09806746906255315,
                0.1576997298340408,
                -0.07554340578743834,
                -0.02351244139920672,
                -0.05566634660363878,
                -0.06513974345604345,
                0.040911943108136395,
                -0.00711329019812712,
                -0.03343317412774238,
                0.05510887772194284,
                0.043737101127163225,
                -0.015438436382994913,
                -0.03020237911323953
               ]
              ]
             },
             {
              "title": "<b>Marginal Percentage Change in Mrsi for Athlete BASEB34</b>"
             }
            ],
            "label": "BASEB34",
            "method": "update"
           },
           {
            "args": [
             {
              "x": [
               [
                "2024-01-15T00:00:00",
                "2024-02-15T00:00:00",
                "2024-03-14T00:00:00",
                "2024-04-08T00:00:00",
                "2024-04-19T00:00:00",
                "2024-04-26T00:00:00",
                "2024-05-01T00:00:00",
                "2024-05-03T00:00:00",
                "2024-05-08T00:00:00",
                "2024-05-13T00:00:00",
                "2024-05-15T00:00:00"
               ]
              ],
              "y": [
               [
                0.011310234966148913,
                -0.005119319524297228,
                -0.09365104496516774,
                0.22246484409118694,
                0.034438410974564126,
                -0.016853156513330525,
                -0.1614444288323732,
                0.24949731903485262,
                -0.0879710339278531,
                -0.07822379061902651,
                0.09068431966820878
               ]
              ]
             },
             {
              "title": "<b>Marginal Percentage Change in Mrsi for Athlete BASEB35</b>"
             }
            ],
            "label": "BASEB35",
            "method": "update"
           },
           {
            "args": [
             {
              "x": [
               [
                "2024-01-15T00:00:00",
                "2024-01-16T00:00:00",
                "2024-01-18T00:00:00",
                "2024-01-23T00:00:00",
                "2024-01-25T00:00:00",
                "2024-01-30T00:00:00",
                "2024-02-01T00:00:00",
                "2024-02-06T00:00:00",
                "2024-02-08T00:00:00",
                "2024-02-13T00:00:00",
                "2024-02-15T00:00:00",
                "2024-02-20T00:00:00",
                "2024-02-27T00:00:00",
                "2024-02-29T00:00:00",
                "2024-03-05T00:00:00",
                "2024-03-07T00:00:00",
                "2024-03-14T00:00:00",
                "2024-03-19T00:00:00",
                "2024-03-26T00:00:00",
                "2024-03-28T00:00:00",
                "2024-04-04T00:00:00",
                "2024-04-08T00:00:00",
                "2024-04-11T00:00:00",
                "2024-04-19T00:00:00",
                "2024-04-23T00:00:00",
                "2024-04-26T00:00:00",
                "2024-05-01T00:00:00",
                "2024-05-03T00:00:00",
                "2024-05-08T00:00:00",
                "2024-05-13T00:00:00",
                "2024-05-15T00:00:00",
                "2024-05-22T00:00:00"
               ]
              ],
              "y": [
               [
                -0.05908592321755024,
                -0.043522188544338425,
                0.06752254814333325,
                -0.06523062871061047,
                0.004315609478055649,
                0.037457434733257466,
                -0.11573929352922785,
                0.09954337899543386,
                -0.02314864430393304,
                0.06431705979155233,
                -0.04739080015461916,
                0.03181301736731035,
                -0.020764511562057386,
                0.014618473895582351,
                -0.05683977200759993,
                0.04868222259526633,
                -0.10925244117176247,
                0.11384670680204878,
                -0.0831719909648273,
                -0.016366036075670887,
                0.1251453618391627,
                -0.07521068532358088,
                0.05209766162310858,
                -0.005883314267037143,
                0.10866348841032392,
                -0.08155397390272845,
                -0.06474007103648682,
                0.03590540307267376,
                -0.03766038993501075,
                -0.06484848484848482,
                0.09378761225812426,
                -0.007787370915862568
               ]
              ]
             },
             {
              "title": "<b>Marginal Percentage Change in Mrsi for Athlete BASEB36</b>"
             }
            ],
            "label": "BASEB36",
            "method": "update"
           },
           {
            "args": [
             {
              "x": [
               [
                "2024-01-15T00:00:00",
                "2024-01-16T00:00:00",
                "2024-01-18T00:00:00",
                "2024-01-23T00:00:00",
                "2024-01-25T00:00:00",
                "2024-01-30T00:00:00",
                "2024-02-01T00:00:00",
                "2024-02-06T00:00:00",
                "2024-02-08T00:00:00",
                "2024-02-13T00:00:00",
                "2024-02-15T00:00:00",
                "2024-02-29T00:00:00",
                "2024-03-06T00:00:00",
                "2024-03-07T00:00:00",
                "2024-03-14T00:00:00",
                "2024-03-19T00:00:00",
                "2024-03-21T00:00:00",
                "2024-03-26T00:00:00",
                "2024-04-04T00:00:00",
                "2024-04-08T00:00:00",
                "2024-04-11T00:00:00",
                "2024-04-16T00:00:00",
                "2024-04-19T00:00:00",
                "2024-04-23T00:00:00",
                "2024-04-26T00:00:00",
                "2024-05-01T00:00:00",
                "2024-05-03T00:00:00",
                "2024-05-08T00:00:00",
                "2024-05-13T00:00:00",
                "2024-05-15T00:00:00",
                "2024-05-22T00:00:00"
               ]
              ],
              "y": [
               [
                -0.027299095717454147,
                -0.09857919663216985,
                0.106635532204709,
                -0.10805345524881305,
                -0.0021685559388860964,
                0.0896967302183147,
                -0.09074426615900655,
                -0.002658690594881996,
                0.019126957680772882,
                0.04996076379806458,
                0.15265321375186836,
                -0.13470578699951363,
                0.06706631697264887,
                0.1081460674157304,
                -0.19066856780735097,
                -0.02182636781834202,
                0.19851911146688006,
                0.0033394556687260657,
                -0.041770677317357285,
                -0.04393886766238275,
                -0.09282470481380556,
                0.1874249098918701,
                -0.012816188870151679,
                0.008028698325930783,
                -0.021691238773089205,
                -0.07517755066689757,
                -0.01788724480239756,
                0.09535615523982077,
                -0.06798990162792728,
                0.020362413599850582,
                0.1261442694983521
               ]
              ]
             },
             {
              "title": "<b>Marginal Percentage Change in Mrsi for Athlete BASEB37</b>"
             }
            ],
            "label": "BASEB37",
            "method": "update"
           },
           {
            "args": [
             {
              "x": [
               [
                "2024-01-15T00:00:00",
                "2024-01-16T00:00:00",
                "2024-01-18T00:00:00",
                "2024-01-23T00:00:00",
                "2024-01-25T00:00:00",
                "2024-01-30T00:00:00",
                "2024-02-01T00:00:00",
                "2024-02-06T00:00:00",
                "2024-02-08T00:00:00",
                "2024-02-13T00:00:00",
                "2024-02-15T00:00:00",
                "2024-02-27T00:00:00",
                "2024-02-29T00:00:00",
                "2024-03-05T00:00:00",
                "2024-03-07T00:00:00",
                "2024-03-14T00:00:00",
                "2024-03-19T00:00:00",
                "2024-03-26T00:00:00",
                "2024-03-28T00:00:00",
                "2024-04-04T00:00:00",
                "2024-04-08T00:00:00",
                "2024-04-11T00:00:00",
                "2024-04-16T00:00:00",
                "2024-04-23T00:00:00",
                "2024-05-01T00:00:00",
                "2024-05-08T00:00:00",
                "2024-05-13T00:00:00",
                "2024-05-15T00:00:00",
                "2024-05-22T00:00:00"
               ]
              ],
              "y": [
               [
                0.1461550967322387,
                -0.10801418439716304,
                0.08117993162121317,
                -0.045374319752904735,
                0.04629843617594953,
                -0.09431600647916372,
                0.07170148768392792,
                -0.061265771574502303,
                0.08339169315304629,
                0.031077519765302597,
                -0.04890046296296302,
                0.08518405841192589,
                -0.060555088309503846,
                0.07535064159952243,
                0.019148050506452075,
                -0.1918992511912866,
                0.062252548226771065,
                0.08865979381443312,
                -0.25233100233100236,
                0.31664068589243954,
                0.003995856149178634,
                -0.09040880503144655,
                0.023066119273984498,
                -0.02170125138602874,
                -0.14729058721934385,
                0.13209696816254213,
                -0.16118752096611888,
                0.10351263080717188,
                -0.05955544817588776
               ]
              ]
             },
             {
              "title": "<b>Marginal Percentage Change in Mrsi for Athlete BASEB38</b>"
             }
            ],
            "label": "BASEB38",
            "method": "update"
           },
           {
            "args": [
             {
              "x": [
               [
                "2024-01-15T00:00:00",
                "2024-01-16T00:00:00",
                "2024-01-18T00:00:00",
                "2024-01-23T00:00:00",
                "2024-01-25T00:00:00",
                "2024-01-30T00:00:00",
                "2024-02-01T00:00:00",
                "2024-02-06T00:00:00",
                "2024-02-08T00:00:00",
                "2024-02-13T00:00:00",
                "2024-02-15T00:00:00",
                "2024-02-20T00:00:00",
                "2024-02-26T00:00:00",
                "2024-02-29T00:00:00",
                "2024-03-06T00:00:00",
                "2024-03-07T00:00:00",
                "2024-03-14T00:00:00",
                "2024-03-19T00:00:00",
                "2024-03-21T00:00:00",
                "2024-03-26T00:00:00",
                "2024-03-28T00:00:00",
                "2024-04-04T00:00:00",
                "2024-04-08T00:00:00",
                "2024-04-11T00:00:00",
                "2024-04-16T00:00:00",
                "2024-04-19T00:00:00",
                "2024-04-23T00:00:00",
                "2024-04-26T00:00:00",
                "2024-05-01T00:00:00",
                "2024-05-03T00:00:00",
                "2024-05-08T00:00:00",
                "2024-05-13T00:00:00",
                "2024-05-15T00:00:00",
                "2024-05-22T00:00:00"
               ]
              ],
              "y": [
               [
                0.10147719974309566,
                -0.07481049562682207,
                0.026848175458498824,
                0.01924139200883812,
                0.08626140366723867,
                0.003991352070513932,
                -0.004638065264204072,
                0.04837188661452263,
                -0.013069474575374329,
                0.020775251983701226,
                -0.18390714041860334,
                0.09608701248551932,
                0.04104280429804463,
                -0.10975747320924978,
                0.036429295489102786,
                0.046213093709884356,
                0.09886064855390009,
                -0.076088690381241,
                -0.28533609576427266,
                0.5217426316637142,
                -0.10223845054770597,
                0.13050397877984077,
                -0.09056780854059121,
                0.04489164086687314,
                -0.13604938271604938,
                0.025150042869391154,
                -0.00418176749372734,
                -0.04432624113475181,
                0.02060345669368213,
                0.005070799846919272,
                0.03874345549738223,
                -0.07569648093841641,
                -0.03837001784651983,
                0.1242396123311682
               ]
              ]
             },
             {
              "title": "<b>Marginal Percentage Change in Mrsi for Athlete BASEB39</b>"
             }
            ],
            "label": "BASEB39",
            "method": "update"
           },
           {
            "args": [
             {
              "x": [
               [
                "2024-01-15T00:00:00",
                "2024-01-16T00:00:00",
                "2024-01-18T00:00:00",
                "2024-01-23T00:00:00",
                "2024-01-25T00:00:00",
                "2024-01-30T00:00:00",
                "2024-02-01T00:00:00",
                "2024-02-07T00:00:00",
                "2024-02-08T00:00:00",
                "2024-02-13T00:00:00",
                "2024-02-29T00:00:00",
                "2024-03-06T00:00:00",
                "2024-03-07T00:00:00",
                "2024-03-14T00:00:00",
                "2024-03-19T00:00:00",
                "2024-03-26T00:00:00",
                "2024-03-28T00:00:00",
                "2024-04-04T00:00:00",
                "2024-04-08T00:00:00",
                "2024-04-11T00:00:00",
                "2024-04-16T00:00:00",
                "2024-04-19T00:00:00",
                "2024-04-23T00:00:00",
                "2024-04-26T00:00:00",
                "2024-05-01T00:00:00",
                "2024-05-03T00:00:00",
                "2024-05-08T00:00:00",
                "2024-05-13T00:00:00",
                "2024-05-15T00:00:00",
                "2024-05-22T00:00:00"
               ]
              ],
              "y": [
               [
                0.07245047688921491,
                -0.014366341713699216,
                -0.03296893978830473,
                -0.00556253364435666,
                0.016871165644171793,
                0.06689734717416385,
                0.03625779625779613,
                -0.11184228125083595,
                0.03144388892235406,
                0.14828009110553064,
                -0.1295392126945376,
                0.11025416301489921,
                0.04941585096305645,
                -0.08665563412065591,
                0.07214626914841049,
                -0.09755722845291137,
                -0.14376915219611852,
                0.2842230838055473,
                -0.021055891004799543,
                -0.04871105487901306,
                0.12053200332502079,
                -0.09183976261127602,
                -0.02270870772749556,
                0.1143430290872618,
                -0.10216021602160208,
                0.0791979949874686,
                0.0027093977395882263,
                -0.1266115957693199,
                0.046053213117652314,
                -0.013182355923609945
               ]
              ]
             },
             {
              "title": "<b>Marginal Percentage Change in Mrsi for Athlete BASEB4</b>"
             }
            ],
            "label": "BASEB4",
            "method": "update"
           },
           {
            "args": [
             {
              "x": [
               [
                "2024-01-15T00:00:00",
                "2024-01-16T00:00:00",
                "2024-01-18T00:00:00",
                "2024-01-23T00:00:00",
                "2024-01-25T00:00:00",
                "2024-01-30T00:00:00",
                "2024-02-01T00:00:00",
                "2024-02-06T00:00:00",
                "2024-02-08T00:00:00",
                "2024-02-13T00:00:00",
                "2024-02-15T00:00:00",
                "2024-02-29T00:00:00",
                "2024-03-06T00:00:00",
                "2024-03-07T00:00:00",
                "2024-03-14T00:00:00",
                "2024-03-19T00:00:00",
                "2024-03-26T00:00:00",
                "2024-03-28T00:00:00",
                "2024-04-04T00:00:00",
                "2024-04-08T00:00:00",
                "2024-04-11T00:00:00",
                "2024-04-16T00:00:00",
                "2024-04-19T00:00:00",
                "2024-04-23T00:00:00",
                "2024-04-26T00:00:00",
                "2024-05-01T00:00:00",
                "2024-05-03T00:00:00",
                "2024-05-13T00:00:00",
                "2024-05-15T00:00:00",
                "2024-05-22T00:00:00"
               ]
              ],
              "y": [
               [
                0.25004281555060803,
                -0.152281134401973,
                -0.040484848484848346,
                0.04598281960586159,
                0.08381642512077292,
                0.06463115667483854,
                -0.09713209127067213,
                0.11719092150346522,
                -0.22939630124982702,
                0.25453348494823125,
                0.027144356454536833,
                0.05921694301240077,
                -0.11207576953433296,
                0.07051851851851842,
                -0.286327151951287,
                0.11052937754508418,
                0.29247424480530815,
                -0.12253445014860853,
                0.003387220939183866,
                -0.06951051097130567,
                0.2379617414248021,
                -0.10476888237644866,
                -0.02380775239937505,
                0.16967710794400825,
                -0.1416098344989356,
                0.030362835888871897,
                0.06718726978046274,
                -0.017810299599613444,
                -0.13909193140286769,
                -0.03485998857049555
               ]
              ]
             },
             {
              "title": "<b>Marginal Percentage Change in Mrsi for Athlete BASEB40</b>"
             }
            ],
            "label": "BASEB40",
            "method": "update"
           },
           {
            "args": [
             {
              "x": [
               [
                "2024-01-15T00:00:00",
                "2024-01-16T00:00:00",
                "2024-01-18T00:00:00",
                "2024-01-23T00:00:00",
                "2024-01-25T00:00:00",
                "2024-01-30T00:00:00",
                "2024-02-01T00:00:00",
                "2024-02-06T00:00:00",
                "2024-02-08T00:00:00",
                "2024-02-13T00:00:00",
                "2024-02-15T00:00:00",
                "2024-02-20T00:00:00",
                "2024-02-27T00:00:00",
                "2024-02-29T00:00:00",
                "2024-03-05T00:00:00",
                "2024-03-07T00:00:00",
                "2024-03-14T00:00:00",
                "2024-03-19T00:00:00",
                "2024-03-21T00:00:00",
                "2024-03-26T00:00:00",
                "2024-03-28T00:00:00",
                "2024-04-04T00:00:00",
                "2024-04-08T00:00:00",
                "2024-04-11T00:00:00",
                "2024-04-16T00:00:00",
                "2024-04-19T00:00:00",
                "2024-04-23T00:00:00",
                "2024-04-26T00:00:00",
                "2024-05-01T00:00:00",
                "2024-05-03T00:00:00",
                "2024-05-08T00:00:00",
                "2024-05-13T00:00:00",
                "2024-05-15T00:00:00",
                "2024-05-22T00:00:00"
               ]
              ],
              "y": [
               [
                0.07029267467433598,
                -0.16770726309966,
                0.0992308422751873,
                0.23116793365583943,
                -0.029609879315183663,
                -0.09566160520607381,
                -0.14016150955464945,
                -0.0030376294092119283,
                0.06118641959955218,
                0.20599437478026505,
                -0.14219080241964877,
                -0.09311809685641459,
                0.1491474611204795,
                -0.08380890265775298,
                0.11327638369816695,
                -0.10159060027176081,
                0.042615658362989084,
                0.010325113064254543,
                -0.0050675675675675436,
                -0.04898132427843793,
                0.01258591448719093,
                0.07325458392101525,
                -0.015277207392196956,
                -0.04520810743181247,
                0.08220494452695015,
                0.031804972554084765,
                0.04365514004068216,
                -0.15397301349325343,
                0.09782030834662425,
                0.00887812752219519,
                0.020480000000000054,
                -0.15992474129821255,
                0.048338932437476556,
                0.075485134413388
               ]
              ]
             },
             {
              "title": "<b>Marginal Percentage Change in Mrsi for Athlete BASEB41</b>"
             }
            ],
            "label": "BASEB41",
            "method": "update"
           },
           {
            "args": [
             {
              "x": [
               [
                "2024-01-15T00:00:00",
                "2024-01-16T00:00:00",
                "2024-01-18T00:00:00",
                "2024-01-23T00:00:00",
                "2024-01-25T00:00:00",
                "2024-01-30T00:00:00",
                "2024-02-06T00:00:00",
                "2024-02-08T00:00:00",
                "2024-02-13T00:00:00",
                "2024-02-15T00:00:00",
                "2024-02-20T00:00:00",
                "2024-02-29T00:00:00",
                "2024-03-07T00:00:00",
                "2024-03-14T00:00:00",
                "2024-03-19T00:00:00",
                "2024-03-26T00:00:00",
                "2024-03-28T00:00:00",
                "2024-04-04T00:00:00",
                "2024-04-08T00:00:00",
                "2024-04-11T00:00:00",
                "2024-04-16T00:00:00",
                "2024-04-19T00:00:00",
                "2024-04-23T00:00:00",
                "2024-04-26T00:00:00",
                "2024-05-03T00:00:00",
                "2024-05-08T00:00:00",
                "2024-05-13T00:00:00",
                "2024-05-15T00:00:00",
                "2024-05-22T00:00:00"
               ]
              ],
              "y": [
               [
                0.1277934116868069,
                -0.09393805959195667,
                0.032075166045682835,
                -0.06404018207502737,
                0.007630387388898097,
                0.026296080552550505,
                -0.027216951809508227,
                -0.02122693931984876,
                0.04780288406948996,
                0.008615084525357641,
                0.021353746978243215,
                0.037790927021696064,
                0.03846738634635871,
                -0.17122986822840425,
                0.09513293878632645,
                0.035166962413292424,
                0.015427769985974615,
                0.03176795580110503,
                -0.25568942436412323,
                0.2300159872102321,
                -0.02826969943135671,
                -0.06863400769102146,
                0.018849295395386267,
                0.01709100519777995,
                0.04443482026851453,
                0.03109968485652681,
                0.0137537199388722,
                -0.07949857188194231,
                0.07205654197552147
               ]
              ]
             },
             {
              "title": "<b>Marginal Percentage Change in Mrsi for Athlete BASEB42</b>"
             }
            ],
            "label": "BASEB42",
            "method": "update"
           },
           {
            "args": [
             {
              "x": [
               [
                "2024-01-15T00:00:00",
                "2024-01-16T00:00:00",
                "2024-01-23T00:00:00",
                "2024-01-25T00:00:00",
                "2024-01-30T00:00:00",
                "2024-02-01T00:00:00",
                "2024-02-07T00:00:00",
                "2024-02-08T00:00:00",
                "2024-02-13T00:00:00",
                "2024-02-15T00:00:00",
                "2024-02-27T00:00:00",
                "2024-02-29T00:00:00",
                "2024-03-06T00:00:00",
                "2024-03-07T00:00:00",
                "2024-03-14T00:00:00",
                "2024-03-19T00:00:00",
                "2024-03-26T00:00:00",
                "2024-03-28T00:00:00",
                "2024-04-04T00:00:00",
                "2024-04-08T00:00:00",
                "2024-04-11T00:00:00",
                "2024-04-16T00:00:00",
                "2024-04-19T00:00:00",
                "2024-04-23T00:00:00",
                "2024-04-26T00:00:00",
                "2024-05-13T00:00:00",
                "2024-05-15T00:00:00",
                "2024-05-22T00:00:00"
               ]
              ],
              "y": [
               [
                -0.03963659752371751,
                -0.21004604437002938,
                0.2044298431538787,
                0.133919929608447,
                -0.05788779390083032,
                0.012519561815336644,
                -0.03348789283874298,
                -0.027999102233194795,
                0.13207873924839797,
                -0.03411350772525623,
                -0.04490022172949004,
                0.00837409833347147,
                -0.02384476237460942,
                0.05828840970350391,
                -0.05937599490608092,
                0.028713262255316785,
                0.07803246325948665,
                -0.12345490614985499,
                0.10323816155988852,
                -0.06911787912261336,
                0.016952025767079215,
                -0.04417402900483414,
                -0.0735088943146146,
                0.011200000000000099,
                0.06012658227848111,
                0.09429323968393333,
                -0.03064826700898593,
                -0.04486012249627547
               ]
              ]
             },
             {
              "title": "<b>Marginal Percentage Change in Mrsi for Athlete BASEB5</b>"
             }
            ],
            "label": "BASEB5",
            "method": "update"
           },
           {
            "args": [
             {
              "x": [
               [
                "2024-01-15T00:00:00",
                "2024-01-16T00:00:00",
                "2024-01-18T00:00:00",
                "2024-01-23T00:00:00",
                "2024-01-25T00:00:00",
                "2024-01-30T00:00:00",
                "2024-02-01T00:00:00",
                "2024-02-06T00:00:00",
                "2024-02-08T00:00:00",
                "2024-02-13T00:00:00",
                "2024-02-15T00:00:00",
                "2024-02-29T00:00:00",
                "2024-03-07T00:00:00",
                "2024-03-14T00:00:00",
                "2024-03-21T00:00:00"
               ]
              ],
              "y": [
               [
                0.13405545927209706,
                -0.08214258424390608,
                0.07492507492507472,
                0.0878252788104088,
                -0.09077317385732586,
                0.03413984809333659,
                0.03323994851215262,
                0.05965117983291823,
                0.013646841862609449,
                -0.04443736923496766,
                -0.004997858060831195,
                -0.1100746268656716,
                0.12127076278019677,
                -0.13181360563785416,
                -0.010519340677544897
               ]
              ]
             },
             {
              "title": "<b>Marginal Percentage Change in Mrsi for Athlete BASEB7</b>"
             }
            ],
            "label": "BASEB7",
            "method": "update"
           },
           {
            "args": [
             {
              "x": [
               [
                "2024-01-15T00:00:00",
                "2024-01-16T00:00:00",
                "2024-01-18T00:00:00",
                "2024-01-23T00:00:00",
                "2024-01-25T00:00:00",
                "2024-01-30T00:00:00",
                "2024-02-01T00:00:00",
                "2024-02-06T00:00:00",
                "2024-02-08T00:00:00",
                "2024-02-13T00:00:00",
                "2024-02-15T00:00:00",
                "2024-02-29T00:00:00",
                "2024-03-06T00:00:00",
                "2024-03-07T00:00:00",
                "2024-03-14T00:00:00",
                "2024-03-19T00:00:00",
                "2024-03-26T00:00:00",
                "2024-03-28T00:00:00",
                "2024-04-04T00:00:00",
                "2024-04-08T00:00:00",
                "2024-04-11T00:00:00",
                "2024-04-16T00:00:00",
                "2024-04-19T00:00:00",
                "2024-04-23T00:00:00",
                "2024-04-26T00:00:00",
                "2024-05-01T00:00:00",
                "2024-05-03T00:00:00",
                "2024-05-08T00:00:00",
                "2024-05-13T00:00:00",
                "2024-05-15T00:00:00",
                "2024-05-22T00:00:00"
               ]
              ],
              "y": [
               [
                0.008538422903063614,
                0.0009130146082338975,
                0.17207065262459587,
                -0.09629262770624036,
                0.002113833868315984,
                -0.012499999999999956,
                0.10506329113924062,
                -0.17573501336387942,
                0.11609727851766061,
                0.05260700389105066,
                -0.0749667307407954,
                0.05402813299232734,
                -0.0009099181073702889,
                -0.049635701275045574,
                -0.1218655166906244,
                0.06784285194616202,
                0.08329075114971896,
                0.05471698113207535,
                -0.03607632677400119,
                -0.028456541911537236,
                0.0600127347978352,
                -0.08529809280672784,
                -0.08980462978164505,
                -0.027837902837902773,
                0.09886201991465127,
                0.08484592655128753,
                0.014785992217899002,
                -0.07024539877300617,
                -0.01468162322665767,
                -0.07132094424912117,
                0.04326663061114111
               ]
              ]
             },
             {
              "title": "<b>Marginal Percentage Change in Mrsi for Athlete BASEB8</b>"
             }
            ],
            "label": "BASEB8",
            "method": "update"
           },
           {
            "args": [
             {
              "x": [
               [
                "2024-01-15T00:00:00",
                "2024-01-16T00:00:00",
                "2024-01-18T00:00:00",
                "2024-01-23T00:00:00",
                "2024-01-25T00:00:00",
                "2024-01-30T00:00:00",
                "2024-02-01T00:00:00",
                "2024-02-06T00:00:00",
                "2024-02-08T00:00:00",
                "2024-02-13T00:00:00",
                "2024-02-15T00:00:00",
                "2024-02-20T00:00:00",
                "2024-02-27T00:00:00",
                "2024-02-29T00:00:00",
                "2024-03-06T00:00:00",
                "2024-03-07T00:00:00",
                "2024-03-14T00:00:00",
                "2024-03-19T00:00:00",
                "2024-03-26T00:00:00",
                "2024-03-28T00:00:00",
                "2024-04-04T00:00:00",
                "2024-04-08T00:00:00",
                "2024-04-11T00:00:00",
                "2024-04-16T00:00:00",
                "2024-04-19T00:00:00",
                "2024-04-23T00:00:00",
                "2024-04-26T00:00:00",
                "2024-05-01T00:00:00",
                "2024-05-03T00:00:00",
                "2024-05-08T00:00:00",
                "2024-05-13T00:00:00",
                "2024-05-15T00:00:00",
                "2024-05-22T00:00:00"
               ]
              ],
              "y": [
               [
                0.31553481942284445,
                -0.1139498226717458,
                0.051960566303461686,
                0.0468573844419391,
                -0.05128895470148753,
                0.054771195459382804,
                -0.07156790206497599,
                0.1909005288705352,
                -0.03747414527314752,
                -0.1011250158007837,
                0.06511039234988036,
                -0.06575125429099549,
                -0.02859430940267571,
                0.1095970127539887,
                0.037891700537563855,
                -0.06177362304194034,
                -0.06577352901575328,
                0.16487713482741206,
                -0.005505722239406041,
                -0.03371485444140332,
                0.02008497489378147,
                0.016029281837687703,
                0.03863354037267075,
                -0.05059203444564053,
                -0.03464348702443942,
                0.048805950672060616,
                -0.050018663680477804,
                -0.07950229207596593,
                -0.017596281540504632,
                0.09025732631680583,
                -0.06688807705081379,
                0.009894646924829331,
                -0.07802918164516814
               ]
              ]
             },
             {
              "title": "<b>Marginal Percentage Change in Mrsi for Athlete BASEB9</b>"
             }
            ],
            "label": "BASEB9",
            "method": "update"
           },
           {
            "args": [
             {
              "x": [
               [
                null,
                null,
                null,
                null,
                null,
                null,
                null,
                null,
                null,
                null,
                null,
                null,
                null,
                null,
                null,
                null,
                null,
                null,
                null,
                null,
                null,
                null,
                null
               ]
              ],
              "y": [
               [
                -0.20711009174311923,
                -0.04695786327258722,
                -0.0494738972076082,
                0.26961149547631735,
                -0.21520791415157625,
                0.11985898942420659,
                0.2547934751502434,
                -0.1543256804013987,
                -0.008989572096368192,
                0.01297169811320753,
                -0.12724993283782582,
                0.09491073260824967,
                -0.10964295754849596,
                0.10409430586254076,
                0.028217349857006635,
                -0.04913777118486917,
                -0.14352574102964122,
                0.5972222222222221,
                -0.16899501069137568,
                -0.0187837721931553,
                -0.32832167832167847,
                0.26106194690265494,
                0.21661506707946354
               ]
              ]
             },
             {
              "title": "<b>Marginal Percentage Change in Mrsi for Athlete MBB1</b>"
             }
            ],
            "label": "MBB1",
            "method": "update"
           },
           {
            "args": [
             {
              "x": [
               [
                null,
                null,
                null,
                null,
                null,
                null,
                null,
                null,
                null,
                null,
                null,
                null,
                null,
                null,
                null,
                null,
                null,
                null,
                null,
                null,
                null,
                null,
                null
               ]
              ],
              "y": [
               [
                0.022902705912291044,
                0.09611078862260558,
                0.06044787411106056,
                -0.02611115074552328,
                -0.011574243645154247,
                0.04424516415919366,
                -0.016607523066004215,
                -0.13488741339491905,
                -0.05147242846416955,
                0.11284080914687755,
                -0.06449063463210303,
                0.10247528934696293,
                0.07862068965517244,
                -0.19771241830065356,
                0.20587974851678048,
                -0.14062270524306064,
                0.15859181406476974,
                -0.24227450401947048,
                0.28645123613003665,
                -0.014526745857607493,
                0.08038387715930906,
                -0.23230528709494025,
                0.14227529389984261
               ]
              ]
             },
             {
              "title": "<b>Marginal Percentage Change in Mrsi for Athlete MBB10</b>"
             }
            ],
            "label": "MBB10",
            "method": "update"
           },
           {
            "args": [
             {
              "x": [
               [
                null,
                null,
                null,
                null,
                null,
                null,
                null,
                null,
                null,
                null,
                null,
                null,
                null,
                null,
                null,
                null,
                null,
                null,
                null,
                null,
                null
               ]
              ],
              "y": [
               [
                -0.10729335494327397,
                -0.1344408133623819,
                0.4644992134242263,
                -0.09961329132053853,
                -0.023701582756700756,
                -0.046109979633401244,
                -0.07831582543342741,
                -0.01918087472201624,
                0.08474256022673599,
                0.019770074899843282,
                -0.08719788197113343,
                0.18216691616766467,
                -0.17578155916106064,
                0.03821778375264073,
                0.050499445061043424,
                -0.07131537242472263,
                0.11186954872961685,
                0.14179740791268758,
                -0.09834963781644401,
                -0.08878582077190655,
                0.21577894928194885
               ]
              ]
             },
             {
              "title": "<b>Marginal Percentage Change in Mrsi for Athlete MBB11</b>"
             }
            ],
            "label": "MBB11",
            "method": "update"
           },
           {
            "args": [
             {
              "x": [
               [
                null,
                null,
                null,
                null,
                null,
                null,
                null,
                null,
                null,
                null,
                null,
                null,
                null,
                null,
                null,
                null
               ]
              ],
              "y": [
               [
                -0.2307117224880384,
                0.18542274052478147,
                -0.2067552057714379,
                0.3033278214138073,
                -0.007770993577035812,
                -0.07232478222648442,
                -0.05496209510682293,
                0.01358249772105724,
                0.142728662649519,
                -0.09806390681567767,
                -0.011169284467713703,
                -0.07227320861277808,
                0.12536859126795408,
                -0.09855464457780405,
                0.27557430848570075,
                -0.28462216995001466
               ]
              ]
             },
             {
              "title": "<b>Marginal Percentage Change in Mrsi for Athlete MBB12</b>"
             }
            ],
            "label": "MBB12",
            "method": "update"
           },
           {
            "args": [
             {
              "x": [
               [
                null,
                null,
                null,
                null,
                null,
                null,
                null,
                null,
                null,
                null,
                null,
                null,
                null,
                null,
                null,
                null,
                null,
                null,
                null,
                null,
                null,
                null,
                null,
                null
               ]
              ],
              "y": [
               [
                0.5968968351829018,
                -0.021684576282092527,
                -0.05215732701920539,
                -0.13295399347720505,
                -0.0032813125250098496,
                0.17673036775333228,
                0.12616854315933113,
                -0.18995395055744058,
                0.05871792953848454,
                0.10300974989402278,
                0.014988470407379051,
                -0.10703016534141108,
                -0.04946996466431097,
                0.21799256505576192,
                -0.006104260774020154,
                0.08481758997666122,
                -0.2560153994225216,
                0.15021687847195797,
                0.2545153820707904,
                -0.2865204092395317,
                0.21997191218863188,
                -0.09469857618903366,
                -0.032726542631508426,
                0.10288521414239238
               ]
              ]
             },
             {
              "title": "<b>Marginal Percentage Change in Mrsi for Athlete MBB13</b>"
             }
            ],
            "label": "MBB13",
            "method": "update"
           },
           {
            "args": [
             {
              "x": [
               [
                null,
                null,
                null,
                null,
                null,
                null,
                null,
                null,
                null,
                null,
                null,
                null,
                null,
                null,
                null,
                null,
                null,
                null,
                null,
                null,
                null,
                null,
                null
               ]
              ],
              "y": [
               [
                -0.251944792973651,
                -0.20966118752096619,
                0.22771646859083194,
                0.023422644770959344,
                -0.1649353939701037,
                0.04965614886731373,
                0.01907698236824351,
                -0.023447102202893033,
                0.07232065059541082,
                0.00875767425063212,
                0.1338942092544526,
                -0.12295103533559604,
                0.034979300413991776,
                -0.17191304347826086,
                0.11508978263152381,
                -0.001506733214050593,
                0.07158351409978336,
                0.10051047350818498,
                -0.12444017914267436,
                0.07024113993423464,
                0.023811555859008404,
                -0.04059686562187392,
                0.15648622816925872
               ]
              ]
             },
             {
              "title": "<b>Marginal Percentage Change in Mrsi for Athlete MBB14</b>"
             }
            ],
            "label": "MBB14",
            "method": "update"
           },
           {
            "args": [
             {
              "x": [
               [
                null,
                null,
                null,
                null,
                null,
                null,
                null,
                null,
                null,
                null,
                null,
                null,
                null,
                null,
                null,
                null,
                null,
                null,
                null,
                null
               ]
              ],
              "y": [
               [
                -0.6079639368895566,
                1.1711383671904945,
                -0.18412922588048375,
                0.06610407876230662,
                -0.0019281510046681438,
                -0.3881037112353839,
                0.4225656364240611,
                -0.1748627496787758,
                0.07955832389580952,
                0.49960660896931586,
                -0.3359566281916755,
                -0.393995259415328,
                0.8092133854845722,
                -0.013091520538073498,
                -0.2279420713155652,
                0.5245901639344261,
                -0.2642679900744417,
                1.1347667228780214,
                -0.2747679547100256,
                -0.2746664246165018
               ]
              ]
             },
             {
              "title": "<b>Marginal Percentage Change in Mrsi for Athlete MBB15</b>"
             }
            ],
            "label": "MBB15",
            "method": "update"
           },
           {
            "args": [
             {
              "x": [
               [
                null,
                null,
                null,
                null,
                null,
                null,
                null,
                null,
                null,
                null,
                null,
                null,
                null,
                null,
                null,
                null,
                null,
                null,
                null,
                null,
                null,
                null,
                null,
                null
               ]
              ],
              "y": [
               [
                0.46264547616068086,
                -0.138432580424367,
                -0.02730883813306839,
                0.018989280245022888,
                -0.01342550846608559,
                0.1346603026302431,
                -0.07294370357110902,
                -0.07134581965630438,
                0.15885227154589887,
                0.10675518076612533,
                -0.0077814703736727164,
                -0.0008986193938402831,
                -0.07694194603434179,
                0.042785011958543784,
                0.022341148487937446,
                -0.10859991690901538,
                0.09228187919463093,
                -0.010325994196961896,
                -0.021902216090368132,
                -0.10341179582121152,
                0.06686332350049162,
                0.22562211981566827,
                -0.09512708677996695,
                0.06191307238427668
               ]
              ]
             },
             {
              "title": "<b>Marginal Percentage Change in Mrsi for Athlete MBB2</b>"
             }
            ],
            "label": "MBB2",
            "method": "update"
           },
           {
            "args": [
             {
              "x": [
               [
                null,
                null,
                null,
                null
               ]
              ],
              "y": [
               [
                -0.3449679136015026,
                0.08530465949820787,
                -0.10281814178775872,
                -0.15214723926380358
               ]
              ]
             },
             {
              "title": "<b>Marginal Percentage Change in Mrsi for Athlete MBB3</b>"
             }
            ],
            "label": "MBB3",
            "method": "update"
           },
           {
            "args": [
             {
              "x": [
               [
                null,
                null,
                null,
                null,
                null,
                null,
                null,
                null,
                null,
                null,
                null
               ]
              ],
              "y": [
               [
                1.1180897250361794,
                0.03149767696091832,
                -0.08557991653970987,
                0.12183991307497277,
                0.10202104991283023,
                -0.10025194820413663,
                0.02995571763480065,
                -0.030412240768841525,
                0.0699054450603196,
                -0.0454074480404707,
                0.03767079555612329
               ]
              ]
             },
             {
              "title": "<b>Marginal Percentage Change in Mrsi for Athlete MBB4</b>"
             }
            ],
            "label": "MBB4",
            "method": "update"
           },
           {
            "args": [
             {
              "x": [
               [
                null,
                null,
                null,
                null,
                null,
                null,
                null,
                null,
                null,
                null,
                null,
                null,
                null,
                null,
                null,
                null,
                null,
                null,
                null,
                null,
                null,
                null,
                null
               ]
              ],
              "y": [
               [
                -0.0337189269013044,
                0.03903464085583286,
                0.0574247717104861,
                -0.12553610756925937,
                0.05653499469777312,
                0.022771469794868437,
                -0.0896712463199214,
                -0.06266001886538197,
                0.04449396204715361,
                -0.036886656114513694,
                -0.04187209717756357,
                0.03512566186889399,
                0.0417867435158501,
                0.07939142461964033,
                -0.1004613018964634,
                -0.2794871794871794,
                0.3734677738236456,
                0.11501367496761183,
                -0.17951200619674657,
                0.18786877507670519,
                -0.15365255977217052,
                0.26895688238516335,
                -0.25622841637888494
               ]
              ]
             },
             {
              "title": "<b>Marginal Percentage Change in Mrsi for Athlete MBB5</b>"
             }
            ],
            "label": "MBB5",
            "method": "update"
           },
           {
            "args": [
             {
              "x": [
               [
                null,
                null,
                null,
                null,
                null,
                null,
                null,
                null,
                null,
                null,
                null,
                null,
                null,
                null,
                null,
                null,
                null,
                null,
                null,
                null,
                null
               ]
              ],
              "y": [
               [
                0.5194428322692974,
                -0.1659391029138927,
                -0.09944389924762842,
                -0.030294224482382948,
                0.10593347317950252,
                0.13033464300230335,
                -0.07365456070957688,
                -0.15928058484828878,
                -0.0153905348210851,
                -0.05127002735443542,
                0.11244748331823051,
                -0.05287322274881523,
                0.06270523846755283,
                -0.0668775750441436,
                -0.02113064732318848,
                0.31735803463552137,
                -0.16472026903087733,
                0.11565771173413353,
                -0.2159307132077949,
                0.19774058577405884,
                0.034723677775448936
               ]
              ]
             },
             {
              "title": "<b>Marginal Percentage Change in Mrsi for Athlete MBB6</b>"
             }
            ],
            "label": "MBB6",
            "method": "update"
           },
           {
            "args": [
             {
              "x": [
               [
                null,
                null,
                null,
                null,
                null,
                null,
                null,
                null,
                null,
                null,
                null,
                null,
                null,
                null,
                null,
                null,
                null,
                null,
                null,
                null,
                null,
                null
               ]
              ],
              "y": [
               [
                0.045037137069547484,
                -0.4352264650772112,
                0.16142317812607243,
                0.2593577620173364,
                -0.02448181462651533,
                -0.03856638871071205,
                0.06338086898507211,
                -0.13787153948709918,
                0.23005548985718183,
                -0.13200709954148793,
                0.1337650166141262,
                0.11670549334936497,
                -0.0794078061911172,
                0.1365497076023392,
                -0.10065603293028047,
                -0.1044125008939426,
                -0.16593468018845325,
                -0.0423168980373384,
                0.4154753573927821,
                -0.24048308496362725,
                0.08573554026408758,
                0.30558410414525516
               ]
              ]
             },
             {
              "title": "<b>Marginal Percentage Change in Mrsi for Athlete MBB7</b>"
             }
            ],
            "label": "MBB7",
            "method": "update"
           },
           {
            "args": [
             {
              "x": [
               [
                null,
                null,
                null,
                null,
                null,
                null,
                null,
                null,
                null,
                null,
                null,
                null,
                null,
                null,
                null,
                null,
                null,
                null,
                null,
                null,
                null,
                null,
                null
               ]
              ],
              "y": [
               [
                -0.08160587772238259,
                -0.009000000000000008,
                -0.007496035750324315,
                -0.062236746550471955,
                0.08262990784480762,
                -0.028826895565093102,
                0.03189217058260296,
                -0.07251962883654539,
                0.04032630444820695,
                0.00961680722000291,
                -0.004909144196951876,
                0.07422133863485758,
                -0.11207073822743163,
                -0.001312335958005284,
                0.010203292880884618,
                0.02938250822557187,
                -0.007804950568646385,
                0.1886424932574169,
                -0.007059120131097885,
                0.04379840040624594,
                -0.23662126003405493,
                0.09814386999123692,
                0.03619876677548062
               ]
              ]
             },
             {
              "title": "<b>Marginal Percentage Change in Mrsi for Athlete MBB8</b>"
             }
            ],
            "label": "MBB8",
            "method": "update"
           },
           {
            "args": [
             {
              "x": [
               [
                null,
                null,
                null,
                null,
                null,
                null,
                null,
                null,
                null,
                null,
                null,
                null,
                null,
                null,
                null,
                null,
                null,
                null,
                null,
                null,
                null,
                null
               ]
              ],
              "y": [
               [
                -0.08541024922990748,
                -0.12415799142682171,
                0.027617549379479023,
                -0.018200374213301673,
                -0.07666320166320151,
                -0.05375738812271336,
                0.21148126115407506,
                -0.16867174073164737,
                0.1473715298287066,
                0.18163878163878144,
                -0.08306709265175727,
                0.10159961989230282,
                -0.01653367838401254,
                -0.10328192383597701,
                -0.26589501141180305,
                0.5464135021097047,
                -0.18144611186903137,
                0.012631578947368105,
                0.017065142065142203,
                0.031769014564347,
                0.14280997193330047,
                -0.0026726379659056665
               ]
              ]
             },
             {
              "title": "<b>Marginal Percentage Change in Mrsi for Athlete MBB9</b>"
             }
            ],
            "label": "MBB9",
            "method": "update"
           },
           {
            "args": [
             {
              "x": [
               [
                null,
                null,
                null,
                null,
                null,
                null,
                null,
                null,
                null,
                null,
                null,
                null,
                null,
                null,
                null,
                null,
                null,
                null
               ]
              ],
              "y": [
               [
                -0.46128775258926635,
                -0.3183651519225599,
                0.3688362919132149,
                -0.21829971181556196,
                0.2632258064516131,
                -0.19295685587820433,
                0.2779652844744458,
                -0.3218732314657613,
                0.21573127477571452,
                -0.15033464904753735,
                0.42698444758634624,
                -0.27048832271762213,
                0.29646876212650386,
                -0.2270278359772524,
                0.21916747337850917,
                -0.000952834683182413,
                -0.06119853759338734,
                0.2577040298002031
               ]
              ]
             },
             {
              "title": "<b>Marginal Percentage Change in Mrsi for Athlete MLAX1</b>"
             }
            ],
            "label": "MLAX1",
            "method": "update"
           },
           {
            "args": [
             {
              "x": [
               [
                null,
                null,
                null,
                null,
                null,
                null,
                null,
                null,
                null,
                null,
                null,
                null,
                null,
                null,
                null,
                null,
                null,
                null,
                null
               ]
              ],
              "y": [
               [
                0.8134087237479806,
                -0.28574610244988863,
                0.28843155597131287,
                -0.213294611164892,
                0.1026456111566858,
                -0.0748628289779597,
                -0.0019099316445516656,
                -0.08681639641454308,
                -0.0038601522002867927,
                0.1731620903454385,
                0.04841449603624004,
                0.08884688090737236,
                -0.1304563492063492,
                0.1533561513595738,
                -0.20094523672134745,
                0.11994497936726267,
                0.11063006632277084,
                0.13062950982831545,
                -0.19813673708920188
               ]
              ]
             },
             {
              "title": "<b>Marginal Percentage Change in Mrsi for Athlete MLAX10</b>"
             }
            ],
            "label": "MLAX10",
            "method": "update"
           },
           {
            "args": [
             {
              "x": [
               [
                null,
                null,
                null,
                null,
                null,
                null,
                null,
                null,
                null,
                null,
                null,
                null,
                null,
                null,
                null,
                null,
                null
               ]
              ],
              "y": [
               [
                -0.21178300247003923,
                0.031220984215413194,
                0.05379853685987612,
                0.025312399871835867,
                -0.02604166666666663,
                -0.0028877005347593965,
                -0.09503378740748691,
                -0.011378452056418076,
                0.1387123846061622,
                0.011791956201305576,
                -0.0976066597294486,
                0.055350553505535194,
                0.013986013986013957,
                -0.08954741379310338,
                0.09101668836548704,
                0.029724452158819803,
                -0.028550358196375858
               ]
              ]
             },
             {
              "title": "<b>Marginal Percentage Change in Mrsi for Athlete MLAX11</b>"
             }
            ],
            "label": "MLAX11",
            "method": "update"
           },
           {
            "args": [
             {
              "x": [
               [
                null,
                null,
                null,
                null,
                null,
                null,
                null,
                null,
                null,
                null,
                null,
                null,
                null,
                null,
                null,
                null,
                null,
                null
               ]
              ],
              "y": [
               [
                0.05129595488558736,
                -0.012275634413039027,
                0.08010443864229755,
                -0.11815896345000965,
                -0.03837719298245612,
                0.0025085518814138563,
                0.17686533212010924,
                -0.08185947617666955,
                0.09368421052631581,
                -0.03618864292589019,
                0.13670860794887152,
                -0.22085566195203377,
                0.31987822753410766,
                -0.1841790534768496,
                -0.06167539267015698,
                -0.017408771342484086,
                -0.10005678591709266,
                0.3343008581524485
               ]
              ]
             },
             {
              "title": "<b>Marginal Percentage Change in Mrsi for Athlete MLAX12</b>"
             }
            ],
            "label": "MLAX12",
            "method": "update"
           },
           {
            "args": [
             {
              "x": [
               [
                null,
                null,
                null,
                null,
                null,
                null,
                null,
                null,
                null,
                null,
                null,
                null,
                null,
                null,
                null,
                null
               ]
              ],
              "y": [
               [
                -0.07377281755414744,
                0.07556417849484331,
                -0.08734453621950067,
                -0.10100905024446072,
                0.1577181208053693,
                0.021089455272363722,
                0.007635082223962364,
                -0.07849232562657871,
                0.1860636727809406,
                -0.15936361212336703,
                0.08014379361387203,
                -0.028974158183242005,
                0.008669354838709564,
                -0.018688786727963147,
                0.12781342295549436,
                -0.02402022756005051
               ]
              ]
             },
             {
              "title": "<b>Marginal Percentage Change in Mrsi for Athlete MLAX13</b>"
             }
            ],
            "label": "MLAX13",
            "method": "update"
           },
           {
            "args": [
             {
              "x": [
               [
                null,
                null,
                null,
                null,
                null,
                null,
                null,
                null,
                null,
                null,
                null,
                null,
                null,
                null,
                null,
                null
               ]
              ],
              "y": [
               [
                0.07124352331606221,
                0.1362065987217138,
                -0.05359179019384264,
                0.16658634538152595,
                0.006403194712200522,
                -0.2247383183963878,
                -0.0569184609954112,
                -0.023767193786843888,
                0.10629732579315632,
                0.03604228036735413,
                -0.15178123432012047,
                0.041013506852016324,
                0.25267544275026044,
                -0.13789975051031989,
                0.08374989037972469,
                0.10001618384851918
               ]
              ]
             },
             {
              "title": "<b>Marginal Percentage Change in Mrsi for Athlete MLAX14</b>"
             }
            ],
            "label": "MLAX14",
            "method": "update"
           },
           {
            "args": [
             {
              "x": [
               [
                null,
                null,
                null,
                null,
                null,
                null,
                null,
                null,
                null,
                null,
                null,
                null,
                null,
                null,
                null,
                null,
                null,
                null
               ]
              ],
              "y": [
               [
                0.10431072531999397,
                -0.2988942179589661,
                0.16522565320665072,
                0.02837573385518599,
                -0.24611481129083412,
                0.21897349600336558,
                -0.13382226056945645,
                0.025998605438788847,
                0.14873786407766998,
                0.17968221771467197,
                -0.07866456512394315,
                -0.04976671850699854,
                -0.10744680851063826,
                0.16585678921793345,
                -0.1812676942434729,
                0.26750552300451447,
                -0.2331009396786904,
                -0.01976284584980237
               ]
              ]
             },
             {
              "title": "<b>Marginal Percentage Change in Mrsi for Athlete MLAX15</b>"
             }
            ],
            "label": "MLAX15",
            "method": "update"
           },
           {
            "args": [
             {
              "x": [
               [
                null,
                null,
                null,
                null,
                null,
                null,
                null,
                null,
                null,
                null,
                null,
                null,
                null,
                null,
                null,
                null,
                null,
                null
               ]
              ],
              "y": [
               [
                0.062298387096774155,
                -0.07373315619662169,
                0.019055424649113695,
                -0.05277973258268809,
                0.032477181065591276,
                -0.13384046052631582,
                0.18407310704960844,
                -0.04951388192843542,
                -0.0496678266371402,
                0.05814469596094107,
                0.1610738255033557,
                -0.0666546242774565,
                0.04064253919101968,
                -0.20482301159258565,
                0.17385203087237855,
                0.04572624028690986,
                -0.017052491187958485,
                0.02578018995929443
               ]
              ]
             },
             {
              "title": "<b>Marginal Percentage Change in Mrsi for Athlete MLAX16</b>"
             }
            ],
            "label": "MLAX16",
            "method": "update"
           },
           {
            "args": [
             {
              "x": [
               [
                null,
                null,
                null,
                null,
                null,
                null,
                null,
                null,
                null,
                null,
                null,
                null,
                null,
                null,
                null
               ]
              ],
              "y": [
               [
                -0.03543083900226762,
                -0.04564599862866092,
                -0.03982346299907624,
                0.11694281133083928,
                -0.18429195776310348,
                0.09910050840829099,
                -0.0009607173356106502,
                -0.08344908644085902,
                0.1988808580088599,
                -0.2147024504084014,
                0.15156017830609203,
                -0.2758064516129032,
                0.31091314031180417,
                0.03318609129006678,
                -0.029927647445735617
               ]
              ]
             },
             {
              "title": "<b>Marginal Percentage Change in Mrsi for Athlete MLAX17</b>"
             }
            ],
            "label": "MLAX17",
            "method": "update"
           },
           {
            "args": [
             {
              "x": [
               [
                null,
                null,
                null,
                null,
                null,
                null,
                null,
                null,
                null,
                null,
                null,
                null,
                null,
                null,
                null,
                null,
                null
               ]
              ],
              "y": [
               [
                -0.023618487964741863,
                0.13275462962962958,
                -0.11750280984980077,
                0.11273204430550732,
                0.009815482796892372,
                -0.07346728490468835,
                -0.06806049822064064,
                0.07147971360381877,
                -0.052010246129858606,
                0.2778430451127818,
                0.03466029236002588,
                -0.22640838812866526,
                0.017229496898690577,
                0.11878952122854547,
                0.03704077513120696,
                -0.10715328467153273,
                0.06202310878569861
               ]
              ]
             },
             {
              "title": "<b>Marginal Percentage Change in Mrsi for Athlete MLAX18</b>"
             }
            ],
            "label": "MLAX18",
            "method": "update"
           },
           {
            "args": [
             {
              "x": [
               [
                null,
                null,
                null,
                null,
                null,
                null,
                null,
                null,
                null,
                null,
                null,
                null,
                null,
                null,
                null
               ]
              ],
              "y": [
               [
                -0.13147901057169242,
                -0.037934294493027654,
                0.04765999262989795,
                -0.11068120529956627,
                -0.12155570204350685,
                -0.031967582170193576,
                0.15441860465116286,
                0.04002148804727357,
                -0.004907024793388448,
                0.04632753698416825,
                -0.08880069453057171,
                0.07567714713488494,
                0.04251550044286989,
                -0.1571792693288021,
                0.19066820276497687
               ]
              ]
             },
             {
              "title": "<b>Marginal Percentage Change in Mrsi for Athlete MLAX19</b>"
             }
            ],
            "label": "MLAX19",
            "method": "update"
           },
           {
            "args": [
             {
              "x": [
               [
                null,
                null,
                null,
                null,
                null,
                null,
                null,
                null,
                null,
                null,
                null,
                null,
                null,
                null,
                null
               ]
              ],
              "y": [
               [
                0.08309143686502174,
                -0.14595198213288674,
                0.0623692468619248,
                0.050830769230769235,
                -0.16608104942609514,
                0.03328651685393269,
                0.050156313714829315,
                -0.027828112865648458,
                -0.005591798695246952,
                0.04244209398848575,
                0.2298998201900848,
                -0.09670008354218884,
                -0.1878612716763005,
                -0.054614472123368896,
                0.12522585826139343
               ]
              ]
             },
             {
              "title": "<b>Marginal Percentage Change in Mrsi for Athlete MLAX2</b>"
             }
            ],
            "label": "MLAX2",
            "method": "update"
           },
           {
            "args": [
             {
              "x": [
               [
                null,
                null,
                null,
                null,
                null,
                null,
                null,
                null,
                null,
                null,
                null,
                null,
                null,
                null
               ]
              ],
              "y": [
               [
                0.9071323431018328,
                -0.20256806062307042,
                0.02692476902771679,
                0.25259189443920826,
                -0.1859908338463644,
                -0.11436974789915955,
                0.21187968497959941,
                0.16089884121515818,
                -0.18985634315775268,
                0.12287712287712282,
                -0.10320284697508897,
                0.18163029100529093,
                0.037850696144966056,
                0.002494269920452874
               ]
              ]
             },
             {
              "title": "<b>Marginal Percentage Change in Mrsi for Athlete MLAX20</b>"
             }
            ],
            "label": "MLAX20",
            "method": "update"
           },
           {
            "args": [
             {
              "x": [
               [
                null,
                null,
                null,
                null,
                null,
                null,
                null,
                null,
                null,
                null,
                null,
                null,
                null,
                null,
                null,
                null,
                null,
                null
               ]
              ],
              "y": [
               [
                -0.5194001748369309,
                0.028403525954946218,
                0.16108843537414974,
                -0.12350597609561753,
                -0.06483957219251335,
                0.04817726947819856,
                -0.19162575013638838,
                0.129745233676396,
                -0.0849761051373954,
                0.07099722539578912,
                0.22874123742761365,
                -0.2536276820042168,
                0.23745430375540022,
                -0.16127299583724974,
                0.23358949727825795,
                -0.02790395846852689,
                0.04325767690253679,
                -0.018556437164064632
               ]
              ]
             },
             {
              "title": "<b>Marginal Percentage Change in Mrsi for Athlete MLAX21</b>"
             }
            ],
            "label": "MLAX21",
            "method": "update"
           },
           {
            "args": [
             {
              "x": [
               [
                null,
                null,
                null,
                null,
                null,
                null,
                null,
                null,
                null,
                null,
                null,
                null,
                null,
                null,
                null
               ]
              ],
              "y": [
               [
                0.901551701656018,
                -0.35150517726119457,
                0.17183039018716295,
                0.044125609095831075,
                -0.027136807536081498,
                0.024429244025939267,
                -0.06651057925771764,
                0.12215513237343245,
                0.322682119205298,
                -0.39986231067718103,
                0.3521743664615704,
                -0.1184636742248959,
                0.1514435695538059,
                0.0838082212597826,
                0.006169377453729696
               ]
              ]
             },
             {
              "title": "<b>Marginal Percentage Change in Mrsi for Athlete MLAX22</b>"
             }
            ],
            "label": "MLAX22",
            "method": "update"
           },
           {
            "args": [
             {
              "x": [
               [
                null,
                null,
                null,
                null,
                null,
                null,
                null,
                null,
                null,
                null,
                null,
                null,
                null,
                null,
                null,
                null,
                null
               ]
              ],
              "y": [
               [
                -0.1599777034559643,
                -0.08137027206370273,
                -0.02871331828442447,
                0.20052059124291177,
                -0.20009292240978793,
                0.0865440464666023,
                0.06477191732002852,
                -0.006442975483223146,
                -0.06964797035539838,
                -0.07748710057029051,
                0.28691983122362874,
                -0.13213877239801752,
                0.07178000351432079,
                -0.15419296663660964,
                0.05911998449311895,
                0.10065885797950225,
                -0.012387761888925986
               ]
              ]
             },
             {
              "title": "<b>Marginal Percentage Change in Mrsi for Athlete MLAX23</b>"
             }
            ],
            "label": "MLAX23",
            "method": "update"
           },
           {
            "args": [
             {
              "x": [
               [
                null,
                null,
                null,
                null,
                null,
                null,
                null,
                null,
                null,
                null,
                null,
                null,
                null,
                null,
                null,
                null,
                null,
                null
               ]
              ],
              "y": [
               [
                0.002441282936274103,
                -0.09766543500167957,
                0.05984178687761732,
                -0.02002107481559512,
                0.03306451612903194,
                -0.04484343828606108,
                0.13330911732655282,
                -0.15360576923076918,
                -0.04742970746946895,
                0.13933611608030216,
                -0.004972086531751629,
                -0.07872359077759283,
                0.22418879056047225,
                -0.17854644383987583,
                0.04854277062831169,
                -0.08970309538850274,
                0.08476256567859641,
                0.01663315664412357
               ]
              ]
             },
             {
              "title": "<b>Marginal Percentage Change in Mrsi for Athlete MLAX24</b>"
             }
            ],
            "label": "MLAX24",
            "method": "update"
           },
           {
            "args": [
             {
              "x": [
               [
                null,
                null,
                null,
                null,
                null,
                null,
                null,
                null,
                null,
                null,
                null,
                null,
                null
               ]
              ],
              "y": [
               [
                -0.037486515641855456,
                -0.2689829083776969,
                0.26842979430177594,
                -0.07352941176470584,
                0.05262013481191574,
                -0.06166081388142941,
                0.07352779306549273,
                -0.07084999487337229,
                0.1286691679540941,
                -0.20023464998044593,
                0.1938875305623471,
                0.0932828179397911,
                0.06584246511192293
               ]
              ]
             },
             {
              "title": "<b>Marginal Percentage Change in Mrsi for Athlete MLAX25</b>"
             }
            ],
            "label": "MLAX25",
            "method": "update"
           },
           {
            "args": [
             {
              "x": [
               [
                null,
                null,
                null,
                null,
                null,
                null,
                null,
                null,
                null,
                null,
                null,
                null,
                null,
                null,
                null,
                null,
                null,
                null
               ]
              ],
              "y": [
               [
                -0.11265377855887515,
                -0.07565854624678159,
                0.029247910863509752,
                0.004267721453107276,
                -0.1608623548922058,
                0.11882411067193677,
                -0.0070655773901524555,
                -0.15310206804536353,
                0.06944991466456596,
                -0.1092560766020132,
                0.22050716648291058,
                -0.12097259861487497,
                0.02175216237047195,
                -0.06713603218506414,
                0.12210242587601083,
                0.21582993033869813,
                -0.024004741677368324,
                0.015283400809716685
               ]
              ]
             },
             {
              "title": "<b>Marginal Percentage Change in Mrsi for Athlete MLAX26</b>"
             }
            ],
            "label": "MLAX26",
            "method": "update"
           },
           {
            "args": [
             {
              "x": [
               [
                null,
                null,
                null,
                null,
                null,
                null,
                null,
                null,
                null,
                null,
                null
               ]
              ],
              "y": [
               [
                -0.02691655866812892,
                -0.060854420653621455,
                0.08508781498854567,
                0.016788981602493314,
                0.10500296618548521,
                0.053596993557623485,
                -0.16857749469214434,
                0.006843718079673211,
                0.04859490717256776,
                0.05592105263157876,
                0.008154663734652567
               ]
              ]
             },
             {
              "title": "<b>Marginal Percentage Change in Mrsi for Athlete MLAX27</b>"
             }
            ],
            "label": "MLAX27",
            "method": "update"
           },
           {
            "args": [
             {
              "x": [
               [
                null,
                null,
                null,
                null,
                null,
                null,
                null,
                null,
                null,
                null,
                null,
                null,
                null,
                null,
                null,
                null,
                null,
                null
               ]
              ],
              "y": [
               [
                -0.2785603926201943,
                -0.13202317964222743,
                -0.16023222060957898,
                0.2671966816453508,
                -0.04759956355701045,
                -0.04768724044107098,
                0.21503759398496247,
                -0.09826732673267324,
                -0.13189678836124064,
                0.1620553359683794,
                0.3878911564625851,
                -0.2872267424762277,
                0.23696878008527,
                -0.06170780520346897,
                0.2244341746652445,
                -0.06309880963902059,
                0.18066315463278593,
                -0.26972878390201227
               ]
              ]
             },
             {
              "title": "<b>Marginal Percentage Change in Mrsi for Athlete MLAX28</b>"
             }
            ],
            "label": "MLAX28",
            "method": "update"
           },
           {
            "args": [
             {
              "x": [
               [
                null,
                null,
                null,
                null,
                null,
                null,
                null,
                null,
                null,
                null,
                null,
                null,
                null,
                null,
                null,
                null,
                null,
                null
               ]
              ],
              "y": [
               [
                0.33616868335929073,
                -0.24011476732717663,
                0.3451327433628322,
                -0.06605263157894747,
                0.01098901098901095,
                -0.07339279078409522,
                0.012933627431321426,
                -0.06225873502919921,
                -0.03335444374076424,
                0.1229526097401179,
                0.01643329443796193,
                -0.0016263273701330183,
                -0.0016289766193944288,
                0.14905461176696422,
                -0.15644837955228874,
                0.07228438459253383,
                0.45812171022255055,
                -0.2635845471817606
               ]
              ]
             },
             {
              "title": "<b>Marginal Percentage Change in Mrsi for Athlete MLAX29</b>"
             }
            ],
            "label": "MLAX29",
            "method": "update"
           },
           {
            "args": [
             {
              "x": [
               [
                null,
                null,
                null,
                null,
                null,
                null,
                null,
                null,
                null,
                null,
                null,
                null,
                null,
                null,
                null,
                null,
                null,
                null
               ]
              ],
              "y": [
               [
                -0.08307533539731682,
                -0.0637779028324893,
                0.15738328992185946,
                -0.12758590842205486,
                0.05476733802956635,
                -0.11447653090019749,
                -0.22477161674102397,
                0.4023020005480955,
                -0.09233926128590975,
                0.26579825600172224,
                -0.10563020921925481,
                -0.12618866489159375,
                0.11002285341168783,
                -0.043333333333333335,
                -0.10309489649518344,
                0.2101234003656307,
                -0.11396468699839479,
                0.14343563512361457
               ]
              ]
             },
             {
              "title": "<b>Marginal Percentage Change in Mrsi for Athlete MLAX3</b>"
             }
            ],
            "label": "MLAX3",
            "method": "update"
           },
           {
            "args": [
             {
              "x": [
               [
                null,
                null,
                null,
                null,
                null,
                null,
                null,
                null,
                null,
                null,
                null,
                null,
                null,
                null,
                null,
                null,
                null,
                null
               ]
              ],
              "y": [
               [
                -0.11202236719478098,
                0.1816750629722923,
                0.04538591349142895,
                -0.08878504672897203,
                0.02144522144522143,
                -0.05924235508900044,
                0.04686590335726759,
                -0.00861989062934454,
                0.025617053103963894,
                -0.028805834092980875,
                -0.11235216819973715,
                -0.03774981495188756,
                0.2105494505494505,
                -0.19038973614137,
                0.08300941844819842,
                -0.28460503157676775,
                0.4211287988422574,
                -0.10234215885947051
               ]
              ]
             },
             {
              "title": "<b>Marginal Percentage Change in Mrsi for Athlete MLAX30</b>"
             }
            ],
            "label": "MLAX30",
            "method": "update"
           },
           {
            "args": [
             {
              "x": [
               [
                null,
                null,
                null,
                null,
                null,
                null,
                null,
                null,
                null,
                null,
                null,
                null,
                null,
                null,
                null,
                null,
                null,
                null
               ]
              ],
              "y": [
               [
                0.23391945547362436,
                -0.2339799577089271,
                0.20571291406625059,
                -0.028867210830181067,
                0.049610496104961044,
                -0.142578125,
                0.04350797266514794,
                -0.011678672778869137,
                0.05466593042517953,
                0.02429319371727745,
                0.018605602126354537,
                -0.034725010036130044,
                0.12705344146392195,
                -0.27164821648216486,
                0.23921303723718657,
                0.08800081766148815,
                0.03691874119304828,
                -0.03759739083167224
               ]
              ]
             },
             {
              "title": "<b>Marginal Percentage Change in Mrsi for Athlete MLAX31</b>"
             }
            ],
            "label": "MLAX31",
            "method": "update"
           },
           {
            "args": [
             {
              "x": [
               [
                null,
                null,
                null,
                null,
                null,
                null,
                null,
                null,
                null
               ]
              ],
              "y": [
               [
                -0.39245034359408837,
                0.30105361016423937,
                -0.144694533762058,
                0.0006961849067113057,
                -0.025740921107555437,
                0.15038560411311064,
                0.004096834264432081,
                0.0390702274975272,
                -0.005354593050928225
               ]
              ]
             },
             {
              "title": "<b>Marginal Percentage Change in Mrsi for Athlete MLAX32</b>"
             }
            ],
            "label": "MLAX32",
            "method": "update"
           },
           {
            "args": [
             {
              "x": [
               [
                null,
                null,
                null,
                null,
                null,
                null,
                null,
                null,
                null,
                null,
                null,
                null,
                null,
                null,
                null,
                null,
                null,
                null,
                null
               ]
              ],
              "y": [
               [
                0.15719583682258653,
                -0.13212033495296194,
                0.10005955926146526,
                0.03475906876015156,
                0.0546253662620344,
                -0.24171462591784076,
                0.22114629678094722,
                -0.07468924132018873,
                -0.22605674580196866,
                0.35178811910818486,
                0.16271861855213632,
                0.04150799695354146,
                -0.32321755027422294,
                0.33441383036196637,
                -0.24743589743589745,
                0.2646373173137273,
                0.08337764543230897,
                -0.12653381761068017,
                0.08900876601483487
               ]
              ]
             },
             {
              "title": "<b>Marginal Percentage Change in Mrsi for Athlete MLAX33</b>"
             }
            ],
            "label": "MLAX33",
            "method": "update"
           },
           {
            "args": [
             {
              "x": [
               [
                null,
                null,
                null,
                null,
                null,
                null,
                null,
                null,
                null,
                null,
                null,
                null,
                null,
                null,
                null,
                null,
                null,
                null
               ]
              ],
              "y": [
               [
                -0.02363261093911262,
                -0.07726455977169422,
                -0.05315005727376865,
                0.06484393902734098,
                0.048284480799818175,
                -0.09537227701311368,
                0.09284772972325395,
                -0.0405612804209603,
                -0.03222120658135286,
                0.028807556080283403,
                -0.016295616249713096,
                0.10265982267848828,
                -0.06876851460008471,
                0.10224948875255624,
                -0.03700267985982275,
                0.06154340147704174,
                0.015124016938898865,
                -0.22218911402463237
               ]
              ]
             },
             {
              "title": "<b>Marginal Percentage Change in Mrsi for Athlete MLAX34</b>"
             }
            ],
            "label": "MLAX34",
            "method": "update"
           },
           {
            "args": [
             {
              "x": [
               [
                null,
                null,
                null,
                null,
                null,
                null,
                null,
                null,
                null,
                null,
                null,
                null,
                null,
                null,
                null,
                null,
                null,
                null
               ]
              ],
              "y": [
               [
                0.28297790831311476,
                -0.02946153080521563,
                0.25423033535022044,
                -0.09354047424366296,
                0.10364423597329964,
                -0.21672796621713664,
                0.14302608695652186,
                0.23571298155924758,
                -0.2106973995271867,
                -0.03491201797079757,
                0.33149064106294257,
                -0.1859567339208974,
                0.17027559055118124,
                0.11751662971175159,
                -0.036945812807881784,
                -0.12333049161693665,
                0.12625607779578596,
                -0.03648006907468704
               ]
              ]
             },
             {
              "title": "<b>Marginal Percentage Change in Mrsi for Athlete MLAX35</b>"
             }
            ],
            "label": "MLAX35",
            "method": "update"
           },
           {
            "args": [
             {
              "x": [
               [
                null,
                null,
                null,
                null,
                null,
                null,
                null,
                null,
                null,
                null,
                null,
                null,
                null,
                null,
                null,
                null,
                null,
                null
               ]
              ],
              "y": [
               [
                -0.09312224628481824,
                -0.11997694334650855,
                0.15916534106858804,
                -0.16927671940587652,
                0.15411524633174611,
                -0.05666414077629023,
                0.033380935380221244,
                -0.13732941786146136,
                0.10052062474969947,
                0.055312954876273634,
                0.08241379310344832,
                -0.14128703408728893,
                -0.05713225746614736,
                -0.11607318512689346,
                0.23903850434008445,
                -0.07760014370396984,
                0.0926971762414801,
                0.1342897879165923
               ]
              ]
             },
             {
              "title": "<b>Marginal Percentage Change in Mrsi for Athlete MLAX37</b>"
             }
            ],
            "label": "MLAX37",
            "method": "update"
           },
           {
            "args": [
             {
              "x": [
               [
                null,
                null,
                null,
                null,
                null,
                null,
                null,
                null,
                null,
                null,
                null,
                null,
                null,
                null,
                null,
                null
               ]
              ],
              "y": [
               [
                -0.3553303480241967,
                0.1305142578601024,
                -0.038266681039129,
                0.0643353508182023,
                -0.0796124684077506,
                0.1028604118993135,
                0.13227513227513232,
                -0.22961334066336814,
                0.07017126546146524,
                -0.03900866859302066,
                0.23580432519949102,
                -0.19689313119970042,
                0.09205313446748997,
                -0.1015791720017073,
                0.15795724465558192,
                -0.07241025641025645
               ]
              ]
             },
             {
              "title": "<b>Marginal Percentage Change in Mrsi for Athlete MLAX38</b>"
             }
            ],
            "label": "MLAX38",
            "method": "update"
           },
           {
            "args": [
             {
              "x": [
               [
                null,
                null,
                null,
                null,
                null,
                null,
                null,
                null,
                null,
                null,
                null,
                null,
                null,
                null,
                null,
                null,
                null,
                null,
                null
               ]
              ],
              "y": [
               [
                0.1745908889871739,
                -0.2802409865386426,
                0.007454878367774143,
                0.04530702323769975,
                0.24826130153998993,
                0.06258083772758938,
                -0.21179775280898883,
                -0.032668092183416486,
                0.1683654672725039,
                -0.18877443767080093,
                0.25926405804612584,
                -0.1766642658709744,
                -0.14496375906023506,
                0.6847413037123649,
                -0.0939533269714582,
                -0.34067407123707394,
                -0.3331397037467325,
                0.18684668989547037,
                -0.09963302752293579
               ]
              ]
             },
             {
              "title": "<b>Marginal Percentage Change in Mrsi for Athlete MLAX39</b>"
             }
            ],
            "label": "MLAX39",
            "method": "update"
           },
           {
            "args": [
             {
              "x": [
               [
                null,
                null,
                null,
                null,
                null,
                null,
                null,
                null,
                null,
                null,
                null,
                null,
                null,
                null,
                null
               ]
              ],
              "y": [
               [
                0.5451395964948031,
                -0.022421524663676973,
                0.0025634106853749117,
                0.1244785358632754,
                -0.3477740545715653,
                0.14770642201834838,
                0.1942446043165469,
                -0.10763052208835344,
                0.2947794779477948,
                -0.15455914725987718,
                0.03837193367137193,
                -0.043684835686947365,
                0.07410985371239298,
                -0.0648850057818322,
                0.12833195932948605
               ]
              ]
             },
             {
              "title": "<b>Marginal Percentage Change in Mrsi for Athlete MLAX4</b>"
             }
            ],
            "label": "MLAX4",
            "method": "update"
           },
           {
            "args": [
             {
              "x": [
               [
                null,
                null,
                null,
                null,
                null,
                null,
                null,
                null,
                null,
                null,
                null,
                null,
                null,
                null,
                null,
                null,
                null,
                null
               ]
              ],
              "y": [
               [
                0.2923770092547495,
                -0.1639498727975126,
                0.15530260340358404,
                -0.05765291191103317,
                0.005693581780538359,
                0.11477097272259384,
                -0.08513388734995375,
                0.2646346386758174,
                -0.21061452513966472,
                0.1375998382367809,
                0.041592605758976386,
                0.01604095563139918,
                0.1084145112529391,
                -0.1306917190696265,
                -0.1447620707686944,
                0.012024864975032967,
                0.32051152955392204,
                0.0024401403080678286
               ]
              ]
             },
             {
              "title": "<b>Marginal Percentage Change in Mrsi for Athlete MLAX40</b>"
             }
            ],
            "label": "MLAX40",
            "method": "update"
           },
           {
            "args": [
             {
              "x": [
               [
                null,
                null,
                null,
                null,
                null,
                null,
                null,
                null,
                null,
                null,
                null,
                null,
                null,
                null,
                null,
                null,
                null,
                null
               ]
              ],
              "y": [
               [
                -0.1796744256808156,
                -0.06212908011869411,
                0.38115483488234125,
                -0.10272746796477916,
                -0.1325993298228817,
                0.2266372332597495,
                -0.13534793041391713,
                -0.11820310467435613,
                0.06048387096774199,
                -0.06111471761105447,
                -0.10183721849071514,
                -0.06884416584185638,
                0.28723278611078307,
                -0.1823714713888125,
                -0.09104511109448632,
                0.04740740740740734,
                -0.05704856199905706,
                0.005125000000000046
               ]
              ]
             },
             {
              "title": "<b>Marginal Percentage Change in Mrsi for Athlete MLAX41</b>"
             }
            ],
            "label": "MLAX41",
            "method": "update"
           },
           {
            "args": [
             {
              "x": [
               [
                null,
                null,
                null,
                null,
                null,
                null,
                null,
                null,
                null,
                null,
                null,
                null,
                null,
                null,
                null,
                null,
                null,
                null
               ]
              ],
              "y": [
               [
                0.1361770924014425,
                -0.31950525394045537,
                0.3919897056458099,
                0.019066327709729602,
                0.021997958952262087,
                -0.2225304190243722,
                0.07672914090000948,
                -0.01643472498343268,
                0.2685621883843148,
                -0.23369449755683025,
                0.23787080676462424,
                -0.07144456886898087,
                0.1041968162083935,
                -0.010921799912625652,
                -0.14233657243816256,
                0.08214239732200346,
                0.08697204045211171,
                -0.1289404553415061
               ]
              ]
             },
             {
              "title": "<b>Marginal Percentage Change in Mrsi for Athlete MLAX42</b>"
             }
            ],
            "label": "MLAX42",
            "method": "update"
           },
           {
            "args": [
             {
              "x": [
               [
                null,
                null,
                null,
                null,
                null,
                null,
                null,
                null,
                null,
                null,
                null,
                null,
                null,
                null,
                null,
                null,
                null,
                null
               ]
              ],
              "y": [
               [
                0.3076149786378488,
                -0.13290409379204304,
                0.23628504931840855,
                -0.2615867324069924,
                0.2676945489862814,
                -0.024707910361999708,
                0.044776119402985204,
                -0.07575187969924813,
                -0.13260117958104545,
                0.14630715123094973,
                0.2579259562282674,
                -0.0801626016260163,
                0.0001767721407108791,
                -0.3578119476846944,
                0.5086005229117929,
                0.05892547660311975,
                -0.05840296321819283,
                -0.014637270149117199
               ]
              ]
             },
             {
              "title": "<b>Marginal Percentage Change in Mrsi for Athlete MLAX43</b>"
             }
            ],
            "label": "MLAX43",
            "method": "update"
           },
           {
            "args": [
             {
              "x": [
               [
                null,
                null,
                null,
                null,
                null,
                null,
                null,
                null,
                null,
                null,
                null,
                null,
                null,
                null,
                null
               ]
              ],
              "y": [
               [
                0.08513601336923227,
                -0.11610198494182056,
                0.26512438292517637,
                -0.22938026013771984,
                -0.31949960285941226,
                0.18957299873553146,
                0.22195421095666412,
                0.008531566797149504,
                -0.16261942675159224,
                0.20204421202757317,
                -0.05180937314613421,
                -0.05922836287799793,
                0.3112391930835734,
                -0.06796280642434471,
                -0.07237438781062955
               ]
              ]
             },
             {
              "title": "<b>Marginal Percentage Change in Mrsi for Athlete MLAX44</b>"
             }
            ],
            "label": "MLAX44",
            "method": "update"
           },
           {
            "args": [
             {
              "x": [
               [
                null,
                null,
                null,
                null,
                null,
                null,
                null,
                null,
                null,
                null,
                null,
                null,
                null,
                null,
                null,
                null,
                null
               ]
              ],
              "y": [
               [
                -0.08730934689088765,
                -0.22881628280664168,
                -0.21461314071398807,
                0.1920764060841882,
                0.01721068249258151,
                0.020420070011668567,
                -0.019725557461406584,
                0.04170312044327806,
                0.18113101903695394,
                0.08912064470253611,
                -0.17976060935799787,
                0.10533297957017762,
                -0.2105936949911985,
                0.40984188120818965,
                -0.29580502534239184,
                0.37396630934150066,
                0.12093178778421754
               ]
              ]
             },
             {
              "title": "<b>Marginal Percentage Change in Mrsi for Athlete MLAX45</b>"
             }
            ],
            "label": "MLAX45",
            "method": "update"
           },
           {
            "args": [
             {
              "x": [
               [
                null,
                null,
                null,
                null,
                null,
                null,
                null,
                null,
                null,
                null,
                null,
                null,
                null,
                null,
                null,
                null,
                null
               ]
              ],
              "y": [
               [
                -0.11514368101819639,
                -0.04989324643218329,
                -0.0798344175044352,
                0.18380462724935742,
                -0.17647484618168663,
                0.26175617473850776,
                -0.3436781609195403,
                0.291991721063525,
                -0.24855206407886632,
                0.5793702853394556,
                -0.269857751012356,
                0.0556029579067121,
                -0.06812160402353029,
                0.20147455666923642,
                -0.1824088557333654,
                0.05062545989698308,
                0.35971424569267385
               ]
              ]
             },
             {
              "title": "<b>Marginal Percentage Change in Mrsi for Athlete MLAX46</b>"
             }
            ],
            "label": "MLAX46",
            "method": "update"
           },
           {
            "args": [
             {
              "x": [
               [
                null,
                null,
                null,
                null,
                null,
                null,
                null,
                null,
                null,
                null,
                null,
                null,
                null,
                null
               ]
              ],
              "y": [
               [
                0.020912743381065413,
                -0.09626639757820388,
                0.059959803483698115,
                -0.14779311071315715,
                0.16081582200247224,
                -0.14968231995172687,
                0.20934212723326096,
                -0.19902661281971623,
                -0.026244343891402733,
                -0.20605416887944783,
                0.5528428093645485,
                -0.1074736161964247,
                0.039816602316602445,
                -0.03887212810396845
               ]
              ]
             },
             {
              "title": "<b>Marginal Percentage Change in Mrsi for Athlete MLAX47</b>"
             }
            ],
            "label": "MLAX47",
            "method": "update"
           },
           {
            "args": [
             {
              "x": [
               [
                null,
                null,
                null,
                null,
                null,
                null,
                null,
                null,
                null,
                null,
                null,
                null,
                null
               ]
              ],
              "y": [
               [
                0.1771097428467947,
                0.04430769230769216,
                0.02907090944804569,
                -0.11567092956671121,
                0.00809410748974737,
                0.03211647575206089,
                -0.11430349548801988,
                -0.05070851387750319,
                0.3619541080680979,
                -0.22355072463768122,
                -0.08037797480167985,
                0.3404795128758087,
                -0.20942557017128793
               ]
              ]
             },
             {
              "title": "<b>Marginal Percentage Change in Mrsi for Athlete MLAX49</b>"
             }
            ],
            "label": "MLAX49",
            "method": "update"
           },
           {
            "args": [
             {
              "x": [
               [
                null,
                null,
                null,
                null,
                null,
                null,
                null,
                null,
                null,
                null,
                null,
                null,
                null,
                null
               ]
              ],
              "y": [
               [
                -0.06811108451041425,
                0.10160565189466908,
                0.17070895522388074,
                -0.11882470119521904,
                -0.05911608454843453,
                0.08385391638635276,
                0.1647084903569056,
                -0.08850399695470135,
                -0.06713301315514719,
                -0.032232792389479514,
                0.0969122238926794,
                0.019188191881919003,
                -0.010447915589117618,
                0.13349362324900693
               ]
              ]
             },
             {
              "title": "<b>Marginal Percentage Change in Mrsi for Athlete MLAX5</b>"
             }
            ],
            "label": "MLAX5",
            "method": "update"
           },
           {
            "args": [
             {
              "x": [
               [
                null,
                null,
                null,
                null,
                null,
                null,
                null,
                null,
                null,
                null,
                null,
                null,
                null,
                null,
                null,
                null,
                null,
                null
               ]
              ],
              "y": [
               [
                0.1686802545421009,
                -0.19389204545454541,
                0.16191874694077346,
                -0.0730474344932176,
                0.15624431921468807,
                -0.0595079003223018,
                0.030424607154798,
                -0.09198572355613255,
                -0.10416294443451857,
                -0.20562425209413637,
                0.23575194576952052,
                -0.020723283218204047,
                0.47136929460580923,
                -0.42978003384094765,
                0.5917408506429278,
                0.06750038837968009,
                0.06235901913701514,
                -0.06397260273972594
               ]
              ]
             },
             {
              "title": "<b>Marginal Percentage Change in Mrsi for Athlete MLAX50</b>"
             }
            ],
            "label": "MLAX50",
            "method": "update"
           },
           {
            "args": [
             {
              "x": [
               [
                null,
                null,
                null,
                null,
                null,
                null,
                null,
                null,
                null,
                null,
                null,
                null,
                null,
                null,
                null,
                null,
                null,
                null
               ]
              ],
              "y": [
               [
                -0.39243377725742723,
                0.016259183427676627,
                0.15252429485660124,
                -0.15979434447300778,
                0.13450006119202063,
                -0.16731391585760513,
                0.3107915533100143,
                -0.026487448112275214,
                -0.19106598984771572,
                0.2520080321285141,
                0.05723736968724924,
                -0.16080402010050254,
                0.08349339057733607,
                -0.19290928050052136,
                0.316925064599483,
                -0.10673991955263407,
                0.20746842394288856,
                -0.11401673640167365
               ]
              ]
             },
             {
              "title": "<b>Marginal Percentage Change in Mrsi for Athlete MLAX51</b>"
             }
            ],
            "label": "MLAX51",
            "method": "update"
           },
           {
            "args": [
             {
              "x": [
               [
                null,
                null,
                null,
                null,
                null,
                null,
                null,
                null,
                null,
                null,
                null,
                null,
                null,
                null,
                null,
                null,
                null,
                null
               ]
              ],
              "y": [
               [
                -0.040193008572455224,
                -0.11295325703283765,
                0.18726636922705886,
                -0.2373552711761121,
                0.14436010121187892,
                -0.18177586407541013,
                0.30493528658796754,
                -0.1472479564032697,
                -0.03591513292433535,
                0.12819832957709143,
                0.02808460634547605,
                -0.1205852097382557,
                0.17741096958669078,
                -0.1372116127607903,
                0.028531218014329784,
                0,
                -0.10834680930463991,
                0.3360770089285714
               ]
              ]
             },
             {
              "title": "<b>Marginal Percentage Change in Mrsi for Athlete MLAX6</b>"
             }
            ],
            "label": "MLAX6",
            "method": "update"
           },
           {
            "args": [
             {
              "x": [
               [
                null,
                null,
                null,
                null,
                null,
                null,
                null,
                null
               ]
              ],
              "y": [
               [
                0.1982875639553099,
                -0.019518996165911684,
                -0.05376821898329187,
                -0.12764158918005075,
                0.05512489233419471,
                0.031020408163265234,
                -0.11025336500395877,
                -0.04093437152391555
               ]
              ]
             },
             {
              "title": "<b>Marginal Percentage Change in Mrsi for Athlete MLAX7</b>"
             }
            ],
            "label": "MLAX7",
            "method": "update"
           },
           {
            "args": [
             {
              "x": [
               [
                null,
                null,
                null,
                null,
                null,
                null,
                null,
                null,
                null,
                null,
                null,
                null,
                null,
                null,
                null,
                null,
                null,
                null,
                null
               ]
              ],
              "y": [
               [
                0.29088378566457895,
                -0.050853548966756534,
                0.25170390003786447,
                -0.3070155537069248,
                0.1946526009457985,
                -0.0010048415090893048,
                -0.01453913679590324,
                0.08842906189106414,
                -0.043222506393861826,
                0.01202886928628688,
                -0.15372424722662426,
                0.025905118601747823,
                0.12037318730351898,
                0.06589427950760318,
                -0.17057291666666663,
                0.1309125656951744,
                0.06418613072605472,
                -0.021863037005529606,
                -0.02348234475560962
               ]
              ]
             },
             {
              "title": "<b>Marginal Percentage Change in Mrsi for Athlete MLAX8</b>"
             }
            ],
            "label": "MLAX8",
            "method": "update"
           },
           {
            "args": [
             {
              "x": [
               [
                null,
                null,
                null,
                null,
                null,
                null,
                null,
                null,
                null,
                null,
                null,
                null,
                null,
                null,
                null,
                null,
                null,
                null
               ]
              ],
              "y": [
               [
                -0.12192732454577848,
                -0.053859417790850905,
                0.12264150943396235,
                -0.0924369747899162,
                0.0737584175084176,
                -0.09250367466927978,
                -0.038548752834467126,
                -0.04795597484276726,
                0.18025244779992922,
                -0.19540229885057459,
                0.2983850931677017,
                -0.11404515882127808,
                0.032937365010799136,
                -0.16675378985886036,
                0.16198243412797986,
                -0.04837490551776258,
                -0.11290139566549406,
                0.2591455615246865
               ]
              ]
             },
             {
              "title": "<b>Marginal Percentage Change in Mrsi for Athlete MLAX9</b>"
             }
            ],
            "label": "MLAX9",
            "method": "update"
           },
           {
            "args": [
             {
              "x": [
               [
                null,
                null,
                null,
                null,
                null,
                null,
                null,
                null,
                null
               ]
              ],
              "y": [
               [
                -0.07852498984152778,
                0.09591004299415706,
                -0.0488884418066593,
                -0.030988894764674813,
                0.24481554245797876,
                -0.10705830775975456,
                -0.03967007069913586,
                0.11247443762781195,
                -0.14954044117647058
               ]
              ]
             },
             {
              "title": "<b>Marginal Percentage Change in Mrsi for Athlete MSD1</b>"
             }
            ],
            "label": "MSD1",
            "method": "update"
           },
           {
            "args": [
             {
              "x": [
               [
                null,
                null,
                null,
                null,
                null,
                null,
                null,
                null,
                null,
                null,
                null,
                null,
                null,
                null,
                null,
                null,
                null,
                null,
                null,
                null,
                null,
                null
               ]
              ],
              "y": [
               [
                0.17183616124500167,
                -0.04491376925205193,
                0.07145616067979899,
                -0.04100576784426835,
                0.08335682736584937,
                -0.06523247744621807,
                0.026726057906458767,
                -0.055947216196673755,
                0.04777405457156547,
                0.059850146198830334,
                -0.1253556341063885,
                0.05973385904386386,
                0.038973118779648486,
                0.12059086839749322,
                -0.053926659742749794,
                -0.09153859145414633,
                0.11721509574270295,
                -0.18088027290123976,
                0.15043169121381417,
                0.014568250044146192,
                -0.20210019435500248,
                -0.02330400639860397
               ]
              ]
             },
             {
              "title": "<b>Marginal Percentage Change in Mrsi for Athlete MSD10</b>"
             }
            ],
            "label": "MSD10",
            "method": "update"
           },
           {
            "args": [
             {
              "x": [
               [
                null,
                null,
                null,
                null,
                null,
                null,
                null,
                null,
                null,
                null,
                null,
                null,
                null,
                null,
                null
               ]
              ],
              "y": [
               [
                0.3201563372417644,
                0.026645237692437984,
                -0.062041690697866136,
                -0.14959592410400557,
                0.2468753227972318,
                0.012509319857509693,
                -0.021927671412207417,
                -0.061820311192905986,
                0.06286223807400804,
                0.002013422818791799,
                -0.07183523107836565,
                -0.006043658668590912,
                0.2092748888283873,
                -0.17543464665415887,
                0.07805958376312105
               ]
              ]
             },
             {
              "title": "<b>Marginal Percentage Change in Mrsi for Athlete MSD11</b>"
             }
            ],
            "label": "MSD11",
            "method": "update"
           },
           {
            "args": [
             {
              "x": [
               [
                null,
                null,
                null,
                null,
                null,
                null,
                null,
                null,
                null,
                null,
                null,
                null,
                null,
                null,
                null,
                null,
                null
               ]
              ],
              "y": [
               [
                0.06821443647108483,
                -0.009404884217181553,
                0.049226104994415154,
                -0.08333966998707332,
                -0.0024056408129408124,
                0.019873607184433872,
                -0.1289849164288629,
                0.15548067022372014,
                0.022845106934543002,
                0.011642642166957096,
                -0.06756439364284039,
                -0.019395465994962113,
                0.021405942289579594,
                0.04149551513119287,
                0.027285898261429464,
                -0.032515866175664154,
                0.1282798833819243
               ]
              ]
             },
             {
              "title": "<b>Marginal Percentage Change in Mrsi for Athlete MSD13</b>"
             }
            ],
            "label": "MSD13",
            "method": "update"
           },
           {
            "args": [
             {
              "x": [
               [
                null,
                null,
                null,
                null,
                null,
                null,
                null,
                null,
                null,
                null,
                null,
                null,
                null,
                null,
                null,
                null,
                null
               ]
              ],
              "y": [
               [
                -0.4112115991960953,
                -0.030720468121419042,
                -0.03924034712614766,
                -0.010734389317973547,
                0.028715098584094045,
                -0.027141754566503695,
                0.043897924104191466,
                0.02469917669411026,
                0.007045735475896153,
                0.05228918620351042,
                -0.0377930712702671,
                0.00266698993817438,
                -0.045339136742836406,
                -0.05838399189463006,
                0.020443846671149846,
                -0.04520890997759308,
                0.11706239646604066
               ]
              ]
             },
             {
              "title": "<b>Marginal Percentage Change in Mrsi for Athlete MSD15</b>"
             }
            ],
            "label": "MSD15",
            "method": "update"
           },
           {
            "args": [
             {
              "x": [
               [
                null,
                null,
                null,
                null,
                null,
                null,
                null,
                null,
                null,
                null,
                null,
                null,
                null,
                null
               ]
              ],
              "y": [
               [
                0.143351458230351,
                -0.12191958495460442,
                0.045051698670605544,
                0.05547703180212027,
                0.0023434884499498043,
                -0.0010020040080160886,
                0.0403432519781568,
                -0.07252276379218003,
                0.09205359205359209,
                -0.11136964569011099,
                0.05284456081885258,
                0.018426407415781165,
                0.0824730824730826,
                -0.04788761279737497
               ]
              ]
             },
             {
              "title": "<b>Marginal Percentage Change in Mrsi for Athlete MSD16</b>"
             }
            ],
            "label": "MSD16",
            "method": "update"
           },
           {
            "args": [
             {
              "x": [
               [
                null,
                null,
                null,
                null,
                null,
                null,
                null,
                null,
                null,
                null,
                null,
                null,
                null,
                null,
                null,
                null
               ]
              ],
              "y": [
               [
                0.3764135702746365,
                0.09820031298904541,
                -0.09761311008193818,
                -0.007027240426371817,
                0.07601781170483468,
                -0.03295891220809943,
                0.04623261500840603,
                -0.011467387334745505,
                -0.04891384660854148,
                0.010720944686140488,
                0.04319754035357426,
                -0.0453138815207782,
                0.00316431272671136,
                0.08670564702261885,
                -0.008920353982300844,
                -0.024501750125009103
               ]
              ]
             },
             {
              "title": "<b>Marginal Percentage Change in Mrsi for Athlete MSD17</b>"
             }
            ],
            "label": "MSD17",
            "method": "update"
           },
           {
            "args": [
             {
              "x": [
               [
                null,
                null,
                null,
                null,
                null,
                null,
                null,
                null,
                null,
                null,
                null,
                null,
                null,
                null,
                null,
                null,
                null,
                null,
                null,
                null,
                null,
                null,
                null
               ]
              ],
              "y": [
               [
                -0.2931312243702401,
                0.0066300631927898035,
                -0.01059997941751567,
                -0.02787601414603713,
                0.09169698266638138,
                -0.10193080466529447,
                0.1679580923278401,
                -0.08306858531115657,
                -0.049933761337002,
                0.11519897028853365,
                -0.017889775896893112,
                -0.09372245617471364,
                0.0226928895612708,
                0.0569526627218937,
                0.07317804658602411,
                -0.1250116441546345,
                0.04471414883423841,
                -0.025578314480790953,
                -0.021752771386739145,
                0.03795167842634162,
                -0.09146153053867545,
                0.09806144428069374,
                0.05378897377658465
               ]
              ]
             },
             {
              "title": "<b>Marginal Percentage Change in Mrsi for Athlete MSD19</b>"
             }
            ],
            "label": "MSD19",
            "method": "update"
           },
           {
            "args": [
             {
              "x": [
               [
                null,
                null,
                null,
                null,
                null,
                null,
                null,
                null,
                null,
                null,
                null,
                null,
                null,
                null,
                null,
                null,
                null,
                null,
                null,
                null,
                null,
                null
               ]
              ],
              "y": [
               [
                0.1105123934554717,
                0.008116453462726048,
                -0.019252647238995335,
                0.07941465155706262,
                -0.39224601140778703,
                0.012921653971708302,
                0.11038001879951653,
                0.04414076671907119,
                -0.09821635394950201,
                0.2847418443359877,
                -0.24122763171048678,
                0.0425559947299079,
                0.17464931125995187,
                0.04066702528240995,
                0.026775560839449986,
                0.32964156262585576,
                -0.203695290019688,
                0.13284518828451874,
                -0.042978259044741174,
                -0.05464432944478559,
                -0.04997835096183567,
                -0.005208672439611983
               ]
              ]
             },
             {
              "title": "<b>Marginal Percentage Change in Mrsi for Athlete MSD2</b>"
             }
            ],
            "label": "MSD2",
            "method": "update"
           },
           {
            "args": [
             {
              "x": [
               [
                null,
                null,
                null,
                null,
                null,
                null,
                null,
                null,
                null,
                null,
                null,
                null,
                null,
                null,
                null,
                null,
                null,
                null,
                null,
                null,
                null,
                null,
                null
               ]
              ],
              "y": [
               [
                -0.015904182210877638,
                -0.04179968076616114,
                -0.027589796980739267,
                0.04357601713062098,
                -0.03775520673027588,
                0.06109393325514456,
                -0.042604501607716894,
                -0.00010495382031916467,
                0.02508659599034324,
                -0.0012287528158917427,
                0.04275169161369674,
                -0.12132533674171664,
                0.05538771399798592,
                0.058630195080576764,
                -0.006209313970956365,
                0.051496523228862445,
                -0.16149127851255518,
                0.12675734369642244,
                0.03266382633394205,
                -0.06453831041257374,
                0.059015016276383614,
                0.0014873574615765772,
                0.008316831683168324
               ]
              ]
             },
             {
              "title": "<b>Marginal Percentage Change in Mrsi for Athlete MSD20</b>"
             }
            ],
            "label": "MSD20",
            "method": "update"
           },
           {
            "args": [
             {
              "x": [
               [
                null,
                null,
                null,
                null,
                null,
                null,
                null,
                null,
                null,
                null,
                null,
                null,
                null,
                null,
                null,
                null
               ]
              ],
              "y": [
               [
                0.24243912018853098,
                0.01225005927448053,
                0.052779512804497,
                -0.21974191634529805,
                0.16329246269366027,
                -0.005147479369229435,
                0.011415900131406032,
                0.039707673568818436,
                0.018900343642611617,
                -0.04445807143952174,
                0.07765121129472163,
                -0.04704481167187724,
                -0.021402905795969263,
                0.05659323116219661,
                -0.055979451537357394,
                0.07226312419974401
               ]
              ]
             },
             {
              "title": "<b>Marginal Percentage Change in Mrsi for Athlete MSD21</b>"
             }
            ],
            "label": "MSD21",
            "method": "update"
           },
           {
            "args": [
             {
              "x": [
               [
                null,
                null,
                null,
                null,
                null,
                null,
                null,
                null,
                null,
                null,
                null,
                null,
                null,
                null,
                null,
                null,
                null,
                null,
                null,
                null,
                null,
                null
               ]
              ],
              "y": [
               [
                -0.2558399880588105,
                -0.04493029786380487,
                0.08841751548881649,
                -0.09985528219971052,
                -0.07663451232583074,
                0.07661056297156121,
                0.02609164420485177,
                0.007985709782494466,
                -0.06661107057229232,
                -0.008822872459236075,
                0.1069295774647887,
                -0.043973941368078084,
                0.04567717206132871,
                -0.062417269117197804,
                0.04376629018245004,
                -0.04109874102590794,
                0.06119791666666674,
                0.04028629856850707,
                -0.05818753685865918,
                0.004487580880818021,
                -0.01783549783549787,
                -0.045521861777150674
               ]
              ]
             },
             {
              "title": "<b>Marginal Percentage Change in Mrsi for Athlete MSD22</b>"
             }
            ],
            "label": "MSD22",
            "method": "update"
           },
           {
            "args": [
             {
              "x": [
               [
                null,
                null,
                null,
                null,
                null,
                null,
                null,
                null,
                null,
                null,
                null,
                null,
                null,
                null,
                null,
                null
               ]
              ],
              "y": [
               [
                0.19960101961653542,
                0.005543237250554389,
                -0.015986769570010884,
                0.023342670401493848,
                -0.005200729927007375,
                -0.005227918921397845,
                0.04868154158214999,
                -0.01635308598558116,
                -0.02529495888451916,
                -0.02833562585969729,
                -0.05275575688939227,
                0.051509415163893735,
                0.14923251847640673,
                -0.10256410256410242,
                -0.049762670341448545,
                0.017950370609087996
               ]
              ]
             },
             {
              "title": "<b>Marginal Percentage Change in Mrsi for Athlete MSD23</b>"
             }
            ],
            "label": "MSD23",
            "method": "update"
           },
           {
            "args": [
             {
              "x": [
               [
                null,
                null,
                null,
                null,
                null,
                null,
                null,
                null,
                null,
                null,
                null,
                null,
                null,
                null,
                null,
                null,
                null
               ]
              ],
              "y": [
               [
                -0.030867128882135053,
                -0.0706585652685221,
                -0.05451861225350629,
                0.020187374525986845,
                -0.13687547829889568,
                0.07080430652311565,
                -0.10421102436716345,
                0.24574144988775926,
                0.005087979648081387,
                -0.18329466357308577,
                0.2155216942148761,
                -0.056836290236906506,
                0.04325298490651064,
                -0.01576333405312036,
                -0.06373409390083362,
                0.08353837141183362,
                -0.12781141868512114
               ]
              ]
             },
             {
              "title": "<b>Marginal Percentage Change in Mrsi for Athlete MSD24</b>"
             }
            ],
            "label": "MSD24",
            "method": "update"
           },
           {
            "args": [
             {
              "x": [
               [
                null,
                null,
                null,
                null,
                null,
                null,
                null,
                null,
                null,
                null,
                null,
                null,
                null,
                null,
                null,
                null,
                null
               ]
              ],
              "y": [
               [
                0.15869080089263599,
                -0.06109565589557042,
                0.07202279202279205,
                -0.07058573402785151,
                -0.030081207823401512,
                0.024410377358490498,
                0.05237711522965349,
                -0.009297746663749828,
                0.10113724191233309,
                -0.08392660182492728,
                -0.04476795096322239,
                0.030709292998739368,
                0.04791550861589777,
                -0.07044345427540843,
                0.058662405843414644,
                -0.053399453787552065,
                0.1516209854984436
               ]
              ]
             },
             {
              "title": "<b>Marginal Percentage Change in Mrsi for Athlete MSD25</b>"
             }
            ],
            "label": "MSD25",
            "method": "update"
           },
           {
            "args": [
             {
              "x": [
               [
                null,
                null,
                null,
                null,
                null,
                null,
                null,
                null,
                null,
                null,
                null,
                null,
                null,
                null,
                null,
                null,
                null
               ]
              ],
              "y": [
               [
                -0.1905656645569621,
                -0.035797189981673805,
                0.1900658895083629,
                0.011712095400340683,
                -0.028625552515259778,
                0.004333694474539573,
                0.1473570658036678,
                0.04221511846558834,
                -0.11474966170500656,
                -0.12249057372872729,
                0.09871095110904649,
                0.08170383680372062,
                -0.035763142466288866,
                -0.07772598297527367,
                -0.06482804087462912,
                0.061449888379743856,
                0.03752490591100299
               ]
              ]
             },
             {
              "title": "<b>Marginal Percentage Change in Mrsi for Athlete MSD26</b>"
             }
            ],
            "label": "MSD26",
            "method": "update"
           },
           {
            "args": [
             {
              "x": [
               [
                null,
                null,
                null,
                null,
                null,
                null,
                null,
                null,
                null,
                null,
                null,
                null,
                null,
                null,
                null,
                null,
                null,
                null,
                null,
                null,
                null,
                null
               ]
              ],
              "y": [
               [
                0.12418649311853192,
                -0.03872069849103155,
                0.1134366669957545,
                -0.17795708458946613,
                0.004314529177003479,
                0.016324777145311886,
                0.010356123850787213,
                -0.04497437506536961,
                0.07228123973277856,
                0.018077826575426448,
                0.05286918138041741,
                -0.04545021438780383,
                0.01776801756837698,
                -0.07571596704590045,
                0.22633701188455002,
                -0.1370597906030976,
                0.09636017246565709,
                -0.0172855313700383,
                0.00232666356444855,
                -0.0038068709377901966,
                0.038183117407649236,
                -0.13786808714388332
               ]
              ]
             },
             {
              "title": "<b>Marginal Percentage Change in Mrsi for Athlete MSD27</b>"
             }
            ],
            "label": "MSD27",
            "method": "update"
           },
           {
            "args": [
             {
              "x": [
               [
                null,
                null,
                null,
                null,
                null,
                null,
                null,
                null,
                null,
                null,
                null,
                null,
                null,
                null,
                null,
                null,
                null
               ]
              ],
              "y": [
               [
                0.21149640737269615,
                -0.05303421007392117,
                -0.06662430788780982,
                0.04094135952543043,
                0.08725710014947685,
                -0.09658016841381667,
                0.023492486208864127,
                -0.020165412136418426,
                0.12405159332321691,
                -0.007424907188660068,
                -0.0679190751445089,
                0.023711810305517833,
                0.016124721603563374,
                -0.04690513764685267,
                0.009474749333088006,
                0.014215418261344981,
                0.01221922731356706
               ]
              ]
             },
             {
              "title": "<b>Marginal Percentage Change in Mrsi for Athlete MSD28</b>"
             }
            ],
            "label": "MSD28",
            "method": "update"
           },
           {
            "args": [
             {
              "x": [
               [
                null,
                null,
                null,
                null,
                null,
                null,
                null,
                null,
                null,
                null,
                null,
                null,
                null,
                null,
                null,
                null,
                null
               ]
              ],
              "y": [
               [
                -0.18356115746493884,
                -0.010980647966949308,
                0.04067274925799724,
                -0.08629977817682488,
                0.09167630057803478,
                0.06332733241554589,
                -0.006473458818842648,
                -0.0850040096230954,
                0.09388694127957908,
                -0.12028042063094635,
                0.1621129326047357,
                -0.07974137931034475,
                0.027996593570364103,
                0.060267163715439276,
                -0.08985252466061122,
                0.1485495582501699,
                0.08498909996885695
               ]
              ]
             },
             {
              "title": "<b>Marginal Percentage Change in Mrsi for Athlete MSD29</b>"
             }
            ],
            "label": "MSD29",
            "method": "update"
           },
           {
            "args": [
             {
              "x": [
               [
                null,
                null,
                null,
                null,
                null,
                null,
                null,
                null,
                null,
                null,
                null,
                null,
                null,
                null,
                null,
                null,
                null
               ]
              ],
              "y": [
               [
                -0.07913545164901414,
                -0.08546848700205711,
                0.09182004089979556,
                -0.05497284135605918,
                0.06986423545733822,
                0.09735087069284898,
                -0.11606313834726067,
                0.12385408708938117,
                -0.05505990313535558,
                0.07148637712435923,
                -0.07242363209130565,
                0.05645526101510878,
                0.04735805429476736,
                -0.20523303352412092,
                0.16584362139917697,
                0.09259912930933045,
                -0.08806267499461551
               ]
              ]
             },
             {
              "title": "<b>Marginal Percentage Change in Mrsi for Athlete MSD3</b>"
             }
            ],
            "label": "MSD3",
            "method": "update"
           },
           {
            "args": [
             {
              "x": [
               [
                null,
                null,
                null,
                null,
                null,
                null,
                null,
                null,
                null,
                null,
                null,
                null,
                null,
                null,
                null,
                null
               ]
              ],
              "y": [
               [
                -0.08803471791692496,
                -0.0614742157910072,
                0.0552566225165565,
                -0.0791331633653658,
                -0.07272920881695244,
                0.029513091410197534,
                0.02833240379252633,
                0.04826987742705291,
                -0.07688327814569529,
                -0.0145723573590405,
                0.1605050619952224,
                -0.0811605567535777,
                -0.0027736291871133245,
                0.11628155755241742,
                -0.03929084810733108,
                -0.11192019950124688
               ]
              ]
             },
             {
              "title": "<b>Marginal Percentage Change in Mrsi for Athlete MSD30</b>"
             }
            ],
            "label": "MSD30",
            "method": "update"
           },
           {
            "args": [
             {
              "x": [
               [
                null,
                null,
                null,
                null,
                null,
                null,
                null,
                null,
                null,
                null,
                null,
                null,
                null,
                null,
                null,
                null,
                null,
                null,
                null,
                null,
                null,
                null,
                null
               ]
              ],
              "y": [
               [
                0.13602156576434932,
                -0.0059323709709313555,
                0.07768052516411372,
                -0.10346100599907693,
                0.10634136298126418,
                0.07899879036010038,
                -0.07321490169023803,
                -0.01805154926956365,
                0.03923055055434488,
                -0.08644114160663807,
                0.043716937818145674,
                -0.033087883714258526,
                -0.13252892888932832,
                0.12210694333599359,
                0.10394228815281448,
                -0.06046939714680177,
                -0.026155956112852596,
                0.03561009958756678,
                0.01835842642059249,
                0.04959938954597476,
                -0.02499091239549267,
                0.10255693292322987,
                0.0666704238052298
               ]
              ]
             },
             {
              "title": "<b>Marginal Percentage Change in Mrsi for Athlete MSD31</b>"
             }
            ],
            "label": "MSD31",
            "method": "update"
           },
           {
            "args": [
             {
              "x": [
               [
                null,
                null,
                null,
                null,
                null,
                null,
                null,
                null,
                null,
                null,
                null,
                null
               ]
              ],
              "y": [
               [
                -0.24996037406879068,
                0.1115807269653426,
                -0.07642585551330805,
                -0.12031700288184444,
                0.25459225459225454,
                -0.20180919518791385,
                0.10830704521556234,
                0.12302340290955116,
                -0.1745987045902564,
                0.08631866257250098,
                0.05590452261306522,
                0.15278604005552254
               ]
              ]
             },
             {
              "title": "<b>Marginal Percentage Change in Mrsi for Athlete MSD32</b>"
             }
            ],
            "label": "MSD32",
            "method": "update"
           },
           {
            "args": [
             {
              "x": [
               [
                null,
                null,
                null,
                null,
                null,
                null,
                null,
                null,
                null,
                null,
                null,
                null,
                null,
                null,
                null,
                null,
                null,
                null,
                null,
                null
               ]
              ],
              "y": [
               [
                -0.08858690977896289,
                -0.08964801358875141,
                0.20213537887426147,
                -0.12003104251099406,
                0.04566389024987716,
                -0.018648673976197183,
                -0.04660045836516424,
                0.00560897435897445,
                0.05916334661354594,
                0.03366560090276449,
                -0.05094614264919928,
                -0.09451687116564433,
                0.2425365233961465,
                -0.07753258924767825,
                -0.004895169483698281,
                -0.03675515129014284,
                0.1409712854114471,
                -0.10176505362722732,
                0.036730600476369446,
                0.1257255139056832
               ]
              ]
             },
             {
              "title": "<b>Marginal Percentage Change in Mrsi for Athlete MSD33</b>"
             }
            ],
            "label": "MSD33",
            "method": "update"
           },
           {
            "args": [
             {
              "x": [
               [
                null,
                null,
                null,
                null,
                null,
                null,
                null,
                null,
                null,
                null,
                null,
                null,
                null,
                null,
                null,
                null,
                null
               ]
              ],
              "y": [
               [
                -0.2564247160235237,
                -0.04940411700975089,
                0.20401185320264426,
                -0.2888110564180234,
                0.19792359909490198,
                -0.006444444444444364,
                -0.030977409975396997,
                0.13029428736295445,
                -0.0859710026546866,
                0.04591152815013411,
                0.018797393997650236,
                -0.016982912254953297,
                0.07561053641889726,
                0.005353955978584235,
                -0.030374753451676506,
                -0.16680227827502037,
                -0.0452880859375
               ]
              ]
             },
             {
              "title": "<b>Marginal Percentage Change in Mrsi for Athlete MSD34</b>"
             }
            ],
            "label": "MSD34",
            "method": "update"
           },
           {
            "args": [
             {
              "x": [
               [
                null,
                null,
                null,
                null,
                null,
                null,
                null,
                null,
                null,
                null,
                null,
                null,
                null,
                null,
                null,
                null,
                null,
                null,
                null,
                null,
                null,
                null
               ]
              ],
              "y": [
               [
                0.23897199846566952,
                0.057069143446852655,
                0.06892511959386871,
                -0.023289798155082697,
                -0.06302599588554325,
                -0.13832335329341328,
                0.11118832522585143,
                -0.05909943714821764,
                0.22521324914146423,
                -0.0043399638336346635,
                0.08145659280784612,
                -0.1315811571080696,
                0.046992844710887605,
                0.10371259697081636,
                -0.06032967952472601,
                -0.09501335707925207,
                0.1646167470235167,
                -0.03962487326799591,
                0.01821060965954069,
                -0.04622429583549348,
                -0.0822236313675756,
                0.02355728104231103
               ]
              ]
             },
             {
              "title": "<b>Marginal Percentage Change in Mrsi for Athlete MSD35</b>"
             }
            ],
            "label": "MSD35",
            "method": "update"
           },
           {
            "args": [
             {
              "x": [
               [
                null,
                null,
                null,
                null,
                null,
                null,
                null,
                null,
                null,
                null,
                null,
                null,
                null,
                null,
                null,
                null,
                null,
                null,
                null,
                null,
                null,
                null
               ]
              ],
              "y": [
               [
                -0.057087753134040464,
                0.029249335242380825,
                0.051569952305246414,
                -0.1296418784843617,
                0.12235370752361319,
                -0.2253820855097699,
                0.2920829170829171,
                -0.0412680003865854,
                -0.00756048387096786,
                0.0307770441848656,
                -0.013697280252266464,
                0.06673993405934642,
                -0.10723986138428387,
                0.06756189676877877,
                -0.008746069182389626,
                0.0007931000297412005,
                -0.045269935611689016,
                0.05322681054160605,
                -0.08511476701802767,
                0.005060837730160417,
                0.036354546103849694,
                -0.11044107512060652
               ]
              ]
             },
             {
              "title": "<b>Marginal Percentage Change in Mrsi for Athlete MSD36</b>"
             }
            ],
            "label": "MSD36",
            "method": "update"
           },
           {
            "args": [
             {
              "x": [
               [
                null,
                null,
                null,
                null,
                null,
                null,
                null,
                null,
                null,
                null,
                null,
                null,
                null,
                null,
                null,
                null
               ]
              ],
              "y": [
               [
                0.21731551423590934,
                0.012124105011933173,
                0.04593472929635922,
                0.0062223825412570655,
                0.0019716795124575803,
                -0.10089445438282652,
                0.055710306406685284,
                0.054655107425555904,
                -0.11871574934477003,
                0.024095978371071247,
                0.08355608355608335,
                -0.014709913202375358,
                -0.014465875370919923,
                0.020605946556266463,
                0.09216065886112923,
                -0.05838491840180071
               ]
              ]
             },
             {
              "title": "<b>Marginal Percentage Change in Mrsi for Athlete MSD37</b>"
             }
            ],
            "label": "MSD37",
            "method": "update"
           },
           {
            "args": [
             {
              "x": [
               [
                null,
                null,
                null,
                null,
                null,
                null,
                null,
                null,
                null,
                null,
                null,
                null,
                null,
                null,
                null,
                null,
                null
               ]
              ],
              "y": [
               [
                -0.36718960107575094,
                0.02082447938801546,
                0.24507354981959484,
                -0.1610566205974142,
                -0.008237013418360584,
                -0.00026791694574679337,
                0.002813881816963626,
                -0.07442544094067338,
                0.04186516529522155,
                -0.01080781488152971,
                0.0973525703880096,
                -0.0005105948429922069,
                0.07458492975734354,
                -0.034822914190634546,
                -0.1009727866026352,
                0.2415650824088027,
                -0.1431565786570569
               ]
              ]
             },
             {
              "title": "<b>Marginal Percentage Change in Mrsi for Athlete MSD38</b>"
             }
            ],
            "label": "MSD38",
            "method": "update"
           },
           {
            "args": [
             {
              "x": [
               [
                null,
                null,
                null,
                null,
                null,
                null,
                null,
                null,
                null,
                null,
                null,
                null,
                null,
                null,
                null,
                null,
                null,
                null,
                null,
                null
               ]
              ],
              "y": [
               [
                0.2854383932020086,
                -0.03505608974358965,
                -0.03217770396512354,
                -0.005469755469755477,
                -0.13976059527660945,
                0.05152312899586309,
                -0.07391511683357188,
                -0.009912461380020554,
                0.21752697958652978,
                -0.10796668090559602,
                0.15419609721058314,
                0.04760916917332225,
                -0.04079207920792083,
                -0.056048720066060986,
                0.08048113723346084,
                -0.15595587491144614,
                0.0657074340527577,
                0.04219171917191722,
                0.014142286516247493,
                -0.04002554822226967
               ]
              ]
             },
             {
              "title": "<b>Marginal Percentage Change in Mrsi for Athlete MSD39</b>"
             }
            ],
            "label": "MSD39",
            "method": "update"
           },
           {
            "args": [
             {
              "x": [
               [
                null,
                null,
                null,
                null,
                null,
                null,
                null,
                null,
                null,
                null,
                null,
                null,
                null,
                null,
                null,
                null,
                null,
                null,
                null,
                null,
                null,
                null,
                null,
                null
               ]
              ],
              "y": [
               [
                0.11421601241960522,
                0.04538216560509567,
                -0.01884996191926891,
                -0.02503396079953435,
                0.0016918789808917367,
                0.03765524093392947,
                0.0015319800842588105,
                -0.05889101338432112,
                0.04561154002438039,
                -0.022248129796949567,
                0.008744038155803047,
                0.09998029944838449,
                -0.08453479000626851,
                -0.0028367406827740638,
                -0.018246027074749982,
                0.028077537969624533,
                0.01555058800660869,
                -0.06278112738061048,
                0.004595118962524181,
                0.03527139662533041,
                0.01993127147766316,
                -0.029168271082017694,
                0.031498925797389,
                -0.0038131248397846873
               ]
              ]
             },
             {
              "title": "<b>Marginal Percentage Change in Mrsi for Athlete MSD4</b>"
             }
            ],
            "label": "MSD4",
            "method": "update"
           },
           {
            "args": [
             {
              "x": [
               [
                null,
                null,
                null,
                null,
                null,
                null
               ]
              ],
              "y": [
               [
                0.17504583614783376,
                -0.13287344994662065,
                -0.04223884837579317,
                0.07119549095223943,
                -0.009138742730545601,
                -0.03195453698528039
               ]
              ]
             },
             {
              "title": "<b>Marginal Percentage Change in Mrsi for Athlete MSD41</b>"
             }
            ],
            "label": "MSD41",
            "method": "update"
           },
           {
            "args": [
             {
              "x": [
               [
                null,
                null,
                null,
                null,
                null,
                null,
                null,
                null,
                null,
                null,
                null,
                null,
                null,
                null,
                null,
                null,
                null,
                null
               ]
              ],
              "y": [
               [
                0.3529015494177654,
                -0.023687580025608113,
                0.004007285974499064,
                -0.013497822931785364,
                0.05899661615418572,
                -0.09183106418449571,
                0.12192137065932407,
                0.009544586855740222,
                -0.007090761750405128,
                -0.03910766510235997,
                0.0016279728199319887,
                -0.11596353614585553,
                0.1422062350119906,
                -0.08775981524249421,
                0.09267357115458363,
                -0.05757214070069494,
                0.006133750527701265,
                0.1362918353243161
               ]
              ]
             },
             {
              "title": "<b>Marginal Percentage Change in Mrsi for Athlete MSD5</b>"
             }
            ],
            "label": "MSD5",
            "method": "update"
           },
           {
            "args": [
             {
              "x": [
               [
                null,
                null,
                null,
                null,
                null,
                null,
                null,
                null,
                null,
                null,
                null,
                null,
                null,
                null,
                null,
                null,
                null,
                null
               ]
              ],
              "y": [
               [
                -0.27323080933142185,
                0.07208822738276699,
                0.03688216107719322,
                -0.005242781093724891,
                0.10232708992134953,
                0.004339830820154544,
                0.012670279771495263,
                -0.05055326535040128,
                -0.1100700792199879,
                0.06085765642386365,
                0.0418751008552527,
                0.036862076976690084,
                0.004555978788557846,
                -0.049144981412639455,
                0.06966924700914823,
                -0.07346491228070162,
                -0.2515450361604208,
                0.23120168657765294
               ]
              ]
             },
             {
              "title": "<b>Marginal Percentage Change in Mrsi for Athlete MSD6</b>"
             }
            ],
            "label": "MSD6",
            "method": "update"
           },
           {
            "args": [
             {
              "x": [
               [
                null,
                null,
                null,
                null,
                null,
                null,
                null,
                null,
                null,
                null,
                null,
                null,
                null,
                null,
                null,
                null,
                null,
                null,
                null,
                null,
                null,
                null
               ]
              ],
              "y": [
               [
                -0.20950342465753435,
                -0.10148380807971402,
                -0.03567984570877525,
                -0.08162500000000017,
                0.05988838981897371,
                -0.03069217927314749,
                0.13447270800211975,
                -0.03410019852855317,
                0.025269012211340813,
                -0.045518867924528306,
                0.09463800345935258,
                -0.04819413092550795,
                -0.07162338432349102,
                0.03435943287776233,
                0.050012348728081024,
                0.07809008585205213,
                -0.11225046361950475,
                0.02949127549766528,
                -0.03891143470995462,
                0.057004470938897045,
                -0.1902244154623428,
                0.07617527568195004
               ]
              ]
             },
             {
              "title": "<b>Marginal Percentage Change in Mrsi for Athlete MSD7</b>"
             }
            ],
            "label": "MSD7",
            "method": "update"
           },
           {
            "args": [
             {
              "x": [
               [
                null,
                null,
                null,
                null,
                null,
                null,
                null,
                null,
                null,
                null,
                null,
                null,
                null,
                null,
                null,
                null,
                null,
                null,
                null,
                null,
                null
               ]
              ],
              "y": [
               [
                0.7256303087501685,
                -0.05258223298695208,
                0.15206993237671118,
                -0.040515390121689476,
                -0.0953446732318709,
                -0.0056077849249547285,
                0.015093713717034385,
                0.0602124183006536,
                -0.01726130846882923,
                0.10530855484983914,
                -0.048169693530079494,
                -0.018036818961019607,
                0.060189753320683215,
                0.052119129438717104,
                -0.10050353837779002,
                0.041001588622437524,
                -0.004287479107622949,
                -0.04386220989636547,
                0.056026257537592494,
                -0.11273340561378142,
                -0.0994949220659318
               ]
              ]
             },
             {
              "title": "<b>Marginal Percentage Change in Mrsi for Athlete MSD9</b>"
             }
            ],
            "label": "MSD9",
            "method": "update"
           },
           {
            "args": [
             {
              "x": [
               [
                null,
                null
               ]
              ],
              "y": [
               [
                0.019359507870454262,
                0.018932670689859155
               ]
              ]
             },
             {
              "title": "<b>Marginal Percentage Change in Mrsi for Athlete MSQ10</b>"
             }
            ],
            "label": "MSQ10",
            "method": "update"
           },
           {
            "args": [
             {
              "x": [
               [
                null
               ]
              ],
              "y": [
               [
                -0.06665892463128542
               ]
              ]
             },
             {
              "title": "<b>Marginal Percentage Change in Mrsi for Athlete MSQ11</b>"
             }
            ],
            "label": "MSQ11",
            "method": "update"
           },
           {
            "args": [
             {
              "x": [
               [
                null
               ]
              ],
              "y": [
               [
                0.007776533532412255
               ]
              ]
             },
             {
              "title": "<b>Marginal Percentage Change in Mrsi for Athlete MSQ12</b>"
             }
            ],
            "label": "MSQ12",
            "method": "update"
           },
           {
            "args": [
             {
              "x": [
               [
                null,
                null
               ]
              ],
              "y": [
               [
                0.3152046422618684,
                -0.1636235625440039
               ]
              ]
             },
             {
              "title": "<b>Marginal Percentage Change in Mrsi for Athlete MSQ13</b>"
             }
            ],
            "label": "MSQ13",
            "method": "update"
           },
           {
            "args": [
             {
              "x": [
               [
                null,
                null
               ]
              ],
              "y": [
               [
                0.07851170099332183,
                -0.027942553855760277
               ]
              ]
             },
             {
              "title": "<b>Marginal Percentage Change in Mrsi for Athlete MSQ3</b>"
             }
            ],
            "label": "MSQ3",
            "method": "update"
           },
           {
            "args": [
             {
              "x": [
               [
                null,
                null
               ]
              ],
              "y": [
               [
                -0.18034366468604457,
                -0.0795454545454547
               ]
              ]
             },
             {
              "title": "<b>Marginal Percentage Change in Mrsi for Athlete MSQ4</b>"
             }
            ],
            "label": "MSQ4",
            "method": "update"
           },
           {
            "args": [
             {
              "x": [
               [
                null,
                null
               ]
              ],
              "y": [
               [
                0.26777352064708393,
                -0.0993396015222745
               ]
              ]
             },
             {
              "title": "<b>Marginal Percentage Change in Mrsi for Athlete MSQ5</b>"
             }
            ],
            "label": "MSQ5",
            "method": "update"
           },
           {
            "args": [
             {
              "x": [
               [
                null,
                null
               ]
              ],
              "y": [
               [
                0.5850991114149011,
                -0.2560664863381553
               ]
              ]
             },
             {
              "title": "<b>Marginal Percentage Change in Mrsi for Athlete MSQ6</b>"
             }
            ],
            "label": "MSQ6",
            "method": "update"
           },
           {
            "args": [
             {
              "x": [
               [
                null,
                null
               ]
              ],
              "y": [
               [
                -0.12841861200400473,
                -0.00024183796856103168
               ]
              ]
             },
             {
              "title": "<b>Marginal Percentage Change in Mrsi for Athlete MSQ7</b>"
             }
            ],
            "label": "MSQ7",
            "method": "update"
           },
           {
            "args": [
             {
              "x": [
               [
                null,
                null
               ]
              ],
              "y": [
               [
                -0.18202709240445092,
                -0.06025432500369654
               ]
              ]
             },
             {
              "title": "<b>Marginal Percentage Change in Mrsi for Athlete MSQ8</b>"
             }
            ],
            "label": "MSQ8",
            "method": "update"
           },
           {
            "args": [
             {
              "x": [
               [
                null,
                null
               ]
              ],
              "y": [
               [
                0.26827157580048766,
                -0.0941628931207742
               ]
              ]
             },
             {
              "title": "<b>Marginal Percentage Change in Mrsi for Athlete MSQ9</b>"
             }
            ],
            "label": "MSQ9",
            "method": "update"
           },
           {
            "args": [
             {
              "x": [
               [
                null,
                null,
                null,
                null,
                null,
                null,
                null,
                null,
                null,
                null,
                null,
                null,
                null,
                null,
                null,
                null,
                null,
                null,
                null,
                null,
                null,
                null
               ]
              ],
              "y": [
               [
                0.07289598027802535,
                -0.04212541886069898,
                0.032883558220889286,
                0.05748016257015687,
                -0.051519033674963466,
                -0.04814278822961893,
                0.06213257652544102,
                -0.002290294875465171,
                -0.017599234815877773,
                -0.016746178560996916,
                0.11110010892167543,
                -0.10765528918991174,
                -0.030460401478078603,
                0.10115368768026367,
                0.04368568755846591,
                -0.0887335305189565,
                0.06314547064030696,
                0.03090017577944293,
                -0.03392264201741013,
                0.008732001857872707,
                -0.06756300457377917,
                0.05764419278377675
               ]
              ]
             },
             {
              "title": "<b>Marginal Percentage Change in Mrsi for Athlete MSd12</b>"
             }
            ],
            "label": "MSd12",
            "method": "update"
           },
           {
            "args": [
             {
              "x": [
               [
                null,
                null,
                null,
                null,
                null,
                null
               ]
              ],
              "y": [
               [
                -0.0719332648551062,
                0.07438958948215713,
                0.11756258974839229,
                -0.11553072625698335,
                -0.03240272865083371,
                0.15673346824205248
               ]
              ]
             },
             {
              "title": "<b>Marginal Percentage Change in Mrsi for Athlete MTE1</b>"
             }
            ],
            "label": "MTE1",
            "method": "update"
           },
           {
            "args": [
             {
              "x": [
               [
                null,
                null,
                null,
                null,
                null,
                null,
                null,
                null,
                null,
                null,
                null,
                null,
                null
               ]
              ],
              "y": [
               [
                -0.5549097065462755,
                0.07429948015722077,
                0.18895314528502327,
                -0.13629144331943632,
                0.2146879669003563,
                -0.09187245718611026,
                -0.06230464680141701,
                0.1008888888888888,
                -0.06550262414210739,
                0.09957878820606969,
                0.047048423534034045,
                -0.05628517823639778,
                -0.12196819085487076
               ]
              ]
             },
             {
              "title": "<b>Marginal Percentage Change in Mrsi for Athlete MTE10</b>"
             }
            ],
            "label": "MTE10",
            "method": "update"
           },
           {
            "args": [
             {
              "x": [
               [
                null,
                null,
                null,
                null,
                null,
                null
               ]
              ],
              "y": [
               [
                0.2706894599796221,
                0.012116892373485344,
                0.10748239436619711,
                -0.06223670614418575,
                0.017714866926597628,
                -0.0046639460314813475
               ]
              ]
             },
             {
              "title": "<b>Marginal Percentage Change in Mrsi for Athlete MTE11</b>"
             }
            ],
            "label": "MTE11",
            "method": "update"
           },
           {
            "args": [
             {
              "x": [
               [
                null,
                null,
                null,
                null,
                null,
                null,
                null,
                null,
                null,
                null,
                null,
                null,
                null
               ]
              ],
              "y": [
               [
                -0.10082838256212867,
                -0.13735343383584597,
                0.2074433656957928,
                0.04681497364424203,
                -0.09055218912690977,
                0.03359609609609615,
                -0.05819865625567444,
                0.016774317940807526,
                0.0725324736892008,
                -0.04393564356435642,
                0.12177531206657433,
                0.016650181338608627,
                -0.11512891195070551
               ]
              ]
             },
             {
              "title": "<b>Marginal Percentage Change in Mrsi for Athlete MTE12</b>"
             }
            ],
            "label": "MTE12",
            "method": "update"
           },
           {
            "args": [
             {
              "x": [
               [
                null,
                null,
                null,
                null,
                null,
                null,
                null,
                null,
                null,
                null,
                null,
                null,
                null
               ]
              ],
              "y": [
               [
                -0.3412131207623236,
                0.3273991655076496,
                -0.10708298407376349,
                0.11769537667214269,
                0.0009448818897639377,
                0.018460247535137198,
                -0.032955715756951554,
                -0.04707135250266237,
                0.09421099687080892,
                -0.06301705648044109,
                -0.013298452147373019,
                0.013698630136986356,
                0.08206190061028784
               ]
              ]
             },
             {
              "title": "<b>Marginal Percentage Change in Mrsi for Athlete MTE13</b>"
             }
            ],
            "label": "MTE13",
            "method": "update"
           },
           {
            "args": [
             {
              "x": [
               [
                null,
                null,
                null,
                null,
                null,
                null,
                null,
                null,
                null,
                null,
                null,
                null
               ]
              ],
              "y": [
               [
                0.13848323093967152,
                0.012915782024062405,
                0.0747598253275108,
                -0.07354136193726635,
                0.07481799842119141,
                -0.04537293944834353,
                -0.04197298683535644,
                0.07647006335326134,
                -0.041279840848806204,
                0.0355351893480893,
                -0.020455873758036258,
                0.3256051824070916
               ]
              ]
             },
             {
              "title": "<b>Marginal Percentage Change in Mrsi for Athlete MTE14</b>"
             }
            ],
            "label": "MTE14",
            "method": "update"
           },
           {
            "args": [
             {
              "x": [
               [
                null,
                null,
                null,
                null,
                null
               ]
              ],
              "y": [
               [
                -0.13541666666666663,
                0.11088799643016523,
                -0.17975497087768622,
                0.1040646425073457,
                0.039994085902269605
               ]
              ]
             },
             {
              "title": "<b>Marginal Percentage Change in Mrsi for Athlete MTE15</b>"
             }
            ],
            "label": "MTE15",
            "method": "update"
           },
           {
            "args": [
             {
              "x": [
               [
                null,
                null,
                null,
                null,
                null,
                null,
                null,
                null,
                null,
                null,
                null,
                null
               ]
              ],
              "y": [
               [
                0.33096388967870327,
                -0.29721213415936754,
                0.4571016034653088,
                -0.13972045478251804,
                -0.10233404061836904,
                0.04923347065577066,
                -0.0014160659114313967,
                0.003545184994198758,
                0.13237844434453083,
                -0.012195121951219523,
                0.06896353718059123,
                0.11678126342930839
               ]
              ]
             },
             {
              "title": "<b>Marginal Percentage Change in Mrsi for Athlete MTE2</b>"
             }
            ],
            "label": "MTE2",
            "method": "update"
           },
           {
            "args": [
             {
              "x": [
               [
                null,
                null,
                null,
                null,
                null,
                null,
                null,
                null,
                null,
                null,
                null,
                null
               ]
              ],
              "y": [
               [
                -0.5217412217412218,
                -0.023232424821482245,
                0.09524299835255357,
                -0.09269530882767707,
                -0.02621490001036164,
                0.026388593317727027,
                0.20153431474186223,
                -0.19767040552200177,
                0.040541993762770234,
                0.005477470028937503,
                -0.030424504060026614,
                0.3091275310081629
               ]
              ]
             },
             {
              "title": "<b>Marginal Percentage Change in Mrsi for Athlete MTE3</b>"
             }
            ],
            "label": "MTE3",
            "method": "update"
           },
           {
            "args": [
             {
              "x": [
               [
                null,
                null,
                null,
                null,
                null,
                null,
                null,
                null
               ]
              ],
              "y": [
               [
                -0.13758199044457053,
                0.02131455399061033,
                -0.12319573411786333,
                0.06301772045716691,
                0.0649043203787727,
                -0.05316783994071861,
                0.22471140676971246,
                -0.1576004473200736
               ]
              ]
             },
             {
              "title": "<b>Marginal Percentage Change in Mrsi for Athlete MTE4</b>"
             }
            ],
            "label": "MTE4",
            "method": "update"
           },
           {
            "args": [
             {
              "x": [
               [
                null,
                null,
                null,
                null,
                null,
                null,
                null,
                null,
                null,
                null,
                null,
                null,
                null
               ]
              ],
              "y": [
               [
                0.3293191731462166,
                -0.03445324202867539,
                0.046099290780141855,
                0.0005649717514124575,
                0.22783738001129294,
                -0.19763163945734652,
                -0.015761570425562477,
                0.07635754840588138,
                0.201934131331575,
                -0.2247228942778371,
                0.09913636693519123,
                0.0932320897986132,
                0.10346077187896374
               ]
              ]
             },
             {
              "title": "<b>Marginal Percentage Change in Mrsi for Athlete MTE5</b>"
             }
            ],
            "label": "MTE5",
            "method": "update"
           },
           {
            "args": [
             {
              "x": [
               [
                null,
                null,
                null,
                null,
                null,
                null,
                null,
                null,
                null,
                null,
                null,
                null
               ]
              ],
              "y": [
               [
                -0.3909688013136289,
                -0.0049429316078009045,
                0.11831647398843947,
                -0.07325149410434506,
                0.07450980392156858,
                -0.02311435523114369,
                0.08343711083437122,
                -0.0937164750957854,
                -0.03771032383529216,
                0.08320885686670776,
                -0.011761842959117641,
                -0.001969958138389516
               ]
              ]
             },
             {
              "title": "<b>Marginal Percentage Change in Mrsi for Athlete MTE6</b>"
             }
            ],
            "label": "MTE6",
            "method": "update"
           },
           {
            "args": [
             {
              "x": [
               [
                null,
                null,
                null,
                null,
                null,
                null,
                null,
                null,
                null,
                null,
                null,
                null
               ]
              ],
              "y": [
               [
                -0.11843079200592166,
                0.24647821625151622,
                -0.13719033006511483,
                -0.06393129770992367,
                0.03206375683439888,
                0.01275029182005949,
                0.06126429648018439,
                -0.09189640768588136,
                0.10524379024839003,
                -0.11553187947394705,
                -0.007811029550160109,
                0.5235701413259983
               ]
              ]
             },
             {
              "title": "<b>Marginal Percentage Change in Mrsi for Athlete MTE7</b>"
             }
            ],
            "label": "MTE7",
            "method": "update"
           },
           {
            "args": [
             {
              "x": [
               [
                null,
                null,
                null,
                null,
                null,
                null,
                null,
                null,
                null,
                null,
                null,
                null
               ]
              ],
              "y": [
               [
                -0.3283321919940235,
                0.1764760404115302,
                -0.0731111636334989,
                -0.03484912877178059,
                -0.0405988551298988,
                0.1260326785386452,
                -0.018667970979049486,
                -0.07285263332779546,
                0.031180001791954348,
                0.1438005039534278,
                -0.046794287450623084,
                0.15795345871852096
               ]
              ]
             },
             {
              "title": "<b>Marginal Percentage Change in Mrsi for Athlete MTE8</b>"
             }
            ],
            "label": "MTE8",
            "method": "update"
           },
           {
            "args": [
             {
              "x": [
               [
                null,
                null,
                null,
                null,
                null,
                null,
                null,
                null,
                null,
                null
               ]
              ],
              "y": [
               [
                -0.05203028217481076,
                -0.045883548714970246,
                0.028458377720286032,
                0.1210417283219889,
                -0.07180570221752913,
                -0.14625995449374285,
                -0.004913800283167902,
                0.0775025108804821,
                0.009010408575423234,
                0.09645881447267146
               ]
              ]
             },
             {
              "title": "<b>Marginal Percentage Change in Mrsi for Athlete MTE9</b>"
             }
            ],
            "label": "MTE9",
            "method": "update"
           },
           {
            "args": [
             {
              "x": [
               [
                null,
                null,
                null,
                null,
                null,
                null,
                null,
                null,
                null,
                null,
                null,
                null,
                null,
                null,
                null,
                null,
                null,
                null
               ]
              ],
              "y": [
               [
                -0.13150319455170956,
                0.03338722716248976,
                -0.0344989439098804,
                -0.18680116674769076,
                0.19219847556419056,
                0.08135890685721447,
                0.012868073266867563,
                -0.1288771889664645,
                -0.036788858231506905,
                0.12699495293957153,
                -0.08073105785524082,
                0.16971691902567487,
                0.037257991895542464,
                -0.07943570265870858,
                -0.1057408935518096,
                0.15475876614816775,
                -0.1450913242009132,
                0.08398985178261453
               ]
              ]
             },
             {
              "title": "<b>Marginal Percentage Change in Mrsi for Athlete SB1</b>"
             }
            ],
            "label": "SB1",
            "method": "update"
           },
           {
            "args": [
             {
              "x": [
               [
                null,
                null,
                null,
                null,
                null,
                null,
                null,
                null,
                null,
                null,
                null,
                null,
                null,
                null,
                null,
                null,
                null,
                null
               ]
              ],
              "y": [
               [
                -0.042292847170895986,
                -0.061052992625621694,
                0.09698630136986308,
                -0.05257242757242764,
                -0.025306445235270703,
                0.06680189317106144,
                0.11902649258461162,
                -0.1500906207521523,
                0.013594562175129887,
                0.025772518080210416,
                0.022048455326240113,
                0.00928132447008645,
                -0.09432086491860314,
                0.07258507135016479,
                0.024945631316361627,
                -0.010609086370444443,
                0.035953071779992296,
                -0.12822698490014606
               ]
              ]
             },
             {
              "title": "<b>Marginal Percentage Change in Mrsi for Athlete SB11</b>"
             }
            ],
            "label": "SB11",
            "method": "update"
           },
           {
            "args": [
             {
              "x": [
               [
                null,
                null,
                null,
                null,
                null,
                null,
                null,
                null,
                null,
                null,
                null,
                null,
                null,
                null,
                null,
                null,
                null
               ]
              ],
              "y": [
               [
                0.4256181030870232,
                -0.022535763276503973,
                -0.01443464314354459,
                -0.13771358828315705,
                0.214201462609106,
                0.01865164173304823,
                -0.0724775891665077,
                -0.018918363150318807,
                0.003039195137287898,
                0.03521053181485723,
                0.03593056116269677,
                -0.006332813717848773,
                -0.17521325620158845,
                0.0784593437945793,
                -0.003417107583774337,
                0.13825904214135631,
                0.04333883976289954
               ]
              ]
             },
             {
              "title": "<b>Marginal Percentage Change in Mrsi for Athlete SB12</b>"
             }
            ],
            "label": "SB12",
            "method": "update"
           },
           {
            "args": [
             {
              "x": [
               [
                null,
                null,
                null,
                null,
                null,
                null,
                null,
                null,
                null,
                null,
                null,
                null,
                null,
                null,
                null,
                null,
                null,
                null
               ]
              ],
              "y": [
               [
                -0.034491322840023764,
                0.14800643086816745,
                -0.1138559784892027,
                0.04371325621088573,
                0.05923503225220328,
                -0.04425765503044865,
                0.01525621466391458,
                0.029611950853001057,
                0.09726991758241743,
                -0.14842344104530159,
                -0.021591326718118253,
                -0.00788806460700553,
                0.011168954093705663,
                -0.032107086024524945,
                0.023791102514507,
                0.05044398261855276,
                -0.022931654676259017,
                -0.030372756557754177
               ]
              ]
             },
             {
              "title": "<b>Marginal Percentage Change in Mrsi for Athlete SB13</b>"
             }
            ],
            "label": "SB13",
            "method": "update"
           },
           {
            "args": [
             {
              "x": [
               [
                null,
                null,
                null,
                null,
                null,
                null,
                null,
                null,
                null,
                null,
                null,
                null,
                null,
                null,
                null,
                null,
                null,
                null
               ]
              ],
              "y": [
               [
                -0.23417180825818706,
                0.13733267228557255,
                -0.28955972101133387,
                0.021322288694584968,
                0.11114448783418451,
                -0.12206001622060025,
                0.12886836027713633,
                -0.0008183306055646877,
                0.038356538356538294,
                -0.17405021690548161,
                0.1944930765557853,
                -0.0037308461025981066,
                -0.04828139628193129,
                -0.05438448566610454,
                0.13360083221875452,
                0.011405348715259667,
                -0.10563836681788741,
                -0.07231884057971005
               ]
              ]
             },
             {
              "title": "<b>Marginal Percentage Change in Mrsi for Athlete SB14</b>"
             }
            ],
            "label": "SB14",
            "method": "update"
           },
           {
            "args": [
             {
              "x": [
               [
                null,
                null,
                null,
                null,
                null,
                null,
                null,
                null,
                null,
                null,
                null,
                null,
                null,
                null,
                null,
                null,
                null,
                null
               ]
              ],
              "y": [
               [
                0.4962245482476697,
                -0.07688291800083524,
                0.03472457866757139,
                -0.11281154350677747,
                0.193198620009857,
                0.0054729450640231825,
                0.0673718804559924,
                -0.18483594727220243,
                0.04898489140698792,
                -0.0009001912906493326,
                0.049667755377857725,
                0.07864806866952812,
                0.05630160151198638,
                -0.012430549015915004,
                -0.1261561933822828,
                -0.011021388040157176,
                0.1295376806796864,
                -0.10921168311028606
               ]
              ]
             },
             {
              "title": "<b>Marginal Percentage Change in Mrsi for Athlete SB15</b>"
             }
            ],
            "label": "SB15",
            "method": "update"
           },
           {
            "args": [
             {
              "x": [
               [
                null,
                null,
                null,
                null,
                null,
                null,
                null,
                null,
                null,
                null,
                null,
                null,
                null,
                null,
                null,
                null,
                null
               ]
              ],
              "y": [
               [
                -0.11642358445736001,
                -0.09560648684428286,
                0.11376423768354615,
                -0.02772301626416951,
                0.029400582942592735,
                -0.06697033115843898,
                0.2710120068610633,
                -0.195681511470985,
                0.004388229220444018,
                -0.00771010023130303,
                0.10088060088060091,
                0.01623338430772847,
                0.15175367519388816,
                -0.22603015075376887,
                0.10946630307752248,
                -0.24520131086142327,
                0.2169328578074119
               ]
              ]
             },
             {
              "title": "<b>Marginal Percentage Change in Mrsi for Athlete SB16</b>"
             }
            ],
            "label": "SB16",
            "method": "update"
           },
           {
            "args": [
             {
              "x": [
               [
                null,
                null,
                null,
                null,
                null,
                null,
                null,
                null,
                null,
                null,
                null,
                null,
                null,
                null,
                null
               ]
              ],
              "y": [
               [
                -0.40991335372069315,
                0.10645648887929182,
                0.018930523028883872,
                0.415820723999234,
                -0.20332792207792216,
                0.003396162336559705,
                -0.3157330625599367,
                0.6273701566364385,
                0.030851063829787195,
                0.07975821907710445,
                -0.04546695794647715,
                -0.09855528536690028,
                0.02729292288162477,
                0.06780970033982081,
                -0.026327209605091828
               ]
              ]
             },
             {
              "title": "<b>Marginal Percentage Change in Mrsi for Athlete SB17</b>"
             }
            ],
            "label": "SB17",
            "method": "update"
           },
           {
            "args": [
             {
              "x": [
               [
                null,
                null,
                null,
                null,
                null,
                null,
                null,
                null,
                null,
                null,
                null,
                null,
                null,
                null,
                null,
                null,
                null
               ]
              ],
              "y": [
               [
                0.15683652750953314,
                -0.12799657534246578,
                0.12326951399116326,
                -0.09112363970106185,
                0.10646278130409681,
                -0.053585397653194256,
                -0.008403361344537785,
                -0.15837732703528762,
                0.08137999339716084,
                0.06731796672263779,
                0.01701945080091538,
                -0.05667276051188297,
                0.019827072152653447,
                0.00818593772840237,
                -0.003624764390314561,
                -0.008876600698486614,
                -0.0841286154749672
               ]
              ]
             },
             {
              "title": "<b>Marginal Percentage Change in Mrsi for Athlete SB18</b>"
             }
            ],
            "label": "SB18",
            "method": "update"
           },
           {
            "args": [
             {
              "x": [
               [
                null,
                null,
                null,
                null,
                null,
                null,
                null,
                null,
                null,
                null,
                null,
                null,
                null,
                null,
                null,
                null
               ]
              ],
              "y": [
               [
                0.8150048092337292,
                0.005476064299593464,
                0.021521433591005,
                0.037578467624043155,
                0.1725509696668326,
                -0.1568419564602772,
                -0.1746164808449996,
                0.22201909404834463,
                0.047290558510638236,
                0.07301007856519326,
                -0.116929221211449,
                -0.017420435510887677,
                0.1485680190930787,
                -0.005269016697588058,
                -0.04819456878543715,
                -0.029706850603542945
               ]
              ]
             },
             {
              "title": "<b>Marginal Percentage Change in Mrsi for Athlete SB2</b>"
             }
            ],
            "label": "SB2",
            "method": "update"
           },
           {
            "args": [
             {
              "x": [
               [
                null,
                null,
                null,
                null,
                null,
                null,
                null,
                null,
                null,
                null,
                null,
                null,
                null,
                null,
                null,
                null
               ]
              ],
              "y": [
               [
                -0.17925519024153813,
                0.053149606299212726,
                -0.19233644859813082,
                0.012265679240916372,
                0.0037722908093278384,
                -0.023231978134608755,
                0.12300338113559528,
                -0.12115863787375414,
                -0.008269344359125852,
                0.0912447885646217,
                0.04017028708656256,
                -0.09151012698079564,
                0.0011551345731779517,
                -0.05434406368985811,
                -0.10614934114202057,
                0.12912912912912922
               ]
              ]
             },
             {
              "title": "<b>Marginal Percentage Change in Mrsi for Athlete SB4</b>"
             }
            ],
            "label": "SB4",
            "method": "update"
           },
           {
            "args": [
             {
              "x": [
               [
                null,
                null,
                null,
                null,
                null,
                null,
                null,
                null,
                null,
                null,
                null,
                null,
                null,
                null,
                null,
                null
               ]
              ],
              "y": [
               [
                -0.2147001934235977,
                -0.09605911330049277,
                0.01737057220708471,
                -0.060428523602276574,
                -0.06823445572777476,
                0.016252390057361454,
                -0.0555032925682033,
                0.033466135458167345,
                0.111603700848111,
                -0.20964106121033466,
                0.2869679684071962,
                -0.21939993181043305,
                0.07294169032539854,
                -0.1019743537553428,
                0.42021758839528567,
                -0.09176508139163753
               ]
              ]
             },
             {
              "title": "<b>Marginal Percentage Change in Mrsi for Athlete SB5</b>"
             }
            ],
            "label": "SB5",
            "method": "update"
           },
           {
            "args": [
             {
              "x": [
               [
                null,
                null,
                null,
                null,
                null,
                null,
                null,
                null,
                null,
                null,
                null,
                null,
                null,
                null,
                null,
                null,
                null,
                null
               ]
              ],
              "y": [
               [
                0.41837989808469533,
                0.03642220019821596,
                -0.01231173798709062,
                0.009802735084109893,
                0.014741131351869496,
                -0.036967048541395986,
                0.09418690213392189,
                -0.04371217215870882,
                -0.048874824191279864,
                0.029328404189771895,
                0.016401292948641233,
                0.12438162544169606,
                -0.005028284098051561,
                -0.1453990313750262,
                0.051620056671183745,
                0.0312792877225867,
                -0.0237419061683517,
                -0.0380498021875727
               ]
              ]
             },
             {
              "title": "<b>Marginal Percentage Change in Mrsi for Athlete SB6</b>"
             }
            ],
            "label": "SB6",
            "method": "update"
           },
           {
            "args": [
             {
              "x": [
               [
                null,
                null,
                null,
                null,
                null,
                null,
                null,
                null,
                null,
                null,
                null,
                null,
                null,
                null,
                null,
                null,
                null,
                null
               ]
              ],
              "y": [
               [
                -0.1843877263013588,
                -0.16620526003559422,
                0.3728210601209534,
                -0.057657424203161445,
                0.010999587515468257,
                -0.2294301645586836,
                0.08577479703494517,
                0.06713263979193784,
                -0.09337395277989358,
                0.0766129032258065,
                -0.08270911360799005,
                0.176080299421572,
                0.18660494720092569,
                -0.30440082896501286,
                0.04626708727655093,
                -0.029983249581239546,
                0.1469521671559315,
                0.02981029810298108
               ]
              ]
             },
             {
              "title": "<b>Marginal Percentage Change in Mrsi for Athlete SB7</b>"
             }
            ],
            "label": "SB7",
            "method": "update"
           },
           {
            "args": [
             {
              "x": [
               [
                null,
                null,
                null,
                null,
                null,
                null,
                null,
                null,
                null,
                null,
                null,
                null,
                null,
                null,
                null,
                null,
                null,
                null
               ]
              ],
              "y": [
               [
                0.20916179337231977,
                -0.1486780590037079,
                0.09870756994745067,
                -0.06178903826266802,
                0.016257922292642668,
                -0.010574837310195262,
                0.117566456563442,
                -0.04193231976459033,
                -0.14819554645508082,
                0.18945312500000022,
                -0.11052166224580018,
                0.10394774211871627,
                0.13223565731926934,
                -0.20892978868438983,
                0.15927042941260927,
                -0.06578295341922702,
                0.026521681474605874,
                -0.06562459630538697
               ]
              ]
             },
             {
              "title": "<b>Marginal Percentage Change in Mrsi for Athlete SB8</b>"
             }
            ],
            "label": "SB8",
            "method": "update"
           },
           {
            "args": [
             {
              "x": [
               [
                null,
                null,
                null,
                null,
                null,
                null,
                null,
                null,
                null,
                null,
                null,
                null,
                null,
                null,
                null,
                null,
                null,
                null
               ]
              ],
              "y": [
               [
                0.21083920918014631,
                -0.042703813656085776,
                -0.16424141221374056,
                -0.011702583131154576,
                -0.04577617328519845,
                0.052663438256658424,
                -0.063254744105808,
                -0.05647636586863103,
                0.2366623292127521,
                -0.02735762199131908,
                -0.061122379986477404,
                0.07446348840558836,
                0.10268096514745317,
                -0.15815706297106735,
                0.06570397111913362,
                -0.014634146341463428,
                -0.07150715071507141,
                0.1423281990521328
               ]
              ]
             },
             {
              "title": "<b>Marginal Percentage Change in Mrsi for Athlete SB9</b>"
             }
            ],
            "label": "SB9",
            "method": "update"
           },
           {
            "args": [
             {
              "x": [
               [
                null,
                null,
                null,
                null,
                null,
                null,
                null,
                null,
                null,
                null,
                null,
                null,
                null,
                null,
                null,
                null,
                null,
                null,
                null,
                null,
                null,
                null,
                null,
                null,
                null,
                null,
                null
               ]
              ],
              "y": [
               [
                -0.09490470633994574,
                0.12448073341928079,
                0.13388535031847137,
                -0.04617458712504219,
                -0.06018845700824493,
                0.04236119814513106,
                -0.0032463628712278148,
                -0.10820265379975857,
                0.09414310834573225,
                -0.2641859315119298,
                0.02788978494623673,
                0.02517162471395884,
                0.05484693877551017,
                -0.10640870616686826,
                0.3274695534506089,
                -0.09318722392116896,
                0.035737704918032964,
                0.1718898385565053,
                -0.31627691595276686,
                0.24381984422621072,
                0.021099918322896816,
                0.13091587788294912,
                -0.12401273134504309,
                0.06661283811061769,
                -0.38682816048448143,
                0.20123456790123462,
                0.10191846522781778
               ]
              ]
             },
             {
              "title": "<b>Marginal Percentage Change in Mrsi for Athlete WBB1</b>"
             }
            ],
            "label": "WBB1",
            "method": "update"
           },
           {
            "args": [
             {
              "x": [
               [
                null,
                null,
                null,
                null,
                null,
                null,
                null,
                null,
                null,
                null,
                null,
                null,
                null,
                null,
                null,
                null,
                null,
                null,
                null,
                null,
                null,
                null,
                null,
                null,
                null,
                null,
                null
               ]
              ],
              "y": [
               [
                0.5025648997357375,
                -0.02089799296503203,
                -0.002852916314454723,
                -0.03200169545406384,
                -0.008538587848932688,
                0.07386551838357058,
                -0.046267735965453305,
                -0.03288055196205253,
                0.16932337532047703,
                -0.14642516682554807,
                -0.12083984811257542,
                0.19944105691056935,
                0.07339546706206312,
                -0.07104094721262955,
                0.08911311736590521,
                -0.12248878486444315,
                0.09335407868415202,
                0.13285220573287249,
                -0.17030058322117536,
                0.067805774845896,
                -0.07909661737897511,
                0.019465522929726253,
                0.08802588996763738,
                0.015367836605195473,
                -0.09315496533541634,
                -0.19844944546139776,
                0.25644814615797973
               ]
              ]
             },
             {
              "title": "<b>Marginal Percentage Change in Mrsi for Athlete WBB10</b>"
             }
            ],
            "label": "WBB10",
            "method": "update"
           },
           {
            "args": [
             {
              "x": [
               [
                null,
                null,
                null,
                null,
                null,
                null,
                null,
                null,
                null,
                null,
                null,
                null,
                null,
                null,
                null,
                null,
                null,
                null,
                null,
                null,
                null,
                null,
                null,
                null,
                null,
                null,
                null
               ]
              ],
              "y": [
               [
                -0.23853309098684916,
                0.20219039595619237,
                0.03398738612473706,
                0.023833728679543587,
                -0.10304501323918802,
                0.13161131611316135,
                -0.07369565217391305,
                -0.026636939685519945,
                0.03688969258589503,
                -0.3343797232879897,
                0.0883842794759826,
                0.10190980580966147,
                0.1500145645208275,
                -0.11600810536980766,
                0.1905444126074498,
                0.100361010830325,
                -0.07130358705161854,
                0.11163447951012717,
                -0.12266949152542361,
                0.08983337358126064,
                -0.1251938843341459,
                0.13804457953394111,
                -0.02414867571778312,
                -0.05188733036834314,
                -0.15251383209044977,
                -0.2740562021004824,
                0.11847507331378293
               ]
              ]
             },
             {
              "title": "<b>Marginal Percentage Change in Mrsi for Athlete WBB11</b>"
             }
            ],
            "label": "WBB11",
            "method": "update"
           },
           {
            "args": [
             {
              "x": [
               [
                null,
                null,
                null,
                null,
                null,
                null,
                null,
                null,
                null,
                null,
                null,
                null,
                null,
                null,
                null,
                null,
                null,
                null,
                null,
                null,
                null,
                null,
                null,
                null,
                null,
                null,
                null
               ]
              ],
              "y": [
               [
                0.15416885159937066,
                0.09223080417991825,
                0.18968386023294492,
                -0.11969696969696975,
                0.10989010989010994,
                -0.07300489085053086,
                -0.19482692060223905,
                0.26146715678440136,
                0.07132902571899158,
                0.013954588457899542,
                -0.002682528574760923,
                0.02444158577944111,
                0.10114155251141543,
                -0.09765705992121076,
                0.14211856617647056,
                -0.09355195654360726,
                0.022417045832870963,
                -0.16129382394442637,
                0.321211336870713,
                -0.21530022529140946,
                0.22107102733741102,
                -0.3252913514618688,
                0.05439393939393944,
                0.11582123868371896,
                0.172955569864778,
                -0.15162494510320612,
                0.018894784521806818
               ]
              ]
             },
             {
              "title": "<b>Marginal Percentage Change in Mrsi for Athlete WBB12</b>"
             }
            ],
            "label": "WBB12",
            "method": "update"
           },
           {
            "args": [
             {
              "x": [
               [
                null,
                null,
                null,
                null,
                null,
                null,
                null,
                null,
                null,
                null,
                null,
                null,
                null,
                null,
                null,
                null,
                null,
                null,
                null,
                null
               ]
              ],
              "y": [
               [
                0.19966975739870452,
                -0.08099523557437804,
                0.08951612903225814,
                -0.11790208311303785,
                0.07863821625509448,
                0,
                -0.0158924205378973,
                0.13370976849237737,
                0.056778563601952214,
                -0.10349703082288608,
                -0.01209126274839667,
                0.13197105151128152,
                -0.031214742384355176,
                -0.19303183229813659,
                0.0345159350571258,
                -0.04708207393629393,
                0.10650237891911685,
                -0.11245865490628448,
                0.10571428571428565,
                -0.08841703179418037
               ]
              ]
             },
             {
              "title": "<b>Marginal Percentage Change in Mrsi for Athlete WBB13</b>"
             }
            ],
            "label": "WBB13",
            "method": "update"
           },
           {
            "args": [
             {
              "x": [
               [
                null,
                null,
                null,
                null,
                null,
                null,
                null,
                null,
                null,
                null,
                null,
                null,
                null,
                null,
                null,
                null,
                null,
                null,
                null,
                null,
                null,
                null,
                null,
                null,
                null,
                null,
                null
               ]
              ],
              "y": [
               [
                -0.12484594527976345,
                0.015209125475285301,
                0.0604799556110418,
                -0.19202092871157617,
                0.1269224542658247,
                0.052578652492457856,
                -0.006005186297256659,
                -0.15337086365508712,
                0.15228673370094037,
                -0.02913441238564385,
                0.05566830965497238,
                -0.016204339467179252,
                0.09463986599664986,
                0.054960469268043655,
                -0.04399854949836812,
                -0.08041471741054484,
                0.12594527705211034,
                -0.03871046525827326,
                -0.04179369918699194,
                -0.09863449555879622,
                0.29004265333137225,
                -0.1783149013795463,
                -0.09657277646732332,
                0.12931961296267858,
                -0.05331157350741211,
                -0.07326533544031022,
                -0.017361649356688824
               ]
              ]
             },
             {
              "title": "<b>Marginal Percentage Change in Mrsi for Athlete WBB14</b>"
             }
            ],
            "label": "WBB14",
            "method": "update"
           },
           {
            "args": [
             {
              "x": [
               [
                null,
                null,
                null,
                null,
                null,
                null,
                null,
                null,
                null,
                null,
                null,
                null,
                null,
                null,
                null,
                null,
                null,
                null,
                null,
                null,
                null,
                null,
                null,
                null,
                null,
                null,
                null
               ]
              ],
              "y": [
               [
                0.7210916548351474,
                0.008982584784601233,
                -0.03706395348837199,
                0.058867924528301696,
                -0.22104419101924433,
                0.19558503946013928,
                0.01655027264900033,
                0.08563899868247682,
                -0.00026005547850205257,
                -0.1258128847654556,
                -0.09055742908153142,
                0.18497109826589586,
                0.07326277036355289,
                -0.0765800531686821,
                0.237091381872214,
                -0.22378199834847234,
                0.2059961315280463,
                -0.05284683239775467,
                -0.011853357040047197,
                0.011395767286436653,
                0.06997627922738037,
                -0.055661124307205045,
                -0.060702607529135366,
                0.03775774346157279,
                -0.2259590572853949,
                0.1832425825091677,
                -0.16228399699474083
               ]
              ]
             },
             {
              "title": "<b>Marginal Percentage Change in Mrsi for Athlete WBB15</b>"
             }
            ],
            "label": "WBB15",
            "method": "update"
           },
           {
            "args": [
             {
              "x": [
               [
                null,
                null,
                null,
                null,
                null,
                null,
                null,
                null,
                null,
                null,
                null,
                null,
                null,
                null,
                null,
                null,
                null,
                null,
                null,
                null,
                null,
                null,
                null,
                null,
                null,
                null
               ]
              ],
              "y": [
               [
                0.001008968609865546,
                -0.005599731212901804,
                0.02905732627548141,
                0.13604027580168565,
                0.15125240847784194,
                0.05589958158995789,
                -0.09272467902995718,
                -0.12639762403913335,
                -0.1135886411358864,
                -0.12069937958262822,
                -0.11379089159717781,
                0.1654603358425013,
                0.12085455222953678,
                -0.08222517730496459,
                0.23786524993962832,
                0.08642216152945736,
                -0.217274196444604,
                0.1816930488644184,
                -0.1342457775189283,
                0.21953133759390075,
                -0.1458122644111428,
                0.06694650737272623,
                0.20992635932613757,
                -0.3634317158579289,
                0.25225933202357553,
                -0.15008890283443155
               ]
              ]
             },
             {
              "title": "<b>Marginal Percentage Change in Mrsi for Athlete WBB16</b>"
             }
            ],
            "label": "WBB16",
            "method": "update"
           },
           {
            "args": [
             {
              "x": [
               [
                null,
                null,
                null,
                null,
                null,
                null,
                null,
                null,
                null,
                null,
                null,
                null,
                null,
                null,
                null,
                null,
                null,
                null,
                null,
                null,
                null,
                null,
                null,
                null,
                null,
                null,
                null,
                null,
                null,
                null,
                null,
                null,
                null,
                null,
                null
               ]
              ],
              "y": [
               [
                -0.27048978587250805,
                0.14473684210526327,
                -0.11479516651930455,
                0.25303812219077737,
                0.031088082901554293,
                -0.045354980028346925,
                0.20812525307058993,
                -0.2806390347447214,
                0.1121292126106539,
                0.00977517106549386,
                0.043839026414050464,
                0.009936406995230573,
                0.3019808474353929,
                -0.22942065491183894,
                -0.16030334728033468,
                0.2460292743693553,
                -0.10422394401399648,
                0.009068080357143016,
                0.17987004009401342,
                -0.05882352941176461,
                0.11043326693227096,
                -0.03520574055387371,
                -0.052411388727484076,
                -0.045376502330144786,
                0.045991778006166495,
                -0.022353230164578686,
                -0.006155778894472497,
                -0.014915939830615454,
                -0.005261131784935147,
                0.07043343653250767,
                -0.05639913232104132,
                -0.0577266922094507,
                -0.18541610192464086,
                0.18652246256239624,
                -0.04753891459823312
               ]
              ]
             },
             {
              "title": "<b>Marginal Percentage Change in Mrsi for Athlete WBB17</b>"
             }
            ],
            "label": "WBB17",
            "method": "update"
           },
           {
            "args": [
             {
              "x": [
               [
                null,
                null,
                null,
                null,
                null,
                null,
                null,
                null,
                null,
                null,
                null,
                null,
                null,
                null,
                null,
                null,
                null,
                null,
                null,
                null,
                null,
                null,
                null,
                null,
                null,
                null,
                null
               ]
              ],
              "y": [
               [
                0.4383097762073027,
                -0.05527689630463728,
                0.043341640481092236,
                0.06791982552705367,
                0.01487892638335131,
                0.05864315829819855,
                -0.11513396089790007,
                0.030585106382978733,
                -0.07434243176178668,
                -0.020265923225391447,
                -0.04870307540768304,
                -0.09664058904739992,
                0.15550178298522677,
                -0.23884051581615784,
                0.4924703156675354,
                -0.04433879887455128,
                -0.142741116751269,
                0.15963998105163424,
                -0.054534313725490335,
                0.04547418448909046,
                -0.04711230499018493,
                0.05757345766019739,
                0.10272708632355965,
                -0.06824098177761262,
                0.054679704649770455,
                -0.24342478713339644,
                0.1249218456921346
               ]
              ]
             },
             {
              "title": "<b>Marginal Percentage Change in Mrsi for Athlete WBB18</b>"
             }
            ],
            "label": "WBB18",
            "method": "update"
           },
           {
            "args": [
             {
              "x": [
               [
                null,
                null,
                null,
                null,
                null,
                null,
                null,
                null,
                null,
                null,
                null,
                null,
                null,
                null,
                null,
                null,
                null,
                null,
                null,
                null,
                null,
                null,
                null,
                null,
                null,
                null,
                null
               ]
              ],
              "y": [
               [
                -0.12172076478434857,
                0.02240222756613086,
                0.15263679128497154,
                -0.07883148963591458,
                -0.05374839687536426,
                -0.13479546574667345,
                0.18057533466248943,
                0.05983112183353456,
                0.024356931481902766,
                -0.0895555555555555,
                -0.10434464242128394,
                0.1445701049189263,
                0.009404761904761916,
                -0.01108621299681567,
                0.01168753726893268,
                0.03147471413415048,
                0.004342857142857204,
                -0.07760582612653621,
                0.06242289661978773,
                -0.1424756154203437,
                0.12200406228842264,
                0.050567221819937336,
                -0.08443423319931087,
                0.04730238393977415,
                0.17718940936863548,
                -0.13474455526155094,
                -0.13232180663373327
               ]
              ]
             },
             {
              "title": "<b>Marginal Percentage Change in Mrsi for Athlete WBB19</b>"
             }
            ],
            "label": "WBB19",
            "method": "update"
           },
           {
            "args": [
             {
              "x": [
               [
                null,
                null,
                null,
                null,
                null,
                null,
                null,
                null,
                null,
                null,
                null,
                null,
                null,
                null,
                null,
                null,
                null,
                null,
                null,
                null,
                null,
                null,
                null,
                null,
                null,
                null,
                null
               ]
              ],
              "y": [
               [
                0.17093669513352316,
                -0.107895346144941,
                0.10692966519595126,
                -0.060023446658851176,
                0.0517585432776253,
                0.14965018380173145,
                -0.17854564208354828,
                0.006906077348066475,
                -0.05923431849357785,
                0.39183457051961845,
                -0.07504761904761903,
                -0.06383855024711704,
                -0.012758468983722016,
                0.02384135472370774,
                -0.030467899891186145,
                0.09663299663299663,
                -0.10909835226691222,
                0.05985066053991939,
                -0.07576414480815086,
                -0.0709510965169462,
                0.08937137086594293,
                -0.15133256083429902,
                0.09339158929546709,
                -0.021353646353646227,
                0.5836416996299605,
                -0.2522762065909274,
                -0.04558189655172429
               ]
              ]
             },
             {
              "title": "<b>Marginal Percentage Change in Mrsi for Athlete WBB2</b>"
             }
            ],
            "label": "WBB2",
            "method": "update"
           },
           {
            "args": [
             {
              "x": [
               [
                null,
                null,
                null,
                null,
                null,
                null,
                null,
                null,
                null,
                null,
                null,
                null,
                null,
                null,
                null,
                null,
                null,
                null,
                null,
                null,
                null,
                null,
                null,
                null,
                null,
                null,
                null
               ]
              ],
              "y": [
               [
                -0.07745286214293778,
                -0.15652918859380727,
                0.1485780615206036,
                0.024633653360282892,
                -0.09061767969424239,
                0.057077006507592065,
                0.11478773887392602,
                -0.06649792913023467,
                0.05829430613754005,
                0.03132642366367766,
                -0.11235320686540196,
                0.02111690624602458,
                -0.022299738382957512,
                0.24936289500509679,
                -0.09107598164201935,
                -0.005722621184919174,
                -0.09908588195463264,
                0.2407616184391832,
                -0.12145381120646137,
                -0.028614111698460176,
                0.0405773098308293,
                -0.15245566166439284,
                0.1254191817572099,
                -0.28820023837902264,
                0.44340254521098466,
                0.03886310904872392,
                0.03383584589614763
               ]
              ]
             },
             {
              "title": "<b>Marginal Percentage Change in Mrsi for Athlete WBB3</b>"
             }
            ],
            "label": "WBB3",
            "method": "update"
           },
           {
            "args": [
             {
              "x": [
               [
                null,
                null,
                null,
                null,
                null,
                null,
                null,
                null,
                null,
                null,
                null,
                null,
                null,
                null,
                null,
                null,
                null,
                null,
                null,
                null,
                null,
                null,
                null,
                null,
                null
               ]
              ],
              "y": [
               [
                -0.18740548714625194,
                0.01289379237006516,
                0.1279527559055118,
                -0.10040721349621873,
                0.17175375064666332,
                -0.06942604856512147,
                -0.3884473965128692,
                0.46353762606671833,
                -0.026106546514709672,
                -0.29078786229418974,
                0.06792018419033008,
                0.12468559108875321,
                0.04233226837060711,
                0.23264367816091935,
                -0.20701230883998523,
                0.46754468485418643,
                -0.19155982905982893,
                0.03924937227434899,
                0.05582400813835209,
                0.01264603155485955,
                -0.07326355851569932,
                0.15785420944558526,
                -0.2902904012414098,
                -0.10744963298453858,
                0.22362204724409462
               ]
              ]
             },
             {
              "title": "<b>Marginal Percentage Change in Mrsi for Athlete WBB4</b>"
             }
            ],
            "label": "WBB4",
            "method": "update"
           },
           {
            "args": [
             {
              "x": [
               [
                null,
                null,
                null,
                null,
                null,
                null,
                null,
                null,
                null,
                null,
                null,
                null,
                null,
                null,
                null,
                null,
                null,
                null,
                null,
                null,
                null,
                null,
                null,
                null,
                null,
                null,
                null
               ]
              ],
              "y": [
               [
                -0.2332332332332333,
                0.0641551659828421,
                -0.21240799158780233,
                0.19381397418780577,
                0.12246039142590881,
                -0.0652607107273333,
                -0.09664238763545929,
                0.12369714847590974,
                -0.1443822191109556,
                -0.07588463898547759,
                0.31252766710934043,
                -0.23035413153456996,
                0.24408413672217355,
                -0.004050722085241376,
                0.01520778072502238,
                -0.10015676711374344,
                0.011227255129694136,
                0.03081929555895857,
                0.33221912720519975,
                -0.09408976860886531,
                -0.10586244037544246,
                -0.18877990018929613,
                0.0065761561306747485,
                0.07038988408851421,
                0.13250639889742066,
                -0.17454798331015287,
                0.023588879528222417
               ]
              ]
             },
             {
              "title": "<b>Marginal Percentage Change in Mrsi for Athlete WBB5</b>"
             }
            ],
            "label": "WBB5",
            "method": "update"
           },
           {
            "args": [
             {
              "x": [
               [
                null,
                null,
                null,
                null,
                null,
                null,
                null,
                null,
                null,
                null,
                null,
                null,
                null,
                null,
                null,
                null,
                null,
                null,
                null,
                null,
                null,
                null,
                null,
                null,
                null,
                null
               ]
              ],
              "y": [
               [
                0.8090534979423869,
                0.1949499545040947,
                0.02151151722825051,
                0.12066716362281049,
                0.019040492225825156,
                -0.14874347258485632,
                -0.043036518738618024,
                0.15384615384615397,
                0.017534722222221966,
                0.11457089233919127,
                -0.2236509758897819,
                0.013408261855466952,
                0.08609786944255271,
                0.015317090648513165,
                -0.029466254962505767,
                0.036542132533406324,
                0.038060159607120836,
                0.11480949564923537,
                0.019324037587147735,
                -0.12162664485911823,
                0.011172238679644675,
                -0.0629446723026702,
                -0.15069227333631074,
                0.021560790912915406,
                0.06362606815607941,
                -0.049075597715613206
               ]
              ]
             },
             {
              "title": "<b>Marginal Percentage Change in Mrsi for Athlete WBB6</b>"
             }
            ],
            "label": "WBB6",
            "method": "update"
           },
           {
            "args": [
             {
              "x": [
               [
                null,
                null,
                null,
                null,
                null,
                null,
                null,
                null,
                null,
                null,
                null,
                null,
                null,
                null,
                null,
                null,
                null
               ]
              ],
              "y": [
               [
                -0.12683224755700317,
                -0.3841221730006995,
                0.21900435358697723,
                -0.13245341614906836,
                -0.10667621263647753,
                -0.20496894409937894,
                0.22479838709677424,
                0.20679012345679015,
                0.13947144075021312,
                -0.05072572198114611,
                -0.046185372005044245,
                0.2629317468187078,
                -0.07694320858414028,
                -0.30592571590586903,
                -0.27593954248366004,
                0.2654442877291958,
                0.5811413285777978
               ]
              ]
             },
             {
              "title": "<b>Marginal Percentage Change in Mrsi for Athlete WBB7</b>"
             }
            ],
            "label": "WBB7",
            "method": "update"
           },
           {
            "args": [
             {
              "x": [
               [
                null,
                null,
                null,
                null,
                null,
                null,
                null,
                null,
                null,
                null,
                null,
                null,
                null,
                null,
                null,
                null,
                null,
                null,
                null,
                null,
                null,
                null,
                null,
                null,
                null,
                null,
                null
               ]
              ],
              "y": [
               [
                0.16551529677146481,
                -0.07644853030119758,
                -0.0475442043222003,
                -0.04881738173817396,
                0.0492988289720977,
                0.3833011848994212,
                -0.2434262948207171,
                0.0728014744602421,
                0.060375506197079654,
                -0.027543108436523633,
                0.020468880161846892,
                -0.2860641399416908,
                0.13622999019928117,
                0.13254744105807936,
                0.1238893120081237,
                -0.19719900609893815,
                0.2362127180641529,
                -0.027085467167406452,
                0.03286934144344378,
                -0.3120045300113251,
                0.1137448559670784,
                0.12976647945610376,
                0.021716378859236052,
                -0.034955185659411026,
                -0.026270399363141905,
                0.45537539174274433,
                -0.19857691227413166
               ]
              ]
             },
             {
              "title": "<b>Marginal Percentage Change in Mrsi for Athlete WBB9</b>"
             }
            ],
            "label": "WBB9",
            "method": "update"
           },
           {
            "args": [
             {
              "x": [
               [
                null,
                null,
                null,
                null,
                null,
                null,
                null,
                null,
                null,
                null,
                null,
                null,
                null,
                null,
                null,
                null,
                null,
                null,
                null,
                null
               ]
              ],
              "y": [
               [
                0.0822429906542057,
                0.06617012089810026,
                -0.05679862306368333,
                0.044117647058823595,
                -0.03567389739899263,
                0.0729211087420043,
                0.014606518282988867,
                0.005092547252962598,
                0.09733995907629334,
                -0.21807849405079016,
                0.0009084714967066976,
                0.09416836850465171,
                0.008710078805474808,
                -0.14535361842105265,
                0.21566033197017087,
                -0.05985950331453449,
                -0.06703851820669315,
                -0.036097010716300115,
                -0.129939535790911,
                0.1929250358680059
               ]
              ]
             },
             {
              "title": "<b>Marginal Percentage Change in Mrsi for Athlete WSD1</b>"
             }
            ],
            "label": "WSD1",
            "method": "update"
           },
           {
            "args": [
             {
              "x": [
               [
                null,
                null,
                null,
                null,
                null,
                null,
                null,
                null,
                null,
                null,
                null,
                null,
                null,
                null,
                null,
                null,
                null,
                null,
                null,
                null,
                null,
                null,
                null
               ]
              ],
              "y": [
               [
                -0.20441988950276246,
                0.03642290249433122,
                -0.024887187200875127,
                -0.06422661618286363,
                0.10699835156601223,
                -0.2402869906592663,
                0.12330719885958685,
                0.0977157360406089,
                0.042341040462427815,
                -0.09787882989047547,
                0.17903795912094655,
                -0.1729666319082377,
                0.0190701339637509,
                0.20971234147850293,
                -0.0349015597034007,
                0.05179493972711624,
                -0.09685138539042815,
                0.083112536605773,
                -0.044418694476631826,
                0.09188897871193746,
                -0.06823790720631784,
                -0.1228534851895996,
                -0.004277805737292417
               ]
              ]
             },
             {
              "title": "<b>Marginal Percentage Change in Mrsi for Athlete WSD10</b>"
             }
            ],
            "label": "WSD10",
            "method": "update"
           },
           {
            "args": [
             {
              "x": [
               [
                null,
                null,
                null,
                null,
                null,
                null,
                null,
                null,
                null,
                null,
                null,
                null,
                null,
                null,
                null,
                null,
                null,
                null,
                null,
                null,
                null,
                null
               ]
              ],
              "y": [
               [
                0.14768764215314634,
                -0.055489496630994894,
                0.03552944467757735,
                0.02363906524382009,
                -0.051068883610451254,
                0.06313447364761493,
                -0.1404839764551994,
                0.17272865621670963,
                -0.20425642356605245,
                0.1911285061969994,
                -0.05832420591456733,
                0.023698749636522187,
                -0.1200113620224399,
                0.43253712072304684,
                -0.06804867057232988,
                -0.0605657640232109,
                0.1490155707116203,
                -0.09866726397132941,
                0.016650099403578533,
                0.0844536788071375,
                -0.12633832976445392,
                -0.22213622291021673
               ]
              ]
             },
             {
              "title": "<b>Marginal Percentage Change in Mrsi for Athlete WSD11</b>"
             }
            ],
            "label": "WSD11",
            "method": "update"
           },
           {
            "args": [
             {
              "x": [
               [
                null,
                null,
                null,
                null,
                null,
                null,
                null,
                null,
                null,
                null,
                null,
                null,
                null,
                null,
                null,
                null,
                null
               ]
              ],
              "y": [
               [
                0.16036484245439464,
                -0.15821066171216236,
                0.06400679117147723,
                0.05919897877772451,
                0.1384453148538718,
                -0.02500992457324336,
                -0.008821932681867595,
                -0.049842530466931434,
                0.10794062545035299,
                -0.06477627471383951,
                -0.025034770514603677,
                -0.01954350927246795,
                0.016586643387167088,
                0.09889795334192075,
                -0.10679864548059403,
                -0.03966170895304755,
                0.1163073185545096
               ]
              ]
             },
             {
              "title": "<b>Marginal Percentage Change in Mrsi for Athlete WSD12</b>"
             }
            ],
            "label": "WSD12",
            "method": "update"
           },
           {
            "args": [
             {
              "x": [
               [
                null,
                null,
                null,
                null,
                null,
                null,
                null,
                null,
                null,
                null,
                null,
                null,
                null,
                null,
                null,
                null,
                null,
                null,
                null,
                null,
                null,
                null,
                null
               ]
              ],
              "y": [
               [
                -0.05127856365614791,
                0.01634408602150539,
                -0.05007758499083104,
                -0.008910008910008926,
                0.009439616421935915,
                -0.12616891791598628,
                0.03618141668082209,
                -0.023114754098360613,
                0.10169491525423746,
                -0.004112718964204287,
                0.038390945243193864,
                -0.015613492414199515,
                0.15621726769414934,
                0.015012294551572491,
                0.005992604870585394,
                0.03054499366286434,
                -0.20501783298487275,
                0.21194306930693063,
                -0.11488383967321925,
                -0.07441592154600529,
                0.11826114054222514,
                -0.05466536621615348,
                -0.012773901935737464
               ]
              ]
             },
             {
              "title": "<b>Marginal Percentage Change in Mrsi for Athlete WSD13</b>"
             }
            ],
            "label": "WSD13",
            "method": "update"
           },
           {
            "args": [
             {
              "x": [
               [
                null,
                null,
                null,
                null,
                null,
                null,
                null,
                null,
                null,
                null,
                null,
                null
               ]
              ],
              "y": [
               [
                0.33278590624066906,
                -0.19188977259997764,
                0.10632104241752138,
                0.11627615587019169,
                0.13200134695251986,
                -0.11978185423896881,
                0.01554579249746535,
                0.05623960066555744,
                -0.10396975425330812,
                -0.043483356774495885,
                0.1925826083404809,
                0.014932529625316882
               ]
              ]
             },
             {
              "title": "<b>Marginal Percentage Change in Mrsi for Athlete WSD14</b>"
             }
            ],
            "label": "WSD14",
            "method": "update"
           },
           {
            "args": [
             {
              "x": [
               [
                null,
                null,
                null,
                null,
                null,
                null,
                null,
                null,
                null,
                null,
                null,
                null,
                null,
                null,
                null,
                null,
                null,
                null,
                null,
                null,
                null,
                null,
                null
               ]
              ],
              "y": [
               [
                -0.04170884794492813,
                0.014155926473695235,
                0.026145833333333313,
                -0.12039386864277735,
                0.07224466243508365,
                -0.022064363362393702,
                0.011776359233986344,
                -0.054824322854345686,
                0.07066405800437336,
                -0.012684080404170683,
                0.12128470332063146,
                -0.12554616953102238,
                0.048190095491894125,
                0.048728813559322015,
                -0.017878787878787827,
                0.05677260104905879,
                -0.08866180048661787,
                0.08265698419478862,
                0.007792463996843635,
                -0.034941763727121544,
                -0.018052738336714058,
                -0.014804103835295623,
                -0.02156136427173616
               ]
              ]
             },
             {
              "title": "<b>Marginal Percentage Change in Mrsi for Athlete WSD15</b>"
             }
            ],
            "label": "WSD15",
            "method": "update"
           },
           {
            "args": [
             {
              "x": [
               [
                null,
                null,
                null,
                null,
                null,
                null,
                null,
                null,
                null,
                null,
                null,
                null,
                null,
                null
               ]
              ],
              "y": [
               [
                -0.2693667630986821,
                0.38260742044288043,
                0.027789563003818518,
                -0.15170278637770895,
                0.02226277372262775,
                0.03260740211829094,
                -0.0886251008413046,
                -0.01062215477996964,
                0.11797034764826186,
                -0.10986623985366417,
                0.14436167480092488,
                -0.1213243546576881,
                -0.03759526546600245,
                0.024862856131658173
               ]
              ]
             },
             {
              "title": "<b>Marginal Percentage Change in Mrsi for Athlete WSD16</b>"
             }
            ],
            "label": "WSD16",
            "method": "update"
           },
           {
            "args": [
             {
              "x": [
               [
                null,
                null,
                null,
                null,
                null,
                null,
                null,
                null,
                null,
                null,
                null,
                null,
                null,
                null,
                null,
                null,
                null,
                null,
                null,
                null,
                null,
                null,
                null
               ]
              ],
              "y": [
               [
                -0.06293706293706292,
                -0.029850746268656803,
                0.07749287749287759,
                -0.03635642517186666,
                -0.0744958156125668,
                -0.173436110287578,
                0.19332855093256818,
                -0.03982566877066418,
                0.12584128971670072,
                -0.10315584596135141,
                0.07084172996434668,
                -0.10784597568037058,
                0.034236573097517375,
                0.14731722623156585,
                -0.08956652536578713,
                0.1853409432261941,
                -0.0902179422199696,
                0.025069637883008422,
                -0.01413043478260867,
                0.07400771775082693,
                -0.03836776594379565,
                -0.00533760341606615,
                0.00281727931312048
               ]
              ]
             },
             {
              "title": "<b>Marginal Percentage Change in Mrsi for Athlete WSD17</b>"
             }
            ],
            "label": "WSD17",
            "method": "update"
           },
           {
            "args": [
             {
              "x": [
               [
                null,
                null,
                null,
                null,
                null,
                null,
                null,
                null,
                null,
                null,
                null,
                null,
                null,
                null,
                null,
                null,
                null
               ]
              ],
              "y": [
               [
                -0.3573244147157192,
                0.04100749375520407,
                0.23435312937412522,
                -0.2499595010529726,
                0.11123110151187898,
                -0.07930029154518936,
                -0.05615368376609675,
                0.12636993961082532,
                0.05341540905480535,
                -0.09651272384542875,
                -0.049029835176298775,
                0.10289600702062329,
                0.02307539287845617,
                0.35912891308574757,
                -0.2649499284692417,
                0.06747113014142969,
                -0.049896681657955466
               ]
              ]
             },
             {
              "title": "<b>Marginal Percentage Change in Mrsi for Athlete WSD18</b>"
             }
            ],
            "label": "WSD18",
            "method": "update"
           },
           {
            "args": [
             {
              "x": [
               [
                null,
                null,
                null,
                null,
                null,
                null,
                null,
                null,
                null,
                null,
                null,
                null,
                null,
                null,
                null,
                null
               ]
              ],
              "y": [
               [
                0.6363461907503358,
                0.13427934795355934,
                -0.14443755169561634,
                -0.05522658610271891,
                0.11192120746994094,
                -0.10537213850224303,
                0.13449916420213448,
                -0.13510143941969854,
                0.031057528502162146,
                0.08401118454499246,
                -0.024387384218548358,
                0.03989905059488019,
                0.07754535999075474,
                -0.020163020163020184,
                -0.08180093403385869,
                0.03246443614400385
               ]
              ]
             },
             {
              "title": "<b>Marginal Percentage Change in Mrsi for Athlete WSD19</b>"
             }
            ],
            "label": "WSD19",
            "method": "update"
           },
           {
            "args": [
             {
              "x": [
               [
                null,
                null,
                null,
                null,
                null,
                null,
                null,
                null,
                null,
                null,
                null,
                null,
                null,
                null,
                null,
                null,
                null
               ]
              ],
              "y": [
               [
                -0.09513912943078184,
                -0.032410361107566676,
                0.0014506132137677152,
                0.031340531998946375,
                0.1744126659856997,
                -0.08567079799956512,
                -0.10249702734839483,
                0.2269475357710653,
                -0.09761364863405675,
                -0.02082086873279887,
                0.17438592203348402,
                -0.13132154006243502,
                -0.20723526593195984,
                0.3084013297068602,
                -0.07483543134311121,
                -0.09640910414846271,
                0.09219009025603264
               ]
              ]
             },
             {
              "title": "<b>Marginal Percentage Change in Mrsi for Athlete WSD2</b>"
             }
            ],
            "label": "WSD2",
            "method": "update"
           },
           {
            "args": [
             {
              "x": [
               [
                null,
                null,
                null,
                null,
                null,
                null,
                null,
                null,
                null,
                null,
                null,
                null,
                null,
                null,
                null,
                null
               ]
              ],
              "y": [
               [
                0.19655957500632426,
                -0.10697674418604652,
                0.009706439393939448,
                0.041266119577960225,
                -0.10830893942805664,
                0.12537878787878776,
                -0.02793672164254446,
                0.14254385964912264,
                -0.13173047782604308,
                0.07178592204770218,
                0.015089014329136008,
                0.03475564110790286,
                -0.028627532038032255,
                -0.09745717629535045,
                -0.12004400958780315,
                0.03299991069036334
               ]
              ]
             },
             {
              "title": "<b>Marginal Percentage Change in Mrsi for Athlete WSD20</b>"
             }
            ],
            "label": "WSD20",
            "method": "update"
           },
           {
            "args": [
             {
              "x": [
               [
                null,
                null,
                null,
                null,
                null,
                null,
                null,
                null,
                null,
                null,
                null,
                null,
                null,
                null,
                null,
                null,
                null,
                null,
                null,
                null,
                null,
                null
               ]
              ],
              "y": [
               [
                0.2058098819867722,
                0.06603570660357083,
                0.09876916868442276,
                -0.04251216600863095,
                -0.11507479861910241,
                -0.0021673168617252214,
                -0.015964378801042622,
                -0.04127579737335818,
                -0.018993898929434705,
                -0.045411875146679215,
                0.14984634296250765,
                -0.07002351935001072,
                0.20646051270260957,
                -0.009051929490233479,
                0.016346153846153788,
                0.02828760643330175,
                -0.0645873585426443,
                -0.10160322612373363,
                0.1130939347492883,
                0.046916494541162646,
                -0.266065388951522,
                0.13722478238607283
               ]
              ]
             },
             {
              "title": "<b>Marginal Percentage Change in Mrsi for Athlete WSD21</b>"
             }
            ],
            "label": "WSD21",
            "method": "update"
           },
           {
            "args": [
             {
              "x": [
               [
                null,
                null,
                null,
                null,
                null,
                null,
                null,
                null,
                null,
                null,
                null,
                null,
                null,
                null,
                null,
                null,
                null
               ]
              ],
              "y": [
               [
                -0.09095002251238193,
                -0.004705299653293582,
                -0.01679522269221212,
                -0.04454004808300649,
                -0.010594623228711408,
                -0.028376388702984867,
                0.0436699269871883,
                0.06995776135163667,
                -0.033185294843325885,
                0.017353579175704903,
                0.018938918851122644,
                -0.038527818808468894,
                -0.00025604916143895373,
                0.017671917018824423,
                -0.0259217314709953,
                -0.04017568789562076,
                0.0358008075370122
               ]
              ]
             },
             {
              "title": "<b>Marginal Percentage Change in Mrsi for Athlete WSD23</b>"
             }
            ],
            "label": "WSD23",
            "method": "update"
           },
           {
            "args": [
             {
              "x": [
               [
                null,
                null,
                null,
                null,
                null,
                null,
                null,
                null,
                null,
                null,
                null,
                null,
                null,
                null,
                null,
                null,
                null,
                null,
                null,
                null,
                null,
                null
               ]
              ],
              "y": [
               [
                0.4225571725571724,
                0.045396419437340185,
                -0.06526867627785082,
                -0.12404187698635238,
                -0.0839824991996585,
                0.09389561975768879,
                -0.051757188498402606,
                0.10085354896675658,
                -0.10895735564170583,
                0.020609113808106372,
                0.16019744222571242,
                -0.11429123960549226,
                0.12587336244541492,
                0.12004266459808033,
                0.01151415461864791,
                -0.06564532694282799,
                -0.03141888797288628,
                0.11376962360506915,
                -0.06784410291245657,
                -0.023046092184368816,
                -0.20174048174048165,
                -0.020246067590717898
               ]
              ]
             },
             {
              "title": "<b>Marginal Percentage Change in Mrsi for Athlete WSD24</b>"
             }
            ],
            "label": "WSD24",
            "method": "update"
           },
           {
            "args": [
             {
              "x": [
               [
                null,
                null,
                null,
                null,
                null,
                null,
                null,
                null,
                null,
                null,
                null,
                null,
                null,
                null,
                null,
                null,
                null
               ]
              ],
              "y": [
               [
                -0.31962327134000956,
                0.1570001752234098,
                -0.1532636680296836,
                0.1085673403684495,
                -0.04194901581155219,
                0.061131694173122364,
                0.005078558958895307,
                -0.07958313595452393,
                0.016297821238634436,
                -0.011647535449020974,
                0.08590947907771129,
                0.006920415224913601,
                -0.10637300843486397,
                0.0674707219017654,
                -0.007041100376616982,
                0.019569041336851223,
                -0.09472719430666376
               ]
              ]
             },
             {
              "title": "<b>Marginal Percentage Change in Mrsi for Athlete WSD25</b>"
             }
            ],
            "label": "WSD25",
            "method": "update"
           },
           {
            "args": [
             {
              "x": [
               [
                null,
                null,
                null,
                null,
                null,
                null,
                null,
                null,
                null,
                null,
                null,
                null,
                null,
                null,
                null,
                null,
                null,
                null,
                null,
                null,
                null,
                null,
                null
               ]
              ],
              "y": [
               [
                0.3911023762730035,
                -0.016439763678397057,
                -0.039305301645338186,
                0.038738616283811256,
                0.026432870976184297,
                -0.02804691483936772,
                -0.05325288562434416,
                -0.01898032696037688,
                0.17610506990538055,
                -0.11659462055715653,
                0.08323138960627063,
                -0.08612180023423133,
                -0.023067417273101687,
                0.21040056219255088,
                -0.009637714816535081,
                -0.024270137179036144,
                -0.0639269406392694,
                -0.06777920410783067,
                0.2375378683558249,
                -0.14164904862579275,
                -0.006352087114337768,
                0.13155033702978902,
                -0.08674096848578006
               ]
              ]
             },
             {
              "title": "<b>Marginal Percentage Change in Mrsi for Athlete WSD26</b>"
             }
            ],
            "label": "WSD26",
            "method": "update"
           },
           {
            "args": [
             {
              "x": [
               [
                null,
                null,
                null,
                null,
                null,
                null,
                null,
                null,
                null,
                null,
                null,
                null,
                null,
                null,
                null,
                null,
                null
               ]
              ],
              "y": [
               [
                0.11892437823507129,
                0.00011282861333627991,
                -0.007897111913357513,
                0.03013418239708887,
                -0.02759686499613634,
                0.023612214780338148,
                -0.028945325496284813,
                -0.008222932846048248,
                0.03362505757715328,
                -0.17168003565062384,
                0.27706792199058494,
                -0.1086887835703001,
                0.03792981212336044,
                0.030168488160291496,
                -0.02751685269090509,
                0.1443939393939393,
                -0.009896729776247781
               ]
              ]
             },
             {
              "title": "<b>Marginal Percentage Change in Mrsi for Athlete WSD27</b>"
             }
            ],
            "label": "WSD27",
            "method": "update"
           },
           {
            "args": [
             {
              "x": [
               [
                null,
                null,
                null,
                null,
                null,
                null,
                null,
                null,
                null,
                null,
                null,
                null,
                null,
                null
               ]
              ],
              "y": [
               [
                -0.3143115033597432,
                0.02252449904929077,
                -0.15248176226577026,
                0.053333333333333455,
                0.10575228328793429,
                -0.11128821909868136,
                0.14218164030653835,
                0.010563882940756608,
                0.07472806893629058,
                0.02247634069400628,
                -0.10913999228692628,
                0.019191919191918982,
                -0.10708386426919625,
                -0.0657505285412262
               ]
              ]
             },
             {
              "title": "<b>Marginal Percentage Change in Mrsi for Athlete WSD28</b>"
             }
            ],
            "label": "WSD28",
            "method": "update"
           },
           {
            "args": [
             {
              "x": [
               [
                null,
                null,
                null,
                null,
                null,
                null,
                null,
                null,
                null,
                null,
                null,
                null,
                null,
                null,
                null,
                null,
                null
               ]
              ],
              "y": [
               [
                0.29141208418194164,
                0.14456564594559085,
                -0.15202663910896785,
                0.15287745429925548,
                -0.03699788583509511,
                0.10147578973045479,
                -0.08747646993688407,
                -0.026938478340007288,
                0.09602194787379958,
                -0.0533621572420071,
                0.014062499999999867,
                0.000474102169017554,
                -0.0649212178651819,
                0.18788800202711253,
                0.15251706484641647,
                -0.24387685853538155,
                -0.06959856396866848
               ]
              ]
             },
             {
              "title": "<b>Marginal Percentage Change in Mrsi for Athlete WSD29</b>"
             }
            ],
            "label": "WSD29",
            "method": "update"
           },
           {
            "args": [
             {
              "x": [
               [
                null,
                null,
                null,
                null,
                null,
                null,
                null,
                null,
                null,
                null,
                null,
                null,
                null,
                null,
                null,
                null,
                null,
                null,
                null,
                null,
                null,
                null
               ]
              ],
              "y": [
               [
                0.33741120757695375,
                -0.059014458542342996,
                0.05132225358001463,
                -0.07098826804533709,
                0.061857876712328785,
                -0.16357589195726663,
                0.1835160862754548,
                0.12349826919161067,
                -0.14363389216130484,
                0.027936507936507926,
                0.11087090796788135,
                -0.12260216847372796,
                0.105090832277144,
                -0.006976966453216216,
                -0.09441770933589988,
                -0.030608991391221085,
                0.059971494353689314,
                -0.036925941249482785,
                0.12286542798840094,
                -0.14528933524629373,
                0.0023873470605788594,
                -0.04424679964275069
               ]
              ]
             },
             {
              "title": "<b>Marginal Percentage Change in Mrsi for Athlete WSD3</b>"
             }
            ],
            "label": "WSD3",
            "method": "update"
           },
           {
            "args": [
             {
              "x": [
               [
                null,
                null,
                null,
                null,
                null,
                null,
                null,
                null,
                null,
                null,
                null,
                null,
                null,
                null,
                null,
                null,
                null
               ]
              ],
              "y": [
               [
                0.10769769886695468,
                -0.2506590741326584,
                0.24725584013509705,
                -0.1557034864041521,
                -0.1420553254042496,
                0.12803738317757007,
                0.05813311239988961,
                -0.04006263865326887,
                0.0033985861881455914,
                0.09659937677821429,
                0.19149987645169264,
                -0.2499999999999999,
                0.25466611364578995,
                0.1958126721763085,
                -0.2259491338002212,
                -0.33825396825396814,
                0.027764451906931775
               ]
              ]
             },
             {
              "title": "<b>Marginal Percentage Change in Mrsi for Athlete WSD30</b>"
             }
            ],
            "label": "WSD30",
            "method": "update"
           },
           {
            "args": [
             {
              "x": [
               [
                null,
                null,
                null,
                null,
                null,
                null,
                null,
                null,
                null,
                null,
                null,
                null,
                null,
                null,
                null,
                null,
                null
               ]
              ],
              "y": [
               [
                0.6830036758270615,
                0.0630265210608425,
                -0.022796203893943767,
                -0.2838406087304767,
                -0.10065706696490995,
                0.11798538784392987,
                0.04101779755283652,
                -0.015359957259249324,
                0.1957406402604447,
                -0.21508791832104368,
                0.14033819916172852,
                -0.17198986058301635,
                0.23021582733812962,
                0.22906557173074527,
                0.06043733549301478,
                -0.26122513922036594,
                -0.027093383873190935
               ]
              ]
             },
             {
              "title": "<b>Marginal Percentage Change in Mrsi for Athlete WSD31</b>"
             }
            ],
            "label": "WSD31",
            "method": "update"
           },
           {
            "args": [
             {
              "x": [
               [
                null,
                null,
                null,
                null,
                null,
                null,
                null,
                null,
                null,
                null,
                null,
                null,
                null,
                null,
                null,
                null,
                null,
                null,
                null,
                null,
                null,
                null
               ]
              ],
              "y": [
               [
                -0.23801301633683092,
                0.041659403869618084,
                0.11010709504685434,
                -0.17169128730780814,
                0.03475887170154657,
                0.04660569820612026,
                -0.01377919677365147,
                0.0645765888567047,
                0.011203585147247175,
                -0.06077872744539414,
                0.1597573306370068,
                -0.13440860215053774,
                -0.05757931844888353,
                0.16904168151050936,
                0.00045710802986453913,
                -0.04964971063052093,
                0.059775641025640924,
                0.022077725691818983,
                -0.007249593135079002,
                -0.040983606557377206,
                -0.185910385910386,
                0.13177653346907614
               ]
              ]
             },
             {
              "title": "<b>Marginal Percentage Change in Mrsi for Athlete WSD32</b>"
             }
            ],
            "label": "WSD32",
            "method": "update"
           },
           {
            "args": [
             {
              "x": [
               [
                null,
                null,
                null,
                null,
                null,
                null,
                null,
                null,
                null,
                null,
                null,
                null,
                null,
                null,
                null,
                null,
                null,
                null,
                null,
                null,
                null,
                null,
                null
               ]
              ],
              "y": [
               [
                -0.14538708045201543,
                0.2796526544306295,
                -0.17550894509561998,
                -0.04620276842499049,
                0.015297117081780831,
                0.040370871160903876,
                0.0471593018937988,
                -0.059042553191489544,
                0.01865460712266831,
                0.031261561228264956,
                -0.005919282511210655,
                -0.05052327679538082,
                0.05644241733181321,
                0.1275409246267314,
                -0.0035098915124440744,
                -0.06612231828370152,
                -0.024515686610663612,
                -0.06537785588752176,
                0.13256863482512227,
                0.00298854391499237,
                0.018043370302929906,
                -0.06894308943089433,
                0.05710792874607051
               ]
              ]
             },
             {
              "title": "<b>Marginal Percentage Change in Mrsi for Athlete WSD33</b>"
             }
            ],
            "label": "WSD33",
            "method": "update"
           },
           {
            "args": [
             {
              "x": [
               [
                null,
                null,
                null,
                null,
                null,
                null,
                null,
                null,
                null,
                null,
                null,
                null,
                null,
                null,
                null,
                null,
                null,
                null,
                null,
                null,
                null,
                null,
                null
               ]
              ],
              "y": [
               [
                0.37617710226334045,
                -0.002160864345738367,
                -0.026347449470644713,
                -0.054367972321759606,
                0.030706912321965207,
                -0.043737322515213006,
                0.16637942463210909,
                -0.15526255967265268,
                0.07938643702906334,
                -0.0036150585888805598,
                -0.06405604904291262,
                0.10867531078732795,
                -0.09934892693513386,
                0.19718875502008038,
                0.0013418316001341246,
                -0.09771077610273582,
                0.059777227722772386,
                0.01950251080228882,
                -0.1144329896907218,
                0.02323977062044591,
                0.028484746334063837,
                -0.08693870862012454,
                0.016467737593107712
               ]
              ]
             },
             {
              "title": "<b>Marginal Percentage Change in Mrsi for Athlete WSD34</b>"
             }
            ],
            "label": "WSD34",
            "method": "update"
           },
           {
            "args": [
             {
              "x": [
               [
                null,
                null,
                null,
                null,
                null,
                null,
                null,
                null,
                null,
                null,
                null,
                null,
                null,
                null,
                null,
                null,
                null
               ]
              ],
              "y": [
               [
                -0.11031651436895784,
                0.12563262875855918,
                -0.1383231949219783,
                0.026243093922652116,
                -0.07776282338866458,
                -0.12193935462947958,
                0.2481994459833794,
                0.03624796567539579,
                -0.1080810965162764,
                0.101328637746118,
                0.012063953488372192,
                0.04222317966393785,
                -0.13021909880115756,
                0.1112167300380229,
                0.03478756772169933,
                -0.07981996877009268,
                -0.1257236973447795
               ]
              ]
             },
             {
              "title": "<b>Marginal Percentage Change in Mrsi for Athlete WSD35</b>"
             }
            ],
            "label": "WSD35",
            "method": "update"
           },
           {
            "args": [
             {
              "x": [
               [
                null,
                null,
                null,
                null,
                null,
                null,
                null,
                null,
                null,
                null,
                null,
                null,
                null,
                null,
                null,
                null,
                null,
                null,
                null,
                null,
                null,
                null,
                null
               ]
              ],
              "y": [
               [
                0.5052234971741738,
                0.005233814996017605,
                0.035200905489530365,
                -0.05652744369123108,
                -0.0645497740178469,
                0.1154608523290388,
                -0.12261217236783661,
                -0.032025316455696284,
                0.22074015953968895,
                -0.11237279057311189,
                0.12080617909727254,
                -0.061914504145579974,
                0.04832415059687789,
                0.08978429869703275,
                -0.020496332763990877,
                -0.05621089342496677,
                0.031192261710683677,
                -0.05480607082630684,
                0.14239518287243524,
                -0.03709126403123475,
                0.06011150532184506,
                -0.2433224963345446,
                -0.005096882898062316
               ]
              ]
             },
             {
              "title": "<b>Marginal Percentage Change in Mrsi for Athlete WSD36</b>"
             }
            ],
            "label": "WSD36",
            "method": "update"
           },
           {
            "args": [
             {
              "x": [
               [
                null,
                null,
                null,
                null,
                null,
                null,
                null,
                null,
                null,
                null,
                null,
                null,
                null,
                null,
                null,
                null
               ]
              ],
              "y": [
               [
                -0.07392353613616143,
                0.22575778356878318,
                -0.10495692066689033,
                -0.0817602200275035,
                -0.03172226004084411,
                -0.014904386951631099,
                -0.006708535540964955,
                0.11237246730852135,
                -0.13770830642035914,
                0.005543071161048685,
                0.021454112038140627,
                -0.029171528588098017,
                0.2850060096153846,
                -0.04244124868467203,
                -0.17785917785917782,
                -0.035693069306930725
               ]
              ]
             },
             {
              "title": "<b>Marginal Percentage Change in Mrsi for Athlete WSD37</b>"
             }
            ],
            "label": "WSD37",
            "method": "update"
           },
           {
            "args": [
             {
              "x": [
               [
                null,
                null,
                null,
                null,
                null,
                null,
                null,
                null,
                null,
                null,
                null,
                null,
                null,
                null,
                null,
                null,
                null,
                null,
                null,
                null,
                null,
                null,
                null
               ]
              ],
              "y": [
               [
                0.2605883258894195,
                0.1116676847892486,
                -0.028025057698648048,
                -0.046472184531886174,
                -0.12356219613423436,
                0.16898931132458372,
                0.04224537037037024,
                -0.08184342032204328,
                0.028059990324141193,
                -0.03599999999999992,
                0.09763241396143507,
                -0.014787636201912369,
                0.07595079562126172,
                0.04583595552758535,
                -0.06348410390131387,
                -0.014778325123152802,
                0.10250000000000004,
                -0.09809720989845205,
                0.10778312199387852,
                -0.07272547858693512,
                -0.026391401511120516,
                -0.09600320617918179,
                -0.019305174915363543
               ]
              ]
             },
             {
              "title": "<b>Marginal Percentage Change in Mrsi for Athlete WSD38</b>"
             }
            ],
            "label": "WSD38",
            "method": "update"
           },
           {
            "args": [
             {
              "x": [
               [
                null,
                null,
                null,
                null,
                null,
                null,
                null,
                null,
                null,
                null,
                null,
                null,
                null,
                null,
                null,
                null,
                null,
                null,
                null,
                null,
                null,
                null,
                null
               ]
              ],
              "y": [
               [
                -0.37282702502774,
                0.009632396304305013,
                -0.15459501557632405,
                -0.04168585905112854,
                0.009613073780341264,
                0.03737205427279222,
                0.10348783845800824,
                -0.0659180702848825,
                -0.15828138913624223,
                0.0565987833906374,
                0.2523153942428036,
                0.006396162302618524,
                -0.028798411122145096,
                0.047443762781186116,
                -0.007028504490433463,
                0.06075501376327197,
                -0.10194624652455986,
                0.0012383900928791824,
                0.09626881055452507,
                -0.07596840917638215,
                -0.19536019536019544,
                -0.025796661608497695,
                -0.019989615784008263
               ]
              ]
             },
             {
              "title": "<b>Marginal Percentage Change in Mrsi for Athlete WSD39</b>"
             }
            ],
            "label": "WSD39",
            "method": "update"
           },
           {
            "args": [
             {
              "x": [
               [
                null,
                null,
                null,
                null,
                null,
                null,
                null,
                null,
                null,
                null,
                null,
                null,
                null,
                null,
                null,
                null,
                null
               ]
              ],
              "y": [
               [
                1.0508609271523177,
                -0.1909067424438129,
                0.15134099616858232,
                -0.20479755962285107,
                0.1621621621621625,
                0.14388597149287308,
                -0.2057974816369359,
                0.22064409578860444,
                -0.03761331348937891,
                -0.02896105721917619,
                0.11669320978717268,
                -0.02294826915597048,
                -0.18458067940552014,
                0.15557363710333583,
                -0.06520208421349105,
                -0.12815104951290546,
                0.29938947125907167
               ]
              ]
             },
             {
              "title": "<b>Marginal Percentage Change in Mrsi for Athlete WSD4</b>"
             }
            ],
            "label": "WSD4",
            "method": "update"
           },
           {
            "args": [
             {
              "x": [
               [
                null,
                null,
                null,
                null,
                null,
                null,
                null,
                null,
                null,
                null,
                null,
                null,
                null,
                null,
                null,
                null,
                null
               ]
              ],
              "y": [
               [
                -0.25571808510638305,
                0.005538681436483728,
                0.2755863539445629,
                -0.2483632817941216,
                0.020014825796886404,
                0.04487645348837188,
                0.05059989567031842,
                0.06934789804700414,
                -0.04411081875870626,
                -0.06913860103626934,
                0.04313793703252733,
                -0.017008504252125856,
                -0.051908396946565016,
                0.07729468599033851,
                0.08769307424015937,
                -0.1408357510052426,
                0.08518957345971567
               ]
              ]
             },
             {
              "title": "<b>Marginal Percentage Change in Mrsi for Athlete WSD40</b>"
             }
            ],
            "label": "WSD40",
            "method": "update"
           },
           {
            "args": [
             {
              "x": [
               [
                null,
                null,
                null,
                null,
                null,
                null,
                null,
                null,
                null,
                null,
                null,
                null,
                null,
                null,
                null,
                null,
                null,
                null,
                null,
                null,
                null,
                null
               ]
              ],
              "y": [
               [
                0.23206681952178165,
                -0.0877309583942576,
                0.1149643013259507,
                0.03175640355462628,
                -0.11108296390120331,
                -0.0796523225990311,
                0.12447747329307957,
                0.051218504750103255,
                0.015062213490504295,
                -0.051483870967741985,
                0.06012787375867257,
                -0.053637880148851624,
                -0.01911864406779662,
                0.1606303566491567,
                0.02084325869461634,
                -0.08458756271146894,
                0.09699209788427221,
                0.004995933542465414,
                -0.041965317919075096,
                -0.013394473271388763,
                -0.15859425962165696,
                -0.0035371644539200497
               ]
              ]
             },
             {
              "title": "<b>Marginal Percentage Change in Mrsi for Athlete WSD41</b>"
             }
            ],
            "label": "WSD41",
            "method": "update"
           },
           {
            "args": [
             {
              "x": [
               [
                null,
                null,
                null,
                null,
                null
               ]
              ],
              "y": [
               [
                -0.34325309992706055,
                -0.18725011106175027,
                0.04919376878928672,
                0.30059911435269604,
                -0.2397356298818346
               ]
              ]
             },
             {
              "title": "<b>Marginal Percentage Change in Mrsi for Athlete WSD42</b>"
             }
            ],
            "label": "WSD42",
            "method": "update"
           },
           {
            "args": [
             {
              "x": [
               [
                null,
                null,
                null,
                null,
                null,
                null,
                null,
                null,
                null,
                null,
                null,
                null,
                null,
                null,
                null,
                null,
                null
               ]
              ],
              "y": [
               [
                1.1965226554267652,
                0.09882465819141273,
                -0.024230517354289383,
                -0.1467561521252797,
                0.03382275825904579,
                0.0337306619325386,
                -0.0008586849852796341,
                0.0847145488029466,
                -0.09054895302773058,
                0.08462974486621033,
                0.011244979919678766,
                -0.09247702258027901,
                -0.021630407601900603,
                0.2338658146964856,
                -0.08669083376488873,
                -0.2535722386028577,
                0.16666666666666674
               ]
              ]
             },
             {
              "title": "<b>Marginal Percentage Change in Mrsi for Athlete WSD5</b>"
             }
            ],
            "label": "WSD5",
            "method": "update"
           },
           {
            "args": [
             {
              "x": [
               [
                null,
                null,
                null,
                null,
                null,
                null,
                null,
                null,
                null,
                null,
                null,
                null,
                null,
                null,
                null,
                null,
                null
               ]
              ],
              "y": [
               [
                -0.0606849850240917,
                -0.05393040343823663,
                0.04440211019929663,
                -0.17510874140592103,
                0.22707943527810848,
                -0.006376490158026105,
                -0.0954241071428572,
                0.061381863047501595,
                0.013222900319674435,
                -0.07027104546106422,
                0.16412154866574102,
                -0.14469325559825097,
                -0.004337722695584634,
                0.27975727400031114,
                0.015319148936170146,
                -0.2267592703468645,
                0.04392938261408208
               ]
              ]
             },
             {
              "title": "<b>Marginal Percentage Change in Mrsi for Athlete WSD6</b>"
             }
            ],
            "label": "WSD6",
            "method": "update"
           },
           {
            "args": [
             {
              "x": [
               [
                null,
                null,
                null,
                null,
                null,
                null,
                null,
                null,
                null,
                null,
                null,
                null,
                null,
                null,
                null
               ]
              ],
              "y": [
               [
                -0.012609405132769536,
                0.010366586538461675,
                -0.006096654275092872,
                0.07061639736684633,
                -0.1299608719955282,
                -0.06681657565049803,
                0.14406196213425138,
                0.0018053257108472387,
                -0.007959153025979826,
                -0.10944595821980019,
                0.10232874383817792,
                -0.09221279876638411,
                0.35332087650755906,
                -0.2560980712104096,
                0.04898762654668154
               ]
              ]
             },
             {
              "title": "<b>Marginal Percentage Change in Mrsi for Athlete WSD7</b>"
             }
            ],
            "label": "WSD7",
            "method": "update"
           },
           {
            "args": [
             {
              "x": [
               [
                null,
                null,
                null,
                null,
                null,
                null,
                null,
                null,
                null,
                null,
                null,
                null,
                null,
                null,
                null,
                null,
                null,
                null,
                null,
                null,
                null,
                null,
                null
               ]
              ],
              "y": [
               [
                0.24642110342608992,
                -0.11627306749257982,
                0.0490654205607477,
                -0.04329064587973275,
                0.16921286192346874,
                -0.061597809855649666,
                -0.12558016178225695,
                0.24325144070366989,
                -0.055989265674554645,
                -0.018477839514149053,
                -0.03343865192206441,
                0.05720512122037591,
                -0.07729966503478491,
                0.2196313878804803,
                -0.06262163709215796,
                -0.042867611138250994,
                -0.027816766619880084,
                0.08977556109725682,
                -0.015777429844634594,
                -0.036343612334801545,
                0.008761904761904749,
                0.03398791540785506,
                -0.04577550523496465
               ]
              ]
             },
             {
              "title": "<b>Marginal Percentage Change in Mrsi for Athlete WSD8</b>"
             }
            ],
            "label": "WSD8",
            "method": "update"
           },
           {
            "args": [
             {
              "x": [
               [
                null,
                null,
                null,
                null,
                null,
                null,
                null,
                null,
                null,
                null,
                null,
                null,
                null,
                null,
                null,
                null,
                null
               ]
              ],
              "y": [
               [
                -0.1842306710895638,
                -0.12730685017203613,
                0.1313620071684587,
                -0.035007128148265454,
                -0.02609980302035464,
                0.23461992246755448,
                -0.21706484641638235,
                0.05998256320836992,
                0.10560947524263842,
                -0.10653176610623405,
                0.050291423813488834,
                -0.05343269383225002,
                0.0041876046901172526,
                0.11776480400333611,
                -0.18146545291747507,
                0.3199635369188698,
                -0.2232044198895028
               ]
              ]
             },
             {
              "title": "<b>Marginal Percentage Change in Mrsi for Athlete WSD9</b>"
             }
            ],
            "label": "WSD9",
            "method": "update"
           },
           {
            "args": [
             {
              "x": [
               [
                null,
                null,
                null,
                null,
                null,
                null,
                null
               ]
              ],
              "y": [
               [
                0.5048601232811758,
                -0.06388341866876701,
                0.1531470885223829,
                0.048671920607122,
                -0.16157539489249184,
                0.12200182587766628,
                -0.1406908795029218
               ]
              ]
             },
             {
              "title": "<b>Marginal Percentage Change in Mrsi for Athlete WSQ1</b>"
             }
            ],
            "label": "WSQ1",
            "method": "update"
           },
           {
            "args": [
             {
              "x": [
               [
                null,
                null,
                null,
                null,
                null
               ]
              ],
              "y": [
               [
                -0.4020831539984506,
                0.1635473653901527,
                -0.16344964117792626,
                -0.20026623280579803,
                0.498058072868504
               ]
              ]
             },
             {
              "title": "<b>Marginal Percentage Change in Mrsi for Athlete WSQ2</b>"
             }
            ],
            "label": "WSQ2",
            "method": "update"
           },
           {
            "args": [
             {
              "x": [
               [
                null,
                null,
                null,
                null
               ]
              ],
              "y": [
               [
                0.4285185185185183,
                -0.3194192377495463,
                0.24711111111111106,
                0.008247632623969103
               ]
              ]
             },
             {
              "title": "<b>Marginal Percentage Change in Mrsi for Athlete WSQ3</b>"
             }
            ],
            "label": "WSQ3",
            "method": "update"
           },
           {
            "args": [
             {
              "x": [
               [
                null,
                null,
                null,
                null,
                null,
                null,
                null,
                null
               ]
              ],
              "y": [
               [
                0.18885073722480317,
                0.10185185185185164,
                0.10924369747899187,
                -0.45155685293299974,
                0.2822202509187681,
                -0.12759438624234032,
                0.18941882859408632,
                0.11248690351462032
               ]
              ]
             },
             {
              "title": "<b>Marginal Percentage Change in Mrsi for Athlete WSQ4</b>"
             }
            ],
            "label": "WSQ4",
            "method": "update"
           },
           {
            "args": [
             {
              "x": [
               [
                null,
                null,
                null,
                null,
                null,
                null,
                null,
                null
               ]
              ],
              "y": [
               [
                -0.2910102739726028,
                0.215432918729622,
                -0.03606557377049169,
                0.08276643990929711,
                -0.03750594954783448,
                -0.001285728414597842,
                -0.013666072489601833,
                -0.06797188755020078
               ]
              ]
             },
             {
              "title": "<b>Marginal Percentage Change in Mrsi for Athlete WSQ5</b>"
             }
            ],
            "label": "WSQ5",
            "method": "update"
           },
           {
            "args": [
             {
              "x": [
               [
                null,
                null,
                null,
                null,
                null,
                null,
                null,
                null
               ]
              ],
              "y": [
               [
                0.2080146504362812,
                -0.09202782236490104,
                -0.005745433117265608,
                0.3126882995011606,
                0.0039882609677177605,
                0.06970469195023221,
                -0.07048766816143504,
                -0.1896577717473239
               ]
              ]
             },
             {
              "title": "<b>Marginal Percentage Change in Mrsi for Athlete WSQ6</b>"
             }
            ],
            "label": "WSQ6",
            "method": "update"
           },
           {
            "args": [
             {
              "x": [
               [
                null,
                null,
                null,
                null,
                null,
                null
               ]
              ],
              "y": [
               [
                0.2331162790697674,
                -0.0005280627640312785,
                -0.11563136840516264,
                -0.11257147734061612,
                0.1928255433737256,
                -0.01967265984036115
               ]
              ]
             },
             {
              "title": "<b>Marginal Percentage Change in Mrsi for Athlete WSQ7</b>"
             }
            ],
            "label": "WSQ7",
            "method": "update"
           },
           {
            "args": [
             {
              "x": [
               [
                null,
                null,
                null,
                null,
                null,
                null,
                null
               ]
              ],
              "y": [
               [
                -0.19384817830413692,
                -0.032850438685982364,
                0.38655063291139236,
                -0.4642626193464947,
                0.2242260721385969,
                -0.02737501449947788,
                0.39284436493738806
               ]
              ]
             },
             {
              "title": "<b>Marginal Percentage Change in Mrsi for Athlete WSQ8</b>"
             }
            ],
            "label": "WSQ8",
            "method": "update"
           },
           {
            "args": [
             {
              "x": [
               [
                "2024-02-06T00:00:00",
                "2024-02-13T00:00:00",
                "2024-02-27T00:00:00",
                "2024-03-05T00:00:00",
                "2024-03-19T00:00:00",
                "2024-03-26T00:00:00",
                "2024-04-09T00:00:00",
                "2024-04-16T00:00:00",
                "2023-09-26T00:00:00",
                "2023-12-08T00:00:00"
               ]
              ],
              "y": [
               [
                -0.21662813597054542,
                -0.07115531752104054,
                0.14638738526712158,
                -0.026072675015397118,
                -0.020025295109612262,
                -0.02366100236610036,
                0.06807666886979535,
                -0.10808580858085814,
                0.16003700277520827,
                -0.14383971291866038
               ]
              ]
             },
             {
              "title": "<b>Marginal Percentage Change in Mrsi for Athlete WTE1</b>"
             }
            ],
            "label": "WTE1",
            "method": "update"
           },
           {
            "args": [
             {
              "x": [
               [
                "2024-02-06T00:00:00",
                "2024-02-13T00:00:00",
                "2024-02-20T00:00:00"
               ]
              ],
              "y": [
               [
                0.26417510769589025,
                -0.22987658869036665,
                0.1687395359961732
               ]
              ]
             },
             {
              "title": "<b>Marginal Percentage Change in Mrsi for Athlete WTE10</b>"
             }
            ],
            "label": "WTE10",
            "method": "update"
           },
           {
            "args": [
             {
              "x": [
               [
                "2024-02-06T00:00:00",
                "2024-02-13T00:00:00",
                "2024-02-20T00:00:00",
                "2024-04-09T00:00:00",
                "2024-04-16T00:00:00",
                "2023-09-26T00:00:00",
                "2023-12-08T00:00:00"
               ]
              ],
              "y": [
               [
                -0.12350353013404292,
                -0.21328508055101547,
                0.013503487164267636,
                -0.3188872620790629,
                0.47291487532244214,
                -0.16374781085814372,
                -0.017801047120418967
               ]
              ]
             },
             {
              "title": "<b>Marginal Percentage Change in Mrsi for Athlete WTE2</b>"
             }
            ],
            "label": "WTE2",
            "method": "update"
           },
           {
            "args": [
             {
              "x": [
               [
                "2024-02-06T00:00:00",
                "2024-02-13T00:00:00",
                "2024-02-20T00:00:00",
                "2024-03-05T00:00:00",
                "2024-03-19T00:00:00",
                "2024-03-26T00:00:00",
                "2024-04-09T00:00:00",
                "2024-04-16T00:00:00",
                "2023-09-26T00:00:00",
                "2023-12-08T00:00:00"
               ]
              ],
              "y": [
               [
                1.0497512437810945,
                0.09622052704576967,
                -0.0631820338446939,
                0.017894825694268368,
                -0.0210631063935649,
                0.00415078356628551,
                0.04496372532478499,
                -0.020101719544683982,
                -0.07703081232493003,
                0.03704364902258317
               ]
              ]
             },
             {
              "title": "<b>Marginal Percentage Change in Mrsi for Athlete WTE3</b>"
             }
            ],
            "label": "WTE3",
            "method": "update"
           },
           {
            "args": [
             {
              "x": [
               [
                "2024-02-06T00:00:00",
                "2024-02-13T00:00:00",
                "2024-02-20T00:00:00",
                "2024-03-05T00:00:00",
                "2024-03-19T00:00:00",
                "2024-03-26T00:00:00",
                "2024-04-09T00:00:00",
                "2024-04-16T00:00:00",
                "2023-09-26T00:00:00",
                "2023-12-08T00:00:00"
               ]
              ],
              "y": [
               [
                -0.10105009468066783,
                -0.03494829567215629,
                -0.09782716539339231,
                0.0325525129220281,
                -0.05123016295665139,
                0.06948810058374488,
                0.048283824918652574,
                -0.10763993191148502,
                0.12264362657091565,
                0.026986506746626837
               ]
              ]
             },
             {
              "title": "<b>Marginal Percentage Change in Mrsi for Athlete WTE4</b>"
             }
            ],
            "label": "WTE4",
            "method": "update"
           },
           {
            "args": [
             {
              "x": [
               [
                "2024-02-06T00:00:00",
                "2024-02-13T00:00:00",
                "2023-09-26T00:00:00",
                "2023-12-08T00:00:00"
               ]
              ],
              "y": [
               [
                -0.03659367396593671,
                -0.11960804121628454,
                0.08204245553643164,
                -0.12301166489925774
               ]
              ]
             },
             {
              "title": "<b>Marginal Percentage Change in Mrsi for Athlete WTE5</b>"
             }
            ],
            "label": "WTE5",
            "method": "update"
           },
           {
            "args": [
             {
              "x": [
               [
                "2024-02-06T00:00:00",
                "2024-02-13T00:00:00",
                "2024-02-20T00:00:00",
                "2024-02-27T00:00:00",
                "2024-03-05T00:00:00",
                "2024-03-19T00:00:00",
                "2024-03-26T00:00:00",
                "2024-04-09T00:00:00",
                "2024-04-16T00:00:00",
                "2023-09-26T00:00:00",
                "2023-12-08T00:00:00"
               ]
              ],
              "y": [
               [
                0.061910519951632326,
                -0.08517421999544517,
                0.061115260144386285,
                -0.06287390029325524,
                -0.05895606458880953,
                0.06557595105081138,
                0.04768443390338284,
                0.06672226855713093,
                0.07740422204847541,
                -0.2634252539912917,
                0.040253342716397134
               ]
              ]
             },
             {
              "title": "<b>Marginal Percentage Change in Mrsi for Athlete WTE6</b>"
             }
            ],
            "label": "WTE6",
            "method": "update"
           },
           {
            "args": [
             {
              "x": [
               [
                "2024-02-06T00:00:00",
                "2024-02-13T00:00:00",
                "2024-02-20T00:00:00",
                "2024-02-27T00:00:00",
                "2024-03-05T00:00:00",
                "2024-03-19T00:00:00",
                "2024-03-26T00:00:00",
                "2024-04-16T00:00:00",
                "2023-09-26T00:00:00",
                "2023-12-08T00:00:00"
               ]
              ],
              "y": [
               [
                0.6898931132458392,
                -0.004963971176941695,
                -0.03588670743482458,
                0.022366883658821557,
                -0.02432653061224499,
                0.06392235609103092,
                -0.03460207612456745,
                -0.1246334310850441,
                0.130094919039643,
                0.13216403162055324
               ]
              ]
             },
             {
              "title": "<b>Marginal Percentage Change in Mrsi for Athlete WTE7</b>"
             }
            ],
            "label": "WTE7",
            "method": "update"
           },
           {
            "args": [
             {
              "x": [
               [
                "2024-02-06T00:00:00",
                "2024-02-13T00:00:00",
                "2024-02-20T00:00:00",
                "2024-03-05T00:00:00",
                "2024-03-19T00:00:00",
                "2024-03-26T00:00:00",
                "2024-04-09T00:00:00",
                "2024-04-16T00:00:00",
                "2023-09-26T00:00:00",
                "2023-12-08T00:00:00"
               ]
              ],
              "y": [
               [
                -0.34707978762091796,
                -0.08365823771861414,
                -0.038171650863117024,
                0.1256319514661275,
                -0.06883000224567692,
                0.028578319064270996,
                0.06377491207502928,
                -0.03791051355521269,
                -0.0038946162657502725,
                0.018859245630174826
               ]
              ]
             },
             {
              "title": "<b>Marginal Percentage Change in Mrsi for Athlete WTE8</b>"
             }
            ],
            "label": "WTE8",
            "method": "update"
           },
           {
            "args": [
             {
              "x": [
               [
                "2024-02-06T00:00:00",
                "2024-02-13T00:00:00",
                "2024-02-20T00:00:00",
                "2024-03-05T00:00:00",
                "2024-03-19T00:00:00",
                "2024-04-09T00:00:00",
                "2023-12-08T00:00:00"
               ]
              ],
              "y": [
               [
                -0.42257336343115126,
                0.17435496481626278,
                -0.06907456724367511,
                0.08975505095655256,
                0.012141099261690158,
                0.06613713729940018,
                0.12558917439562123
               ]
              ]
             },
             {
              "title": "<b>Marginal Percentage Change in Mrsi for Athlete WTE9</b>"
             }
            ],
            "label": "WTE9",
            "method": "update"
           }
          ],
          "direction": "down",
          "pad": {
           "t": 50
          },
          "showactive": true,
          "x": 0.442,
          "xanchor": "left",
          "y": 1.15,
          "yanchor": "top"
         },
         {
          "buttons": [
           {
            "args": [
             {
              "y": [
               [
                null,
                -0.12250114701448522,
                0.0625933671945027,
                0.15380289610572184,
                -0.06250761545022543,
                0.08175201455679759,
                -0.11780607953862787,
                0.08573374191351713,
                0.0005435691587221125,
                0.06464958836558155,
                -0.1264130946773434,
                0.049740513580912804,
                -0.0060995184590690865,
                0.0014211886304908994,
                0.03883369887756416,
                -0.36003477396920025,
                0.2418008926838735,
                -0.09954680418815431,
                0.12964248524817767,
                0.09371639268704857,
                0.03729456384323648,
                0.11422574311056932,
                -0.1490034030140983,
                0.040131391031134056,
                0.0208705203899493,
                -0.14586415601882996,
                0.23596567199433127,
                -0.1725060517263346,
                -0.06766743648960727,
                0.1457352819750639,
                -0.11566733929086181
               ]
              ]
             },
             {
              "title": "<b>Marginal Percentage Change in Mrsi for Athlete BASEB1</b>"
             }
            ],
            "label": "Mrsi",
            "method": "update"
           },
           {
            "args": [
             {
              "y": [
               [
                null,
                -0.07916856714667353,
                -0.004670251910557588,
                0.11062135646239146,
                -0.0008321597746767662,
                -0.042507527708373405,
                0.02706500284366542,
                0.04058631921824096,
                -0.0686366576931905,
                0.04183284786018371,
                -0.0745854571262663,
                0.05040786446350154,
                -0.018983140846940194,
                0.061299052774018925,
                -0.0023587912788474164,
                -0.18819093871812898,
                0.10209382871536521,
                -0.055031783444039584,
                0.010266681783253295,
                0.12454175914611354,
                -0.0265118754573882,
                -0.008781821288228242,
                -0.025165471594043032,
                0.09915835631940029,
                -0.07271089376487994,
                -0.11529387273610436,
                0.16859484685673953,
                -0.11933686824619094,
                -0.012499047328709656,
                0.15373929150266252,
                -0.03277811224831084
               ]
              ]
             },
             {
              "title": "<b>Marginal Percentage Change in Peak Braking Velocity for Athlete BASEB1</b>"
             }
            ],
            "label": "Peak Braking Velocity",
            "method": "update"
           },
           {
            "args": [
             {
              "y": [
               [
                null,
                -0.05888673973780356,
                0.007535967115779751,
                0.07139619220308258,
                -0.02475142796699814,
                0.06030368763557492,
                -0.05687397708674302,
                0.03282718727404177,
                -0.0560067208064966,
                0.05102343518243835,
                -0.058213378492802725,
                0.006068779501011479,
                0.029490616621983934,
                -0.02126736111111116,
                0.027050997782705144,
                -0.06433506044905013,
                0.03368712505768334,
                -0.057589285714285676,
                0.023211747986736198,
                -0.03657407407407409,
                0.024267179240749615,
                0.023223082336382816,
                -0.040119211370930774,
                0.05946978743730602,
                -0.04779080252479706,
                0.019412878787878896,
                0.0009289363678588458,
                0.010440835266821269,
                -0.01974741676234215,
                -0.017100023424689637,
                0.03813155386081979
               ]
              ]
             },
             {
              "title": "<b>Marginal Percentage Change in Peak Propulsive Force for Athlete BASEB1</b>"
             }
            ],
            "label": "Peak Propulsive Force",
            "method": "update"
           },
           {
            "args": [
             {
              "y": [
               [
                null,
                -0.17660288980924155,
                -0.04930845554484409,
                0.288994721757899,
                -0.023462228388702266,
                -0.03254330952134987,
                0.010132288362842745,
                0.07768235356825448,
                -0.15478572657031475,
                0.14472473504630323,
                -0.1547399424145357,
                0.08105005205045135,
                -0.021527533753209482,
                0.10466242376499446,
                0.005728931102065404,
                -0.33128007890761424,
                0.15107654240061863,
                -0.07278147240041755,
                0.024518812267334322,
                0.2076536407363927,
                -0.05905065259369402,
                0.027939425414884367,
                -0.08176508022090179,
                0.21777150937710243,
                -0.13203785603716467,
                -0.23492805212161882,
                0.3536570355288675,
                -0.17920548255814228,
                -0.026425282808874573,
                0.26222246521941894,
                -0.02370216551310289
               ]
              ]
             },
             {
              "title": "<b>Marginal Percentage Change in Avg Braking Power for Athlete BASEB1</b>"
             }
            ],
            "label": "Avg Braking Power",
            "method": "update"
           },
           {
            "args": [
             {
              "y": [
               [
                null,
                -0.11198600174978124,
                -0.06748768472906408,
                0.23454833597464342,
                -0.02695763799743256,
                0.033421284080914715,
                -0.06553191489361698,
                0.06648451730418947,
                -0.07699971534301175,
                0.06584425597532784,
                -0.07660590277777779,
                0.030082256169212673,
                0.024868811316449912,
                -0.005788067675868258,
                0.026421854008060963,
                -0.19458987783595116,
                0.013542795232936111,
                0.02993051843933725,
                -0.016433143054834898,
                0.021456208230742124,
                0.009297520661156966,
                0.07625383828045029,
                -0.041131716595339984,
                0.06818745350855449,
                -0.07613741875580315,
                -0.1309045226130653,
                0.11592945938132404,
                -0.05803108808290158,
                -0.018151815181518205,
                0.08347338935574222,
                0.024301964839710477
               ]
              ]
             },
             {
              "title": "<b>Marginal Percentage Change in Peak Braking Force for Athlete BASEB1</b>"
             }
            ],
            "label": "Peak Braking Force",
            "method": "update"
           }
          ],
          "direction": "down",
          "pad": {
           "t": 100
          },
          "showactive": true,
          "x": 0.1,
          "xanchor": "left",
          "y": 1.225,
          "yanchor": "top"
         }
        ],
        "width": 1600,
        "xaxis": {
         "tickangle": 45,
         "title": {
          "text": "Date"
         }
        },
        "yaxis": {
         "title": {
          "text": "Marginal Percentage Change in Mrsi"
         }
        }
       }
      }
     },
     "metadata": {},
     "output_type": "display_data"
    }
   ],
   "source": [
    "# Function to create the plot for a specific athlete and selected metric\n",
    "def create_plot(athlete_code, metric='mRSI_marginal_change', filename=\"athlete_plot.html\"):\n",
    "    # Filter data for the selected athlete\n",
    "    marginal_data_single = marginal_data[marginal_data['athlete_code'] == athlete_code]\n",
    "\n",
    "    # Create Plotly figure\n",
    "    fig = go.Figure()\n",
    "\n",
    "    # Add line plot (black line)\n",
    "    fig.add_trace(go.Scatter(\n",
    "        x=marginal_data_single['Date'],\n",
    "        y=marginal_data_single[metric],\n",
    "        mode='lines',\n",
    "        line=dict(color='black'),\n",
    "        name='Line'\n",
    "    ))\n",
    "\n",
    "    # Add scatter plot (red points)\n",
    "    fig.add_trace(go.Scatter(\n",
    "        x=marginal_data_single['Date'],\n",
    "        y=marginal_data_single[metric],\n",
    "        mode='markers',\n",
    "        marker=dict(color='red', size=8),\n",
    "        name='Points'\n",
    "    ))\n",
    "\n",
    "    # Add logo image (optional)\n",
    "    with open(\"logo/horizontal_logo.png\", \"rb\") as img:\n",
    "        encoded_image = base64.b64encode(img.read()).decode()\n",
    "\n",
    "    fig.add_layout_image(\n",
    "        dict(\n",
    "            source=f\"data:image/png;base64,{encoded_image}\",\n",
    "            xref=\"paper\", yref=\"paper\",\n",
    "            x=0.99, y=1.05,\n",
    "            sizex=0.15, sizey=0.15,\n",
    "            xanchor=\"right\", yanchor=\"bottom\"\n",
    "        )\n",
    "    )\n",
    "\n",
    "    # Add title and labels\n",
    "    fig.update_layout(\n",
    "        font_family=\"Helvetica\",\n",
    "        width=1600,\n",
    "        height=900,\n",
    "        title=dict(\n",
    "            text=f\"<b>Marginal Percentage Change in {metric.replace('_', ' ').title()} for Athlete {athlete_code}</b>\",\n",
    "            font=dict(size=28, family=\"Helvetica\"),\n",
    "            x=0.018,\n",
    "            y = 0.93\n",
    "        ),\n",
    "        xaxis_title=\"Date\",\n",
    "        yaxis_title=f\"Marginal Percentage Change in {metric.replace('_', ' ').title()}\",\n",
    "        xaxis=dict(tickangle=45),\n",
    "        annotations=[\n",
    "            dict(\n",
    "                x=-0.037,\n",
    "                y=1.065,\n",
    "                text=\"Choose metric here:\",\n",
    "                showarrow=False,\n",
    "                font=dict(size=20, family=\"Helvetica\"),\n",
    "                xref=\"paper\",\n",
    "                yref=\"paper\",\n",
    "                align=\"left\"\n",
    "            ),\n",
    "            dict(\n",
    "                x=0.37,\n",
    "                y=1.065,\n",
    "                text=\"Choose athlete here:\",\n",
    "                showarrow=False,\n",
    "                font=dict(size=20, family=\"Helvetica\"),\n",
    "                xref=\"paper\",\n",
    "                yref=\"paper\",\n",
    "                align=\"left\"\n",
    "            )\n",
    "        ],\n",
    "        template=\"plotly_white\",\n",
    "        updatemenus=[\n",
    "            dict(\n",
    "                buttons=[\n",
    "                    # Add buttons for each athlete\n",
    "                    dict(\n",
    "                        args=[{\"x\": [marginal_data[marginal_data['athlete_code'] == athlete]['Date']],\n",
    "                               \"y\": [marginal_data[marginal_data['athlete_code'] == athlete][metric]]},\n",
    "                              {\"title\": f\"<b>Marginal Percentage Change in {metric.replace('_', ' ').title()} for Athlete {athlete}</b>\"}],\n",
    "                        label=athlete,\n",
    "                        method=\"update\"\n",
    "                    ) for athlete in marginal_data['athlete_code'].unique()\n",
    "                ],\n",
    "                direction=\"down\",\n",
    "                showactive=True,\n",
    "                x=0.442,\n",
    "                xanchor=\"left\",\n",
    "                y=1.15,\n",
    "                yanchor=\"top\",\n",
    "                pad={\"t\": 50}  # Space for the dropdown\n",
    "            ),\n",
    "            # Dropdown for metric selection\n",
    "            dict(\n",
    "                buttons=[\n",
    "                    dict(\n",
    "                        args=[{\"y\": [marginal_data[marginal_data['athlete_code'] == athlete_code][metric]]},\n",
    "                              {\"title\": f\"<b>Marginal Percentage Change in {metric.replace('_', ' ').title()} for Athlete {athlete_code}</b>\"}],\n",
    "                        label=metric.replace('_', ' ').title(),\n",
    "                        method=\"update\"\n",
    "                    ) for metric in [\n",
    "                        'mRSI',\n",
    "                        'Peak_Braking_Velocity',\n",
    "                        'Peak_Propulsive_Force',\n",
    "                        'Avg_Braking_Power',\n",
    "                        'Peak_Braking_Force'\n",
    "                    ]\n",
    "                ],\n",
    "                direction=\"down\",\n",
    "                showactive=True,\n",
    "                x=0.1,\n",
    "                xanchor=\"left\",\n",
    "                y=1.225,\n",
    "                yanchor=\"top\",\n",
    "                pad={\"t\": 100}  # Space for the dropdown\n",
    "            )\n",
    "        ]\n",
    "    )\n",
    "\n",
    "    # Save the plot as an HTML file\n",
    "    fig.write_html(filename)\n",
    "\n",
    "    # Show the plot\n",
    "    fig.show()\n",
    "\n",
    "# List of available athlete codes\n",
    "athlete_codes = marginal_data['athlete_code'].unique()\n",
    "\n",
    "# Create the initial plot for the first athlete and default metric\n",
    "create_plot(athlete_codes[0], metric='mRSI', filename=\"test_athlete_plot.html\")\n"
   ]
  }
 ],
 "metadata": {
  "kernelspec": {
   "display_name": "Python 3",
   "language": "python",
   "name": "python3"
  },
  "language_info": {
   "codemirror_mode": {
    "name": "ipython",
    "version": 3
   },
   "file_extension": ".py",
   "mimetype": "text/x-python",
   "name": "python",
   "nbconvert_exporter": "python",
   "pygments_lexer": "ipython3",
   "version": "3.10.7"
  }
 },
 "nbformat": 4,
 "nbformat_minor": 2
}
